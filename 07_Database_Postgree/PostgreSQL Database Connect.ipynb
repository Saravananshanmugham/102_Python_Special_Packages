{
 "cells": [
  {
   "cell_type": "code",
   "execution_count": 1,
   "id": "c32a4eb4",
   "metadata": {},
   "outputs": [],
   "source": [
    "import psycopg2"
   ]
  },
  {
   "cell_type": "code",
   "execution_count": 11,
   "id": "427b4568",
   "metadata": {},
   "outputs": [],
   "source": [
    "def connect_to_database():\n",
    "    # Establish a connection to the PostgreSQL database\n",
    "    conn = psycopg2.connect(\n",
    "        database='postgres',\n",
    "        user='postgres',\n",
    "        password='Karthick@09',\n",
    "        host='localhost'\n",
    "    )\n",
    "    return conn"
   ]
  },
  {
   "cell_type": "code",
   "execution_count": 15,
   "id": "ba63f2d3",
   "metadata": {},
   "outputs": [],
   "source": [
    "def enable_pg_qualstats(conn):\n",
    "    # Create a cursor object and enable the pg_qualstats extension\n",
    "    cursor = conn.cursor()\n",
    "    cursor.execute('CREATE EXTENSION IF NOT EXISTS pg_stat_statements;')\n",
    "    conn.commit()\n",
    "    cursor.close()"
   ]
  },
  {
   "cell_type": "code",
   "execution_count": 4,
   "id": "627e4225",
   "metadata": {},
   "outputs": [],
   "source": [
    "def enable_hypopg(conn):\n",
    "    # Create a cursor object and enable the hypopg extension\n",
    "    cursor = conn.cursor()\n",
    "    cursor.execute('CREATE EXTENSION IF NOT EXISTS hypopg;')\n",
    "    conn.commit()\n",
    "    cursor.close()"
   ]
  },
  {
   "cell_type": "code",
   "execution_count": 5,
   "id": "b23967da",
   "metadata": {},
   "outputs": [],
   "source": [
    "def get_query_stats(conn):\n",
    "    # Retrieve query statistics from the pg_stat_statements view\n",
    "    cursor = conn.cursor()\n",
    "    cursor.execute('SELECT query, calls, total_time FROM pg_stat_statements ORDER BY total_time DESC;')\n",
    "    stats = cursor.fetchall()\n",
    "    cursor.close()\n",
    "    return stats"
   ]
  },
  {
   "cell_type": "code",
   "execution_count": 6,
   "id": "8090edfe",
   "metadata": {},
   "outputs": [],
   "source": [
    "def generate_index_suggestions(conn):\n",
    "    # Generate index suggestions based on query statistics using hypopg\n",
    "    cursor = conn.cursor()\n",
    "    cursor.execute('SELECT hypopg_gen_indexrecommendation();')\n",
    "    suggestions = cursor.fetchall()\n",
    "    cursor.close()\n",
    "    return suggestions"
   ]
  },
  {
   "cell_type": "code",
   "execution_count": 7,
   "id": "47cc55ce",
   "metadata": {},
   "outputs": [],
   "source": [
    "def create_index(conn, table_name, index_definition):\n",
    "    # Create an index on the specified table using the provided index definition\n",
    "    create_index_query = f\"CREATE INDEX CONCURRENTLY {index_definition} ON {table_name};\"\n",
    "    cursor = conn.cursor()\n",
    "    cursor.execute(create_index_query)\n",
    "    conn.commit()\n",
    "    cursor.close()"
   ]
  },
  {
   "cell_type": "code",
   "execution_count": 8,
   "id": "61d84830",
   "metadata": {},
   "outputs": [],
   "source": [
    "def autoindex_based_on_statistics():\n",
    "    # Connect to the database\n",
    "    conn = connect_to_database()\n",
    "\n",
    "    # Enable required extensions\n",
    "    enable_pg_qualstats(conn)\n",
    "    enable_hypopg(conn)\n",
    "\n",
    "    # Retrieve query statistics\n",
    "    stats = get_query_stats(conn)\n",
    "\n",
    "    # Generate index suggestions based on query statistics\n",
    "    suggestions = generate_index_suggestions(conn)\n",
    "\n",
    "    # Extract table and index information from the suggestions\n",
    "    for suggestion in suggestions:\n",
    "        table_name = suggestion[0].split(' ')[2]  # Extract table name from suggestion\n",
    "        index_definition = suggestion[1].split(' ')[3:]  # Extract index definition from suggestion\n",
    "        create_index(conn, table_name, ' '.join(index_definition))\n",
    "\n",
    "    # Close the database connection\n",
    "    conn.close()"
   ]
  },
  {
   "cell_type": "code",
   "execution_count": 16,
   "id": "f99523b9",
   "metadata": {},
   "outputs": [
    {
     "ename": "FeatureNotSupported",
     "evalue": "extension \"hypopg\" is not available\nDETAIL:  Could not open extension control file \"C:/MyApps/PostgreSQL/15/share/extension/hypopg.control\": No such file or directory.\nHINT:  The extension must first be installed on the system where PostgreSQL is running.\n",
     "output_type": "error",
     "traceback": [
      "\u001b[1;31m---------------------------------------------------------------------------\u001b[0m",
      "\u001b[1;31mFeatureNotSupported\u001b[0m                       Traceback (most recent call last)",
      "Cell \u001b[1;32mIn[16], line 1\u001b[0m\n\u001b[1;32m----> 1\u001b[0m \u001b[43mautoindex_based_on_statistics\u001b[49m\u001b[43m(\u001b[49m\u001b[43m)\u001b[49m\n",
      "Cell \u001b[1;32mIn[8], line 7\u001b[0m, in \u001b[0;36mautoindex_based_on_statistics\u001b[1;34m()\u001b[0m\n\u001b[0;32m      5\u001b[0m \u001b[38;5;66;03m# Enable required extensions\u001b[39;00m\n\u001b[0;32m      6\u001b[0m enable_pg_qualstats(conn)\n\u001b[1;32m----> 7\u001b[0m \u001b[43menable_hypopg\u001b[49m\u001b[43m(\u001b[49m\u001b[43mconn\u001b[49m\u001b[43m)\u001b[49m\n\u001b[0;32m      9\u001b[0m \u001b[38;5;66;03m# Retrieve query statistics\u001b[39;00m\n\u001b[0;32m     10\u001b[0m stats \u001b[38;5;241m=\u001b[39m get_query_stats(conn)\n",
      "Cell \u001b[1;32mIn[4], line 4\u001b[0m, in \u001b[0;36menable_hypopg\u001b[1;34m(conn)\u001b[0m\n\u001b[0;32m      1\u001b[0m \u001b[38;5;28;01mdef\u001b[39;00m \u001b[38;5;21menable_hypopg\u001b[39m(conn):\n\u001b[0;32m      2\u001b[0m     \u001b[38;5;66;03m# Create a cursor object and enable the hypopg extension\u001b[39;00m\n\u001b[0;32m      3\u001b[0m     cursor \u001b[38;5;241m=\u001b[39m conn\u001b[38;5;241m.\u001b[39mcursor()\n\u001b[1;32m----> 4\u001b[0m     \u001b[43mcursor\u001b[49m\u001b[38;5;241;43m.\u001b[39;49m\u001b[43mexecute\u001b[49m\u001b[43m(\u001b[49m\u001b[38;5;124;43m'\u001b[39;49m\u001b[38;5;124;43mCREATE EXTENSION IF NOT EXISTS hypopg;\u001b[39;49m\u001b[38;5;124;43m'\u001b[39;49m\u001b[43m)\u001b[49m\n\u001b[0;32m      5\u001b[0m     conn\u001b[38;5;241m.\u001b[39mcommit()\n\u001b[0;32m      6\u001b[0m     cursor\u001b[38;5;241m.\u001b[39mclose()\n",
      "\u001b[1;31mFeatureNotSupported\u001b[0m: extension \"hypopg\" is not available\nDETAIL:  Could not open extension control file \"C:/MyApps/PostgreSQL/15/share/extension/hypopg.control\": No such file or directory.\nHINT:  The extension must first be installed on the system where PostgreSQL is running.\n"
     ]
    }
   ],
   "source": [
    "autoindex_based_on_statistics()"
   ]
  },
  {
   "cell_type": "code",
   "execution_count": null,
   "id": "9b02f8a2",
   "metadata": {},
   "outputs": [],
   "source": []
  }
 ],
 "metadata": {
  "kernelspec": {
   "display_name": "Python 3 (ipykernel)",
   "language": "python",
   "name": "python3"
  },
  "language_info": {
   "codemirror_mode": {
    "name": "ipython",
    "version": 3
   },
   "file_extension": ".py",
   "mimetype": "text/x-python",
   "name": "python",
   "nbconvert_exporter": "python",
   "pygments_lexer": "ipython3",
   "version": "3.9.16"
  }
 },
 "nbformat": 4,
 "nbformat_minor": 5
}
