{
 "cells": [
  {
   "cell_type": "code",
   "execution_count": null,
   "id": "c32a4eb4",
   "metadata": {},
   "outputs": [],
   "source": [
    "import psycopg2"
   ]
  },
  {
   "cell_type": "code",
   "execution_count": null,
   "id": "427b4568",
   "metadata": {},
   "outputs": [],
   "source": [
    "def connect_to_database():\n",
    "    # Establish a connection to the PostgreSQL database\n",
    "    conn = psycopg2.connect(\n",
    "        database='your_database',\n",
    "        user='your_user',\n",
    "        password='your_password',\n",
    "        host='your_host'\n",
    "    )\n",
    "    return conn"
   ]
  },
  {
   "cell_type": "code",
   "execution_count": null,
   "id": "ba63f2d3",
   "metadata": {},
   "outputs": [],
   "source": [
    "def enable_pg_qualstats(conn):\n",
    "    # Create a cursor object and enable the pg_qualstats extension\n",
    "    cursor = conn.cursor()\n",
    "    cursor.execute('CREATE EXTENSION IF NOT EXISTS pg_qualstats;')\n",
    "    conn.commit()\n",
    "    cursor.close()"
   ]
  },
  {
   "cell_type": "code",
   "execution_count": null,
   "id": "627e4225",
   "metadata": {},
   "outputs": [],
   "source": [
    "def enable_hypopg(conn):\n",
    "    # Create a cursor object and enable the hypopg extension\n",
    "    cursor = conn.cursor()\n",
    "    cursor.execute('CREATE EXTENSION IF NOT EXISTS hypopg;')\n",
    "    conn.commit()\n",
    "    cursor.close()"
   ]
  },
  {
   "cell_type": "code",
   "execution_count": null,
   "id": "b23967da",
   "metadata": {},
   "outputs": [],
   "source": [
    "def get_query_stats(conn):\n",
    "    # Retrieve query statistics from the pg_stat_statements view\n",
    "    cursor = conn.cursor()\n",
    "    cursor.execute('SELECT query, calls, total_time FROM pg_stat_statements ORDER BY total_time DESC;')\n",
    "    stats = cursor.fetchall()\n",
    "    cursor.close()\n",
    "    return stats"
   ]
  },
  {
   "cell_type": "code",
   "execution_count": null,
   "id": "8090edfe",
   "metadata": {},
   "outputs": [],
   "source": [
    "def generate_index_suggestions(conn):\n",
    "    # Generate index suggestions based on query statistics using hypopg\n",
    "    cursor = conn.cursor()\n",
    "    cursor.execute('SELECT hypopg_gen_indexrecommendation();')\n",
    "    suggestions = cursor.fetchall()\n",
    "    cursor.close()\n",
    "    return suggestions"
   ]
  },
  {
   "cell_type": "code",
   "execution_count": null,
   "id": "47cc55ce",
   "metadata": {},
   "outputs": [],
   "source": [
    "def create_index(conn, table_name, index_definition):\n",
    "    # Create an index on the specified table using the provided index definition\n",
    "    create_index_query = f\"CREATE INDEX CONCURRENTLY {index_definition} ON {table_name};\"\n",
    "    cursor = conn.cursor()\n",
    "    cursor.execute(create_index_query)\n",
    "    conn.commit()\n",
    "    cursor.close()"
   ]
  },
  {
   "cell_type": "code",
   "execution_count": null,
   "id": "61d84830",
   "metadata": {},
   "outputs": [],
   "source": [
    "def autoindex_based_on_statistics():\n",
    "    # Connect to the database\n",
    "    conn = connect_to_database()\n",
    "\n",
    "    # Enable required extensions\n",
    "    enable_pg_qualstats(conn)\n",
    "    enable_hypopg(conn)\n",
    "\n",
    "    # Retrieve query statistics\n",
    "    stats = get_query_stats(conn)\n",
    "\n",
    "    # Generate index suggestions based on query statistics\n",
    "    suggestions = generate_index_suggestions(conn)\n",
    "\n",
    "    # Extract table and index information from the suggestions\n",
    "    for suggestion in suggestions:\n",
    "        table_name = suggestion[0].split(' ')[2]  # Extract table name from suggestion\n",
    "        index_definition = suggestion[1].split(' ')[3:]  # Extract index definition from suggestion\n",
    "        create_index(conn, table_name, ' '.join(index_definition))\n",
    "\n",
    "    # Close the database connection\n",
    "    conn.close()"
   ]
  },
  {
   "cell_type": "code",
   "execution_count": null,
   "id": "f99523b9",
   "metadata": {},
   "outputs": [],
   "source": [
    "if _name_ == '_main_':\n",
    "    autoindex_based_on_statistics()"
   ]
  },
  {
   "cell_type": "code",
   "execution_count": null,
   "id": "9b02f8a2",
   "metadata": {},
   "outputs": [],
   "source": []
  }
 ],
 "metadata": {
  "kernelspec": {
   "display_name": "Python 3 (ipykernel)",
   "language": "python",
   "name": "python3"
  },
  "language_info": {
   "codemirror_mode": {
    "name": "ipython",
    "version": 3
   },
   "file_extension": ".py",
   "mimetype": "text/x-python",
   "name": "python",
   "nbconvert_exporter": "python",
   "pygments_lexer": "ipython3",
   "version": "3.9.16"
  }
 },
 "nbformat": 4,
 "nbformat_minor": 5
}
