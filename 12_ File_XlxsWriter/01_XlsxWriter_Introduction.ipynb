{
 "cells": [
  {
   "cell_type": "markdown",
   "id": "9814c9af",
   "metadata": {},
   "source": [
    "# 01 Introduction to XlsxWriter"
   ]
  },
  {
   "cell_type": "code",
   "execution_count": 1,
   "id": "7deaa8dc",
   "metadata": {},
   "outputs": [],
   "source": [
    "import xlsxwriter as xlw"
   ]
  },
  {
   "cell_type": "markdown",
   "id": "ab488c90",
   "metadata": {},
   "source": [
    "\n",
    "***"
   ]
  },
  {
   "cell_type": "markdown",
   "id": "82307faf",
   "metadata": {},
   "source": [
    "XlsxWriter is a Python module for writing files in the Excel 2007+ XLSX file format.\n",
    "\n",
    "It can be used to write text, numbers, and formulas to multiple worksheets and it supports features such as \n",
    "* formatting\n",
    "* images\n",
    "* charts\n",
    "* page setup\n",
    "* autofilters\n",
    "* conditional formatting \n",
    "* and many others.\n",
    "\n",
    "XlsxWriter has some advantages and disadvantages over the alternative Python modules for writing Excel files.\n",
    "\n",
    "##### Advantages:\n",
    "* It supports more Excel features than any of the alternative modules.\n",
    "* It has a high degree of fidelity with files produced by Excel. In most cases the files produced are 100% equivalent to files produced by Excel.\n",
    "* It has extensive documentation, example files and tests.\n",
    "* It is fast and can be configured to use very little memory even for very large output files.\n",
    "\n",
    "##### Disadvantages:\n",
    "* It cannot read or modify existing Excel XLSX files.\n",
    "\n",
    "#### Demo Program"
   ]
  },
  {
   "cell_type": "code",
   "execution_count": 2,
   "id": "78ce264a",
   "metadata": {},
   "outputs": [],
   "source": [
    "# Create Excel File Hello.xlsx\n",
    "workbook = xlw.Workbook('Hello.xlsx')\n",
    "\n",
    "# Create New Worksheet\n",
    "worksheet = workbook.add_worksheet()\n",
    "\n",
    "# Insert String \"Hello World!\" in cell $A$1\n",
    "worksheet.write('A1', 'Hello World!')\n",
    "\n",
    "# Close the workbook\n",
    "workbook.close()"
   ]
  }
 ],
 "metadata": {
  "kernelspec": {
   "display_name": "Python 3 (ipykernel)",
   "language": "python",
   "name": "python3"
  },
  "language_info": {
   "codemirror_mode": {
    "name": "ipython",
    "version": 3
   },
   "file_extension": ".py",
   "mimetype": "text/x-python",
   "name": "python",
   "nbconvert_exporter": "python",
   "pygments_lexer": "ipython3",
   "version": "3.9.12"
  }
 },
 "nbformat": 4,
 "nbformat_minor": 5
}
