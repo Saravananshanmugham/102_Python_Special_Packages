{
 "cells": [
  {
   "cell_type": "code",
   "execution_count": 1,
   "id": "5fb85b97",
   "metadata": {},
   "outputs": [],
   "source": [
    "import xlsxwriter as xlw"
   ]
  },
  {
   "cell_type": "markdown",
   "id": "e1e005a6",
   "metadata": {},
   "source": [
    "# Tutorial 1: Create a Simple XLSX File"
   ]
  },
  {
   "cell_type": "markdown",
   "id": "fb3f01f4",
   "metadata": {},
   "source": [
    "For example, we have tuple which have details of expenses occurred. We need to add the expense head in column A and expense amount in column B. And finally add Total expense as last row."
   ]
  },
  {
   "cell_type": "code",
   "execution_count": 2,
   "id": "124e6136",
   "metadata": {},
   "outputs": [],
   "source": [
    "expenses = (\n",
    "    ['Rent', 1000],\n",
    "    ['Gas',   100],\n",
    "    ['Food',  300],\n",
    "    ['Gym',    50],\n",
    ")"
   ]
  },
  {
   "cell_type": "code",
   "execution_count": 3,
   "id": "28366344",
   "metadata": {},
   "outputs": [],
   "source": [
    "# Create a workbook and add a worksheet.\n",
    "workbook = xlw.Workbook('Expenses01.xlsx')\n",
    "worksheet = workbook.add_worksheet(\"Expenses\")\n",
    "\n",
    "# Start from the first cell. Rows and columns are zero indexed.\n",
    "row = 0\n",
    "col = 0\n",
    "\n",
    "# Iterate over the data and write it out row by row.\n",
    "for item, cost in (expenses):\n",
    "    worksheet.write(row, col,     item)\n",
    "    worksheet.write(row, col + 1, cost)\n",
    "    row += 1\n",
    "\n",
    "# Write a total using a formula.\n",
    "worksheet.write(row, col, 'Total')\n",
    "worksheet.write(row, col+1, '=SUM(B1:B4)')\n",
    "\n",
    "workbook.close()"
   ]
  },
  {
   "cell_type": "markdown",
   "id": "a785b729",
   "metadata": {},
   "source": [
    "***"
   ]
  }
 ],
 "metadata": {
  "kernelspec": {
   "display_name": "Python 3 (ipykernel)",
   "language": "python",
   "name": "python3"
  },
  "language_info": {
   "codemirror_mode": {
    "name": "ipython",
    "version": 3
   },
   "file_extension": ".py",
   "mimetype": "text/x-python",
   "name": "python",
   "nbconvert_exporter": "python",
   "pygments_lexer": "ipython3",
   "version": "3.8.12"
  }
 },
 "nbformat": 4,
 "nbformat_minor": 5
}
