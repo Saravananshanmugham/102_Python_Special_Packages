{
 "cells": [
  {
   "cell_type": "code",
   "execution_count": 2,
   "id": "9658e565",
   "metadata": {},
   "outputs": [],
   "source": [
    "import xlsxwriter as xlw"
   ]
  },
  {
   "cell_type": "markdown",
   "id": "30cef6f5",
   "metadata": {},
   "source": [
    "# Tutorial 2: Adding formatting to the XLSX File"
   ]
  },
  {
   "cell_type": "markdown",
   "id": "30c62969",
   "metadata": {},
   "source": [
    "In the previous Tutorial we created a simple spreadsheet using Python and the XlsxWriter module. It converted the required data into an Excel file but it without any formatting of the data, hence it looks a little bare. \n",
    "\n",
    "In order to make the information clearer we would like to add some simple formatting, like \n",
    "\n",
    "* Headers for the columns and make it bold font\n",
    "* Format the values as currency values\n"
   ]
  },
  {
   "cell_type": "code",
   "execution_count": 3,
   "id": "0f59fc62",
   "metadata": {},
   "outputs": [],
   "source": [
    "expenses = (\n",
    "    ['Rent', 1000],\n",
    "    ['Gas',   100],\n",
    "    ['Food',  300],\n",
    "    ['Gym',    50],\n",
    ")"
   ]
  },
  {
   "cell_type": "code",
   "execution_count": 6,
   "id": "f92059af",
   "metadata": {},
   "outputs": [],
   "source": [
    "# Create a workbook and add a worksheet.\n",
    "workbook = xlw.Workbook('Expenses02.xlsx')\n",
    "worksheet = workbook.add_worksheet(\"Expenses\")\n",
    "\n",
    "# Add a bold format to use to highlight cells.\n",
    "bold = workbook.add_format({'bold': True,\n",
    "                             'border':1})\n",
    "\n",
    "border = workbook.add_format({'border':1})\n",
    "\n",
    "# Add a number format for cells with money.\n",
    "money = workbook.add_format({'num_format': '$#,##0',\n",
    "                             'border':1})\n",
    "\n",
    "# Write some data headers\n",
    "worksheet.write('A1', 'Item', bold)\n",
    "worksheet.write('B1', 'Cost', bold)\n",
    "\n",
    "\n",
    "# Start from the first cell. Rows and columns are zero indexed.\n",
    "row = 1\n",
    "col = 0\n",
    "\n",
    "# Iterate over the data and write it out row by row.\n",
    "for item, cost in (expenses):\n",
    "    worksheet.write(row, col,     item, border)\n",
    "    worksheet.write(row, col + 1, cost, money)\n",
    "    \n",
    "    row += 1\n",
    "\n",
    "# Write a total using a formula.\n",
    "worksheet.write(row, col, 'Total', bold)\n",
    "worksheet.write(row, col+1, '=SUM(B1:B4)', money)\n",
    "\n",
    "workbook.close()"
   ]
  },
  {
   "cell_type": "code",
   "execution_count": null,
   "id": "93017371",
   "metadata": {},
   "outputs": [],
   "source": []
  }
 ],
 "metadata": {
  "kernelspec": {
   "display_name": "Python 3 (ipykernel)",
   "language": "python",
   "name": "python3"
  },
  "language_info": {
   "codemirror_mode": {
    "name": "ipython",
    "version": 3
   },
   "file_extension": ".py",
   "mimetype": "text/x-python",
   "name": "python",
   "nbconvert_exporter": "python",
   "pygments_lexer": "ipython3",
   "version": "3.8.12"
  }
 },
 "nbformat": 4,
 "nbformat_minor": 5
}
