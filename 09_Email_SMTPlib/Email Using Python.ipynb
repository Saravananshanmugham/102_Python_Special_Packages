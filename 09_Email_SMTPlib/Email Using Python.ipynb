{
 "cells": [
  {
   "cell_type": "markdown",
   "id": "a77f1fb5",
   "metadata": {},
   "source": [
    "##### Pre-Steps \n",
    "\n",
    "1. Turn On 2-Step Verification for your Google Account - [YouTube Video](https://youtu.be/g_j6ILT-X0k)\n",
    "2. Enable \"App Passwords\" - Search for App Passwords and click on it\n",
    "3. Drop down the \"Select App\" and selct \"Other (Custom Name)\"\n",
    "4. Provide \"Python\" as custom name and click on generate\n",
    "5. Copy the generated App Password and save it securely.\n",
    "\n"
   ]
  },
  {
   "cell_type": "code",
   "execution_count": 1,
   "id": "879477d8",
   "metadata": {},
   "outputs": [],
   "source": [
    "import smtplib\n",
    "import ssl\n",
    "from email.message import EmailMessage"
   ]
  },
  {
   "cell_type": "code",
   "execution_count": 7,
   "id": "c0adbe28",
   "metadata": {},
   "outputs": [],
   "source": [
    "email_sender = 'saravananshanmughams@gmail.com'\n",
    "email_password = 'wztl jwoe owfz kcnt'\n",
    "email_receiver = 'ssn8639@yahoo.com'"
   ]
  },
  {
   "cell_type": "code",
   "execution_count": 3,
   "id": "fb3b5a0e",
   "metadata": {},
   "outputs": [],
   "source": [
    "subject = 'Check out my new video!'\n",
    "body=\"I've just published a new video on YouTube: https://youtu.be/2cZzP9DLlkg\"\n"
   ]
  },
  {
   "cell_type": "code",
   "execution_count": 4,
   "id": "f21469c7",
   "metadata": {},
   "outputs": [],
   "source": [
    "em = EmailMessage()\n",
    "em['From'] = email_sender\n",
    "em['To'] = email_receiver\n",
    "em['Subject'] = subject\n",
    "em.set_content(body)"
   ]
  },
  {
   "cell_type": "code",
   "execution_count": 5,
   "id": "218c33b6",
   "metadata": {},
   "outputs": [],
   "source": [
    "context = ssl.create_default_context()"
   ]
  },
  {
   "cell_type": "code",
   "execution_count": 8,
   "id": "d6c430a7",
   "metadata": {},
   "outputs": [],
   "source": [
    "with smtplib.SMTP_SSL('smtp.gmail.com', 465, context=context) as smtp:\n",
    "    smtp.login(email_sender, email_password)\n",
    "    smtp.sendmail(email_sender, email_receiver, em.as_string())"
   ]
  },
  {
   "cell_type": "markdown",
   "id": "12c9bf9c",
   "metadata": {},
   "source": [
    "***"
   ]
  }
 ],
 "metadata": {
  "kernelspec": {
   "display_name": "Python 3 (ipykernel)",
   "language": "python",
   "name": "python3"
  },
  "language_info": {
   "codemirror_mode": {
    "name": "ipython",
    "version": 3
   },
   "file_extension": ".py",
   "mimetype": "text/x-python",
   "name": "python",
   "nbconvert_exporter": "python",
   "pygments_lexer": "ipython3",
   "version": "3.10.13"
  }
 },
 "nbformat": 4,
 "nbformat_minor": 5
}
