{
 "cells": [
  {
   "cell_type": "markdown",
   "id": "9489bf49",
   "metadata": {},
   "source": [
    "\n",
    "# Numpy - Operations - Arrary Copy\n"
   ]
  },
  {
   "cell_type": "code",
   "execution_count": 1,
   "id": "f0effbfb",
   "metadata": {},
   "outputs": [],
   "source": [
    "import numpy as np"
   ]
  },
  {
   "cell_type": "markdown",
   "id": "c7268d3a",
   "metadata": {},
   "source": [
    "\n",
    "****\n"
   ]
  },
  {
   "cell_type": "markdown",
   "id": "052fb55b",
   "metadata": {},
   "source": [
    "\n",
    "## The Difference Between Copy and View\n",
    "\n",
    "The main difference between a copy and a view of an array is that the copy is a new array, and the view is just a view of the original array.\n",
    "\n",
    "The copy owns the data and any changes made to the copy will not affect original array, and any changes made to the original array will not affect the copy.\n",
    "\n",
    "The view does not own the data and any changes made to the view will affect the original array, and any changes made to the original array will affect the view.\n"
   ]
  },
  {
   "cell_type": "code",
   "execution_count": 2,
   "id": "40c97698",
   "metadata": {},
   "outputs": [
    {
     "name": "stdout",
     "output_type": "stream",
     "text": [
      "Original:\n",
      " [42  2  3  4  5]\n",
      "Copied Version:\n",
      " [1 2 3 4 5]\n"
     ]
    }
   ],
   "source": [
    "# Make a copy, change the original array, and display both arrays\n",
    "# The changes do not reflect in the copied version\n",
    "\n",
    "arr3 = np.array([1, 2, 3, 4, 5])\n",
    "copy_arr3 = arr3.copy()\n",
    "arr3[0] = 42\n",
    "\n",
    "print(\"Original:\\n\",arr3)\n",
    "print(\"Copied Version:\\n\",copy_arr3)"
   ]
  },
  {
   "cell_type": "code",
   "execution_count": 3,
   "id": "a805d7a4",
   "metadata": {},
   "outputs": [
    {
     "name": "stdout",
     "output_type": "stream",
     "text": [
      "Original:\n",
      " [ 1 42  3  4 42]\n",
      "View Version:\n",
      " [ 1 42  3  4 42]\n"
     ]
    }
   ],
   "source": [
    "# Make a View, change the original array, and display both arrays\n",
    "# The changes do not reflect in the copied version\n",
    "\n",
    "arr4 = np.array([1, 2, 3, 4, 5])\n",
    "view_arr4 = arr4.view()\n",
    "arr4[[1, -1]] = 42\n",
    "\n",
    "print(\"Original:\\n\",arr4)\n",
    "print(\"View Version:\\n\",view_arr4)"
   ]
  },
  {
   "cell_type": "markdown",
   "id": "aadd5ebf",
   "metadata": {},
   "source": [
    "\n",
    "### Check if Array Owns it's Data\n",
    "\n",
    "Every NumPy array has the attribute base that returns `None` if the array owns the data. Otherwise, the base  attribute refers to the original object."
   ]
  },
  {
   "cell_type": "code",
   "execution_count": 4,
   "id": "9e5d0d5f",
   "metadata": {},
   "outputs": [
    {
     "name": "stdout",
     "output_type": "stream",
     "text": [
      "None [ 1 42  3  4 42]\n"
     ]
    }
   ],
   "source": [
    "print(copy_arr3.base, view_arr4.base)"
   ]
  },
  {
   "cell_type": "markdown",
   "id": "d0a15163",
   "metadata": {},
   "source": [
    "\n",
    "****\n"
   ]
  }
 ],
 "metadata": {
  "kernelspec": {
   "display_name": "Python 3 (ipykernel)",
   "language": "python",
   "name": "python3"
  },
  "language_info": {
   "codemirror_mode": {
    "name": "ipython",
    "version": 3
   },
   "file_extension": ".py",
   "mimetype": "text/x-python",
   "name": "python",
   "nbconvert_exporter": "python",
   "pygments_lexer": "ipython3",
   "version": "3.8.12"
  }
 },
 "nbformat": 4,
 "nbformat_minor": 5
}
