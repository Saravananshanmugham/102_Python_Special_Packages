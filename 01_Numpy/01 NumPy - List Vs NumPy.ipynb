{
 "cells": [
  {
   "cell_type": "markdown",
   "id": "9489bf49",
   "metadata": {},
   "source": [
    "\n",
    "# Numpy Introduction\n"
   ]
  },
  {
   "cell_type": "code",
   "execution_count": 1,
   "id": "f0effbfb",
   "metadata": {},
   "outputs": [],
   "source": [
    "import numpy as np"
   ]
  },
  {
   "cell_type": "markdown",
   "id": "c7268d3a",
   "metadata": {},
   "source": [
    "\n",
    "****\n"
   ]
  },
  {
   "cell_type": "markdown",
   "id": "17a7ea8c",
   "metadata": {},
   "source": [
    "## Advantages of Numpy\n",
    "\n",
    "Intended to brind performance and functionality improvement for numerical computing. \n",
    "- Efficiently store n-d arrays in vectorised form to benifit from DRAM locally.\n",
    "- Enable easy file save nd load of n-d arrays\n",
    "- Efficiently process data without type-checking overhead\n",
    "- Enable other packages to use numpy arrays as an efficient data interface\n",
    "- Efficiently broadcast operations across dimentions\n",
    "- Provide implementations of many functions across linear algebra, statistics, etc.\n",
    "\n",
    "Started only in 2006. Now a standard package used in many real-world applications and used by other applications as interface.\n",
    "\n"
   ]
  },
  {
   "cell_type": "code",
   "execution_count": null,
   "id": "c77704e3",
   "metadata": {},
   "outputs": [],
   "source": [
    "N = 100000000"
   ]
  },
  {
   "cell_type": "code",
   "execution_count": null,
   "id": "42510394",
   "metadata": {},
   "outputs": [],
   "source": [
    "%%time\n",
    "# Create a list of number range upto N\n",
    "# square each element of list and store the squared value\n",
    "\n",
    "mylist = list(range(N))\n",
    "for i in range(N):\n",
    "    mylist[i] = mylist[i]*mylist[i]"
   ]
  },
  {
   "cell_type": "markdown",
   "id": "7296db30",
   "metadata": {},
   "source": [
    ">Let us Optimize the code a bit. Instead of using list with for loop and element wise multiplication, Use ***List Comprehension***"
   ]
  },
  {
   "cell_type": "code",
   "execution_count": null,
   "id": "680a32dd",
   "metadata": {},
   "outputs": [],
   "source": [
    "%%time\n",
    "# Optimize the code further using \n",
    "# List comprehension\n",
    "mylist = list(range(N))\n",
    "mylist = [i*i for i in mylist]"
   ]
  },
  {
   "cell_type": "markdown",
   "id": "bf8029fb",
   "metadata": {},
   "source": [
    "> Still the performance is very low. We can see still there is a potential to optimize the code using advance functions. **`Map()`** helps."
   ]
  },
  {
   "cell_type": "code",
   "execution_count": null,
   "id": "7f22be43",
   "metadata": {},
   "outputs": [],
   "source": [
    "%%time\n",
    "# Optimize the code using map function\n",
    "# Map function take 2 inputs\n",
    "# lambda is a inline function\n",
    "\n",
    "mylist = list(range(N))\n",
    "mylist = map(lambda x: x * x, mylist)"
   ]
  },
  {
   "cell_type": "markdown",
   "id": "a4fce8ae",
   "metadata": {},
   "source": [
    "> Now with NumPy the same operation can be achieved faster"
   ]
  },
  {
   "cell_type": "code",
   "execution_count": null,
   "id": "cf673bb9",
   "metadata": {},
   "outputs": [],
   "source": [
    "%%time\n",
    "# Create a array of number range upto N\n",
    "# square each element of list and store the squared value\n",
    "\n",
    "arr = np.arange(N)\n",
    "arr = arr * arr"
   ]
  },
  {
   "cell_type": "markdown",
   "id": "64981a8d",
   "metadata": {},
   "source": [
    "From the above examples, we are very clear the usefulness of the NumPy for numerical operations. When we deal with machine learning models and deep leaning NumPy will come handy. "
   ]
  },
  {
   "cell_type": "markdown",
   "id": "7c96eeeb",
   "metadata": {},
   "source": [
    "\n",
    "***\n"
   ]
  }
 ],
 "metadata": {
  "kernelspec": {
   "display_name": "Python 3 (ipykernel)",
   "language": "python",
   "name": "python3"
  },
  "language_info": {
   "codemirror_mode": {
    "name": "ipython",
    "version": 3
   },
   "file_extension": ".py",
   "mimetype": "text/x-python",
   "name": "python",
   "nbconvert_exporter": "python",
   "pygments_lexer": "ipython3",
   "version": "3.8.12"
  }
 },
 "nbformat": 4,
 "nbformat_minor": 5
}
