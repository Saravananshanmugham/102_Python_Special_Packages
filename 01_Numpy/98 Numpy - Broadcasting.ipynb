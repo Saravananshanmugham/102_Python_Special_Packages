{
 "cells": [
  {
   "cell_type": "markdown",
   "id": "9489bf49",
   "metadata": {},
   "source": [
    "\n",
    "# Numpy - Array Creation\n"
   ]
  },
  {
   "cell_type": "code",
   "execution_count": null,
   "id": "f0effbfb",
   "metadata": {},
   "outputs": [],
   "source": [
    "import numpy as np\n",
    "import matplotlib.pyplot as plt\n",
    "%matplotlib inline"
   ]
  },
  {
   "cell_type": "markdown",
   "id": "c7268d3a",
   "metadata": {},
   "source": [
    "\n",
    "****\n"
   ]
  },
  {
   "cell_type": "markdown",
   "id": "2a39a9e3",
   "metadata": {},
   "source": [
    "### Syntax of array()\n",
    "\n",
    "Syntax: \n",
    "    array(\n",
    "    object, \n",
    "    dtype=None, \n",
    "    copy=True, \n",
    "    order='K', \n",
    "    subok=False, \n",
    "    ndmin=0)"
   ]
  },
  {
   "cell_type": "code",
   "execution_count": null,
   "id": "f47d4387",
   "metadata": {},
   "outputs": [],
   "source": [
    "# Array created using the function array()\n",
    "# This is an example to create 1D array\n",
    "\n",
    "arr1d = np.array([1, 2, 3, 4, 5])\n",
    "print(arr1d)"
   ]
  },
  {
   "cell_type": "code",
   "execution_count": null,
   "id": "b2071f86",
   "metadata": {},
   "outputs": [],
   "source": [
    "# This is an example to create 2D array\n",
    "\n",
    "arr2d = np.array([\n",
    "    [1, 2, 3, 4, 5, 6, 7, 8, 9, 10],\n",
    "    [11, 12, 13, 14, 15, 16, 17, 18, 19, 20]\n",
    "])\n",
    "\n",
    "print(arr2d)"
   ]
  },
  {
   "cell_type": "code",
   "execution_count": null,
   "id": "570652c9",
   "metadata": {},
   "outputs": [],
   "source": [
    "# This is an example to create 3D array\n",
    "\n",
    "arr3d = np.array([\n",
    "    [\n",
    "        [1, 2, 3, 4, 5],\n",
    "        [6, 7, 8, 9, 10]\n",
    "    ],\n",
    "    [\n",
    "        [11, 12, 13, 14, 15],\n",
    "        [16, 17, 18, 19, 20]\n",
    "    ]\n",
    "])\n",
    "\n",
    "print(arr3d)"
   ]
  },
  {
   "cell_type": "markdown",
   "id": "e25c197b",
   "metadata": {},
   "source": [
    "\n",
    "## Arrtributes of array\n"
   ]
  },
  {
   "cell_type": "code",
   "execution_count": null,
   "id": "413bb892",
   "metadata": {},
   "outputs": [],
   "source": [
    "# Checking the dimention of the Array\n",
    "\n",
    "print(\"Dimention of arr1d is :\",np.ndim(arr1d))\n",
    "print(\"Dimention of arr2d is :\",np.ndim(arr2d))\n",
    "print(\"Dimention of arr3d is :\",np.ndim(arr3d))"
   ]
  },
  {
   "cell_type": "code",
   "execution_count": null,
   "id": "4567a8c7",
   "metadata": {},
   "outputs": [],
   "source": [
    "# Checking the size of the array\n",
    "# Provides number of elements in the array\n",
    "\n",
    "print(\"No of elements in arr1d is :\",np.size(arr1d))\n",
    "print(\"No of elements in arr2d is :\",np.size(arr2d))\n",
    "print(\"No of elements in arr3d is :\",np.size(arr3d))"
   ]
  },
  {
   "cell_type": "code",
   "execution_count": null,
   "id": "bb8289e6",
   "metadata": {},
   "outputs": [],
   "source": [
    "# Checking the shape of the array\n",
    "\n",
    "print(\"Dimention of arr1d is :\",np.shape(arr1d))\n",
    "print(\"Dimention of arr2d is :\",np.shape(arr2d))\n",
    "print(\"Dimention of arr3d is :\",np.shape(arr3d))"
   ]
  },
  {
   "cell_type": "code",
   "execution_count": null,
   "id": "2ff1cb10",
   "metadata": {},
   "outputs": [],
   "source": [
    "# check the data type of the array\n",
    "\n",
    "print(\"Data Type of arr1d is :\",arr1d.dtype)\n",
    "print(\"Data Type of arr2d is :\",arr2d.dtype)\n",
    "print(\"Data Type of arr3d is :\",arr3d.dtype)\n"
   ]
  },
  {
   "cell_type": "code",
   "execution_count": null,
   "id": "a01bc342",
   "metadata": {},
   "outputs": [],
   "source": [
    "# Length of one array element in bytes.\n",
    "\n",
    "print(\"Item size of arr1d is :\",arr1d.itemsize)\n",
    "print(\"Item size of arr2d is :\",arr2d.itemsize)\n",
    "print(\"Item size of arr3d is :\",arr3d.itemsize)"
   ]
  },
  {
   "cell_type": "code",
   "execution_count": null,
   "id": "5c2149e9",
   "metadata": {},
   "outputs": [],
   "source": [
    "# Total Size of the array\n",
    "\n",
    "print(\"Total Size of the arr1d is :\", arr1d.itemsize * arr1d.size)\n",
    "print(\"Total Size of the arr2d is :\", arr2d.itemsize * arr2d.size)\n",
    "print(\"Total Size of the arr3d is :\", arr3d.itemsize * arr3d.size)"
   ]
  },
  {
   "cell_type": "code",
   "execution_count": null,
   "id": "67701d55",
   "metadata": {},
   "outputs": [],
   "source": [
    "# Total Size of the array, Using nbytes\n",
    "\n",
    "print(\"Total Size of the arr1d is :\", arr1d.nbytes)\n",
    "print(\"Total Size of the arr2d is :\", arr2d.nbytes)\n",
    "print(\"Total Size of the arr3d is :\", arr3d.nbytes)"
   ]
  },
  {
   "cell_type": "markdown",
   "id": "d80bcb8a",
   "metadata": {},
   "source": [
    ">As seen in the above example, the size of the array is depends on the datatype of the array. While creating the arrat, we did not specified any datatype, hence NumPy used the default datatype of \"int32\". We are concerned about the memory usage, we can define the datatype while creation of the array."
   ]
  },
  {
   "cell_type": "code",
   "execution_count": null,
   "id": "b64629b2",
   "metadata": {},
   "outputs": [],
   "source": [
    "# This is an example to create 3D array with data type\n",
    "\n",
    "arr3d_dype = np.array([\n",
    "    [\n",
    "        [1, 2, 3, 4, 5],\n",
    "        [6, 7, 8, 9, 10]\n",
    "    ],\n",
    "    [\n",
    "        [11, 12, 13, 14, 15],\n",
    "        [16, 17, 18, 19, 20]\n",
    "    ]\n",
    "], dtype='int8')\n",
    "\n",
    "print(arr3d_dype)"
   ]
  },
  {
   "cell_type": "code",
   "execution_count": null,
   "id": "5d63c80d",
   "metadata": {},
   "outputs": [],
   "source": [
    "print(arr3d_dype.dtype)"
   ]
  },
  {
   "cell_type": "code",
   "execution_count": null,
   "id": "e6bc2957",
   "metadata": {},
   "outputs": [],
   "source": [
    "print(\"Item size of arr3d_dype is :\",arr3d_dype.itemsize)"
   ]
  },
  {
   "cell_type": "code",
   "execution_count": null,
   "id": "77ffdd31",
   "metadata": {},
   "outputs": [],
   "source": [
    "print(\"No of elements in arr3d_dype is :\",np.size(arr3d_dype))"
   ]
  },
  {
   "cell_type": "code",
   "execution_count": null,
   "id": "3c07cdc6",
   "metadata": {},
   "outputs": [],
   "source": [
    "print(\"Total Size of the arr3d_dype  is :\", arr3d_dype .nbytes)"
   ]
  },
  {
   "cell_type": "markdown",
   "id": "9953ce3a",
   "metadata": {},
   "source": [
    "> From the above example, we can see the bytes required for the defined 3D array is reduced to 1/4 of the orginal. As the initial datatype was int32, we redefined as int8. This can be done if we know the elements of the array does not exceed the limit of int8 storage space. It always a good practice to have a clear understanding of the data type and target data used to store in the array for large data sets."
   ]
  },
  {
   "cell_type": "markdown",
   "id": "32015cda",
   "metadata": {},
   "source": [
    "\n",
    "***\n"
   ]
  },
  {
   "cell_type": "markdown",
   "id": "bfcc555d",
   "metadata": {},
   "source": [
    "\n",
    "## Numpy - Standard Arrarys\n"
   ]
  },
  {
   "cell_type": "markdown",
   "id": "bca72b46",
   "metadata": {},
   "source": [
    "\n",
    "### np.ones()\n",
    "\n",
    "Return a new array of given shape and type, filled with ones"
   ]
  },
  {
   "cell_type": "code",
   "execution_count": null,
   "id": "6c3a57b7",
   "metadata": {},
   "outputs": [],
   "source": [
    "# Return a new array of given shape and type, filled with ones\n",
    "\n",
    "arr_ones = np.ones((4,5))\n",
    "print(arr_ones)"
   ]
  },
  {
   "cell_type": "markdown",
   "id": "438666d5",
   "metadata": {},
   "source": [
    "\n",
    "### np.ones_like()\n",
    "\n",
    "Return an array of ones with the same shape and type as a given array."
   ]
  },
  {
   "cell_type": "code",
   "execution_count": null,
   "id": "9633d7f5",
   "metadata": {},
   "outputs": [],
   "source": [
    "# Returns a array as similar of the array arr3d \n",
    "\n",
    "print(np.ones_like(arr3d))"
   ]
  },
  {
   "cell_type": "markdown",
   "id": "01019acb",
   "metadata": {},
   "source": [
    "\n",
    "### np.zeros()\n",
    "\n",
    "Return a new array of given shape and type, filled with zeros."
   ]
  },
  {
   "cell_type": "code",
   "execution_count": null,
   "id": "188c1f5d",
   "metadata": {},
   "outputs": [],
   "source": [
    "# Return a new array of given shape and type, filled with zeros\n",
    "\n",
    "arr_zeros =np.zeros((4,5))\n",
    "print(arr_zeros)"
   ]
  },
  {
   "cell_type": "markdown",
   "id": "d9ea7e2d",
   "metadata": {},
   "source": [
    "\n",
    "### np_zeros_like()\n",
    "\n",
    "Return an array of zeros with the same shape and type as a given array."
   ]
  },
  {
   "cell_type": "code",
   "execution_count": null,
   "id": "71788692",
   "metadata": {},
   "outputs": [],
   "source": [
    "# Return an array of zeros\n",
    "# with the same shape and type as a given array.\n",
    "\n",
    "print(np.zeros_like(arr3d))"
   ]
  },
  {
   "cell_type": "markdown",
   "id": "f3471b0f",
   "metadata": {},
   "source": [
    "### np.empty()\n",
    "\n",
    "Return a new array of given shape and type, without initializing entries.\n",
    "\n",
    "`empty`, unlike `zeros`, does not set the array values to zero, and may therefore be marginally faster.  On the other hand, it requires the user to manually set all the values in the array, and should be used with caution."
   ]
  },
  {
   "cell_type": "code",
   "execution_count": null,
   "id": "266499bd",
   "metadata": {},
   "outputs": [],
   "source": [
    "# Return a new array of given shape and type, \n",
    "# without initializing entries. \n",
    "# Paramter is a tuple\n",
    "\n",
    "arr_empty = np.empty((4,5))\n",
    "print(arr_empty)"
   ]
  },
  {
   "cell_type": "code",
   "execution_count": null,
   "id": "f5c09983",
   "metadata": {},
   "outputs": [],
   "source": [
    "# Return a new array of given shape and type, \n",
    "# without initializing entries. \n",
    "# Paramter is a list\n",
    "\n",
    "arr_empty = np.empty([4,5])\n",
    "print(arr_empty)"
   ]
  },
  {
   "cell_type": "markdown",
   "id": "c38fec47",
   "metadata": {},
   "source": [
    "### np.empty_like()\n",
    "\n",
    "Return a new array with the same shape and type as a given array.\n",
    "\n",
    "This function does *not* initialize the returned array; to do that use\n",
    "`zeros_like` or `ones_like` instead.  It may be marginally faster than\n",
    "the functions that do set the array values.\n"
   ]
  },
  {
   "cell_type": "code",
   "execution_count": null,
   "id": "590501c5",
   "metadata": {},
   "outputs": [],
   "source": [
    "np.empty_like(arr3d)"
   ]
  },
  {
   "cell_type": "markdown",
   "id": "0972193d",
   "metadata": {},
   "source": [
    "\n",
    "### np.full()\n",
    "\n",
    "Return a new array of given shape and type, filled with `fill_value`."
   ]
  },
  {
   "cell_type": "code",
   "execution_count": null,
   "id": "12c1e321",
   "metadata": {},
   "outputs": [],
   "source": [
    "# Return a new array of given shape filled with 1\n",
    "\n",
    "np.full((2, 3), 1)"
   ]
  },
  {
   "cell_type": "code",
   "execution_count": null,
   "id": "a99a0c04",
   "metadata": {},
   "outputs": [],
   "source": [
    "# Return a new array of given shape broadcasted \n",
    "# with given array\n",
    "np.full((2, 3), [10, 20, 30])"
   ]
  },
  {
   "cell_type": "code",
   "execution_count": null,
   "id": "f66c4ae1",
   "metadata": {},
   "outputs": [],
   "source": [
    "# Return a new array of given shape broadcasted \n",
    "# with given array\n",
    "\n",
    "np.full((2, 3), [[10],[20]])"
   ]
  },
  {
   "cell_type": "code",
   "execution_count": null,
   "id": "501dd360",
   "metadata": {},
   "outputs": [],
   "source": [
    "# Return a new array of given shape broadcasted \n",
    "# with given array\n",
    "\n",
    "x = [\n",
    "    [10],\n",
    "    [20],\n",
    "    [30]\n",
    "]\n",
    "np.full((3, 4), x)"
   ]
  },
  {
   "cell_type": "code",
   "execution_count": null,
   "id": "64827f21",
   "metadata": {},
   "outputs": [],
   "source": [
    "# Return a new array of given shape broadcasted \n",
    "# with given array\n",
    "\n",
    "x = np.array([\n",
    "    [10],\n",
    "    [20],\n",
    "    [30]\n",
    "])\n",
    "print(x.shape)\n",
    "np.full((3, 4), x)"
   ]
  },
  {
   "cell_type": "markdown",
   "id": "0d953e70",
   "metadata": {},
   "source": [
    "\n",
    "### np.full_like()\n",
    "\n",
    "Return a full array with the same shape and type as a given array.|"
   ]
  },
  {
   "cell_type": "code",
   "execution_count": null,
   "id": "9f8ae34a",
   "metadata": {},
   "outputs": [],
   "source": [
    "# Return a new array of given shape broadcasted \n",
    "# with given array\n",
    "\n",
    "np.full_like(arr2d, [[10],[20]])"
   ]
  },
  {
   "cell_type": "markdown",
   "id": "a8bf0e4c",
   "metadata": {},
   "source": [
    "### np.identity()\n",
    "\n",
    " Return the identity matrix array"
   ]
  },
  {
   "cell_type": "code",
   "execution_count": null,
   "id": "b1837f57",
   "metadata": {},
   "outputs": [],
   "source": [
    " # Return the identity array\n",
    "    \n",
    "arr_id = np.identity(5)\n",
    "print(arr_id)"
   ]
  },
  {
   "cell_type": "markdown",
   "id": "6636f411",
   "metadata": {},
   "source": [
    "\n",
    "### np.eye()\n",
    "\n",
    "Return a 2-D array with ones on the diagonal and zeros elsewhere. This is similar to identity matrix, but with option to shift the diagonal ones."
   ]
  },
  {
   "cell_type": "code",
   "execution_count": null,
   "id": "36fb6f73",
   "metadata": {},
   "outputs": [],
   "source": [
    "# Return a 2-D array with ones on the diagonal and zeros elsewhere.\n",
    "\n",
    "np.eye(4,6)"
   ]
  },
  {
   "cell_type": "code",
   "execution_count": null,
   "id": "9a9c790f",
   "metadata": {},
   "outputs": [],
   "source": [
    "# Index of the diagonal: \n",
    "# a positive value refers to an upper diagonal\n",
    "\n",
    "np.eye(4, 6 , k=1)"
   ]
  },
  {
   "cell_type": "code",
   "execution_count": null,
   "id": "892fcd88",
   "metadata": {},
   "outputs": [],
   "source": [
    "# Index of the diagonal: \n",
    "# a negative value refers to a lower diagonal.\n",
    "\n",
    "np.eye(4, 6 , k=-1)"
   ]
  },
  {
   "cell_type": "markdown",
   "id": "c2f39833",
   "metadata": {},
   "source": [
    "\n",
    "### np.linspace()\n",
    "\n",
    "Syntax : linspace(start, stop, num=50, endpoint=True, retstep=False, dtype=None, axis=0)\n",
    "\n",
    "Return evenly spaced numbers over a specified interval. Returns `num` evenly spaced samples, calculated over theinterval `start`, `stop`. The endpoint of the interval can optionally be excluded."
   ]
  },
  {
   "cell_type": "code",
   "execution_count": null,
   "id": "475d2e44",
   "metadata": {},
   "outputs": [],
   "source": [
    "# Linear Space - This includes the last numbers\n",
    "\n",
    "np.linspace(7, 70, 10, dtype=\"int8\", axis=0)"
   ]
  },
  {
   "cell_type": "code",
   "execution_count": null,
   "id": "a88cebaf",
   "metadata": {},
   "outputs": [],
   "source": [
    "# Linear Space - This includes the last numbers\n",
    "\n",
    "np.linspace(7, 70, 10, dtype=\"int8\", axis=0)"
   ]
  },
  {
   "cell_type": "code",
   "execution_count": null,
   "id": "8bc5692e",
   "metadata": {},
   "outputs": [],
   "source": [
    "def f(x):\n",
    "    return x*(x-2)*(x+2)"
   ]
  },
  {
   "cell_type": "code",
   "execution_count": null,
   "id": "5602ee07",
   "metadata": {},
   "outputs": [],
   "source": [
    "x_values = np.linspace(-3, 3, 50)\n",
    "plt.plot(x_values, f(x_values))\n",
    "# Add labels\n",
    "plt.title('Line Plot of f(x) Using np.linspace')\n",
    "plt.xlabel('x')\n",
    "plt.ylabel('f(x)')\n",
    "plt.show()"
   ]
  },
  {
   "cell_type": "code",
   "execution_count": null,
   "id": "1342c4c0",
   "metadata": {},
   "outputs": [],
   "source": [
    "# Plotting the graph using arange without the step argument\n",
    "\n",
    "x_values = np.arange(-3, 3)\n",
    "plt.plot(x_values, f(x_values))\n",
    "plt.show()"
   ]
  },
  {
   "cell_type": "code",
   "execution_count": null,
   "id": "95630149",
   "metadata": {},
   "outputs": [],
   "source": [
    "np.diff(x_values)"
   ]
  },
  {
   "cell_type": "code",
   "execution_count": null,
   "id": "c7da1d36",
   "metadata": {},
   "outputs": [],
   "source": [
    "# Plotting the graph using arange with step argument\n",
    "# step as linear space\n",
    "\n",
    "x_values = np.arange(-3, 3 , 0.12)\n",
    "plt.plot(x_values, f(x_values))\n",
    "plt.show()"
   ]
  },
  {
   "cell_type": "code",
   "execution_count": null,
   "id": "29db383f",
   "metadata": {},
   "outputs": [],
   "source": [
    "# Series of number with mean 0 variance 1\n",
    "# Normal distribution\n",
    "\n",
    "arr_randn = np.random.randn(5,3)\n",
    "print(arr_randn)"
   ]
  },
  {
   "cell_type": "code",
   "execution_count": null,
   "id": "e421416e",
   "metadata": {},
   "outputs": [],
   "source": [
    "# Uniformly sampled between 0 and 1.\n",
    "arr_rand = np.random.rand(5,3)\n",
    "print(arr_rand)"
   ]
  },
  {
   "cell_type": "code",
   "execution_count": null,
   "id": "928e092f",
   "metadata": {},
   "outputs": [],
   "source": [
    "# Random numbers beween 2 numbers\n",
    "\n",
    "arr_rint = np.random.randint(1, 30, (2,5))\n",
    "print(arr_rint)"
   ]
  },
  {
   "cell_type": "code",
   "execution_count": null,
   "id": "15053a77",
   "metadata": {},
   "outputs": [],
   "source": [
    "np.arange(6, 61, 6)"
   ]
  },
  {
   "cell_type": "code",
   "execution_count": null,
   "id": "8c49f79a",
   "metadata": {},
   "outputs": [],
   "source": []
  },
  {
   "cell_type": "code",
   "execution_count": null,
   "id": "8e29ec89",
   "metadata": {},
   "outputs": [],
   "source": [
    "np.array([True, False, True, True])"
   ]
  },
  {
   "cell_type": "code",
   "execution_count": null,
   "id": "703fdb22",
   "metadata": {},
   "outputs": [],
   "source": [
    "str_array= np.array(['1.5','1.8','2.5'])"
   ]
  },
  {
   "cell_type": "code",
   "execution_count": null,
   "id": "41d71517",
   "metadata": {},
   "outputs": [],
   "source": [
    "arr = np.array(str_array, dtype=\"float\")\n",
    "print(arr)"
   ]
  },
  {
   "cell_type": "code",
   "execution_count": null,
   "id": "bdf40ef1",
   "metadata": {},
   "outputs": [],
   "source": []
  },
  {
   "cell_type": "code",
   "execution_count": null,
   "id": "5800a27c",
   "metadata": {},
   "outputs": [],
   "source": []
  },
  {
   "cell_type": "code",
   "execution_count": null,
   "id": "56d9c12a",
   "metadata": {},
   "outputs": [],
   "source": []
  },
  {
   "cell_type": "markdown",
   "id": "bedd1c8b",
   "metadata": {},
   "source": [
    "\n",
    "***\n"
   ]
  },
  {
   "cell_type": "markdown",
   "id": "7ed14770",
   "metadata": {},
   "source": [
    "\n",
    "## Numpy - Operations\n"
   ]
  },
  {
   "cell_type": "code",
   "execution_count": null,
   "id": "b5cb98cf",
   "metadata": {},
   "outputs": [],
   "source": [
    "arr_rand + arr_randn"
   ]
  },
  {
   "cell_type": "code",
   "execution_count": null,
   "id": "dca769e0",
   "metadata": {},
   "outputs": [],
   "source": [
    "arr_rand * arr_randn"
   ]
  },
  {
   "cell_type": "code",
   "execution_count": null,
   "id": "afff247f",
   "metadata": {},
   "outputs": [],
   "source": [
    "np.exp(arr_rint)"
   ]
  },
  {
   "cell_type": "code",
   "execution_count": null,
   "id": "a59680cf",
   "metadata": {},
   "outputs": [],
   "source": [
    "np.log(np.exp(arr_rint))"
   ]
  },
  {
   "cell_type": "code",
   "execution_count": null,
   "id": "93b6924c",
   "metadata": {},
   "outputs": [],
   "source": [
    "np.sin(arr_rint)"
   ]
  },
  {
   "cell_type": "code",
   "execution_count": null,
   "id": "b7c09d32",
   "metadata": {},
   "outputs": [],
   "source": [
    "np.cos(arr_rint)"
   ]
  },
  {
   "cell_type": "code",
   "execution_count": null,
   "id": "3044886b",
   "metadata": {},
   "outputs": [],
   "source": [
    "np.tan(arr_rint)"
   ]
  },
  {
   "cell_type": "code",
   "execution_count": null,
   "id": "9886b718",
   "metadata": {},
   "outputs": [],
   "source": [
    "np.isinf(arr_rand)"
   ]
  },
  {
   "cell_type": "markdown",
   "id": "d0a15163",
   "metadata": {},
   "source": [
    "\n",
    "****\n"
   ]
  },
  {
   "cell_type": "markdown",
   "id": "38333ab5",
   "metadata": {},
   "source": [
    "\n",
    "# Broadcasting\n"
   ]
  },
  {
   "cell_type": "code",
   "execution_count": null,
   "id": "186c9ef9",
   "metadata": {},
   "outputs": [],
   "source": [
    "arr2d1 = np.array(np.arange(1,25)).reshape(2,3,4)\n",
    "arr2d2 = np.array(np.arange(1,25)).reshape(2,3,4)"
   ]
  },
  {
   "cell_type": "code",
   "execution_count": null,
   "id": "bcadfea2",
   "metadata": {},
   "outputs": [],
   "source": [
    "print(arr2d1 + arr2d2)"
   ]
  },
  {
   "cell_type": "code",
   "execution_count": null,
   "id": "83495e8a",
   "metadata": {},
   "outputs": [],
   "source": [
    "arr2d1 = np.array(np.arange(1,25)).reshape(2,3,4)\n",
    "arr1d2 = np.array(np.arange(1,13)).reshape(3,4)"
   ]
  },
  {
   "cell_type": "code",
   "execution_count": null,
   "id": "d209cb1d",
   "metadata": {},
   "outputs": [],
   "source": [
    "print(arr2d1 + arr1d2)"
   ]
  },
  {
   "cell_type": "code",
   "execution_count": null,
   "id": "a530f937",
   "metadata": {},
   "outputs": [],
   "source": [
    "arr2d1 = np.array(np.arange(1,25)).reshape(2,3,4)\n",
    "arr1d2 = np.array(np.arange(1,4)).reshape(3,1)"
   ]
  },
  {
   "cell_type": "code",
   "execution_count": null,
   "id": "fc56b0e0",
   "metadata": {},
   "outputs": [],
   "source": [
    "print(arr2d1 + arr1d2)"
   ]
  },
  {
   "cell_type": "code",
   "execution_count": null,
   "id": "f664d636",
   "metadata": {},
   "outputs": [],
   "source": [
    "arr2d1 = np.array(np.arange(1,25)).reshape(2,3,4)\n",
    "arr1d2 = np.array(np.arange(1,5)).reshape(1,4)"
   ]
  },
  {
   "cell_type": "code",
   "execution_count": null,
   "id": "d733310d",
   "metadata": {},
   "outputs": [],
   "source": [
    "print(arr2d1 + arr1d2)"
   ]
  },
  {
   "cell_type": "code",
   "execution_count": null,
   "id": "0063546b",
   "metadata": {},
   "outputs": [],
   "source": [
    "arr2d1 = np.array(np.arange(1,25)).reshape(2,3,4)\n",
    "arr1d2 = np.array([1]).reshape(1,1)"
   ]
  },
  {
   "cell_type": "code",
   "execution_count": null,
   "id": "b4ce98d2",
   "metadata": {},
   "outputs": [],
   "source": [
    "print(arr2d1 + arr1d2)"
   ]
  },
  {
   "cell_type": "code",
   "execution_count": null,
   "id": "a5da2158",
   "metadata": {},
   "outputs": [],
   "source": [
    "arr1d1 = np.array([1, 2, 3, 4])\n",
    "arr1d2 = np.array([1, 2, 3, 4, 5])\n",
    "arr1d1 = arr1d1.reshape(4,1)\n",
    "arr1d2 = arr1d2.reshape(1, 5)\n",
    "print(arr1d1.shape)\n",
    "print(arr1d2.shape)"
   ]
  },
  {
   "cell_type": "code",
   "execution_count": null,
   "id": "41aeb98b",
   "metadata": {},
   "outputs": [],
   "source": [
    "print(arr1d1 + arr1d2)"
   ]
  },
  {
   "cell_type": "markdown",
   "id": "e32f9507",
   "metadata": {},
   "source": [
    "\n",
    "***\n"
   ]
  },
  {
   "cell_type": "markdown",
   "id": "6ae75b9e",
   "metadata": {},
   "source": [
    "\n",
    "## NumPy - File Handling\n"
   ]
  },
  {
   "cell_type": "code",
   "execution_count": null,
   "id": "f924809a",
   "metadata": {},
   "outputs": [],
   "source": [
    "planets_small = np.loadtxt(\"planets_small.txt\", \n",
    "                           skiprows=1,\n",
    "                          usecols=(1,2,3,4,5,6,7,8,9))"
   ]
  },
  {
   "cell_type": "code",
   "execution_count": null,
   "id": "a5306966",
   "metadata": {},
   "outputs": [],
   "source": [
    "planets_small"
   ]
  },
  {
   "cell_type": "code",
   "execution_count": null,
   "id": "21e58478",
   "metadata": {},
   "outputs": [],
   "source": [
    "planets_small.shape"
   ]
  },
  {
   "cell_type": "code",
   "execution_count": null,
   "id": "d3b9b7cb",
   "metadata": {},
   "outputs": [],
   "source": [
    "planets_small.ndim"
   ]
  },
  {
   "cell_type": "code",
   "execution_count": null,
   "id": "25860b5f",
   "metadata": {},
   "outputs": [],
   "source": [
    "planets = np.loadtxt(\"planets.txt\", \n",
    "                           skiprows=1,\n",
    "                          usecols=(1,2,3,4,5,6,7,8,9))"
   ]
  },
  {
   "cell_type": "code",
   "execution_count": null,
   "id": "9af8fabb",
   "metadata": {},
   "outputs": [],
   "source": [
    "planets = np.genfromtxt(\"planets.txt\", \n",
    "                           skip_header=1,\n",
    "                          usecols=(1,2,3,4,5,6,7,8,9))"
   ]
  },
  {
   "cell_type": "code",
   "execution_count": null,
   "id": "61d67c34",
   "metadata": {},
   "outputs": [],
   "source": [
    "planets.shape"
   ]
  },
  {
   "cell_type": "code",
   "execution_count": null,
   "id": "876b6d62",
   "metadata": {},
   "outputs": [],
   "source": [
    "planets_new = np.nan_to_num(planets, nan=-1)"
   ]
  },
  {
   "cell_type": "code",
   "execution_count": null,
   "id": "4e3ff2d1",
   "metadata": {},
   "outputs": [],
   "source": [
    "planets_new"
   ]
  },
  {
   "cell_type": "code",
   "execution_count": null,
   "id": "296383db",
   "metadata": {},
   "outputs": [],
   "source": [
    "np.savetxt(\"planets_new.txt\", planets_new, delimiter=',')"
   ]
  },
  {
   "cell_type": "code",
   "execution_count": null,
   "id": "09129806",
   "metadata": {},
   "outputs": [],
   "source": [
    "np.save(\"planets_new\",planets_new)"
   ]
  },
  {
   "cell_type": "code",
   "execution_count": null,
   "id": "8395e7c9",
   "metadata": {},
   "outputs": [],
   "source": []
  },
  {
   "cell_type": "code",
   "execution_count": null,
   "id": "c3b2cd7e",
   "metadata": {},
   "outputs": [],
   "source": [
    "np.eye(5)"
   ]
  },
  {
   "cell_type": "code",
   "execution_count": null,
   "id": "1c250ee7",
   "metadata": {},
   "outputs": [],
   "source": []
  },
  {
   "cell_type": "code",
   "execution_count": null,
   "id": "73e8c066",
   "metadata": {},
   "outputs": [],
   "source": []
  },
  {
   "cell_type": "code",
   "execution_count": null,
   "id": "9929119b",
   "metadata": {},
   "outputs": [],
   "source": []
  },
  {
   "cell_type": "code",
   "execution_count": null,
   "id": "9e0f04c0",
   "metadata": {},
   "outputs": [],
   "source": []
  },
  {
   "cell_type": "code",
   "execution_count": null,
   "id": "eb1f2daa",
   "metadata": {},
   "outputs": [],
   "source": []
  },
  {
   "cell_type": "code",
   "execution_count": null,
   "id": "8ce5058e",
   "metadata": {},
   "outputs": [],
   "source": []
  },
  {
   "cell_type": "code",
   "execution_count": null,
   "id": "f1f0d839",
   "metadata": {},
   "outputs": [],
   "source": []
  },
  {
   "cell_type": "code",
   "execution_count": null,
   "id": "45b85e5a",
   "metadata": {},
   "outputs": [],
   "source": []
  },
  {
   "cell_type": "code",
   "execution_count": null,
   "id": "dc7c8e89",
   "metadata": {},
   "outputs": [],
   "source": []
  },
  {
   "cell_type": "code",
   "execution_count": null,
   "id": "7ed5497b",
   "metadata": {},
   "outputs": [],
   "source": []
  },
  {
   "cell_type": "code",
   "execution_count": null,
   "id": "c4ba37da",
   "metadata": {},
   "outputs": [],
   "source": []
  },
  {
   "cell_type": "code",
   "execution_count": null,
   "id": "6576ae28",
   "metadata": {},
   "outputs": [],
   "source": []
  },
  {
   "cell_type": "code",
   "execution_count": null,
   "id": "5ddb0856",
   "metadata": {},
   "outputs": [],
   "source": []
  },
  {
   "cell_type": "code",
   "execution_count": null,
   "id": "5ee72258",
   "metadata": {},
   "outputs": [],
   "source": []
  },
  {
   "cell_type": "code",
   "execution_count": null,
   "id": "c32aaf6d",
   "metadata": {},
   "outputs": [],
   "source": []
  },
  {
   "cell_type": "code",
   "execution_count": null,
   "id": "dd39cb34",
   "metadata": {},
   "outputs": [],
   "source": []
  },
  {
   "cell_type": "code",
   "execution_count": null,
   "id": "c9f85e77",
   "metadata": {},
   "outputs": [],
   "source": []
  },
  {
   "cell_type": "code",
   "execution_count": null,
   "id": "d15a8a91",
   "metadata": {},
   "outputs": [],
   "source": []
  },
  {
   "cell_type": "code",
   "execution_count": null,
   "id": "5c64854a",
   "metadata": {},
   "outputs": [],
   "source": []
  },
  {
   "cell_type": "code",
   "execution_count": null,
   "id": "791cae0e",
   "metadata": {},
   "outputs": [],
   "source": []
  },
  {
   "cell_type": "code",
   "execution_count": null,
   "id": "d14b9126",
   "metadata": {},
   "outputs": [],
   "source": []
  },
  {
   "cell_type": "code",
   "execution_count": null,
   "id": "e21da1c4",
   "metadata": {},
   "outputs": [],
   "source": []
  },
  {
   "cell_type": "code",
   "execution_count": null,
   "id": "781b6844",
   "metadata": {},
   "outputs": [],
   "source": []
  },
  {
   "cell_type": "code",
   "execution_count": null,
   "id": "e3dae415",
   "metadata": {},
   "outputs": [],
   "source": []
  },
  {
   "cell_type": "code",
   "execution_count": null,
   "id": "3374fccb",
   "metadata": {},
   "outputs": [],
   "source": []
  },
  {
   "cell_type": "code",
   "execution_count": null,
   "id": "88fc4a93",
   "metadata": {},
   "outputs": [],
   "source": []
  },
  {
   "cell_type": "code",
   "execution_count": null,
   "id": "e8707170",
   "metadata": {},
   "outputs": [],
   "source": []
  },
  {
   "cell_type": "code",
   "execution_count": null,
   "id": "9e12bce6",
   "metadata": {},
   "outputs": [],
   "source": []
  }
 ],
 "metadata": {
  "kernelspec": {
   "display_name": "Python 3 (ipykernel)",
   "language": "python",
   "name": "python3"
  },
  "language_info": {
   "codemirror_mode": {
    "name": "ipython",
    "version": 3
   },
   "file_extension": ".py",
   "mimetype": "text/x-python",
   "name": "python",
   "nbconvert_exporter": "python",
   "pygments_lexer": "ipython3",
   "version": "3.8.12"
  }
 },
 "nbformat": 4,
 "nbformat_minor": 5
}
