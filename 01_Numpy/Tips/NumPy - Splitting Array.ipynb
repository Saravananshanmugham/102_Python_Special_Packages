{
 "cells": [
  {
   "cell_type": "code",
   "execution_count": 1,
   "id": "0a5448b4",
   "metadata": {},
   "outputs": [],
   "source": [
    "import numpy as np"
   ]
  },
  {
   "cell_type": "markdown",
   "id": "ce0fbfb7",
   "metadata": {},
   "source": [
    "\n",
    "----\n"
   ]
  },
  {
   "cell_type": "markdown",
   "id": "0eeb41f3",
   "metadata": {},
   "source": [
    "# NumPy - Splitting Array\n",
    "\n",
    "Splitting is reverse operation of Joining. Joining merges multiple arrays into one and Splitting breaks one array into multiple.\n",
    "\n",
    "We use `array_split()` for splitting arrays, we pass it the array we want to split and the number of splits. The return value of the `array_split()` method is an array containing each of the split as an array.\n",
    "\n",
    "If you split an array into 3 arrays, you can access them from the result just like any array element."
   ]
  },
  {
   "cell_type": "code",
   "execution_count": 14,
   "id": "5cdf4b32",
   "metadata": {},
   "outputs": [
    {
     "name": "stdout",
     "output_type": "stream",
     "text": [
      "[array([1, 2]), array([3, 4]), array([5, 6])] \n",
      "\n",
      "Array 1:[1 2]\n",
      "Array 1:[3 4]\n",
      "Array 1:[5 6]\n"
     ]
    }
   ],
   "source": [
    "# Split the array in 3 parts:\n",
    "arr1 = np.array([1, 2, 3, 4, 5, 6])\n",
    "split_arr = np.array_split(arr1, 3)\n",
    "print(split_arr,\"\\n\")\n",
    "\n",
    "print(\"Array 1:{}\".format(split_arr[0]))\n",
    "print(\"Array 1:{}\".format(split_arr[1]))\n",
    "print(\"Array 1:{}\".format(split_arr[2]))"
   ]
  },
  {
   "cell_type": "code",
   "execution_count": 22,
   "id": "5d74d930",
   "metadata": {},
   "outputs": [
    {
     "name": "stdout",
     "output_type": "stream",
     "text": [
      "[array([1, 2]), array([3, 4]), array([5]), array([6])]\n",
      "Array :[1 2]\n",
      "Array :[3 4]\n",
      "Array :[5]\n",
      "Array :[6]\n"
     ]
    }
   ],
   "source": [
    "arr1 = np.array([1, 2, 3, 4, 5, 6])\n",
    "\n",
    "split_arr = np.array_split(arr1, 4)\n",
    "\n",
    "print(split_arr)\n",
    "\n",
    "for arr in split_arr:\n",
    "    print(\"Array :{}\".format(arr))"
   ]
  },
  {
   "cell_type": "markdown",
   "id": "205722ad",
   "metadata": {},
   "source": [
    ">**Note:** We also have the method `split()` available but it will not adjust the elements when elements are less in source array for splitting like in example above, `array_split()` worked properly but `split()` would fail."
   ]
  },
  {
   "cell_type": "markdown",
   "id": "6b563d60",
   "metadata": {},
   "source": [
    "#### Splitting 2-D Array"
   ]
  },
  {
   "cell_type": "code",
   "execution_count": 44,
   "id": "b7c49aac",
   "metadata": {},
   "outputs": [
    {
     "name": "stdout",
     "output_type": "stream",
     "text": [
      "Array :\n",
      "[[1 2]\n",
      " [3 4]]\n",
      "Array :\n",
      "[[5 6]\n",
      " [7 8]]\n",
      "Array :\n",
      "[[ 9 10]\n",
      " [11 12]]\n"
     ]
    }
   ],
   "source": [
    "arr = np.array([[1, 2], [3, 4], [5, 6], [7, 8], [9, 10], [11, 12]])\n",
    "\n",
    "newarr = np.array_split(arr, 3)\n",
    "\n",
    "print(\"Array :\\n{}\".format(newarr[0]))\n",
    "print(\"Array :\\n{}\".format(newarr[1]))\n",
    "print(\"Array :\\n{}\".format(newarr[2]))"
   ]
  },
  {
   "cell_type": "code",
   "execution_count": 45,
   "id": "3dbad18f",
   "metadata": {},
   "outputs": [
    {
     "name": "stdout",
     "output_type": "stream",
     "text": [
      "Array :\n",
      "[[1 2 3]\n",
      " [4 5 6]]\n",
      "Array :\n",
      "[[ 7  8  9]\n",
      " [10 11 12]]\n",
      "Array :\n",
      "[[13 14 15]]\n",
      "Array :\n",
      "[[16 17 18]]\n"
     ]
    }
   ],
   "source": [
    "arr = np.array([[1, 2, 3], [4, 5, 6], [7, 8, 9], [10, 11, 12], [13, 14, 15], [16, 17, 18]])\n",
    "\n",
    "newarr = np.array_split(arr, 4)\n",
    "\n",
    "print(\"Array :\\n{}\".format(newarr[0]))\n",
    "print(\"Array :\\n{}\".format(newarr[1]))\n",
    "print(\"Array :\\n{}\".format(newarr[2]))\n",
    "print(\"Array :\\n{}\".format(newarr[3]))"
   ]
  },
  {
   "cell_type": "code",
   "execution_count": 46,
   "id": "8812788d",
   "metadata": {},
   "outputs": [
    {
     "name": "stdout",
     "output_type": "stream",
     "text": [
      "Array :\n",
      "[[ 1]\n",
      " [ 4]\n",
      " [ 7]\n",
      " [10]\n",
      " [13]\n",
      " [16]]\n",
      "Array :\n",
      "[[ 2]\n",
      " [ 5]\n",
      " [ 8]\n",
      " [11]\n",
      " [14]\n",
      " [17]]\n",
      "Array :\n",
      "[[ 3]\n",
      " [ 6]\n",
      " [ 9]\n",
      " [12]\n",
      " [15]\n",
      " [18]]\n"
     ]
    }
   ],
   "source": [
    "arr = np.array([[1, 2, 3], [4, 5, 6], [7, 8, 9], [10, 11, 12], [13, 14, 15], [16, 17, 18]])\n",
    "\n",
    "newarr = np.array_split(arr, 3, axis=1)\n",
    "\n",
    "print(\"Array :\\n{}\".format(newarr[0]))\n",
    "print(\"Array :\\n{}\".format(newarr[1]))\n",
    "print(\"Array :\\n{}\".format(newarr[2]))\n",
    "\n"
   ]
  },
  {
   "cell_type": "markdown",
   "id": "61c28fbe",
   "metadata": {},
   "source": [
    "#### Splitting 2-D Array using hsplit()"
   ]
  },
  {
   "cell_type": "code",
   "execution_count": 43,
   "id": "976083c1",
   "metadata": {},
   "outputs": [
    {
     "name": "stdout",
     "output_type": "stream",
     "text": [
      "Array :\n",
      "[[ 1]\n",
      " [ 4]\n",
      " [ 7]\n",
      " [10]\n",
      " [13]\n",
      " [16]]\n",
      "Array :\n",
      "[[ 2]\n",
      " [ 5]\n",
      " [ 8]\n",
      " [11]\n",
      " [14]\n",
      " [17]]\n",
      "Array :\n",
      "[[ 3]\n",
      " [ 6]\n",
      " [ 9]\n",
      " [12]\n",
      " [15]\n",
      " [18]]\n"
     ]
    }
   ],
   "source": [
    "arr = np.array([[1, 2, 3], [4, 5, 6], [7, 8, 9], [10, 11, 12], [13, 14, 15], [16, 17, 18]])\n",
    "\n",
    "newarr = np.hsplit(arr, 3)\n",
    "\n",
    "print(\"Array :\\n{}\".format(newarr[0]))\n",
    "print(\"Array :\\n{}\".format(newarr[1]))\n",
    "print(\"Array :\\n{}\".format(newarr[2]))"
   ]
  },
  {
   "cell_type": "markdown",
   "id": "6462750f",
   "metadata": {},
   "source": [
    "An alternate solution is using hsplit() opposite of hstack().\n",
    "\n",
    "**Note: Similar alternates to vstack() and dstack() are available as vsplit() and dsplit().**"
   ]
  },
  {
   "cell_type": "markdown",
   "id": "f2f1ab87",
   "metadata": {},
   "source": [
    "\n",
    "---\n"
   ]
  }
 ],
 "metadata": {
  "kernelspec": {
   "display_name": "Python 3 (ipykernel)",
   "language": "python",
   "name": "python3"
  },
  "language_info": {
   "codemirror_mode": {
    "name": "ipython",
    "version": 3
   },
   "file_extension": ".py",
   "mimetype": "text/x-python",
   "name": "python",
   "nbconvert_exporter": "python",
   "pygments_lexer": "ipython3",
   "version": "3.8.12"
  }
 },
 "nbformat": 4,
 "nbformat_minor": 5
}
