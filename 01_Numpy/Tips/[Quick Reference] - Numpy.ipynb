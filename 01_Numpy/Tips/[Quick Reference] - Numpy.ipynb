{
 "cells": [
  {
   "cell_type": "code",
   "execution_count": 1,
   "id": "6ec50489",
   "metadata": {},
   "outputs": [],
   "source": [
    "import numpy as np"
   ]
  },
  {
   "cell_type": "code",
   "execution_count": 7,
   "id": "06699dbb",
   "metadata": {},
   "outputs": [
    {
     "name": "stdout",
     "output_type": "stream",
     "text": [
      "One Dimention Array:\n",
      " [ 1  2  3  4  5  6  7  8  9 10 11 12]\n",
      "\n",
      "Two Dimention Array:\n",
      " [[ 1  2  3  4  5  6]\n",
      " [ 7  8  9 10 11 12]]\n",
      "\n",
      "Three Dimention Array:\n",
      " [[[ 1  2  3]\n",
      "  [ 4  5  6]]\n",
      "\n",
      " [[ 7  8  9]\n",
      "  [10 11 12]]]\n"
     ]
    }
   ],
   "source": [
    "# Basics #1 - Creating Numpy Array - 1D, 2D & 3D\n",
    "\n",
    "list = [1,2,3,4,5,6,7,8,9,10,11,12]\n",
    "\n",
    "arr1d = np.array(list)\n",
    "print(\"One Dimention Array:\\n\",arr1d)\n",
    "\n",
    "arr2d = np.array(list).reshape(2,6)\n",
    "print(\"\\nTwo Dimention Array:\\n\",arr2d)\n",
    "\n",
    "arr3d = np.array(list).reshape(2,2,3)\n",
    "print(\"\\nThree Dimention Array:\\n\",arr3d)"
   ]
  },
  {
   "cell_type": "markdown",
   "id": "d2a0b093",
   "metadata": {},
   "source": [
    "Note: Number of elements in the list and size of the array should match. If not, Numpy will raise an expection."
   ]
  },
  {
   "cell_type": "markdown",
   "id": "e39502f4",
   "metadata": {},
   "source": [
    "***"
   ]
  },
  {
   "cell_type": "code",
   "execution_count": 12,
   "id": "59639613",
   "metadata": {},
   "outputs": [
    {
     "name": "stdout",
     "output_type": "stream",
     "text": [
      "[0 1 2 3 4 5 6 7 8 9]\n",
      "[11 12 13 14 15 16 17 18 19]\n",
      "[21 23 25 27 29]\n",
      "[31. 34. 37.]\n"
     ]
    }
   ],
   "source": [
    "# Basics # 2 - Generation of Sequence Numbers\n",
    "\n",
    "arr = np.arange(10)\n",
    "print(arr)\n",
    "\n",
    "arr = np.arange(11, 20)\n",
    "print(arr)\n",
    "\n",
    "arr = np.arange(21, 30, 2)\n",
    "print(arr)\n",
    "\n",
    "arr = np.arange(31, 40, 3, float)\n",
    "print(arr)\n"
   ]
  },
  {
   "cell_type": "markdown",
   "id": "bedea3a2",
   "metadata": {},
   "source": [
    "Syntax: ```np.arange([start], stop, [step], [dtype])```\n",
    "* Returns an array with evenly spaced elements. \n",
    "* Starting number is optional, if not specified, range will start from Zero `0`.\n",
    "* End of interval. The interval does not include this value. It means stop number not included in the list\n",
    "* Step - Spacing between values. For any output out, this is the distance between two adjacent values. Default is 1.\n",
    "* The data type of the output array."
   ]
  },
  {
   "cell_type": "code",
   "execution_count": 14,
   "id": "ba62d96d",
   "metadata": {},
   "outputs": [
    {
     "name": "stdout",
     "output_type": "stream",
     "text": [
      "[1.         1.08163265 1.16326531 1.24489796 1.32653061 1.40816327\n",
      " 1.48979592 1.57142857 1.65306122 1.73469388 1.81632653 1.89795918\n",
      " 1.97959184 2.06122449 2.14285714 2.2244898  2.30612245 2.3877551\n",
      " 2.46938776 2.55102041 2.63265306 2.71428571 2.79591837 2.87755102\n",
      " 2.95918367 3.04081633 3.12244898 3.20408163 3.28571429 3.36734694\n",
      " 3.44897959 3.53061224 3.6122449  3.69387755 3.7755102  3.85714286\n",
      " 3.93877551 4.02040816 4.10204082 4.18367347 4.26530612 4.34693878\n",
      " 4.42857143 4.51020408 4.59183673 4.67346939 4.75510204 4.83673469\n",
      " 4.91836735 5.        ]\n",
      "\n",
      " [ 1.    3.25  5.5   7.75 10.  ]\n",
      "\n",
      " [1.  2.8 4.6 6.4 8.2]\n",
      "\n",
      " (array([ 1.  ,  3.25,  5.5 ,  7.75, 10.  ]), 2.25)\n",
      "\n",
      " [ 1  3  5  7 10]\n"
     ]
    }
   ],
   "source": [
    "# Basics #3 - Linear Space\n",
    "\n",
    "arr = np.linspace(1,5)\n",
    "print(arr)\n",
    "\n",
    "arr = np.linspace(1,10, 5)\n",
    "print(\"\\n\",arr)\n",
    "\n",
    "arr = np.linspace(1,10, 5, endpoint=False)\n",
    "print(\"\\n\",arr)\n",
    "\n",
    "arr = np.linspace(1,10, 5, retstep=True)\n",
    "print(\"\\n\",arr)\n",
    "\n",
    "arr = np.linspace(1,10, 5, dtype=int)\n",
    "print(\"\\n\",arr)"
   ]
  },
  {
   "cell_type": "markdown",
   "id": "c5173d18",
   "metadata": {},
   "source": [
    "Syntax: np.linspace(start, Stop, num)\n",
    "* Default is float, generates 50 numbers default. \n",
    "* By specifing a value for `num` we generate the required numbers between the specified range\n",
    "* endpoint parameter helps to include or exclude the stop number.\n",
    "* retstep paramter helps to understand the step (difference between two numbers)\n",
    "* dtype helps to define the data type."
   ]
  },
  {
   "cell_type": "code",
   "execution_count": 30,
   "id": "496276ab",
   "metadata": {},
   "outputs": [
    {
     "name": "stdout",
     "output_type": "stream",
     "text": [
      "[0.19624107 0.12155322]\n",
      "\n",
      " [[0.86305809 0.27229147]\n",
      " [0.73745144 0.49776665]\n",
      " [0.78973373 0.99915473]]\n",
      "\n",
      " [[[0.96365008 0.43127251]\n",
      "  [0.86486572 0.15588631]\n",
      "  [0.17157989 0.88511554]]\n",
      "\n",
      " [[0.66785361 0.16924953]\n",
      "  [0.13874827 0.23292534]\n",
      "  [0.3011523  0.66067995]]]\n",
      "\n",
      " [-1.39492096 -1.52164959 -0.02640319  0.45648056 -0.31296286]\n",
      "\n",
      " [18 13 13 14 13]\n",
      "\n",
      " [1 2 3 4 0]\n",
      "[1, 4, 5, 6, 7]\n"
     ]
    }
   ],
   "source": [
    "# Basics #4 - Random number generation\n",
    "\n",
    "arr = np.random.rand(2)\n",
    "print(arr)\n",
    "\n",
    "arr = np.random.rand(3,2)\n",
    "print(\"\\n\",arr)\n",
    "\n",
    "arr = np.random.rand(2, 3,2)\n",
    "print(\"\\n\",arr)\n",
    "\n",
    "arr = np.random.randn(5)\n",
    "print(\"\\n\",arr)\n",
    "\n",
    "arr = np.random.randint(10,20,5)\n",
    "print(\"\\n\",arr)\n",
    "\n",
    "arr = np.random.permutation(5)\n",
    "print(\"\\n\",arr)"
   ]
  },
  {
   "cell_type": "markdown",
   "id": "2329d6a6",
   "metadata": {},
   "source": [
    "* `rand` - Genrates specified random number between 0 and 1. Default is 1D array, we can generate high dimention also./\n",
    "* `randn` - Genrates a normal distribution numbers \n",
    "* `randint` - Number of integers between specified range"
   ]
  }
 ],
 "metadata": {
  "kernelspec": {
   "display_name": "Python 3 (ipykernel)",
   "language": "python",
   "name": "python3"
  },
  "language_info": {
   "codemirror_mode": {
    "name": "ipython",
    "version": 3
   },
   "file_extension": ".py",
   "mimetype": "text/x-python",
   "name": "python",
   "nbconvert_exporter": "python",
   "pygments_lexer": "ipython3",
   "version": "3.8.13"
  }
 },
 "nbformat": 4,
 "nbformat_minor": 5
}
