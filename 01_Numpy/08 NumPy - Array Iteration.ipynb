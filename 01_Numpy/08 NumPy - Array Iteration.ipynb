{
 "cells": [
  {
   "cell_type": "code",
   "execution_count": 1,
   "id": "11225edc",
   "metadata": {},
   "outputs": [],
   "source": [
    "import numpy as np"
   ]
  },
  {
   "cell_type": "markdown",
   "id": "00d8c481",
   "metadata": {},
   "source": [
    "\n",
    "***\n"
   ]
  },
  {
   "cell_type": "markdown",
   "id": "e8284707",
   "metadata": {},
   "source": [
    "## NumPy - Array Iteration\n",
    "\n",
    "Iterating means going through elements one by one.As we deal with multi-dimensional arrays in numpy, we can do this using basic `for loop` of python.\n",
    "\n",
    "If we iterate on a \n",
    "* 1-D array it will go through each element one by one.\n",
    "* 2-D array it will go through all the rows.\n",
    "* 3-D array it will go through all the 2-D arrays.\n",
    "\n",
    "If we iterate on a n-D array it will go through n-1th dimension one by one."
   ]
  },
  {
   "cell_type": "markdown",
   "id": "091f6bc3",
   "metadata": {},
   "source": [
    "### Iterating a 1-D Array"
   ]
  },
  {
   "cell_type": "code",
   "execution_count": 2,
   "id": "124ca4c6",
   "metadata": {},
   "outputs": [
    {
     "name": "stdout",
     "output_type": "stream",
     "text": [
      "1\n",
      "2\n",
      "3\n"
     ]
    }
   ],
   "source": [
    "# Iterating a 1-D array\n",
    "\n",
    "arr1d = np.array([1, 2, 3])\n",
    "\n",
    "for x in arr1d:\n",
    "  print(x)\n"
   ]
  },
  {
   "cell_type": "markdown",
   "id": "ebd8f2d6",
   "metadata": {},
   "source": [
    "\n",
    "### Iterating a 2-D Array"
   ]
  },
  {
   "cell_type": "code",
   "execution_count": 3,
   "id": "694cebe9",
   "metadata": {},
   "outputs": [
    {
     "name": "stdout",
     "output_type": "stream",
     "text": [
      "[1 2 3]\n",
      "[4 5 6]\n"
     ]
    }
   ],
   "source": [
    "# Iterating 2-D array\n",
    "arr2d = np.array([[1, 2, 3], [4, 5, 6]])\n",
    "\n",
    "for x in arr2d:\n",
    "  print(x)"
   ]
  },
  {
   "cell_type": "code",
   "execution_count": 4,
   "id": "3c30665a",
   "metadata": {},
   "outputs": [
    {
     "name": "stdout",
     "output_type": "stream",
     "text": [
      "1\n",
      "2\n",
      "3\n",
      "4\n",
      "5\n",
      "6\n"
     ]
    }
   ],
   "source": [
    "# To go to the element level\n",
    "# Pass x as arry to next level\n",
    "\n",
    "arr2d = np.array([[1, 2, 3], [4, 5, 6]])\n",
    "\n",
    "for x in arr2d:\n",
    "    for y in x:\n",
    "        print(y)"
   ]
  },
  {
   "cell_type": "markdown",
   "id": "0c5f45d5",
   "metadata": {},
   "source": [
    "\n",
    "### Iterating a 3-D Array\n"
   ]
  },
  {
   "cell_type": "code",
   "execution_count": 5,
   "id": "bc17be12",
   "metadata": {},
   "outputs": [
    {
     "name": "stdout",
     "output_type": "stream",
     "text": [
      "[[1 2 3]\n",
      " [4 5 6]]\n",
      "[[ 7  8  9]\n",
      " [10 11 12]]\n"
     ]
    }
   ],
   "source": [
    "# Iterating a 3-D Array\n",
    "\n",
    "arr3d = np.array([[[1, 2, 3], [4, 5, 6]], [[7, 8, 9], [10, 11, 12]]])\n",
    "\n",
    "for x in arr3d:\n",
    "  print(x)"
   ]
  },
  {
   "cell_type": "code",
   "execution_count": 6,
   "id": "6f1bfc4d",
   "metadata": {},
   "outputs": [
    {
     "name": "stdout",
     "output_type": "stream",
     "text": [
      "[1 2 3]\n",
      "[4 5 6]\n",
      "[7 8 9]\n",
      "[10 11 12]\n"
     ]
    }
   ],
   "source": [
    "# To go to row level - pass it to second level\n",
    "\n",
    "for x in arr3d:\n",
    "    for y in x:\n",
    "        print(y)"
   ]
  },
  {
   "cell_type": "code",
   "execution_count": 7,
   "id": "c2384a84",
   "metadata": {},
   "outputs": [
    {
     "name": "stdout",
     "output_type": "stream",
     "text": [
      "1\n",
      "2\n",
      "3\n",
      "4\n",
      "5\n",
      "6\n",
      "7\n",
      "8\n",
      "9\n",
      "10\n",
      "11\n",
      "12\n"
     ]
    }
   ],
   "source": [
    "# To go to element level pass to the next level\n",
    "\n",
    "for x in arr3d:\n",
    "    for y in x:\n",
    "        for z in y:\n",
    "            print(z)"
   ]
  },
  {
   "cell_type": "markdown",
   "id": "b41e58d9",
   "metadata": {},
   "source": [
    "\n",
    "****\n"
   ]
  },
  {
   "cell_type": "markdown",
   "id": "a76cd186",
   "metadata": {},
   "source": [
    "\n",
    "## Iterating Arrays using nditer()\n",
    "\n",
    "The function `nditer()` is a helping function that can be used from very basic to very advanced iterations. It solves some basic issues which we face in iteration, lets go through it with examples.\n",
    "\n",
    "### Iterating on Each Scalar Element\n",
    "\n",
    "In basic for loops, iterating through each scalar of an array we need to use n for loops which can be difficult to write for arrays with very high dimensionality."
   ]
  },
  {
   "cell_type": "code",
   "execution_count": 8,
   "id": "8409e1e7",
   "metadata": {},
   "outputs": [
    {
     "name": "stdout",
     "output_type": "stream",
     "text": [
      "1\n",
      "2\n",
      "3\n",
      "4\n",
      "5\n",
      "6\n",
      "7\n",
      "8\n"
     ]
    }
   ],
   "source": [
    "# Iterating a 3-D Array at scalar level\n",
    "\n",
    "arr3d = np.array([[[1, 2], [3, 4]], [[5, 6], [7, 8]]])\n",
    "\n",
    "for x in np.nditer(arr3d):\n",
    "  print(x)"
   ]
  },
  {
   "cell_type": "code",
   "execution_count": 9,
   "id": "9f961593",
   "metadata": {},
   "outputs": [
    {
     "name": "stdout",
     "output_type": "stream",
     "text": [
      "1\n",
      "2\n",
      "3\n",
      "4\n"
     ]
    }
   ],
   "source": [
    "# Iterating a 2-D array at scalar level.\n",
    "arr2d = np.array([[1, 2], [3, 4]])\n",
    "\n",
    "for x in np.nditer(arr2d):\n",
    "  print(x)"
   ]
  },
  {
   "cell_type": "markdown",
   "id": "a5addfcf",
   "metadata": {},
   "source": [
    "\n",
    "****\n"
   ]
  },
  {
   "cell_type": "markdown",
   "id": "129c38c6",
   "metadata": {},
   "source": [
    "\n",
    "## Iterating Array With Different Data Types\n",
    "\n",
    "We can use `op_dtypes` argument and pass it the expected datatype to change the datatype of elements while iterating.\n",
    "\n",
    "NumPy does not change the data type of the element in-place (where the element is in array) so it needs some other space to perform this action, that extra space is called buffer, and in order to enable it in `nditer()` we pass `flags=['buffered']`.\n",
    "\n",
    "Parameter op_dtypes controls what kind of data casting may occur when making a copy or buffering. setting this to `unsafe` is not recommended, as it can adversely affect accumulations. Default setting is `safe`\n",
    "\n",
    "* 'no' means the data types should not be cast at all.\n",
    "* 'equiv' means only byte-order changes are allowed.\n",
    "* 'safe' means only casts which can preserve values are allowed.\n",
    "* 'same_kind' means only safe casts or casts within a kind, like float64 to float32, are allowed.\n",
    "* 'unsafe' means any data conversions may be done.\n"
   ]
  },
  {
   "cell_type": "code",
   "execution_count": 10,
   "id": "fff1aa6c",
   "metadata": {},
   "outputs": [
    {
     "name": "stdout",
     "output_type": "stream",
     "text": [
      "Data Type of Array: int32\n",
      "\n",
      "Casting done to int64\n",
      "1\n",
      "2\n",
      "3\n",
      "4\n",
      "\n",
      "Casting done to float (unsafe)\n",
      "1.0\n",
      "2.0\n",
      "3.0\n",
      "4.0\n"
     ]
    }
   ],
   "source": [
    "# nditer allows only safe casting by default\n",
    "\n",
    "arr2d = np.array([[1, 2], [3, 4]])\n",
    "print(\"Data Type of Array:\", arr2d.dtype)\n",
    "\n",
    "print(\"\\nCasting done to int64\")\n",
    "for x in np.nditer(arr2d, flags=['buffered'], \n",
    "                   op_dtypes=['i8']):\n",
    "  print(x)\n",
    "\n",
    "print(\"\\nCasting done to float (unsafe)\")\n",
    "for x in np.nditer(arr2d, flags=['buffered'], \n",
    "                   op_dtypes=['f'], casting='unsafe'):\n",
    "  print(x)"
   ]
  },
  {
   "cell_type": "markdown",
   "id": "1ee2292b",
   "metadata": {},
   "source": [
    "\n",
    "****\n"
   ]
  },
  {
   "cell_type": "markdown",
   "id": "1dc45457",
   "metadata": {},
   "source": [
    "### Iterating With Different Step Size\n",
    "\n",
    "We can use filtering and followed by iteration. "
   ]
  },
  {
   "cell_type": "code",
   "execution_count": 11,
   "id": "f35081c9",
   "metadata": {},
   "outputs": [
    {
     "name": "stdout",
     "output_type": "stream",
     "text": [
      "1\n",
      "3\n",
      "5\n",
      "7\n",
      "9\n",
      "11\n"
     ]
    }
   ],
   "source": [
    "# Iterate through every scalar element of the 2D array \n",
    "# skipping 1 element\n",
    "\n",
    "arr2d = np.array([[1, 2, 3, 4, 5, 6], [7, 8, 9, 10, 11, 12]])\n",
    "\n",
    "for x in np.nditer(arr2d[:, ::2]):\n",
    "  print(x)\n"
   ]
  },
  {
   "cell_type": "markdown",
   "id": "88146763",
   "metadata": {},
   "source": [
    "\n",
    "****\n"
   ]
  },
  {
   "cell_type": "markdown",
   "id": "1ddd36ec",
   "metadata": {},
   "source": [
    "## Enumerated Iteration Using ndenumerate()\n",
    "\n",
    "Enumeration means mentioning sequence number of somethings one by one. Sometimes we require corresponding index of the element while iterating, the `ndenumerate()` method can be used for those usecases."
   ]
  },
  {
   "cell_type": "code",
   "execution_count": 12,
   "id": "0d77e9f8",
   "metadata": {},
   "outputs": [
    {
     "name": "stdout",
     "output_type": "stream",
     "text": [
      "(0, 0) 1\n",
      "(0, 1) 2\n",
      "(0, 2) 3\n",
      "(0, 3) 4\n",
      "(1, 0) 5\n",
      "(1, 1) 6\n",
      "(1, 2) 7\n",
      "(1, 3) 8\n"
     ]
    }
   ],
   "source": [
    "arr2d = np.array([[1, 2, 3, 4], [5, 6, 7, 8]])\n",
    "\n",
    "for idx, x in np.ndenumerate(arr2d):\n",
    "  print(idx, x)"
   ]
  },
  {
   "cell_type": "markdown",
   "id": "c1e48acb",
   "metadata": {},
   "source": [
    "\n",
    "***\n"
   ]
  }
 ],
 "metadata": {
  "kernelspec": {
   "display_name": "Python 3 (ipykernel)",
   "language": "python",
   "name": "python3"
  },
  "language_info": {
   "codemirror_mode": {
    "name": "ipython",
    "version": 3
   },
   "file_extension": ".py",
   "mimetype": "text/x-python",
   "name": "python",
   "nbconvert_exporter": "python",
   "pygments_lexer": "ipython3",
   "version": "3.8.12"
  }
 },
 "nbformat": 4,
 "nbformat_minor": 5
}
