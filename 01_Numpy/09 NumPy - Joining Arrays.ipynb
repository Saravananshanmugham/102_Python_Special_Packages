{
 "cells": [
  {
   "cell_type": "markdown",
   "id": "440d4ba2",
   "metadata": {},
   "source": [
    "\n",
    "# NumPy - Joining Arrays\n"
   ]
  },
  {
   "cell_type": "code",
   "execution_count": 1,
   "id": "7637e6d4",
   "metadata": {},
   "outputs": [],
   "source": [
    "import numpy as np"
   ]
  },
  {
   "cell_type": "markdown",
   "id": "62563748",
   "metadata": {},
   "source": [
    "----"
   ]
  },
  {
   "cell_type": "markdown",
   "id": "48effbee",
   "metadata": {},
   "source": [
    "## Joining NumPy Arrays\n",
    "\n",
    "Joining means putting contents of two or more arrays in a single array.\n",
    "\n",
    "In SQL we join tables based on a key, whereas in NumPy we join arrays by axes.\n",
    "\n",
    "We pass a sequence of arrays that we want to join to the `concatenate()` function, along with the axis. If axis is not explicitly passed, it is taken as `0`.\n",
    "\n",
    "**Note:** To join both array in specific axis, that dimention should exist before."
   ]
  },
  {
   "cell_type": "code",
   "execution_count": 2,
   "id": "e57adf0f",
   "metadata": {},
   "outputs": [
    {
     "name": "stdout",
     "output_type": "stream",
     "text": [
      "Array 1:\n",
      " [1 2 3]\n",
      "\n",
      "Array 2:\n",
      " [4 5 6]\n"
     ]
    }
   ],
   "source": [
    "arr1 = np.array([1, 2, 3])\n",
    "arr2 = np.array([4, 5, 6])\n",
    "print(\"Array 1:\\n\", arr1)\n",
    "print(\"\\nArray 2:\\n\", arr2)"
   ]
  },
  {
   "cell_type": "code",
   "execution_count": 3,
   "id": "49e29f0d",
   "metadata": {},
   "outputs": [
    {
     "name": "stdout",
     "output_type": "stream",
     "text": [
      "[1 2 3 4 5 6]\n"
     ]
    }
   ],
   "source": [
    "# Join the array using axis 0 - Horizontal Stack\n",
    "\n",
    "arr = np.concatenate((arr1, arr2))\n",
    "print(arr)"
   ]
  },
  {
   "cell_type": "markdown",
   "id": "9315ad4b",
   "metadata": {},
   "source": [
    "#### Joining 2-D Array"
   ]
  },
  {
   "cell_type": "code",
   "execution_count": 4,
   "id": "4e470b25",
   "metadata": {},
   "outputs": [
    {
     "name": "stdout",
     "output_type": "stream",
     "text": [
      "Shape of Array 1: (2, 2) Dimensions: 2\n",
      "[[1 2]\n",
      " [3 4]]\n",
      "\n",
      "Shape of Array 2: (2, 2) Dimensions: 2\n",
      "[[11 12]\n",
      " [13 14]]\n",
      "\n",
      "Joined Array : (4, 2) Dimentions: 2\n",
      "[[ 1  2]\n",
      " [ 3  4]\n",
      " [11 12]\n",
      " [13 14]]\n"
     ]
    }
   ],
   "source": [
    "arr1 = np.array([[1, 2], [3, 4]])\n",
    "print(\"Shape of Array 1:\",arr1.shape, \"Dimensions:\", arr1.ndim)\n",
    "print(arr1)\n",
    "\n",
    "arr2 = np.array([[11, 12], [13, 14]])\n",
    "print(\"\\nShape of Array 2:\",arr2.shape, \"Dimensions:\", arr2.ndim)\n",
    "print(arr2)\n",
    "\n",
    "arr = np.concatenate((arr1, arr2), axis=0)\n",
    "print(\"\\nJoined Array :\", arr.shape, \"Dimentions:\", arr.ndim)\n",
    "print(arr)\n"
   ]
  },
  {
   "cell_type": "code",
   "execution_count": 5,
   "id": "1b61b9ed",
   "metadata": {},
   "outputs": [
    {
     "name": "stdout",
     "output_type": "stream",
     "text": [
      "Shape of Array 1: (2, 2) Dimensions: 2\n",
      "[[1 2]\n",
      " [3 4]]\n",
      "\n",
      "Shape of Array 2: (2, 2) Dimensions: 2\n",
      "[[11 12]\n",
      " [13 14]]\n",
      "\n",
      "Joined Array : (2, 4) Dimentions: 2\n",
      "[[ 1  2 11 12]\n",
      " [ 3  4 13 14]]\n"
     ]
    }
   ],
   "source": [
    "arr1 = np.array([[1, 2], [3, 4]])\n",
    "print(\"Shape of Array 1:\",arr1.shape, \"Dimensions:\", arr1.ndim)\n",
    "print(arr1)\n",
    "\n",
    "arr2 = np.array([[11, 12], [13, 14]])\n",
    "print(\"\\nShape of Array 2:\",arr2.shape, \"Dimensions:\", arr2.ndim)\n",
    "print(arr2)\n",
    "\n",
    "arr = np.concatenate((arr1, arr2), axis=1)\n",
    "print(\"\\nJoined Array :\", arr.shape, \"Dimentions:\", arr.ndim)\n",
    "print(arr)"
   ]
  },
  {
   "cell_type": "markdown",
   "id": "a4e7adca",
   "metadata": {},
   "source": [
    "## Joining a 3-D Array"
   ]
  },
  {
   "cell_type": "code",
   "execution_count": 6,
   "id": "3ee6d10a",
   "metadata": {},
   "outputs": [
    {
     "name": "stdout",
     "output_type": "stream",
     "text": [
      "Shape of Array 1: (2, 2, 2) Dimensions: 3\n",
      "[[[1 2]\n",
      "  [3 4]]\n",
      "\n",
      " [[5 6]\n",
      "  [7 8]]]\n",
      "\n",
      "Shape of Array 2: (2, 2, 2) Dimensions: 3\n",
      "[[[11 12]\n",
      "  [13 14]]\n",
      "\n",
      " [[15 16]\n",
      "  [17 18]]]\n",
      "\n",
      "Joined Array : (4, 2, 2) Dimentions: 3\n",
      "[[[ 1  2]\n",
      "  [ 3  4]]\n",
      "\n",
      " [[ 5  6]\n",
      "  [ 7  8]]\n",
      "\n",
      " [[11 12]\n",
      "  [13 14]]\n",
      "\n",
      " [[15 16]\n",
      "  [17 18]]]\n"
     ]
    }
   ],
   "source": [
    "arr1 = np.array([[[1, 2], [3, 4]],[[5, 6],[7, 8]]])\n",
    "print(\"Shape of Array 1:\",arr1.shape, \"Dimensions:\", arr1.ndim)\n",
    "print(arr1)\n",
    "arr2 = np.array([[[11, 12], [13, 14]],[[15, 16],[17, 18]]])\n",
    "print(\"\\nShape of Array 2:\",arr2.shape, \"Dimensions:\", arr2.ndim)\n",
    "print(arr2)\n",
    "arr = np.concatenate((arr1, arr2), axis=0)\n",
    "print(\"\\nJoined Array :\", arr.shape, \"Dimentions:\", arr.ndim)\n",
    "print(arr)"
   ]
  },
  {
   "cell_type": "code",
   "execution_count": 7,
   "id": "a21df32a",
   "metadata": {},
   "outputs": [
    {
     "name": "stdout",
     "output_type": "stream",
     "text": [
      "Shape of Array 1: (2, 2, 2) Dimensions: 3\n",
      "[[[1 2]\n",
      "  [3 4]]\n",
      "\n",
      " [[5 6]\n",
      "  [7 8]]]\n",
      "\n",
      "Shape of Array 2: (2, 2, 2) Dimensions: 3\n",
      "[[[11 12]\n",
      "  [13 14]]\n",
      "\n",
      " [[15 16]\n",
      "  [17 18]]]\n",
      "\n",
      "Joined Array : (2, 4, 2) Dimentions: 3\n",
      "[[[ 1  2]\n",
      "  [ 3  4]\n",
      "  [11 12]\n",
      "  [13 14]]\n",
      "\n",
      " [[ 5  6]\n",
      "  [ 7  8]\n",
      "  [15 16]\n",
      "  [17 18]]]\n"
     ]
    }
   ],
   "source": [
    "arr1 = np.array([[[1, 2], [3, 4]],[[5, 6],[7, 8]]])\n",
    "print(\"Shape of Array 1:\",arr1.shape, \"Dimensions:\", arr1.ndim)\n",
    "print(arr1)\n",
    "\n",
    "arr2 = np.array([[[11, 12], [13, 14]],[[15, 16],[17, 18]]])\n",
    "print(\"\\nShape of Array 2:\",arr2.shape, \"Dimensions:\", arr2.ndim)\n",
    "print(arr2)\n",
    "\n",
    "arr = np.concatenate((arr1, arr2), axis=1)\n",
    "print(\"\\nJoined Array :\", arr.shape, \"Dimentions:\", arr.ndim)\n",
    "print(arr)"
   ]
  },
  {
   "cell_type": "code",
   "execution_count": 8,
   "id": "eed6135d",
   "metadata": {},
   "outputs": [
    {
     "name": "stdout",
     "output_type": "stream",
     "text": [
      "Shape of Array 1: (2, 2, 2) Dimensions: 3\n",
      "[[[1 2]\n",
      "  [3 4]]\n",
      "\n",
      " [[5 6]\n",
      "  [7 8]]]\n",
      "\n",
      "Shape of Array 2: (2, 2, 2) Dimensions: 3\n",
      "[[[11 12]\n",
      "  [13 14]]\n",
      "\n",
      " [[15 16]\n",
      "  [17 18]]]\n",
      "\n",
      "Joined Array : (2, 2, 4) Dimentions: 3\n",
      "[[[ 1  2 11 12]\n",
      "  [ 3  4 13 14]]\n",
      "\n",
      " [[ 5  6 15 16]\n",
      "  [ 7  8 17 18]]]\n"
     ]
    }
   ],
   "source": [
    "arr1 = np.array([[[1, 2], [3, 4]],[[5, 6],[7, 8]]])\n",
    "print(\"Shape of Array 1:\",arr1.shape, \"Dimensions:\", arr1.ndim)\n",
    "print(arr1)\n",
    "\n",
    "arr2 = np.array([[[11, 12], [13, 14]],[[15, 16],[17, 18]]])\n",
    "print(\"\\nShape of Array 2:\",arr2.shape, \"Dimensions:\", arr2.ndim)\n",
    "print(arr2)\n",
    "\n",
    "arr = np.concatenate((arr1, arr2), axis=2)\n",
    "print(\"\\nJoined Array :\", arr.shape, \"Dimentions:\", arr.ndim)\n",
    "print(arr)"
   ]
  },
  {
   "cell_type": "markdown",
   "id": "05173712",
   "metadata": {},
   "source": [
    "\n",
    "----\n"
   ]
  },
  {
   "cell_type": "markdown",
   "id": "7d9cfdaa",
   "metadata": {},
   "source": [
    "## Joining Arrays Using Stack Functions\n",
    "\n",
    "Stacking is same as concatenation, the only difference is that stacking is done along a **new axis**.\n",
    "\n",
    "We can concatenate two 1-D arrays along the second axis which would result in putting them one over the other, ie. stacking.\n",
    "\n",
    "We pass a sequence of arrays that we want to join to the stack() method along with the axis. If axis is not explicitly passed it is taken as 0."
   ]
  },
  {
   "cell_type": "code",
   "execution_count": 9,
   "id": "09db24bc",
   "metadata": {},
   "outputs": [
    {
     "name": "stdout",
     "output_type": "stream",
     "text": [
      "\n",
      "Array 1: (2,) Dimensions: 1\n",
      "[1 2]\n",
      "\n",
      "Array 2: (2,) Dimensions: 1\n",
      "[3 4]\n",
      "\n",
      "Array 3: (2,) Dimensions: 1\n",
      "[5 6]\n",
      "\n",
      "Stacked Arrays: (3, 2) Dimensions: 2\n",
      "[[1 2]\n",
      " [3 4]\n",
      " [5 6]]\n"
     ]
    }
   ],
   "source": [
    "arr1 = np.array([1, 2])\n",
    "arr2 = np.array([3, 4])\n",
    "arr3 = np.array([5, 6])\n",
    "\n",
    "print(\"\\nArray 1:\",arr1.shape, \"Dimensions:\", arr1.ndim)\n",
    "print(arr1)\n",
    "print(\"\\nArray 2:\",arr2.shape, \"Dimensions:\", arr2.ndim)\n",
    "print(arr2)\n",
    "print(\"\\nArray 3:\",arr3.shape, \"Dimensions:\", arr3.ndim)\n",
    "print(arr3)\n",
    "\n",
    "arr = np.stack((arr1, arr2, arr3), axis=0)\n",
    "print(\"\\nStacked Arrays:\",arr.shape, \"Dimensions:\", arr.ndim)\n",
    "print(arr)"
   ]
  },
  {
   "cell_type": "code",
   "execution_count": 10,
   "id": "37b912c8",
   "metadata": {},
   "outputs": [
    {
     "name": "stdout",
     "output_type": "stream",
     "text": [
      "\n",
      "Array 1: (2,) Dimensions: 1\n",
      "[1 2]\n",
      "\n",
      "Array 2: (2,) Dimensions: 1\n",
      "[3 4]\n",
      "\n",
      "Array 3: (2,) Dimensions: 1\n",
      "[5 6]\n",
      "\n",
      "Stacked Arrays: (2, 3) Dimensions: 2\n",
      "[[1 3 5]\n",
      " [2 4 6]]\n"
     ]
    }
   ],
   "source": [
    "arr1 = np.array([1, 2])\n",
    "arr2 = np.array([3, 4])\n",
    "arr3 = np.array([5, 6])\n",
    "\n",
    "print(\"\\nArray 1:\",arr1.shape, \"Dimensions:\", arr1.ndim)\n",
    "print(arr1)\n",
    "print(\"\\nArray 2:\",arr2.shape, \"Dimensions:\", arr2.ndim)\n",
    "print(arr2)\n",
    "print(\"\\nArray 3:\",arr3.shape, \"Dimensions:\", arr3.ndim)\n",
    "print(arr3)\n",
    "\n",
    "arr = np.stack((arr1, arr2, arr3), axis=1)\n",
    "print(\"\\nStacked Arrays:\",arr.shape, \"Dimensions:\", arr.ndim)\n",
    "print(arr)"
   ]
  },
  {
   "cell_type": "markdown",
   "id": "f1bc5d1b",
   "metadata": {},
   "source": [
    "\n",
    "### Stacking a 2-D Arrays\n"
   ]
  },
  {
   "cell_type": "code",
   "execution_count": 11,
   "id": "b3e62df9",
   "metadata": {},
   "outputs": [
    {
     "name": "stdout",
     "output_type": "stream",
     "text": [
      "Shape of Array 1: (2, 2) Dimensions: 2\n",
      "[[1 2]\n",
      " [3 4]]\n",
      "\n",
      "Shape of Array 2: (2, 2) Dimensions: 2\n",
      "[[11 12]\n",
      " [13 14]]\n",
      "\n",
      "Joined Array : (2, 2, 2) Dimentions: 3\n",
      "[[[ 1  2]\n",
      "  [ 3  4]]\n",
      "\n",
      " [[11 12]\n",
      "  [13 14]]]\n"
     ]
    }
   ],
   "source": [
    "arr1 = np.array([[1, 2], [3, 4]])\n",
    "print(\"Shape of Array 1:\",arr1.shape, \"Dimensions:\", arr1.ndim)\n",
    "print(arr1)\n",
    "\n",
    "arr2 = np.array([[11, 12], [13, 14]])\n",
    "print(\"\\nShape of Array 2:\",arr2.shape, \"Dimensions:\", arr2.ndim)\n",
    "print(arr2)\n",
    "\n",
    "arr = np.stack((arr1, arr2), axis=0)\n",
    "print(\"\\nJoined Array :\", arr.shape, \"Dimentions:\", arr.ndim)\n",
    "print(arr)"
   ]
  },
  {
   "cell_type": "code",
   "execution_count": 12,
   "id": "c012012e",
   "metadata": {},
   "outputs": [
    {
     "name": "stdout",
     "output_type": "stream",
     "text": [
      "Shape of Array 1: (2, 2) Dimensions: 2\n",
      "[[1 2]\n",
      " [3 4]]\n",
      "\n",
      "Shape of Array 2: (2, 2) Dimensions: 2\n",
      "[[11 12]\n",
      " [13 14]]\n",
      "\n",
      "Joined Array : (2, 2, 2) Dimentions: 3\n",
      "[[[ 1  2]\n",
      "  [11 12]]\n",
      "\n",
      " [[ 3  4]\n",
      "  [13 14]]]\n"
     ]
    }
   ],
   "source": [
    "arr1 = np.array([[1, 2], [3, 4]])\n",
    "print(\"Shape of Array 1:\",arr1.shape, \"Dimensions:\", arr1.ndim)\n",
    "print(arr1)\n",
    "\n",
    "arr2 = np.array([[11, 12], [13, 14]])\n",
    "print(\"\\nShape of Array 2:\",arr2.shape, \"Dimensions:\", arr2.ndim)\n",
    "print(arr2)\n",
    "\n",
    "arr = np.stack((arr1, arr2), axis=1)\n",
    "print(\"\\nJoined Array :\", arr.shape, \"Dimentions:\", arr.ndim)\n",
    "print(arr)"
   ]
  },
  {
   "cell_type": "code",
   "execution_count": 13,
   "id": "5df0c8ca",
   "metadata": {},
   "outputs": [
    {
     "name": "stdout",
     "output_type": "stream",
     "text": [
      "Shape of Array 1: (2, 2) Dimensions: 2\n",
      "[[1 2]\n",
      " [3 4]]\n",
      "\n",
      "Shape of Array 2: (2, 2) Dimensions: 2\n",
      "[[11 12]\n",
      " [13 14]]\n",
      "\n",
      "Joined Array : (2, 2, 2) Dimentions: 3\n",
      "[[[ 1 11]\n",
      "  [ 2 12]]\n",
      "\n",
      " [[ 3 13]\n",
      "  [ 4 14]]]\n"
     ]
    }
   ],
   "source": [
    "arr1 = np.array([[1, 2], [3, 4]])\n",
    "print(\"Shape of Array 1:\",arr1.shape, \"Dimensions:\", arr1.ndim)\n",
    "print(arr1)\n",
    "\n",
    "arr2 = np.array([[11, 12], [13, 14]])\n",
    "print(\"\\nShape of Array 2:\",arr2.shape, \"Dimensions:\", arr2.ndim)\n",
    "print(arr2)\n",
    "\n",
    "arr = np.stack((arr1, arr2), axis=2)\n",
    "print(\"\\nJoined Array :\", arr.shape, \"Dimentions:\", arr.ndim)\n",
    "print(arr)"
   ]
  },
  {
   "cell_type": "markdown",
   "id": "6ac22277",
   "metadata": {},
   "source": [
    "### Stacking a 3-D Arrays"
   ]
  },
  {
   "cell_type": "code",
   "execution_count": 14,
   "id": "48b19f6e",
   "metadata": {},
   "outputs": [
    {
     "name": "stdout",
     "output_type": "stream",
     "text": [
      "Shape of Array 1: (2, 2, 3) Dimensions: 3\n",
      "[[[ 1  2  3]\n",
      "  [ 3  4  5]]\n",
      "\n",
      " [[ 6  7  8]\n",
      "  [ 9 10 11]]]\n",
      "\n",
      "Shape of Array 2: (2, 2, 3) Dimensions: 3\n",
      "[[[ 11  21  31]\n",
      "  [ 31  41  51]]\n",
      "\n",
      " [[ 61  71  81]\n",
      "  [ 91 101 111]]]\n",
      "\n",
      "Stacked Array : (2, 2, 2, 3) Dimentions: 4\n",
      "[[[[  1   2   3]\n",
      "   [  3   4   5]]\n",
      "\n",
      "  [[  6   7   8]\n",
      "   [  9  10  11]]]\n",
      "\n",
      "\n",
      " [[[ 11  21  31]\n",
      "   [ 31  41  51]]\n",
      "\n",
      "  [[ 61  71  81]\n",
      "   [ 91 101 111]]]]\n"
     ]
    }
   ],
   "source": [
    "arr1 = np.array([[[1, 2, 3], [3, 4, 5]],[[6, 7, 8],[9, 10, 11]]])\n",
    "print(\"Shape of Array 1:\",arr1.shape, \"Dimensions:\", arr1.ndim)\n",
    "print(arr1)\n",
    "\n",
    "arr2 = np.array([[[11, 21, 31], [31, 41, 51]],[[61, 71, 81],[91, 101, 111]]])\n",
    "print(\"\\nShape of Array 2:\",arr2.shape, \"Dimensions:\", arr2.ndim)\n",
    "print(arr2)\n",
    "\n",
    "arr = np.stack((arr1, arr2), axis=0)\n",
    "print(\"\\nStacked Array :\", arr.shape, \"Dimentions:\", arr.ndim)\n",
    "print(arr)"
   ]
  },
  {
   "cell_type": "code",
   "execution_count": 15,
   "id": "9b5a2c53",
   "metadata": {},
   "outputs": [
    {
     "name": "stdout",
     "output_type": "stream",
     "text": [
      "Shape of Array 1: (2, 2, 3) Dimensions: 3\n",
      "[[[ 1  2  3]\n",
      "  [ 3  4  5]]\n",
      "\n",
      " [[ 6  7  8]\n",
      "  [ 9 10 11]]]\n",
      "\n",
      "Shape of Array 2: (2, 2, 3) Dimensions: 3\n",
      "[[[ 11  21  31]\n",
      "  [ 31  41  51]]\n",
      "\n",
      " [[ 61  71  81]\n",
      "  [ 91 101 111]]]\n",
      "\n",
      "Stacked Array : (2, 2, 2, 3) Dimentions: 4\n",
      "[[[[  1   2   3]\n",
      "   [  3   4   5]]\n",
      "\n",
      "  [[ 11  21  31]\n",
      "   [ 31  41  51]]]\n",
      "\n",
      "\n",
      " [[[  6   7   8]\n",
      "   [  9  10  11]]\n",
      "\n",
      "  [[ 61  71  81]\n",
      "   [ 91 101 111]]]]\n"
     ]
    }
   ],
   "source": [
    "arr1 = np.array([[[1, 2, 3], [3, 4, 5]],[[6, 7, 8],[9, 10, 11]]])\n",
    "print(\"Shape of Array 1:\",arr1.shape, \"Dimensions:\", arr1.ndim)\n",
    "print(arr1)\n",
    "\n",
    "arr2 = np.array([[[11, 21, 31], [31, 41, 51]],[[61, 71, 81],[91, 101, 111]]])\n",
    "print(\"\\nShape of Array 2:\",arr2.shape, \"Dimensions:\", arr2.ndim)\n",
    "print(arr2)\n",
    "\n",
    "arr = np.stack((arr1, arr2), axis=1)\n",
    "print(\"\\nStacked Array :\", arr.shape, \"Dimentions:\", arr.ndim)\n",
    "print(arr)"
   ]
  },
  {
   "cell_type": "code",
   "execution_count": 16,
   "id": "9c94f718",
   "metadata": {},
   "outputs": [
    {
     "name": "stdout",
     "output_type": "stream",
     "text": [
      "Shape of Array 1: (2, 2, 3) Dimensions: 3\n",
      "[[[ 1  2  3]\n",
      "  [ 3  4  5]]\n",
      "\n",
      " [[ 6  7  8]\n",
      "  [ 9 10 11]]]\n",
      "\n",
      "Shape of Array 2: (2, 2, 3) Dimensions: 3\n",
      "[[[ 11  21  31]\n",
      "  [ 31  41  51]]\n",
      "\n",
      " [[ 61  71  81]\n",
      "  [ 91 101 111]]]\n",
      "\n",
      "Stacked Array : (2, 2, 2, 3) Dimentions: 4\n",
      "[[[[  1   2   3]\n",
      "   [ 11  21  31]]\n",
      "\n",
      "  [[  3   4   5]\n",
      "   [ 31  41  51]]]\n",
      "\n",
      "\n",
      " [[[  6   7   8]\n",
      "   [ 61  71  81]]\n",
      "\n",
      "  [[  9  10  11]\n",
      "   [ 91 101 111]]]]\n"
     ]
    }
   ],
   "source": [
    "arr1 = np.array([[[1, 2, 3], [3, 4, 5]],[[6, 7, 8],[9, 10, 11]]])\n",
    "print(\"Shape of Array 1:\",arr1.shape, \"Dimensions:\", arr1.ndim)\n",
    "print(arr1)\n",
    "\n",
    "arr2 = np.array([[[11, 21, 31], [31, 41, 51]],[[61, 71, 81],[91, 101, 111]]])\n",
    "print(\"\\nShape of Array 2:\",arr2.shape, \"Dimensions:\", arr2.ndim)\n",
    "print(arr2)\n",
    "\n",
    "arr = np.stack((arr1, arr2), axis=2)\n",
    "print(\"\\nStacked Array :\", arr.shape, \"Dimentions:\", arr.ndim)\n",
    "print(arr)"
   ]
  },
  {
   "cell_type": "code",
   "execution_count": 17,
   "id": "470c49dd",
   "metadata": {},
   "outputs": [
    {
     "name": "stdout",
     "output_type": "stream",
     "text": [
      "Shape of Array 1: (2, 2, 3) Dimensions: 3\n",
      "[[[ 1  2  3]\n",
      "  [ 3  4  5]]\n",
      "\n",
      " [[ 6  7  8]\n",
      "  [ 9 10 11]]]\n",
      "\n",
      "Shape of Array 2: (2, 2, 3) Dimensions: 3\n",
      "[[[ 11  21  31]\n",
      "  [ 31  41  51]]\n",
      "\n",
      " [[ 61  71  81]\n",
      "  [ 91 101 111]]]\n",
      "\n",
      "Stacked Array : (2, 2, 3, 2) Dimentions: 4\n",
      "[[[[  1  11]\n",
      "   [  2  21]\n",
      "   [  3  31]]\n",
      "\n",
      "  [[  3  31]\n",
      "   [  4  41]\n",
      "   [  5  51]]]\n",
      "\n",
      "\n",
      " [[[  6  61]\n",
      "   [  7  71]\n",
      "   [  8  81]]\n",
      "\n",
      "  [[  9  91]\n",
      "   [ 10 101]\n",
      "   [ 11 111]]]]\n"
     ]
    }
   ],
   "source": [
    "arr1 = np.array([[[1, 2, 3], [3, 4, 5]],[[6, 7, 8],[9, 10, 11]]])\n",
    "print(\"Shape of Array 1:\",arr1.shape, \"Dimensions:\", arr1.ndim)\n",
    "print(arr1)\n",
    "\n",
    "arr2 = np.array([[[11, 21, 31], [31, 41, 51]],[[61, 71, 81],[91, 101, 111]]])\n",
    "print(\"\\nShape of Array 2:\",arr2.shape, \"Dimensions:\", arr2.ndim)\n",
    "print(arr2)\n",
    "\n",
    "arr = np.stack((arr1, arr2), axis=3)\n",
    "print(\"\\nStacked Array :\", arr.shape, \"Dimentions:\", arr.ndim)\n",
    "print(arr)"
   ]
  },
  {
   "cell_type": "markdown",
   "id": "b9c1296b",
   "metadata": {},
   "source": [
    "---\n"
   ]
  },
  {
   "cell_type": "markdown",
   "id": "e6596787",
   "metadata": {},
   "source": [
    "## Stacking Along Rows\n",
    "\n",
    "NumPy provides a helper function: `hstack()` to stack along rows."
   ]
  },
  {
   "cell_type": "markdown",
   "id": "0d4d1a88",
   "metadata": {},
   "source": [
    "#### Stacking 1-D Array"
   ]
  },
  {
   "cell_type": "code",
   "execution_count": 18,
   "id": "3c66019b",
   "metadata": {},
   "outputs": [
    {
     "name": "stdout",
     "output_type": "stream",
     "text": [
      "\n",
      "Array 1: (2,) Dimensions: 1\n",
      "[1 2]\n",
      "\n",
      "Array 2: (2,) Dimensions: 1\n",
      "[3 4]\n",
      "\n",
      "Array 3: (2,) Dimensions: 1\n",
      "[5 6]\n",
      "\n",
      " Horizontaly Stacked Arrays: (6,) Dimensions: 1\n",
      "[1 2 3 4 5 6]\n"
     ]
    }
   ],
   "source": [
    "\n",
    "arr1 = np.array([1, 2])\n",
    "arr2 = np.array([3, 4])\n",
    "arr3 = np.array([5, 6])\n",
    "\n",
    "print(\"\\nArray 1:\",arr1.shape, \"Dimensions:\", arr1.ndim)\n",
    "print(arr1)\n",
    "print(\"\\nArray 2:\",arr2.shape, \"Dimensions:\", arr2.ndim)\n",
    "print(arr2)\n",
    "print(\"\\nArray 3:\",arr3.shape, \"Dimensions:\", arr3.ndim)\n",
    "print(arr3)\n",
    "\n",
    "arr = np.hstack((arr1, arr2, arr3))\n",
    "print(\"\\n Horizontaly Stacked Arrays:\",arr.shape, \"Dimensions:\", arr.ndim)\n",
    "print(arr)"
   ]
  },
  {
   "cell_type": "markdown",
   "id": "4aa5cdf1",
   "metadata": {},
   "source": [
    "#### Stacking 2-D Array"
   ]
  },
  {
   "cell_type": "code",
   "execution_count": 19,
   "id": "15e8ace7",
   "metadata": {},
   "outputs": [
    {
     "name": "stdout",
     "output_type": "stream",
     "text": [
      "Shape of Array 1: (2, 2) Dimensions: 2\n",
      "[[1 2]\n",
      " [3 4]]\n",
      "\n",
      "Shape of Array 2: (2, 2) Dimensions: 2\n",
      "[[11 12]\n",
      " [13 14]]\n",
      "\n",
      "Horizontaly Stacked Array : (2, 4) Dimentions: 2\n",
      "[[ 1  2 11 12]\n",
      " [ 3  4 13 14]]\n"
     ]
    }
   ],
   "source": [
    "arr1 = np.array([[1, 2], [3, 4]])\n",
    "print(\"Shape of Array 1:\",arr1.shape, \"Dimensions:\", arr1.ndim)\n",
    "print(arr1)\n",
    "\n",
    "arr2 = np.array([[11, 12], [13, 14]])\n",
    "print(\"\\nShape of Array 2:\",arr2.shape, \"Dimensions:\", arr2.ndim)\n",
    "print(arr2)\n",
    "\n",
    "arr = np.hstack((arr1, arr2))\n",
    "print(\"\\nHorizontaly Stacked Array :\", arr.shape, \"Dimentions:\", arr.ndim)\n",
    "print(arr)"
   ]
  },
  {
   "cell_type": "markdown",
   "id": "319598a9",
   "metadata": {},
   "source": [
    "#### Stacking 3-D Array"
   ]
  },
  {
   "cell_type": "code",
   "execution_count": 27,
   "id": "97793592",
   "metadata": {},
   "outputs": [
    {
     "name": "stdout",
     "output_type": "stream",
     "text": [
      "Shape of Array 1: (2, 2, 3) Dimensions: 3\n",
      "[[[ 1  2  3]\n",
      "  [ 3  4  5]]\n",
      "\n",
      " [[ 6  7  8]\n",
      "  [ 9 10 11]]]\n",
      "\n",
      "Shape of Array 2: (2, 2, 3) Dimensions: 3\n",
      "[[[ 11  21  31]\n",
      "  [ 31  41  51]]\n",
      "\n",
      " [[ 61  71  81]\n",
      "  [ 91 101 111]]]\n",
      "\n",
      "Horizontally Stacked Array : (2, 4, 3) Dimentions: 3\n",
      "[[[  1   2   3]\n",
      "  [  3   4   5]\n",
      "  [ 11  21  31]\n",
      "  [ 31  41  51]]\n",
      "\n",
      " [[  6   7   8]\n",
      "  [  9  10  11]\n",
      "  [ 61  71  81]\n",
      "  [ 91 101 111]]]\n"
     ]
    }
   ],
   "source": [
    "arr1 = np.array([[[1, 2, 3], [3, 4, 5]],[[6, 7, 8],[9, 10, 11]]])\n",
    "print(\"Shape of Array 1:\",arr1.shape, \"Dimensions:\", arr1.ndim)\n",
    "print(arr1)\n",
    "\n",
    "arr2 = np.array([[[11, 21, 31], [31, 41, 51]],[[61, 71, 81],[91, 101, 111]]])\n",
    "print(\"\\nShape of Array 2:\",arr2.shape, \"Dimensions:\", arr2.ndim)\n",
    "print(arr2)\n",
    "\n",
    "arr = np.hstack((arr1, arr2))\n",
    "print(\"\\nHorizontally Stacked Array :\", arr.shape, \"Dimentions:\", arr.ndim)\n",
    "print(arr)"
   ]
  },
  {
   "cell_type": "markdown",
   "id": "5ac660bb",
   "metadata": {},
   "source": [
    "\n",
    "***\n"
   ]
  },
  {
   "cell_type": "markdown",
   "id": "8cab7138",
   "metadata": {},
   "source": [
    "\n",
    "## Stacking Along Columns\n",
    "\n",
    "NumPy provides a helper function: `vstack()`  to stack along columns."
   ]
  },
  {
   "cell_type": "markdown",
   "id": "b0778c11",
   "metadata": {},
   "source": [
    "#### Stacking 1-D Array"
   ]
  },
  {
   "cell_type": "code",
   "execution_count": 21,
   "id": "1623aa42",
   "metadata": {},
   "outputs": [
    {
     "name": "stdout",
     "output_type": "stream",
     "text": [
      "\n",
      "Array 1: (2,) Dimensions: 1\n",
      "[1 2]\n",
      "\n",
      "Array 2: (2,) Dimensions: 1\n",
      "[3 4]\n",
      "\n",
      "Array 3: (2,) Dimensions: 1\n",
      "[5 6]\n",
      "\n",
      "Vertical Stacked Arrays: (3, 2) Dimensions: 2\n",
      "[[1 2]\n",
      " [3 4]\n",
      " [5 6]]\n"
     ]
    }
   ],
   "source": [
    "\n",
    "arr1 = np.array([1, 2])\n",
    "arr2 = np.array([3, 4])\n",
    "arr3 = np.array([5, 6])\n",
    "\n",
    "print(\"\\nArray 1:\",arr1.shape, \"Dimensions:\", arr1.ndim)\n",
    "print(arr1)\n",
    "print(\"\\nArray 2:\",arr2.shape, \"Dimensions:\", arr2.ndim)\n",
    "print(arr2)\n",
    "print(\"\\nArray 3:\",arr3.shape, \"Dimensions:\", arr3.ndim)\n",
    "print(arr3)\n",
    "\n",
    "arr = np.vstack((arr1, arr2, arr3))\n",
    "print(\"\\nVertical Stacked Arrays:\",arr.shape, \"Dimensions:\", arr.ndim)\n",
    "print(arr)"
   ]
  },
  {
   "cell_type": "markdown",
   "id": "e06d1969",
   "metadata": {},
   "source": [
    "#### Stacking 2-D Array"
   ]
  },
  {
   "cell_type": "code",
   "execution_count": 22,
   "id": "72513d4a",
   "metadata": {},
   "outputs": [
    {
     "name": "stdout",
     "output_type": "stream",
     "text": [
      "Shape of Array 1: (2, 2) Dimensions: 2\n",
      "[[1 2]\n",
      " [3 4]]\n",
      "\n",
      "Shape of Array 2: (2, 2) Dimensions: 2\n",
      "[[11 12]\n",
      " [13 14]]\n",
      "\n",
      "Vertical Stacked Array : (4, 2) Dimentions: 2\n",
      "[[ 1  2]\n",
      " [ 3  4]\n",
      " [11 12]\n",
      " [13 14]]\n"
     ]
    }
   ],
   "source": [
    "arr1 = np.array([[1, 2], [3, 4]])\n",
    "print(\"Shape of Array 1:\",arr1.shape, \"Dimensions:\", arr1.ndim)\n",
    "print(arr1)\n",
    "\n",
    "arr2 = np.array([[11, 12], [13, 14]])\n",
    "print(\"\\nShape of Array 2:\",arr2.shape, \"Dimensions:\", arr2.ndim)\n",
    "print(arr2)\n",
    "\n",
    "arr = np.vstack((arr1, arr2))\n",
    "print(\"\\nVertical Stacked Array :\", arr.shape, \"Dimentions:\", arr.ndim)\n",
    "print(arr)"
   ]
  },
  {
   "cell_type": "markdown",
   "id": "da446b10",
   "metadata": {},
   "source": [
    "#### Stacking 3-D Array"
   ]
  },
  {
   "cell_type": "code",
   "execution_count": 23,
   "id": "28b780bd",
   "metadata": {},
   "outputs": [
    {
     "name": "stdout",
     "output_type": "stream",
     "text": [
      "Shape of Array 1: (2, 2, 3) Dimensions: 3\n",
      "[[[ 1  2  3]\n",
      "  [ 3  4  5]]\n",
      "\n",
      " [[ 6  7  8]\n",
      "  [ 9 10 11]]]\n",
      "\n",
      "Shape of Array 2: (2, 2, 3) Dimensions: 3\n",
      "[[[ 11  21  31]\n",
      "  [ 31  41  51]]\n",
      "\n",
      " [[ 61  71  81]\n",
      "  [ 91 101 111]]]\n",
      "\n",
      "Vertical Stacked Array : (4, 2, 3) Dimentions: 3\n",
      "[[[  1   2   3]\n",
      "  [  3   4   5]]\n",
      "\n",
      " [[  6   7   8]\n",
      "  [  9  10  11]]\n",
      "\n",
      " [[ 11  21  31]\n",
      "  [ 31  41  51]]\n",
      "\n",
      " [[ 61  71  81]\n",
      "  [ 91 101 111]]]\n"
     ]
    }
   ],
   "source": [
    "arr1 = np.array([[[1, 2, 3], [3, 4, 5]],[[6, 7, 8],[9, 10, 11]]])\n",
    "print(\"Shape of Array 1:\",arr1.shape, \"Dimensions:\", arr1.ndim)\n",
    "print(arr1)\n",
    "\n",
    "arr2 = np.array([[[11, 21, 31], [31, 41, 51]],[[61, 71, 81],[91, 101, 111]]])\n",
    "print(\"\\nShape of Array 2:\",arr2.shape, \"Dimensions:\", arr2.ndim)\n",
    "print(arr2)\n",
    "\n",
    "arr = np.vstack((arr1, arr2))\n",
    "print(\"\\nVertical Stacked Array :\", arr.shape, \"Dimentions:\", arr.ndim)\n",
    "print(arr)"
   ]
  },
  {
   "cell_type": "markdown",
   "id": "db9c33c9",
   "metadata": {},
   "source": [
    "\n",
    "---\n"
   ]
  },
  {
   "cell_type": "markdown",
   "id": "2b82b50d",
   "metadata": {},
   "source": [
    "\n",
    "## Stacking Along Height (depth)\n",
    "\n",
    "NumPy provides a helper function: `dstack()` to stack along height, which is the same as depth."
   ]
  },
  {
   "cell_type": "markdown",
   "id": "cfb4ee80",
   "metadata": {},
   "source": [
    "#### Stacking 1-D Array"
   ]
  },
  {
   "cell_type": "code",
   "execution_count": 24,
   "id": "4e5b6b18",
   "metadata": {},
   "outputs": [
    {
     "name": "stdout",
     "output_type": "stream",
     "text": [
      "\n",
      "Array 1: (2,) Dimensions: 1\n",
      "[1 2]\n",
      "\n",
      "Array 2: (2,) Dimensions: 1\n",
      "[3 4]\n",
      "\n",
      "Array 3: (2,) Dimensions: 1\n",
      "[5 6]\n",
      "\n",
      "Depth Stacked Arrays: (1, 2, 3) Dimensions: 3\n",
      "[[[1 3 5]\n",
      "  [2 4 6]]]\n"
     ]
    }
   ],
   "source": [
    "\n",
    "arr1 = np.array([1, 2])\n",
    "arr2 = np.array([3, 4])\n",
    "arr3 = np.array([5, 6])\n",
    "\n",
    "print(\"\\nArray 1:\",arr1.shape, \"Dimensions:\", arr1.ndim)\n",
    "print(arr1)\n",
    "print(\"\\nArray 2:\",arr2.shape, \"Dimensions:\", arr2.ndim)\n",
    "print(arr2)\n",
    "print(\"\\nArray 3:\",arr3.shape, \"Dimensions:\", arr3.ndim)\n",
    "print(arr3)\n",
    "\n",
    "arr = np.dstack((arr1, arr2, arr3))\n",
    "print(\"\\nDepth Stacked Arrays:\",arr.shape, \"Dimensions:\", arr.ndim)\n",
    "print(arr)"
   ]
  },
  {
   "cell_type": "markdown",
   "id": "3e6b48a6",
   "metadata": {},
   "source": [
    "#### Stacking 2-D Array"
   ]
  },
  {
   "cell_type": "code",
   "execution_count": 25,
   "id": "49952c24",
   "metadata": {},
   "outputs": [
    {
     "name": "stdout",
     "output_type": "stream",
     "text": [
      "Shape of Array 1: (2, 2) Dimensions: 2\n",
      "[[1 2]\n",
      " [3 4]]\n",
      "\n",
      "Shape of Array 2: (2, 2) Dimensions: 2\n",
      "[[11 12]\n",
      " [13 14]]\n",
      "\n",
      "Depth Stacked Array : (2, 2, 2) Dimentions: 3\n",
      "[[[ 1 11]\n",
      "  [ 2 12]]\n",
      "\n",
      " [[ 3 13]\n",
      "  [ 4 14]]]\n"
     ]
    }
   ],
   "source": [
    "arr1 = np.array([[1, 2], [3, 4]])\n",
    "print(\"Shape of Array 1:\",arr1.shape, \"Dimensions:\", arr1.ndim)\n",
    "print(arr1)\n",
    "\n",
    "arr2 = np.array([[11, 12], [13, 14]])\n",
    "print(\"\\nShape of Array 2:\",arr2.shape, \"Dimensions:\", arr2.ndim)\n",
    "print(arr2)\n",
    "\n",
    "arr = np.dstack((arr1, arr2))\n",
    "print(\"\\nDepth Stacked Array :\", arr.shape, \"Dimentions:\", arr.ndim)\n",
    "print(arr)"
   ]
  },
  {
   "cell_type": "markdown",
   "id": "09d7cefb",
   "metadata": {},
   "source": [
    "#### Stacking 3-D Array"
   ]
  },
  {
   "cell_type": "code",
   "execution_count": 26,
   "id": "c96c408c",
   "metadata": {},
   "outputs": [
    {
     "name": "stdout",
     "output_type": "stream",
     "text": [
      "Shape of Array 1: (2, 2, 3) Dimensions: 3\n",
      "[[[ 1  2  3]\n",
      "  [ 3  4  5]]\n",
      "\n",
      " [[ 6  7  8]\n",
      "  [ 9 10 11]]]\n",
      "\n",
      "Shape of Array 2: (2, 2, 3) Dimensions: 3\n",
      "[[[ 11  21  31]\n",
      "  [ 31  41  51]]\n",
      "\n",
      " [[ 61  71  81]\n",
      "  [ 91 101 111]]]\n",
      "\n",
      "Depth Stacked Array : (2, 2, 6) Dimentions: 3\n",
      "[[[  1   2   3  11  21  31]\n",
      "  [  3   4   5  31  41  51]]\n",
      "\n",
      " [[  6   7   8  61  71  81]\n",
      "  [  9  10  11  91 101 111]]]\n"
     ]
    }
   ],
   "source": [
    "arr1 = np.array([[[1, 2, 3], [3, 4, 5]],[[6, 7, 8],[9, 10, 11]]])\n",
    "print(\"Shape of Array 1:\",arr1.shape, \"Dimensions:\", arr1.ndim)\n",
    "print(arr1)\n",
    "\n",
    "arr2 = np.array([[[11, 21, 31], [31, 41, 51]],[[61, 71, 81],[91, 101, 111]]])\n",
    "print(\"\\nShape of Array 2:\",arr2.shape, \"Dimensions:\", arr2.ndim)\n",
    "print(arr2)\n",
    "\n",
    "arr = np.dstack((arr1, arr2))\n",
    "print(\"\\nDepth Stacked Array :\", arr.shape, \"Dimentions:\", arr.ndim)\n",
    "print(arr)"
   ]
  },
  {
   "cell_type": "markdown",
   "id": "47b09e8a",
   "metadata": {},
   "source": [
    "\n",
    "---\n"
   ]
  }
 ],
 "metadata": {
  "kernelspec": {
   "display_name": "Python 3 (ipykernel)",
   "language": "python",
   "name": "python3"
  },
  "language_info": {
   "codemirror_mode": {
    "name": "ipython",
    "version": 3
   },
   "file_extension": ".py",
   "mimetype": "text/x-python",
   "name": "python",
   "nbconvert_exporter": "python",
   "pygments_lexer": "ipython3",
   "version": "3.8.12"
  }
 },
 "nbformat": 4,
 "nbformat_minor": 5
}
