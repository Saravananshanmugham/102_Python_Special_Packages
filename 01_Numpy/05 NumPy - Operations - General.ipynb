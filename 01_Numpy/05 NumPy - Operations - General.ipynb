{
 "cells": [
  {
   "cell_type": "code",
   "execution_count": 2,
   "id": "fb8256f5",
   "metadata": {},
   "outputs": [],
   "source": [
    "import numpy as np"
   ]
  },
  {
   "cell_type": "code",
   "execution_count": 3,
   "id": "96ff51d2",
   "metadata": {},
   "outputs": [],
   "source": [
    "arr1 = np.random.rand(3, 4)\n",
    "arr2 = np.random.rand(3, 4)"
   ]
  },
  {
   "cell_type": "code",
   "execution_count": 4,
   "id": "eaec7c52",
   "metadata": {},
   "outputs": [
    {
     "data": {
      "text/plain": [
       "array([[0.2816748 , 0.02775001, 0.00870231, 0.25807858],\n",
       "       [0.80326444, 0.96653376, 0.30379143, 0.98084715],\n",
       "       [0.02566321, 0.03450475, 0.1920311 , 0.98080313]])"
      ]
     },
     "execution_count": 4,
     "metadata": {},
     "output_type": "execute_result"
    }
   ],
   "source": [
    "arr1"
   ]
  },
  {
   "cell_type": "code",
   "execution_count": 5,
   "id": "25902286",
   "metadata": {},
   "outputs": [
    {
     "data": {
      "text/plain": [
       "array([[0.80514966, 0.88101329, 0.72233573, 0.06338669],\n",
       "       [0.19944256, 0.15100534, 0.58728863, 0.4756726 ],\n",
       "       [0.6678126 , 0.72342471, 0.72400987, 0.87000761]])"
      ]
     },
     "execution_count": 5,
     "metadata": {},
     "output_type": "execute_result"
    }
   ],
   "source": [
    "arr2"
   ]
  },
  {
   "cell_type": "code",
   "execution_count": 6,
   "id": "11129775",
   "metadata": {},
   "outputs": [
    {
     "data": {
      "text/plain": [
       "array([[1.08682446, 0.90876329, 0.73103803, 0.32146527],\n",
       "       [1.002707  , 1.1175391 , 0.89108006, 1.45651975],\n",
       "       [0.69347582, 0.75792946, 0.91604097, 1.85081074]])"
      ]
     },
     "execution_count": 6,
     "metadata": {},
     "output_type": "execute_result"
    }
   ],
   "source": [
    "arr1 + arr2"
   ]
  },
  {
   "cell_type": "code",
   "execution_count": 7,
   "id": "12a26e64",
   "metadata": {},
   "outputs": [
    {
     "data": {
      "text/plain": [
       "array([[-0.52347486, -0.85326328, -0.71363342,  0.1946919 ],\n",
       "       [ 0.60382189,  0.81552842, -0.2834972 ,  0.50517456],\n",
       "       [-0.64214939, -0.68891997, -0.53197876,  0.11079552]])"
      ]
     },
     "execution_count": 7,
     "metadata": {},
     "output_type": "execute_result"
    }
   ],
   "source": [
    "arr1 - arr2"
   ]
  },
  {
   "cell_type": "code",
   "execution_count": 8,
   "id": "e03d9eaf",
   "metadata": {},
   "outputs": [
    {
     "data": {
      "text/plain": [
       "array([[0.22679037, 0.02444812, 0.00628599, 0.01635875],\n",
       "       [0.16020511, 0.14595176, 0.17841325, 0.46656211],\n",
       "       [0.01713822, 0.02496159, 0.13903241, 0.85330618]])"
      ]
     },
     "execution_count": 8,
     "metadata": {},
     "output_type": "execute_result"
    }
   ],
   "source": [
    "arr1 * arr2"
   ]
  },
  {
   "cell_type": "code",
   "execution_count": 9,
   "id": "2078516d",
   "metadata": {},
   "outputs": [
    {
     "data": {
      "text/plain": [
       "array([[0.34984155, 0.03149783, 0.01204745, 4.07149498],\n",
       "       [4.02754788, 6.40065936, 0.5172779 , 2.06202157],\n",
       "       [0.03842876, 0.04769639, 0.26523271, 1.12735006]])"
      ]
     },
     "execution_count": 9,
     "metadata": {},
     "output_type": "execute_result"
    }
   ],
   "source": [
    "arr1 / arr2"
   ]
  },
  {
   "cell_type": "code",
   "execution_count": 10,
   "id": "d370958a",
   "metadata": {},
   "outputs": [
    {
     "data": {
      "text/plain": [
       "array([[1.32534765, 1.02813862, 1.00874028, 1.29444054],\n",
       "       [2.23281795, 2.62881654, 1.35498642, 2.6667144 ],\n",
       "       [1.02599535, 1.03510694, 1.2117082 , 2.666597  ]])"
      ]
     },
     "execution_count": 10,
     "metadata": {},
     "output_type": "execute_result"
    }
   ],
   "source": [
    "np.exp(arr1)"
   ]
  },
  {
   "cell_type": "code",
   "execution_count": 11,
   "id": "40f475cb",
   "metadata": {},
   "outputs": [
    {
     "data": {
      "text/plain": [
       "array([[0.2816748 , 0.02775001, 0.00870231, 0.25807858],\n",
       "       [0.80326444, 0.96653376, 0.30379143, 0.98084715],\n",
       "       [0.02566321, 0.03450475, 0.1920311 , 0.98080313]])"
      ]
     },
     "execution_count": 11,
     "metadata": {},
     "output_type": "execute_result"
    }
   ],
   "source": [
    "np.log(np.exp(arr1))"
   ]
  },
  {
   "cell_type": "code",
   "execution_count": 12,
   "id": "7bc47b87",
   "metadata": {},
   "outputs": [
    {
     "data": {
      "text/plain": [
       "array([[0.27796484, 0.02774644, 0.0087022 , 0.25522324],\n",
       "       [0.71962662, 0.8229213 , 0.29914016, 0.83096896],\n",
       "       [0.0256604 , 0.0344979 , 0.19085305, 0.83094446]])"
      ]
     },
     "execution_count": 12,
     "metadata": {},
     "output_type": "execute_result"
    }
   ],
   "source": [
    "np.sin(arr1)"
   ]
  },
  {
   "cell_type": "code",
   "execution_count": 13,
   "id": "82c20ed4",
   "metadata": {},
   "outputs": [
    {
     "data": {
      "text/plain": [
       "array([[0.96059125, 0.99961499, 0.99996214, 0.96688215],\n",
       "       [0.69436123, 0.56815538, 0.95420918, 0.55631879],\n",
       "       [0.99967072, 0.99940477, 0.98161862, 0.55635537]])"
      ]
     },
     "execution_count": 13,
     "metadata": {},
     "output_type": "execute_result"
    }
   ],
   "source": [
    "np.cos(arr1)"
   ]
  },
  {
   "cell_type": "code",
   "execution_count": 14,
   "id": "1ac0c810",
   "metadata": {},
   "outputs": [
    {
     "data": {
      "text/plain": [
       "array([[0.53073044, 0.16658333, 0.09328615, 0.50801435],\n",
       "       [0.89625021, 0.98312449, 0.55117278, 0.99037728],\n",
       "       [0.16019742, 0.18575453, 0.43821353, 0.99035505]])"
      ]
     },
     "execution_count": 14,
     "metadata": {},
     "output_type": "execute_result"
    }
   ],
   "source": [
    "np.sqrt(arr1)"
   ]
  },
  {
   "cell_type": "code",
   "execution_count": 15,
   "id": "cca45e8a",
   "metadata": {},
   "outputs": [],
   "source": [
    "arr_inv = 1 / arr1"
   ]
  },
  {
   "cell_type": "code",
   "execution_count": 16,
   "id": "deaab239",
   "metadata": {},
   "outputs": [
    {
     "data": {
      "text/plain": [
       "array([[  3.55019334,  36.03602922, 114.91208218,   3.87478876],\n",
       "       [  1.24492004,   1.03462501,   3.2917321 ,   1.01952684],\n",
       "       [ 38.96628128,  28.9815197 ,   5.20748978,   1.0195726 ]])"
      ]
     },
     "execution_count": 16,
     "metadata": {},
     "output_type": "execute_result"
    }
   ],
   "source": [
    "arr_inv"
   ]
  },
  {
   "cell_type": "code",
   "execution_count": 17,
   "id": "1dc5b21f",
   "metadata": {},
   "outputs": [],
   "source": [
    "arr1 = np.zeros((3, 5))"
   ]
  },
  {
   "cell_type": "code",
   "execution_count": 18,
   "id": "198bfe1f",
   "metadata": {},
   "outputs": [
    {
     "name": "stderr",
     "output_type": "stream",
     "text": [
      "C:\\Users\\i025736\\AppData\\Local\\Temp/ipykernel_22804/2508733167.py:1: RuntimeWarning: divide by zero encountered in true_divide\n",
      "  arr_inv = 1/arr1\n"
     ]
    }
   ],
   "source": [
    "arr_inv = 1/arr1"
   ]
  },
  {
   "cell_type": "code",
   "execution_count": 19,
   "id": "6389373a",
   "metadata": {},
   "outputs": [
    {
     "name": "stdout",
     "output_type": "stream",
     "text": [
      "[[inf inf inf inf inf]\n",
      " [inf inf inf inf inf]\n",
      " [inf inf inf inf inf]]\n"
     ]
    }
   ],
   "source": [
    "print(arr_inv)"
   ]
  },
  {
   "cell_type": "code",
   "execution_count": 20,
   "id": "0bda6406",
   "metadata": {},
   "outputs": [
    {
     "data": {
      "text/plain": [
       "True"
      ]
     },
     "execution_count": 20,
     "metadata": {},
     "output_type": "execute_result"
    }
   ],
   "source": [
    "np.isinf(arr_inv[0,0])"
   ]
  },
  {
   "cell_type": "code",
   "execution_count": 21,
   "id": "0e8f43e5",
   "metadata": {},
   "outputs": [
    {
     "data": {
      "text/plain": [
       "array([[ True,  True,  True,  True,  True],\n",
       "       [ True,  True,  True,  True,  True],\n",
       "       [ True,  True,  True,  True,  True]])"
      ]
     },
     "execution_count": 21,
     "metadata": {},
     "output_type": "execute_result"
    }
   ],
   "source": [
    "np.isinf(arr_inv)"
   ]
  },
  {
   "cell_type": "markdown",
   "id": "148e7f61",
   "metadata": {},
   "source": [
    "\n",
    "***\n"
   ]
  },
  {
   "cell_type": "code",
   "execution_count": null,
   "id": "81aad6f1",
   "metadata": {},
   "outputs": [],
   "source": []
  }
 ],
 "metadata": {
  "kernelspec": {
   "display_name": "Python 3 (ipykernel)",
   "language": "python",
   "name": "python3"
  },
  "language_info": {
   "codemirror_mode": {
    "name": "ipython",
    "version": 3
   },
   "file_extension": ".py",
   "mimetype": "text/x-python",
   "name": "python",
   "nbconvert_exporter": "python",
   "pygments_lexer": "ipython3",
   "version": "3.8.12"
  }
 },
 "nbformat": 4,
 "nbformat_minor": 5
}
