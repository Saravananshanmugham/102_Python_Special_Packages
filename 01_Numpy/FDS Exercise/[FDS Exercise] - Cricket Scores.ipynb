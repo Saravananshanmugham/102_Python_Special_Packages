{
 "cells": [
  {
   "cell_type": "code",
   "execution_count": 1,
   "id": "2adb9e34",
   "metadata": {},
   "outputs": [],
   "source": [
    "import numpy as np"
   ]
  },
  {
   "cell_type": "markdown",
   "id": "85a819e6",
   "metadata": {},
   "source": [
    "\n",
    "-----\n"
   ]
  },
  {
   "cell_type": "code",
   "execution_count": 2,
   "id": "5c6d1a60",
   "metadata": {},
   "outputs": [],
   "source": [
    "scores = np.loadtxt(\"cric_data.txt\", \n",
    "                   skiprows=1,\n",
    "                   usecols=(1,2,3))"
   ]
  },
  {
   "cell_type": "code",
   "execution_count": 3,
   "id": "c99ad6fb",
   "metadata": {},
   "outputs": [
    {
     "data": {
      "text/plain": [
       "(225, 3)"
      ]
     },
     "execution_count": 3,
     "metadata": {},
     "output_type": "execute_result"
    }
   ],
   "source": [
    "scores.shape"
   ]
  },
  {
   "cell_type": "code",
   "execution_count": 4,
   "id": "5a90e9ff",
   "metadata": {},
   "outputs": [],
   "source": [
    "sachin = scores[:,0]\n",
    "rahul =  scores[:,1]\n",
    "india =  scores[:,2]"
   ]
  },
  {
   "cell_type": "markdown",
   "id": "d83785a3",
   "metadata": {},
   "source": [
    "### Questions\n",
    "\n",
    "1. Find mean, median, IQR for Sachin, Rahul, and India\n",
    "2. Find the histogram of Sachin's scores with 10 bins\n",
    "3. Find mean of Sachin's scores grouped by 25 matches\n",
    "4. Find mean of Sachin's scores where he has scored a century\n",
    "5. Find mean of Sachin's scores when Rahul has scored less than 10\n",
    "6. Find mean for Sachin's scores based on which quartile India's score falls in\n",
    "7. For every match find out who has has scored more - Sachin or Rahul\n",
    "8. How many more runs does Sachin score on average after having scored x runs\n",
    "9. How many matches did Sachin take to score first 1000 runs, next 1000 runs, ..."
   ]
  },
  {
   "cell_type": "markdown",
   "id": "1453671a",
   "metadata": {},
   "source": [
    "#### 1. Find mean, median, IQR for Sachin, Rahul, and India"
   ]
  },
  {
   "cell_type": "code",
   "execution_count": 5,
   "id": "416339ce",
   "metadata": {},
   "outputs": [
    {
     "name": "stdout",
     "output_type": "stream",
     "text": [
      "Mean Score of Sachin:39.87555555555556, Rahul:32.062222222222225, India:220.79555555555555\n",
      "Median Score of Sachin:27.0, Rahul:22.0, India:216.0\n",
      "IQR for Sachin:57.0, Rahul:46.0, India:98.0\n"
     ]
    }
   ],
   "source": [
    "mean = np.mean(scores, axis=0)\n",
    "median = np.median(scores, axis=0)\n",
    "iqr =np.percentile(scores ,[25, 75], axis=0)\n",
    "\n",
    "print(\"Mean Score of Sachin:{0}, Rahul:{1}, India:{2}\".format(mean[0],mean[1],mean[2]))\n",
    "print(\"Median Score of Sachin:{0}, Rahul:{1}, India:{2}\".format(median[0],median[1],median[2]))\n",
    "print(\"IQR for Sachin:{0}, Rahul:{1}, India:{2}\".format((iqr[1,0] - iqr[0,0]),(iqr[1,1] - iqr[0,1]), iqr[1,2] - iqr[0,2]))"
   ]
  },
  {
   "cell_type": "markdown",
   "id": "e1cefdbe",
   "metadata": {},
   "source": [
    "#### 2. Find the histogram of Sachin's scores with 10 bins"
   ]
  },
  {
   "cell_type": "code",
   "execution_count": 6,
   "id": "3c480f61",
   "metadata": {},
   "outputs": [
    {
     "data": {
      "text/plain": [
       "(array([99, 36, 28, 16, 11, 17,  8,  8,  1,  1], dtype=int64),\n",
       " array([  0. ,  18.6,  37.2,  55.8,  74.4,  93. , 111.6, 130.2, 148.8,\n",
       "        167.4, 186. ]))"
      ]
     },
     "execution_count": 6,
     "metadata": {},
     "output_type": "execute_result"
    }
   ],
   "source": [
    "np.histogram(sachin, bins=10)"
   ]
  },
  {
   "cell_type": "markdown",
   "id": "2d0f8091",
   "metadata": {},
   "source": [
    "#### 3. Find mean of Sachin's scores grouped by 25 matches"
   ]
  },
  {
   "cell_type": "code",
   "execution_count": 7,
   "id": "2c8ddca4",
   "metadata": {},
   "outputs": [
    {
     "name": "stdout",
     "output_type": "stream",
     "text": [
      "[33.96 49.4  38.48 40.16 39.36 38.2  44.6  39.52 35.2 ]\n"
     ]
    }
   ],
   "source": [
    "arr = np.split(sachin ,len(sachin)/25)\n",
    "print(np.mean(arr, axis=1))  "
   ]
  },
  {
   "cell_type": "code",
   "execution_count": 8,
   "id": "bdcca254",
   "metadata": {},
   "outputs": [
    {
     "name": "stdout",
     "output_type": "stream",
     "text": [
      "[33.96 49.4  38.48 40.16 39.36 38.2  44.6  39.52 35.2 ]\n"
     ]
    }
   ],
   "source": [
    "# Professor Solution\n",
    "\n",
    "sachin_reshape = sachin.reshape(9, 25)\n",
    "print(np.mean(sachin_reshape , axis=1))"
   ]
  },
  {
   "cell_type": "markdown",
   "id": "a4d9d07f",
   "metadata": {},
   "source": [
    "#### 4. Find mean of Sachin's scores where he has scored a century\n"
   ]
  },
  {
   "cell_type": "code",
   "execution_count": 9,
   "id": "1356f037",
   "metadata": {},
   "outputs": [
    {
     "data": {
      "text/plain": [
       "125.0"
      ]
     },
     "execution_count": 9,
     "metadata": {},
     "output_type": "execute_result"
    }
   ],
   "source": [
    "np.mean(sachin[sachin>=100])"
   ]
  },
  {
   "cell_type": "markdown",
   "id": "b82cccd3",
   "metadata": {},
   "source": [
    "#### 5. Find mean of Sachin's scores when Rahul has scored less than 10"
   ]
  },
  {
   "cell_type": "code",
   "execution_count": 10,
   "id": "c2fd2638",
   "metadata": {},
   "outputs": [
    {
     "data": {
      "text/plain": [
       "40.74285714285714"
      ]
     },
     "execution_count": 10,
     "metadata": {},
     "output_type": "execute_result"
    }
   ],
   "source": [
    "np.mean(sachin[rahul<10])"
   ]
  },
  {
   "cell_type": "markdown",
   "id": "4c3c48af",
   "metadata": {},
   "source": [
    "#### 6. Find mean for Sachin's scores based on which quartile India's score falls in"
   ]
  },
  {
   "cell_type": "code",
   "execution_count": 11,
   "id": "0f9b6755",
   "metadata": {},
   "outputs": [
    {
     "name": "stdout",
     "output_type": "stream",
     "text": [
      "[175. 216. 273. 499.]\n"
     ]
    }
   ],
   "source": [
    "ind_irq = np.percentile(india, [25, 50, 75, 100])\n",
    "print(ind_irq)"
   ]
  },
  {
   "cell_type": "code",
   "execution_count": 12,
   "id": "f89f2a11",
   "metadata": {},
   "outputs": [
    {
     "name": "stdout",
     "output_type": "stream",
     "text": [
      "Sachin mean for India Quartile 1: 20.912280701754387\n",
      "Sachin mean for India Quartile 2: 35.07142857142857\n",
      "Sachin mean for India Quartile 3: 40.482142857142854\n",
      "Sachin mean for India Quartile 4: 63.375\n"
     ]
    }
   ],
   "source": [
    "print(\"Sachin mean for India Quartile 1: {}\"\n",
    "      .format(np.mean(sachin[india<=ind_irq[0]])))\n",
    "print(\"Sachin mean for India Quartile 2: {}\"\n",
    "      .format(np.mean(sachin[(india>ind_irq[0]) & (india<=ind_irq[1])])))\n",
    "print(\"Sachin mean for India Quartile 3: {}\"\n",
    ".format(np.mean(sachin[(india>ind_irq[1]) & (india<=ind_irq[2])])))\n",
    "print(\"Sachin mean for India Quartile 4: {}\"\n",
    ".format(np.mean(sachin[(india>ind_irq[2]) & (india<=ind_irq[3])])))"
   ]
  },
  {
   "cell_type": "markdown",
   "id": "678b9ff2",
   "metadata": {},
   "source": [
    "#### 7. For every match find out who has has scored more - Sachin or Rahul"
   ]
  },
  {
   "cell_type": "code",
   "execution_count": 13,
   "id": "3e4e327d",
   "metadata": {},
   "outputs": [],
   "source": [
    "is_sachin_higher = np.argmax(scores[:,[0,1]], axis=1)"
   ]
  },
  {
   "cell_type": "code",
   "execution_count": 14,
   "id": "2209fe82",
   "metadata": {},
   "outputs": [
    {
     "data": {
      "text/plain": [
       "array(['Sachin', 'Rahul', 'Rahul', 'Sachin', 'Sachin', 'Rahul', 'Rahul',\n",
       "       'Sachin', 'Rahul', 'Sachin', 'Rahul', 'Rahul', 'Rahul', 'Sachin',\n",
       "       'Sachin', 'Rahul', 'Rahul', 'Sachin', 'Rahul', 'Rahul', 'Sachin',\n",
       "       'Rahul', 'Sachin', 'Sachin', 'Rahul', 'Sachin', 'Sachin', 'Sachin',\n",
       "       'Sachin', 'Sachin', 'Sachin', 'Sachin', 'Rahul', 'Rahul', 'Sachin',\n",
       "       'Rahul', 'Rahul', 'Sachin', 'Rahul', 'Sachin', 'Sachin', 'Sachin',\n",
       "       'Sachin', 'Rahul', 'Sachin', 'Rahul', 'Rahul', 'Sachin', 'Rahul',\n",
       "       'Sachin', 'Rahul', 'Rahul', 'Rahul', 'Rahul', 'Sachin', 'Rahul',\n",
       "       'Sachin', 'Sachin', 'Rahul', 'Rahul', 'Rahul', 'Sachin', 'Rahul',\n",
       "       'Sachin', 'Sachin', 'Sachin', 'Sachin', 'Rahul', 'Sachin', 'Rahul',\n",
       "       'Rahul', 'Sachin', 'Sachin', 'Rahul', 'Rahul', 'Sachin', 'Rahul',\n",
       "       'Rahul', 'Sachin', 'Rahul', 'Rahul', 'Rahul', 'Rahul', 'Rahul',\n",
       "       'Rahul', 'Sachin', 'Sachin', 'Sachin', 'Rahul', 'Sachin', 'Sachin',\n",
       "       'Sachin', 'Sachin', 'Sachin', 'Sachin', 'Rahul', 'Rahul', 'Sachin',\n",
       "       'Rahul', 'Sachin', 'Sachin', 'Rahul', 'Rahul', 'Rahul', 'Rahul',\n",
       "       'Sachin', 'Rahul', 'Rahul', 'Sachin', 'Sachin', 'Sachin', 'Sachin',\n",
       "       'Rahul', 'Sachin', 'Rahul', 'Sachin', 'Sachin', 'Sachin', 'Rahul',\n",
       "       'Sachin', 'Rahul', 'Sachin', 'Sachin', 'Sachin', 'Sachin', 'Rahul',\n",
       "       'Sachin', 'Rahul', 'Rahul', 'Sachin', 'Sachin', 'Rahul', 'Sachin',\n",
       "       'Rahul', 'Sachin', 'Sachin', 'Sachin', 'Sachin', 'Sachin',\n",
       "       'Sachin', 'Rahul', 'Rahul', 'Rahul', 'Sachin', 'Sachin', 'Sachin',\n",
       "       'Sachin', 'Rahul', 'Sachin', 'Rahul', 'Sachin', 'Sachin', 'Sachin',\n",
       "       'Sachin', 'Rahul', 'Rahul', 'Rahul', 'Sachin', 'Rahul', 'Sachin',\n",
       "       'Rahul', 'Sachin', 'Rahul', 'Sachin', 'Sachin', 'Rahul', 'Sachin',\n",
       "       'Rahul', 'Rahul', 'Sachin', 'Sachin', 'Rahul', 'Sachin', 'Sachin',\n",
       "       'Sachin', 'Sachin', 'Rahul', 'Sachin', 'Rahul', 'Rahul', 'Sachin',\n",
       "       'Sachin', 'Sachin', 'Sachin', 'Rahul', 'Rahul', 'Rahul', 'Sachin',\n",
       "       'Rahul', 'Rahul', 'Rahul', 'Rahul', 'Sachin', 'Rahul', 'Rahul',\n",
       "       'Sachin', 'Rahul', 'Rahul', 'Sachin', 'Rahul', 'Sachin', 'Sachin',\n",
       "       'Sachin', 'Rahul', 'Sachin', 'Rahul', 'Rahul', 'Rahul', 'Sachin',\n",
       "       'Sachin', 'Sachin', 'Rahul', 'Rahul', 'Sachin', 'Rahul', 'Sachin',\n",
       "       'Rahul', 'Rahul', 'Rahul', 'Rahul', 'Sachin', 'Sachin', 'Rahul',\n",
       "       'Sachin', 'Sachin'], dtype='<U6')"
      ]
     },
     "execution_count": 14,
     "metadata": {},
     "output_type": "execute_result"
    }
   ],
   "source": [
    "np.where(is_sachin_higher == 1, \"Rahul\",\"Sachin\")"
   ]
  },
  {
   "cell_type": "markdown",
   "id": "4edb63d2",
   "metadata": {},
   "source": [
    "#### 8. How many more runs does Sachin score on average after having scored x runs"
   ]
  },
  {
   "cell_type": "code",
   "execution_count": 22,
   "id": "a3d216aa",
   "metadata": {},
   "outputs": [
    {
     "name": "stdout",
     "output_type": "stream",
     "text": [
      "Sachin Already Scored 0 Runs, Expected to score 39 more Runs.\n",
      "Sachin Already Scored 10 Runs, Expected to score 47 more Runs.\n",
      "Sachin Already Scored 20 Runs, Expected to score 46 more Runs.\n",
      "Sachin Already Scored 30 Runs, Expected to score 45 more Runs.\n",
      "Sachin Already Scored 40 Runs, Expected to score 44 more Runs.\n",
      "Sachin Already Scored 50 Runs, Expected to score 43 more Runs.\n",
      "Sachin Already Scored 60 Runs, Expected to score 38 more Runs.\n",
      "Sachin Already Scored 70 Runs, Expected to score 37 more Runs.\n",
      "Sachin Already Scored 80 Runs, Expected to score 30 more Runs.\n",
      "Sachin Already Scored 90 Runs, Expected to score 27 more Runs.\n",
      "Sachin Already Scored 100 Runs, Expected to score 25 more Runs.\n",
      "Sachin Already Scored 110 Runs, Expected to score 23 more Runs.\n",
      "Sachin Already Scored 120 Runs, Expected to score 18 more Runs.\n",
      "Sachin Already Scored 130 Runs, Expected to score 17 more Runs.\n",
      "Sachin Already Scored 140 Runs, Expected to score 9 more Runs.\n",
      "Sachin Already Scored 150 Runs, Expected to score 19 more Runs.\n",
      "Sachin Already Scored 160 Runs, Expected to score 26 more Runs.\n",
      "Sachin Already Scored 170 Runs, Expected to score 16 more Runs.\n",
      "Sachin Already Scored 180 Runs, Expected to score 6 more Runs.\n"
     ]
    }
   ],
   "source": [
    "for i in range(0, int(np.max(sachin)), 10):\n",
    "    print(\"Sachin Already Scored {0} Runs, Expected to score {1} more Runs.\" \n",
    "         .format(i, int(np.mean(sachin[sachin >= i])) - i))"
   ]
  },
  {
   "cell_type": "markdown",
   "id": "8b2d0271",
   "metadata": {},
   "source": [
    "#### 9. How many matches did Sachin take to score first 1000 runs, next 1000 runs, ..."
   ]
  },
  {
   "cell_type": "code",
   "execution_count": 16,
   "id": "75cff47f",
   "metadata": {},
   "outputs": [
    {
     "data": {
      "text/plain": [
       "(array([29, 18, 26, 25, 26, 26, 23, 22, 30], dtype=int64),\n",
       " array([   0, 1000, 2000, 3000, 4000, 5000, 6000, 7000, 8000, 9000]))"
      ]
     },
     "execution_count": 16,
     "metadata": {},
     "output_type": "execute_result"
    }
   ],
   "source": [
    "sachin_t = np.add.accumulate(sachin)\n",
    "np.histogram(sachin_t, bins=np.arange(0, 10000, 1000))"
   ]
  },
  {
   "cell_type": "code",
   "execution_count": 17,
   "id": "485211b6",
   "metadata": {},
   "outputs": [
    {
     "data": {
      "text/plain": [
       "(array([29, 18, 26, 25, 26, 26, 23, 22, 30], dtype=int64),\n",
       " array([   0, 1000, 2000, 3000, 4000, 5000, 6000, 7000, 8000, 9000]))"
      ]
     },
     "execution_count": 17,
     "metadata": {},
     "output_type": "execute_result"
    }
   ],
   "source": [
    "## Professor Vesion\n",
    "sachin_cumscores = np.cumsum(sachin)\n",
    "np.histogram(sachin_cumscores, bins=np.arange(0, 10000, 1000))"
   ]
  },
  {
   "cell_type": "code",
   "execution_count": null,
   "id": "32df3061",
   "metadata": {},
   "outputs": [],
   "source": []
  }
 ],
 "metadata": {
  "kernelspec": {
   "display_name": "Python 3 (ipykernel)",
   "language": "python",
   "name": "python3"
  },
  "language_info": {
   "codemirror_mode": {
    "name": "ipython",
    "version": 3
   },
   "file_extension": ".py",
   "mimetype": "text/x-python",
   "name": "python",
   "nbconvert_exporter": "python",
   "pygments_lexer": "ipython3",
   "version": "3.8.12"
  }
 },
 "nbformat": 4,
 "nbformat_minor": 5
}
