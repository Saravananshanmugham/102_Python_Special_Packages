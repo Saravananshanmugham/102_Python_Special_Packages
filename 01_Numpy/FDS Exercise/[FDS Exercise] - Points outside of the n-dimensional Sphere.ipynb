{
 "cells": [
  {
   "cell_type": "markdown",
   "id": "317aed02",
   "metadata": {},
   "source": [
    "\n",
    "# FDS Exercise - Points Outside of the n-dimentional Sphere\n"
   ]
  },
  {
   "cell_type": "code",
   "execution_count": 1,
   "id": "d19c5f1d",
   "metadata": {},
   "outputs": [],
   "source": [
    "import numpy as np\n",
    "import math"
   ]
  },
  {
   "cell_type": "code",
   "execution_count": 8,
   "id": "6e1d69ed",
   "metadata": {},
   "outputs": [
    {
     "name": "stdout",
     "output_type": "stream",
     "text": [
      "0.21460183660255172\n"
     ]
    }
   ],
   "source": [
    "# area of the circle 1\n",
    "# Area of teh circle is pi/4\n",
    "\n",
    "print(1 - math.pi/4)"
   ]
  },
  {
   "cell_type": "code",
   "execution_count": 55,
   "id": "dd5ce43f",
   "metadata": {},
   "outputs": [],
   "source": [
    "ndim = 2\n",
    "npoints = 1000000"
   ]
  },
  {
   "cell_type": "code",
   "execution_count": 56,
   "id": "bc77d2e9",
   "metadata": {},
   "outputs": [],
   "source": [
    "points = np.random.rand(npoints, ndim)\n",
    "dfo = np.zeros((npoints, 1))\n",
    "outside_points = 0"
   ]
  },
  {
   "cell_type": "code",
   "execution_count": 57,
   "id": "36bb665b",
   "metadata": {},
   "outputs": [
    {
     "name": "stdout",
     "output_type": "stream",
     "text": [
      "214009\n",
      "Wall time: 4.53 s\n"
     ]
    }
   ],
   "source": [
    "%%time\n",
    "for i in range(npoints):\n",
    "    dfo[i]= np.sqrt(points[i][0]**2 + points[i][1]**2)\n",
    "    if dfo[i] > 1:\n",
    "        outside_points += 1\n",
    "print(outside_points)"
   ]
  },
  {
   "cell_type": "code",
   "execution_count": 58,
   "id": "ced4b2c3",
   "metadata": {},
   "outputs": [
    {
     "name": "stdout",
     "output_type": "stream",
     "text": [
      "Freaction of points outside: 0.214009\n"
     ]
    }
   ],
   "source": [
    "print(\"Freaction of points outside:\", outside_points/npoints)"
   ]
  },
  {
   "cell_type": "markdown",
   "id": "084c6d48",
   "metadata": {},
   "source": [
    "## Optimized Code"
   ]
  },
  {
   "cell_type": "code",
   "execution_count": 59,
   "id": "e23fcaa0",
   "metadata": {},
   "outputs": [],
   "source": [
    "dfo1 = np.zeros((npoints, 1))"
   ]
  },
  {
   "cell_type": "code",
   "execution_count": 67,
   "id": "e4d84740",
   "metadata": {},
   "outputs": [
    {
     "name": "stdout",
     "output_type": "stream",
     "text": [
      "Wall time: 27 ms\n"
     ]
    }
   ],
   "source": [
    "%%time\n",
    "sq_points = points * points\n",
    "dfo1 = np.sqrt(np.sum(sq_points, axis=1))\n",
    "outside_points1 = np.sum(dfo1>1)"
   ]
  },
  {
   "cell_type": "code",
   "execution_count": 68,
   "id": "09410ba1",
   "metadata": {},
   "outputs": [
    {
     "name": "stdout",
     "output_type": "stream",
     "text": [
      "Freaction of points outside: 0.214009\n"
     ]
    }
   ],
   "source": [
    "print(\"Freaction of points outside:\", outside_points1/npoints)"
   ]
  },
  {
   "cell_type": "code",
   "execution_count": 69,
   "id": "a88c79f8",
   "metadata": {},
   "outputs": [
    {
     "name": "stdout",
     "output_type": "stream",
     "text": [
      "Wall time: 24.1 ms\n"
     ]
    }
   ],
   "source": [
    "%%time\n",
    "outside_points2 = np.sum(np.sqrt(np.sum(points * points, axis=1)) > 1)"
   ]
  },
  {
   "cell_type": "code",
   "execution_count": 70,
   "id": "7f536a22",
   "metadata": {},
   "outputs": [
    {
     "name": "stdout",
     "output_type": "stream",
     "text": [
      "Freaction of points outside: 0.214009\n"
     ]
    }
   ],
   "source": [
    "print(\"Freaction of points outside:\", outside_points2/npoints)"
   ]
  },
  {
   "cell_type": "markdown",
   "id": "46eedb3f",
   "metadata": {},
   "source": [
    "## Further Optimized with Function to get Multi-Dimention"
   ]
  },
  {
   "cell_type": "code",
   "execution_count": 71,
   "id": "76b2b8bf",
   "metadata": {},
   "outputs": [],
   "source": [
    "def points_outside(npoints, ndim):\n",
    "    points = np.random.rand(npoints, ndim)\n",
    "    return np.sum(np.sqrt(np.sum(points * points, axis=1)) > 1)/npoints"
   ]
  },
  {
   "cell_type": "code",
   "execution_count": 79,
   "id": "78649750",
   "metadata": {},
   "outputs": [
    {
     "name": "stdout",
     "output_type": "stream",
     "text": [
      "Dimention 2 Fracion of Points Outside: 0.214332\n",
      "Dimention 3 Fracion of Points Outside: 0.476751\n",
      "Dimention 4 Fracion of Points Outside: 0.691428\n",
      "Dimention 5 Fracion of Points Outside: 0.835364\n",
      "Dimention 6 Fracion of Points Outside: 0.919416\n",
      "Dimention 7 Fracion of Points Outside: 0.962885\n",
      "Dimention 8 Fracion of Points Outside: 0.984149\n",
      "Dimention 9 Fracion of Points Outside: 0.993406\n",
      "Dimention 10 Fracion of Points Outside: 0.997548\n"
     ]
    }
   ],
   "source": [
    "for i in range(2, 11):\n",
    "    print(\"Dimention\", i ,\"Fracion of Points Outside:\",points_outside(1000000, i))"
   ]
  },
  {
   "cell_type": "code",
   "execution_count": null,
   "id": "cad969a7",
   "metadata": {},
   "outputs": [],
   "source": []
  }
 ],
 "metadata": {
  "kernelspec": {
   "display_name": "Python 3 (ipykernel)",
   "language": "python",
   "name": "python3"
  },
  "language_info": {
   "codemirror_mode": {
    "name": "ipython",
    "version": 3
   },
   "file_extension": ".py",
   "mimetype": "text/x-python",
   "name": "python",
   "nbconvert_exporter": "python",
   "pygments_lexer": "ipython3",
   "version": "3.8.12"
  }
 },
 "nbformat": 4,
 "nbformat_minor": 5
}
