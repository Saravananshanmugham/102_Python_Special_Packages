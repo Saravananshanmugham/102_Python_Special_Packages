{
 "cells": [
  {
   "cell_type": "markdown",
   "id": "9489bf49",
   "metadata": {},
   "source": [
    "\n",
    "# Numpy - Operations - Reshape\n"
   ]
  },
  {
   "cell_type": "code",
   "execution_count": 2,
   "id": "f0effbfb",
   "metadata": {},
   "outputs": [],
   "source": [
    "import numpy as np"
   ]
  },
  {
   "cell_type": "markdown",
   "id": "c7268d3a",
   "metadata": {},
   "source": [
    "\n",
    "****\n"
   ]
  },
  {
   "cell_type": "markdown",
   "id": "06c85c93",
   "metadata": {},
   "source": [
    "\n",
    "## Reshape of an Array\n",
    "\n",
    "Reshaping means changing the shape of an array. The shape of an array is the number of elements in each dimension. By reshaping we can add or remove dimensions or change number of elements in each dimension.\n",
    "\n",
    "As long as the elements required for reshaping are equal in both shapes. We can reshape an 8 elements 1D array into 4 elements in 2 rows 2D array but we cannot reshape it into a 3 elements 3 rows 2D array as that would require 3x3 = 9 elements."
   ]
  },
  {
   "cell_type": "code",
   "execution_count": 2,
   "id": "8ae48df4",
   "metadata": {},
   "outputs": [
    {
     "name": "stdout",
     "output_type": "stream",
     "text": [
      "Original:\n",
      " [ 1  2  3  4  5  6  7  8  9 10 11 12]\n",
      "Reshaped Array:\n",
      " [[ 1  2  3]\n",
      " [ 4  5  6]\n",
      " [ 7  8  9]\n",
      " [10 11 12]]\n"
     ]
    }
   ],
   "source": [
    "arr5 = np.array([1, 2, 3, 4, 5, 6, 7, 8, 9, 10, 11, 12])\n",
    "reshape_arr5 = arr5.reshape(4, 3)\n",
    "\n",
    "print(\"Original:\\n\",arr5)\n",
    "print(\"Reshaped Array:\\n\",reshape_arr5)"
   ]
  },
  {
   "cell_type": "code",
   "execution_count": 3,
   "id": "34c85d4b",
   "metadata": {},
   "outputs": [
    {
     "name": "stdout",
     "output_type": "stream",
     "text": [
      "[ 1  2  3  4  5  6  7  8  9 10 11 12]\n"
     ]
    }
   ],
   "source": [
    "# Check if the returned array is a copy or a view\n",
    "# Reshape a view of orginal array\n",
    "# Hence to be careful while doing any changes\n",
    "\n",
    "print(reshape_arr5.base)"
   ]
  },
  {
   "cell_type": "code",
   "execution_count": 16,
   "id": "52ebb470",
   "metadata": {},
   "outputs": [
    {
     "name": "stdout",
     "output_type": "stream",
     "text": [
      "x Shape before reshape (3,)\n",
      "x Shape after reshape (1, 3)\n"
     ]
    }
   ],
   "source": [
    "# Standard method to reshape\n",
    "\n",
    "x = np.array([1, 2, 3])\n",
    "print(\"x Shape before reshape {0}\".format(x.shape))\n",
    "x_reshape = x.reshape((1, 3))\n",
    "print(\"x Shape after reshape {0}\".format(x_reshape.shape))"
   ]
  },
  {
   "cell_type": "code",
   "execution_count": 18,
   "id": "78586eb5",
   "metadata": {},
   "outputs": [
    {
     "name": "stdout",
     "output_type": "stream",
     "text": [
      "x Shape before reshape (3,)\n",
      "x Shape after reshape (1, 3)\n"
     ]
    }
   ],
   "source": [
    "# newaxis method with a slice operation\n",
    "\n",
    "x = np.array([1, 2, 3])\n",
    "print(\"x Shape before reshape {0}\".format(x.shape))\n",
    "x_reshape = x[np.newaxis, :]\n",
    "print(\"x Shape after reshape {0}\".format(x_reshape.shape))"
   ]
  },
  {
   "cell_type": "code",
   "execution_count": 20,
   "id": "4dbe3c9e",
   "metadata": {},
   "outputs": [
    {
     "name": "stdout",
     "output_type": "stream",
     "text": [
      "x Shape before reshape (3,)\n",
      "x Shape after reshape (3, 1)\n",
      "[[1]\n",
      " [2]\n",
      " [3]]\n"
     ]
    }
   ],
   "source": [
    "# newaxis method with a slice operation\n",
    "\n",
    "x = np.array([1, 2, 3])\n",
    "print(\"x Shape before reshape {0}\".format(x.shape))\n",
    "x_reshape = x[:, np.newaxis]\n",
    "print(\"x Shape after reshape {0}\".format(x_reshape.shape))\n",
    "print(x_reshape)"
   ]
  },
  {
   "cell_type": "code",
   "execution_count": 37,
   "id": "e1411a32",
   "metadata": {},
   "outputs": [
    {
     "name": "stdout",
     "output_type": "stream",
     "text": [
      "(3, 4)\n",
      "(1, 3, 4)\n",
      "[[[ 1  2  3  4]\n",
      "  [ 5  6  7  8]\n",
      "  [ 9 10 11 12]]]\n"
     ]
    }
   ],
   "source": [
    "x = np.arange(1, 13).reshape(3,4)\n",
    "x_reshape1 = x[np.newaxis,:]\n",
    "print(x.shape)\n",
    "print(x_reshape1.shape)\n",
    "print(x_reshape1)\n"
   ]
  },
  {
   "cell_type": "code",
   "execution_count": 38,
   "id": "491393cf",
   "metadata": {},
   "outputs": [
    {
     "name": "stdout",
     "output_type": "stream",
     "text": [
      "(3, 4)\n",
      "(3, 1, 4)\n",
      "[[[ 1  2  3  4]]\n",
      "\n",
      " [[ 5  6  7  8]]\n",
      "\n",
      " [[ 9 10 11 12]]]\n"
     ]
    }
   ],
   "source": [
    "x = np.arange(1, 13).reshape(3,4)\n",
    "x_reshape2 = x[:,np.newaxis,:]\n",
    "print(x.shape)\n",
    "print(x_reshape2.shape)\n",
    "print(x_reshape2)\n"
   ]
  },
  {
   "cell_type": "code",
   "execution_count": 40,
   "id": "e4359b49",
   "metadata": {},
   "outputs": [
    {
     "name": "stdout",
     "output_type": "stream",
     "text": [
      "(3, 4)\n",
      "(3, 4, 1)\n",
      "[[[ 1]\n",
      "  [ 2]\n",
      "  [ 3]\n",
      "  [ 4]]\n",
      "\n",
      " [[ 5]\n",
      "  [ 6]\n",
      "  [ 7]\n",
      "  [ 8]]\n",
      "\n",
      " [[ 9]\n",
      "  [10]\n",
      "  [11]\n",
      "  [12]]]\n"
     ]
    }
   ],
   "source": [
    "x = np.arange(1, 13).reshape(3,4)\n",
    "x_reshape3 = x[:,:,np.newaxis]\n",
    "print(x.shape)\n",
    "print(x_reshape3.shape)\n",
    "print(x_reshape3)\n"
   ]
  },
  {
   "cell_type": "code",
   "execution_count": null,
   "id": "60d7d817",
   "metadata": {},
   "outputs": [],
   "source": []
  },
  {
   "cell_type": "markdown",
   "id": "8b85a6e7",
   "metadata": {},
   "source": [
    "\n",
    "### Unknown Dimension\n",
    "\n",
    "You are allowed to have one \"unknown\" dimension. Meaning that you do not have to specify an exact number for one of the dimensions in the reshape method.\n",
    "\n",
    "Pass -1 as the value, and NumPy will calculate this number for you."
   ]
  },
  {
   "cell_type": "code",
   "execution_count": 4,
   "id": "ddb3fef0",
   "metadata": {},
   "outputs": [
    {
     "name": "stdout",
     "output_type": "stream",
     "text": [
      "Original:\n",
      " [ 1  2  3  4  5  6  7  8  9 10 11 12]\n",
      "\n",
      "Reshaped Array:\n",
      " [[[ 1  2  3]\n",
      "  [ 4  5  6]]\n",
      "\n",
      " [[ 7  8  9]\n",
      "  [10 11 12]]]\n",
      "\n",
      "Share of the Array: (2, 2, 3)\n"
     ]
    }
   ],
   "source": [
    "arr6 = np.array([1, 2, 3, 4, 5, 6, 7, 8, 9, 10, 11, 12])\n",
    "reshape_arr6 = arr5.reshape(2, 2, -1)\n",
    "\n",
    "print(\"Original:\\n\",arr6)\n",
    "print(\"\\nReshaped Array:\\n\",reshape_arr6)\n",
    "print(\"\\nShare of the Array:\", reshape_arr6.shape)"
   ]
  },
  {
   "cell_type": "markdown",
   "id": "207fe7ac",
   "metadata": {},
   "source": [
    "\n",
    "### Flattening the Array\n",
    "\n",
    "Flattening array means converting a multidimensional array into a 1D array.\n",
    "We can use reshape(-1) to do this."
   ]
  },
  {
   "cell_type": "code",
   "execution_count": 5,
   "id": "575ce670",
   "metadata": {},
   "outputs": [
    {
     "name": "stdout",
     "output_type": "stream",
     "text": [
      "Original:\n",
      " [[1 2 3]\n",
      " [4 5 6]]\n",
      "\n",
      "Reshaped Array:\n",
      " [1 2 3 4 5 6]\n",
      "\n",
      "Shape of the Array: (6,)\n"
     ]
    }
   ],
   "source": [
    "arr7 = np.array([[1, 2, 3], [4, 5, 6]])\n",
    "arr_flat = arr7.reshape(-1)\n",
    "\n",
    "print(\"Original:\\n\",arr7)\n",
    "print(\"\\nReshaped Array:\\n\", arr_flat)\n",
    "print(\"\\nShape of the Array:\", arr_flat.shape)"
   ]
  },
  {
   "cell_type": "code",
   "execution_count": 6,
   "id": "e847cde0",
   "metadata": {},
   "outputs": [
    {
     "name": "stdout",
     "output_type": "stream",
     "text": [
      "Original:\n",
      " [[1 2 3]\n",
      " [4 5 6]]\n",
      "\n",
      "Reshaped Array:\n",
      " [1 2 3 4 5 6]\n",
      "\n",
      "Shape of the Array: (6,)\n"
     ]
    }
   ],
   "source": [
    "arr8 = np.array([[1, 2, 3], [4, 5, 6]])\n",
    "arr_flatten = arr8.flatten()\n",
    "\n",
    "print(\"Original:\\n\",arr8)\n",
    "print(\"\\nReshaped Array:\\n\", arr_flatten)\n",
    "print(\"\\nShape of the Array:\", arr_flatten.shape)"
   ]
  },
  {
   "cell_type": "code",
   "execution_count": 7,
   "id": "c4a837b6",
   "metadata": {},
   "outputs": [
    {
     "name": "stdout",
     "output_type": "stream",
     "text": [
      "Original:\n",
      " [[1 2 3]\n",
      " [4 5 6]]\n",
      "\n",
      "Reshaped Array:\n",
      " [1 2 3 4 5 6]\n",
      "\n",
      "Shape of the Array: (6,)\n"
     ]
    }
   ],
   "source": [
    "arr9 = np.array([[1, 2, 3], [4, 5, 6]])\n",
    "arr_ravel = np.ravel(arr9)\n",
    "\n",
    "print(\"Original:\\n\",arr9)\n",
    "print(\"\\nReshaped Array:\\n\", arr_ravel)\n",
    "print(\"\\nShape of the Array:\", arr_flatten.shape)"
   ]
  },
  {
   "cell_type": "code",
   "execution_count": 8,
   "id": "95d4c52b",
   "metadata": {},
   "outputs": [
    {
     "name": "stdout",
     "output_type": "stream",
     "text": [
      "Original :\n",
      " [[1 2 3]\n",
      " [4 5 6]]\n",
      "\n",
      "Rotate 90:\n",
      " [[3 6]\n",
      " [2 5]\n",
      " [1 4]]\n",
      "\n",
      "Rotate 90:\n",
      " [[3 6]\n",
      " [2 5]\n",
      " [1 4]]\n",
      "\n",
      "Another 90 (180):\n",
      " [[6 5 4]\n",
      " [3 2 1]]\n",
      "\n",
      "Another 90 (270):\n",
      " [[4 1]\n",
      " [5 2]\n",
      " [6 3]]\n",
      "\n",
      "Another 90 (360 - Original):\n",
      " [[1 2 3]\n",
      " [4 5 6]]\n"
     ]
    }
   ],
   "source": [
    "# Rotate an array by 90 degrees in the plane specified by axes.\n",
    "# Rotation direction is from the first towards the second axis.\n",
    "\n",
    "arr10 = np.array([[1, 2, 3], [4, 5, 6]])\n",
    "print(\"Original :\\n\", arr10)\n",
    "print(\"\\nRotate 90:\\n\",np.rot90(arr10))\n",
    "print(\"\\nRotate 90:\\n\",np.rot90(arr10, 1))\n",
    "print(\"\\nAnother 90 (180):\\n\",np.rot90(arr10, 2))\n",
    "print(\"\\nAnother 90 (270):\\n\",np.rot90(arr10, 3))\n",
    "print(\"\\nAnother 90 (360 - Original):\\n\",np.rot90(arr10, 4))\n"
   ]
  },
  {
   "cell_type": "code",
   "execution_count": 9,
   "id": "5e079f1f",
   "metadata": {},
   "outputs": [
    {
     "name": "stdout",
     "output_type": "stream",
     "text": [
      "Original:\n",
      " [[[ 1  2  3]\n",
      "  [ 4  5  6]]\n",
      "\n",
      " [[ 7  8  9]\n",
      "  [10 11 12]]]\n",
      "\n",
      "Rotated with Axes:\n",
      " [[[ 4  1]\n",
      "  [ 5  2]\n",
      "  [ 6  3]]\n",
      "\n",
      " [[10  7]\n",
      "  [11  8]\n",
      "  [12  9]]]\n"
     ]
    }
   ],
   "source": [
    "arr11 = np.array([[[1, 2, 3], [4, 5, 6]],[[7,8,9],[10,11,12]]])\n",
    "print(\"Original:\\n\",arr11)\n",
    "print(\"\\nRotated with Axes:\\n\", np.rot90(arr11, 1, (2, 1)))"
   ]
  },
  {
   "cell_type": "markdown",
   "id": "c0ab028e",
   "metadata": {},
   "source": [
    "Reverse the order of elements in an array along the given axis. The shape of the array is preserved, but the elements are reordered."
   ]
  },
  {
   "cell_type": "code",
   "execution_count": 10,
   "id": "64c76ba2",
   "metadata": {},
   "outputs": [
    {
     "name": "stdout",
     "output_type": "stream",
     "text": [
      "Original:\n",
      " [[1 2 3]\n",
      " [4 5 6]]\n",
      "\n",
      " Flip Array:\n",
      " [[6 5 4]\n",
      " [3 2 1]]\n",
      "\n",
      " Flip Array:\n",
      " [[3 2 1]\n",
      " [6 5 4]]\n"
     ]
    }
   ],
   "source": [
    "arr12 = np.array([[1, 2, 3], [4, 5, 6]])\n",
    "print(\"Original:\\n\",arr12)\n",
    "print(\"\\n Flip Array:\\n\", np.flip(arr12))\n",
    "print(\"\\n Flip Array:\\n\", np.flip(arr12, 1))"
   ]
  },
  {
   "cell_type": "markdown",
   "id": "22563c0e",
   "metadata": {},
   "source": [
    "Reverse the order of elements along axis 1 (left/right). For a 2-D array, this flips the entries in each row in the left/right direction. Columns are preserved, but appear in a different order than before."
   ]
  },
  {
   "cell_type": "code",
   "execution_count": 11,
   "id": "cfa3c6d0",
   "metadata": {},
   "outputs": [
    {
     "name": "stdout",
     "output_type": "stream",
     "text": [
      "Original\n",
      " [[1 0 0 0]\n",
      " [0 2 0 0]\n",
      " [0 0 3 0]\n",
      " [0 0 0 4]]\n",
      "Fliplr:\n",
      " [[0 0 0 1]\n",
      " [0 0 2 0]\n",
      " [0 3 0 0]\n",
      " [4 0 0 0]]\n"
     ]
    }
   ],
   "source": [
    "arr13 = np.diag([1,2,3,4])\n",
    "print(\"Original\\n\", arr13)\n",
    "print(\"Fliplr:\\n\", np.fliplr(arr13))"
   ]
  },
  {
   "cell_type": "markdown",
   "id": "7d2cc764",
   "metadata": {},
   "source": [
    "Reverse the order of elements along axis 0 (up/down). For a 2-D array, this flips the entries in each column in the up/down direction. Rows are preserved, but appear in a different order than before"
   ]
  },
  {
   "cell_type": "code",
   "execution_count": 12,
   "id": "369d04f6",
   "metadata": {},
   "outputs": [
    {
     "data": {
      "text/plain": [
       "array([[[ 7,  8,  9],\n",
       "        [10, 11, 12]],\n",
       "\n",
       "       [[ 1,  2,  3],\n",
       "        [ 4,  5,  6]]])"
      ]
     },
     "execution_count": 12,
     "metadata": {},
     "output_type": "execute_result"
    }
   ],
   "source": [
    "arr14 = np.array([[[1, 2, 3], [4, 5, 6]],[[7,8,9],[10,11,12]]])\n",
    "np.flipud(arr14)"
   ]
  },
  {
   "cell_type": "code",
   "execution_count": 13,
   "id": "639aac10",
   "metadata": {},
   "outputs": [
    {
     "data": {
      "text/plain": [
       "array([[4, 5, 6],\n",
       "       [1, 2, 3]])"
      ]
     },
     "execution_count": 13,
     "metadata": {},
     "output_type": "execute_result"
    }
   ],
   "source": [
    "arr15 = np.array([[1, 2, 3], [4, 5, 6]])\n",
    "np.flipud(arr15)"
   ]
  },
  {
   "cell_type": "markdown",
   "id": "d0a15163",
   "metadata": {},
   "source": [
    "\n",
    "****\n"
   ]
  }
 ],
 "metadata": {
  "kernelspec": {
   "display_name": "Python 3 (ipykernel)",
   "language": "python",
   "name": "python3"
  },
  "language_info": {
   "codemirror_mode": {
    "name": "ipython",
    "version": 3
   },
   "file_extension": ".py",
   "mimetype": "text/x-python",
   "name": "python",
   "nbconvert_exporter": "python",
   "pygments_lexer": "ipython3",
   "version": "3.8.12"
  }
 },
 "nbformat": 4,
 "nbformat_minor": 5
}
