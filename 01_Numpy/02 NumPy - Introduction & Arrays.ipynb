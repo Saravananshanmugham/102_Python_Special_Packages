{
 "cells": [
  {
   "cell_type": "markdown",
   "id": "9489bf49",
   "metadata": {},
   "source": [
    "\n",
    "# Numpy - Introduction & Arrays\n"
   ]
  },
  {
   "cell_type": "code",
   "execution_count": 42,
   "id": "f0effbfb",
   "metadata": {},
   "outputs": [],
   "source": [
    "import numpy as np"
   ]
  },
  {
   "cell_type": "code",
   "execution_count": 43,
   "id": "c8eb65c8",
   "metadata": {},
   "outputs": [],
   "source": [
    "import matplotlib.pyplot as plt"
   ]
  },
  {
   "cell_type": "code",
   "execution_count": 44,
   "id": "df904484",
   "metadata": {},
   "outputs": [
    {
     "name": "stdout",
     "output_type": "stream",
     "text": [
      "1.24.3\n"
     ]
    }
   ],
   "source": [
    "print(np.__version__)"
   ]
  },
  {
   "cell_type": "markdown",
   "id": "c7268d3a",
   "metadata": {},
   "source": [
    "\n",
    "****\n"
   ]
  },
  {
   "cell_type": "markdown",
   "id": "2a39a9e3",
   "metadata": {},
   "source": [
    "### Syntax of array()\n",
    "\n",
    "Syntax: \n",
    "    array(\n",
    "    object, \n",
    "    dtype=None, \n",
    "    copy=True, \n",
    "    order='K', \n",
    "    subok=False, \n",
    "    ndmin=0)\n",
    "    \n",
    "To create an `ndarray`, we can pass a list, tuple or any array-like object into the `array()` method, and it will be converted into an `ndarray`."
   ]
  },
  {
   "cell_type": "code",
   "execution_count": 45,
   "id": "f47d4387",
   "metadata": {},
   "outputs": [
    {
     "name": "stdout",
     "output_type": "stream",
     "text": [
      "[1 2 3 4 5]\n"
     ]
    }
   ],
   "source": [
    "# Array created using the function array()\n",
    "# This is an example to create 1D array\n",
    "\n",
    "arr1d = np.array([1, 2, 3, 4, 5])\n",
    "print(arr1d)"
   ]
  },
  {
   "cell_type": "code",
   "execution_count": 46,
   "id": "b2071f86",
   "metadata": {},
   "outputs": [
    {
     "name": "stdout",
     "output_type": "stream",
     "text": [
      "[[ 1  2  3  4  5  6  7  8  9 10]\n",
      " [11 12 13 14 15 16 17 18 19 20]]\n"
     ]
    }
   ],
   "source": [
    "# This is an example to create 2D array\n",
    "\n",
    "arr2d = np.array([\n",
    "    [1, 2, 3, 4, 5, 6, 7, 8, 9, 10],\n",
    "    [11, 12, 13, 14, 15, 16, 17, 18, 19, 20]\n",
    "])\n",
    "\n",
    "print(arr2d)"
   ]
  },
  {
   "cell_type": "code",
   "execution_count": 47,
   "id": "570652c9",
   "metadata": {},
   "outputs": [
    {
     "name": "stdout",
     "output_type": "stream",
     "text": [
      "[[[ 1  2  3  4  5]\n",
      "  [ 6  7  8  9 10]]\n",
      "\n",
      " [[11 12 13 14 15]\n",
      "  [16 17 18 19 20]]]\n"
     ]
    }
   ],
   "source": [
    "# This is an example to create 3D array\n",
    "\n",
    "arr3d = np.array([\n",
    "    [\n",
    "        [1, 2, 3, 4, 5],\n",
    "        [6, 7, 8, 9, 10]\n",
    "    ],\n",
    "    [\n",
    "        [11, 12, 13, 14, 15],\n",
    "        [16, 17, 18, 19, 20]\n",
    "    ]\n",
    "])\n",
    "\n",
    "print(arr3d)"
   ]
  },
  {
   "cell_type": "markdown",
   "id": "e25c197b",
   "metadata": {},
   "source": [
    "\n",
    "## Arrtributes of array\n"
   ]
  },
  {
   "cell_type": "code",
   "execution_count": 48,
   "id": "81da03c7",
   "metadata": {},
   "outputs": [
    {
     "data": {
      "text/plain": [
       "numpy.ndarray"
      ]
     },
     "execution_count": 48,
     "metadata": {},
     "output_type": "execute_result"
    }
   ],
   "source": [
    "type(arr1d)"
   ]
  },
  {
   "cell_type": "code",
   "execution_count": 49,
   "id": "413bb892",
   "metadata": {},
   "outputs": [
    {
     "name": "stdout",
     "output_type": "stream",
     "text": [
      "Dimention of arr1d is : 1\n",
      "Dimention of arr2d is : 2\n",
      "Dimention of arr3d is : 3\n"
     ]
    }
   ],
   "source": [
    "# Checking the dimention of the Array\n",
    "\n",
    "print(\"Dimention of arr1d is :\",np.ndim(arr1d))\n",
    "print(\"Dimention of arr2d is :\",np.ndim(arr2d))\n",
    "print(\"Dimention of arr3d is :\",np.ndim(arr3d))"
   ]
  },
  {
   "cell_type": "code",
   "execution_count": 50,
   "id": "4567a8c7",
   "metadata": {},
   "outputs": [
    {
     "name": "stdout",
     "output_type": "stream",
     "text": [
      "No of elements in arr1d is : 5\n",
      "No of elements in arr2d is : 20\n",
      "No of elements in arr3d is : 20\n"
     ]
    }
   ],
   "source": [
    "# Checking the size of the array\n",
    "# Provides number of elements in the array\n",
    "\n",
    "print(\"No of elements in arr1d is :\",np.size(arr1d))\n",
    "print(\"No of elements in arr2d is :\",np.size(arr2d))\n",
    "print(\"No of elements in arr3d is :\",np.size(arr3d))"
   ]
  },
  {
   "cell_type": "code",
   "execution_count": 51,
   "id": "bb8289e6",
   "metadata": {},
   "outputs": [
    {
     "name": "stdout",
     "output_type": "stream",
     "text": [
      "Dimention of arr1d is : (5,)\n",
      "Dimention of arr2d is : (2, 10)\n",
      "Dimention of arr3d is : (2, 2, 5)\n"
     ]
    }
   ],
   "source": [
    "# Checking the shape of the array\n",
    "\n",
    "print(\"Dimention of arr1d is :\",np.shape(arr1d))\n",
    "print(\"Dimention of arr2d is :\",np.shape(arr2d))\n",
    "print(\"Dimention of arr3d is :\",np.shape(arr3d))"
   ]
  },
  {
   "cell_type": "code",
   "execution_count": 52,
   "id": "2ff1cb10",
   "metadata": {},
   "outputs": [
    {
     "name": "stdout",
     "output_type": "stream",
     "text": [
      "Data Type of arr1d is : int32\n",
      "Data Type of arr2d is : int32\n",
      "Data Type of arr3d is : int32\n"
     ]
    }
   ],
   "source": [
    "# check the data type of the array\n",
    "\n",
    "print(\"Data Type of arr1d is :\",arr1d.dtype)\n",
    "print(\"Data Type of arr2d is :\",arr2d.dtype)\n",
    "print(\"Data Type of arr3d is :\",arr3d.dtype)\n"
   ]
  },
  {
   "cell_type": "code",
   "execution_count": 53,
   "id": "a01bc342",
   "metadata": {},
   "outputs": [
    {
     "name": "stdout",
     "output_type": "stream",
     "text": [
      "Item size of arr1d is : 4\n",
      "Item size of arr2d is : 4\n",
      "Item size of arr3d is : 4\n"
     ]
    }
   ],
   "source": [
    "# Length of one array element in bytes.\n",
    "\n",
    "print(\"Item size of arr1d is :\",arr1d.itemsize)\n",
    "print(\"Item size of arr2d is :\",arr2d.itemsize)\n",
    "print(\"Item size of arr3d is :\",arr3d.itemsize)"
   ]
  },
  {
   "cell_type": "code",
   "execution_count": 54,
   "id": "5c2149e9",
   "metadata": {},
   "outputs": [
    {
     "name": "stdout",
     "output_type": "stream",
     "text": [
      "Total Size of the arr1d is : 20\n",
      "Total Size of the arr2d is : 80\n",
      "Total Size of the arr3d is : 80\n"
     ]
    }
   ],
   "source": [
    "# Total Size of the array\n",
    "\n",
    "print(\"Total Size of the arr1d is :\", arr1d.itemsize * arr1d.size)\n",
    "print(\"Total Size of the arr2d is :\", arr2d.itemsize * arr2d.size)\n",
    "print(\"Total Size of the arr3d is :\", arr3d.itemsize * arr3d.size)"
   ]
  },
  {
   "cell_type": "code",
   "execution_count": 55,
   "id": "67701d55",
   "metadata": {},
   "outputs": [
    {
     "name": "stdout",
     "output_type": "stream",
     "text": [
      "Total Size of the arr1d is : 20\n",
      "Total Size of the arr2d is : 80\n",
      "Total Size of the arr3d is : 80\n"
     ]
    }
   ],
   "source": [
    "# Total Size of the array, Using nbytes\n",
    "\n",
    "print(\"Total Size of the arr1d is :\", arr1d.nbytes)\n",
    "print(\"Total Size of the arr2d is :\", arr2d.nbytes)\n",
    "print(\"Total Size of the arr3d is :\", arr3d.nbytes)"
   ]
  },
  {
   "cell_type": "markdown",
   "id": "d80bcb8a",
   "metadata": {},
   "source": [
    ">As seen in the above example, the size of the array is depends on the datatype of the array. While creating the arrat, we did not specified any datatype, hence NumPy used the default datatype of \"int32\". We are concerned about the memory usage, we can define the datatype while creation of the array."
   ]
  },
  {
   "cell_type": "code",
   "execution_count": 56,
   "id": "b64629b2",
   "metadata": {},
   "outputs": [
    {
     "name": "stdout",
     "output_type": "stream",
     "text": [
      "[[[ 1  2  3  4  5]\n",
      "  [ 6  7  8  9 10]]\n",
      "\n",
      " [[11 12 13 14 15]\n",
      "  [16 17 18 19 20]]]\n"
     ]
    }
   ],
   "source": [
    "# This is an example to create 3D array with data type\n",
    "\n",
    "arr3d_dype = np.array([\n",
    "    [\n",
    "        [1, 2, 3, 4, 5],\n",
    "        [6, 7, 8, 9, 10]\n",
    "    ],\n",
    "    [\n",
    "        [11, 12, 13, 14, 15],\n",
    "        [16, 17, 18, 19, 20]\n",
    "    ]\n",
    "], dtype='int8')\n",
    "\n",
    "print(arr3d_dype)"
   ]
  },
  {
   "cell_type": "code",
   "execution_count": 57,
   "id": "5d63c80d",
   "metadata": {},
   "outputs": [
    {
     "name": "stdout",
     "output_type": "stream",
     "text": [
      "int8\n"
     ]
    }
   ],
   "source": [
    "print(arr3d_dype.dtype)"
   ]
  },
  {
   "cell_type": "code",
   "execution_count": 58,
   "id": "e6bc2957",
   "metadata": {},
   "outputs": [
    {
     "name": "stdout",
     "output_type": "stream",
     "text": [
      "Item size of arr3d_dype is : 1\n"
     ]
    }
   ],
   "source": [
    "print(\"Item size of arr3d_dype is :\",arr3d_dype.itemsize)"
   ]
  },
  {
   "cell_type": "code",
   "execution_count": 59,
   "id": "77ffdd31",
   "metadata": {},
   "outputs": [
    {
     "name": "stdout",
     "output_type": "stream",
     "text": [
      "No of elements in arr3d_dype is : 20\n"
     ]
    }
   ],
   "source": [
    "print(\"No of elements in arr3d_dype is :\",np.size(arr3d_dype))"
   ]
  },
  {
   "cell_type": "code",
   "execution_count": 60,
   "id": "3c07cdc6",
   "metadata": {},
   "outputs": [
    {
     "name": "stdout",
     "output_type": "stream",
     "text": [
      "Total Size of the arr3d_dype  is : 20\n"
     ]
    }
   ],
   "source": [
    "print(\"Total Size of the arr3d_dype  is :\", arr3d_dype .nbytes)"
   ]
  },
  {
   "cell_type": "markdown",
   "id": "9953ce3a",
   "metadata": {},
   "source": [
    "> From the above example, we can see the bytes required for the defined 3D array is reduced to 1/4 of the orginal. As the initial datatype was int32, we redefined as int8. This can be done if we know the elements of the array does not exceed the limit of int8 storage space. It always a good practice to have a clear understanding of the data type and target data used to store in the array for large data sets."
   ]
  },
  {
   "cell_type": "markdown",
   "id": "32015cda",
   "metadata": {},
   "source": [
    "\n",
    "***\n"
   ]
  },
  {
   "cell_type": "markdown",
   "id": "bfcc555d",
   "metadata": {},
   "source": [
    "\n",
    "## Numpy - Standard Arrarys\n"
   ]
  },
  {
   "cell_type": "markdown",
   "id": "bca72b46",
   "metadata": {},
   "source": [
    "\n",
    "### np.ones()\n",
    "\n",
    "Return a new array of given shape and type, filled with ones"
   ]
  },
  {
   "cell_type": "code",
   "execution_count": 61,
   "id": "6c3a57b7",
   "metadata": {},
   "outputs": [
    {
     "name": "stdout",
     "output_type": "stream",
     "text": [
      "[[1. 1. 1. 1. 1.]\n",
      " [1. 1. 1. 1. 1.]\n",
      " [1. 1. 1. 1. 1.]\n",
      " [1. 1. 1. 1. 1.]]\n"
     ]
    }
   ],
   "source": [
    "# Return a new array of given shape and type, filled with ones\n",
    "\n",
    "arr_ones = np.ones((4,5))\n",
    "print(arr_ones)"
   ]
  },
  {
   "cell_type": "markdown",
   "id": "438666d5",
   "metadata": {},
   "source": [
    "\n",
    "### np.ones_like()\n",
    "\n",
    "Return an array of ones with the same shape and type as a given array."
   ]
  },
  {
   "cell_type": "code",
   "execution_count": 62,
   "id": "9633d7f5",
   "metadata": {},
   "outputs": [
    {
     "name": "stdout",
     "output_type": "stream",
     "text": [
      "[[[1 1 1 1 1]\n",
      "  [1 1 1 1 1]]\n",
      "\n",
      " [[1 1 1 1 1]\n",
      "  [1 1 1 1 1]]]\n"
     ]
    }
   ],
   "source": [
    "# Returns a array as similar of the array arr3d \n",
    "\n",
    "print(np.ones_like(arr3d))"
   ]
  },
  {
   "cell_type": "markdown",
   "id": "01019acb",
   "metadata": {},
   "source": [
    "\n",
    "### np.zeros()\n",
    "\n",
    "Return a new array of given shape and type, filled with zeros."
   ]
  },
  {
   "cell_type": "code",
   "execution_count": 63,
   "id": "188c1f5d",
   "metadata": {},
   "outputs": [
    {
     "name": "stdout",
     "output_type": "stream",
     "text": [
      "[[0. 0. 0. 0. 0.]\n",
      " [0. 0. 0. 0. 0.]\n",
      " [0. 0. 0. 0. 0.]\n",
      " [0. 0. 0. 0. 0.]]\n"
     ]
    }
   ],
   "source": [
    "# Return a new array of given shape and type, filled with zeros\n",
    "\n",
    "arr_zeros =np.zeros((4,5))\n",
    "print(arr_zeros)"
   ]
  },
  {
   "cell_type": "markdown",
   "id": "d9ea7e2d",
   "metadata": {},
   "source": [
    "\n",
    "### np_zeros_like()\n",
    "\n",
    "Return an array of zeros with the same shape and type as a given array."
   ]
  },
  {
   "cell_type": "code",
   "execution_count": 64,
   "id": "71788692",
   "metadata": {},
   "outputs": [
    {
     "name": "stdout",
     "output_type": "stream",
     "text": [
      "[[[0 0 0 0 0]\n",
      "  [0 0 0 0 0]]\n",
      "\n",
      " [[0 0 0 0 0]\n",
      "  [0 0 0 0 0]]]\n"
     ]
    }
   ],
   "source": [
    "# Return an array of zeros\n",
    "# with the same shape and type as a given array.\n",
    "\n",
    "print(np.zeros_like(arr3d))"
   ]
  },
  {
   "cell_type": "markdown",
   "id": "f3471b0f",
   "metadata": {},
   "source": [
    "### np.empty()\n",
    "\n",
    "Return a new array of given shape and type, without initializing entries.\n",
    "\n",
    "`empty`, unlike `zeros`, does not set the array values to zero, and may therefore be marginally faster.  On the other hand, it requires the user to manually set all the values in the array, and should be used with caution."
   ]
  },
  {
   "cell_type": "code",
   "execution_count": 65,
   "id": "266499bd",
   "metadata": {},
   "outputs": [
    {
     "name": "stdout",
     "output_type": "stream",
     "text": [
      "[[0. 0. 0. 0. 0.]\n",
      " [0. 0. 0. 0. 0.]\n",
      " [0. 0. 0. 0. 0.]\n",
      " [0. 0. 0. 0. 0.]]\n"
     ]
    }
   ],
   "source": [
    "# Return a new array of given shape and type, \n",
    "# without initializing entries. \n",
    "# Paramter is a tuple\n",
    "\n",
    "arr_empty = np.empty((4,5))\n",
    "print(arr_empty)"
   ]
  },
  {
   "cell_type": "code",
   "execution_count": 66,
   "id": "f5c09983",
   "metadata": {},
   "outputs": [
    {
     "name": "stdout",
     "output_type": "stream",
     "text": [
      "[[0. 0. 0. 0. 0.]\n",
      " [0. 0. 0. 0. 0.]\n",
      " [0. 0. 0. 0. 0.]\n",
      " [0. 0. 0. 0. 0.]]\n"
     ]
    }
   ],
   "source": [
    "# Return a new array of given shape and type, \n",
    "# without initializing entries. \n",
    "# Paramter is a list\n",
    "\n",
    "arr_empty = np.empty([4,5])\n",
    "print(arr_empty)"
   ]
  },
  {
   "cell_type": "markdown",
   "id": "c38fec47",
   "metadata": {},
   "source": [
    "### np.empty_like()\n",
    "\n",
    "Return a new array with the same shape and type as a given array.\n",
    "\n",
    "This function does *not* initialize the returned array; to do that use\n",
    "`zeros_like` or `ones_like` instead.  It may be marginally faster than\n",
    "the functions that do set the array values.\n"
   ]
  },
  {
   "cell_type": "code",
   "execution_count": 67,
   "id": "590501c5",
   "metadata": {},
   "outputs": [
    {
     "data": {
      "text/plain": [
       "array([[[0, 0, 0, 0, 0],\n",
       "        [0, 0, 0, 0, 0]],\n",
       "\n",
       "       [[0, 0, 0, 0, 0],\n",
       "        [0, 0, 0, 0, 0]]])"
      ]
     },
     "execution_count": 67,
     "metadata": {},
     "output_type": "execute_result"
    }
   ],
   "source": [
    "np.empty_like(arr3d)"
   ]
  },
  {
   "cell_type": "markdown",
   "id": "0972193d",
   "metadata": {},
   "source": [
    "\n",
    "### np.full()\n",
    "\n",
    "Return a new array of given shape and type, filled with `fill_value`."
   ]
  },
  {
   "cell_type": "code",
   "execution_count": 68,
   "id": "12c1e321",
   "metadata": {},
   "outputs": [
    {
     "data": {
      "text/plain": [
       "array([[1, 1, 1],\n",
       "       [1, 1, 1]])"
      ]
     },
     "execution_count": 68,
     "metadata": {},
     "output_type": "execute_result"
    }
   ],
   "source": [
    "# Return a new array of given shape filled with 1\n",
    "\n",
    "np.full((2, 3), 1)"
   ]
  },
  {
   "cell_type": "code",
   "execution_count": 69,
   "id": "a99a0c04",
   "metadata": {},
   "outputs": [
    {
     "data": {
      "text/plain": [
       "array([[10, 20, 30],\n",
       "       [10, 20, 30]])"
      ]
     },
     "execution_count": 69,
     "metadata": {},
     "output_type": "execute_result"
    }
   ],
   "source": [
    "# Return a new array of given shape broadcasted \n",
    "# with given array\n",
    "np.full((2, 3), [10, 20, 30])"
   ]
  },
  {
   "cell_type": "code",
   "execution_count": 70,
   "id": "f66c4ae1",
   "metadata": {},
   "outputs": [
    {
     "data": {
      "text/plain": [
       "array([[10, 10, 10],\n",
       "       [20, 20, 20]])"
      ]
     },
     "execution_count": 70,
     "metadata": {},
     "output_type": "execute_result"
    }
   ],
   "source": [
    "# Return a new array of given shape broadcasted \n",
    "# with given array\n",
    "\n",
    "np.full((2, 3), [[10],[20]])"
   ]
  },
  {
   "cell_type": "code",
   "execution_count": 71,
   "id": "501dd360",
   "metadata": {},
   "outputs": [
    {
     "data": {
      "text/plain": [
       "array([[10, 10, 10, 10],\n",
       "       [20, 20, 20, 20],\n",
       "       [30, 30, 30, 30]])"
      ]
     },
     "execution_count": 71,
     "metadata": {},
     "output_type": "execute_result"
    }
   ],
   "source": [
    "# Return a new array of given shape broadcasted \n",
    "# with given array\n",
    "\n",
    "x = [\n",
    "    [10],\n",
    "    [20],\n",
    "    [30]\n",
    "]\n",
    "np.full((3, 4), x)"
   ]
  },
  {
   "cell_type": "code",
   "execution_count": 72,
   "id": "64827f21",
   "metadata": {},
   "outputs": [
    {
     "name": "stdout",
     "output_type": "stream",
     "text": [
      "(3, 1)\n"
     ]
    },
    {
     "data": {
      "text/plain": [
       "array([[10, 10, 10, 10],\n",
       "       [20, 20, 20, 20],\n",
       "       [30, 30, 30, 30]])"
      ]
     },
     "execution_count": 72,
     "metadata": {},
     "output_type": "execute_result"
    }
   ],
   "source": [
    "# Return a new array of given shape broadcasted \n",
    "# with given array\n",
    "\n",
    "x = np.array([\n",
    "    [10],\n",
    "    [20],\n",
    "    [30]\n",
    "])\n",
    "print(x.shape)\n",
    "np.full((3, 4), x)"
   ]
  },
  {
   "cell_type": "markdown",
   "id": "0d953e70",
   "metadata": {},
   "source": [
    "\n",
    "### np.full_like()\n",
    "\n",
    "Return a full array with the same shape and type as a given array.|"
   ]
  },
  {
   "cell_type": "code",
   "execution_count": 73,
   "id": "9f8ae34a",
   "metadata": {},
   "outputs": [
    {
     "data": {
      "text/plain": [
       "array([[10, 10, 10, 10, 10, 10, 10, 10, 10, 10],\n",
       "       [20, 20, 20, 20, 20, 20, 20, 20, 20, 20]])"
      ]
     },
     "execution_count": 73,
     "metadata": {},
     "output_type": "execute_result"
    }
   ],
   "source": [
    "# Return a new array of given shape broadcasted \n",
    "# with given array\n",
    "\n",
    "np.full_like(arr2d, [[10],[20]])"
   ]
  },
  {
   "cell_type": "markdown",
   "id": "a8bf0e4c",
   "metadata": {},
   "source": [
    "### np.identity()\n",
    "\n",
    " Return the identity matrix array"
   ]
  },
  {
   "cell_type": "code",
   "execution_count": 74,
   "id": "b1837f57",
   "metadata": {},
   "outputs": [
    {
     "name": "stdout",
     "output_type": "stream",
     "text": [
      "[[1. 0. 0. 0. 0.]\n",
      " [0. 1. 0. 0. 0.]\n",
      " [0. 0. 1. 0. 0.]\n",
      " [0. 0. 0. 1. 0.]\n",
      " [0. 0. 0. 0. 1.]]\n"
     ]
    }
   ],
   "source": [
    " # Return the identity array\n",
    "    \n",
    "arr_id = np.identity(5)\n",
    "print(arr_id)"
   ]
  },
  {
   "cell_type": "markdown",
   "id": "6636f411",
   "metadata": {},
   "source": [
    "\n",
    "### np.eye()\n",
    "\n",
    "Return a 2-D array with ones on the diagonal and zeros elsewhere. This is similar to identity matrix, but with option to shift the diagonal ones."
   ]
  },
  {
   "cell_type": "code",
   "execution_count": 75,
   "id": "36fb6f73",
   "metadata": {},
   "outputs": [
    {
     "data": {
      "text/plain": [
       "array([[1., 0., 0., 0., 0., 0.],\n",
       "       [0., 1., 0., 0., 0., 0.],\n",
       "       [0., 0., 1., 0., 0., 0.],\n",
       "       [0., 0., 0., 1., 0., 0.]])"
      ]
     },
     "execution_count": 75,
     "metadata": {},
     "output_type": "execute_result"
    }
   ],
   "source": [
    "# Return a 2-D array with ones on the diagonal and zeros elsewhere.\n",
    "\n",
    "np.eye(4,6)"
   ]
  },
  {
   "cell_type": "code",
   "execution_count": 76,
   "id": "9a9c790f",
   "metadata": {},
   "outputs": [
    {
     "data": {
      "text/plain": [
       "array([[0., 1., 0., 0., 0., 0.],\n",
       "       [0., 0., 1., 0., 0., 0.],\n",
       "       [0., 0., 0., 1., 0., 0.],\n",
       "       [0., 0., 0., 0., 1., 0.]])"
      ]
     },
     "execution_count": 76,
     "metadata": {},
     "output_type": "execute_result"
    }
   ],
   "source": [
    "# Index of the diagonal: \n",
    "# a positive value refers to an upper diagonal\n",
    "\n",
    "np.eye(4, 6 , k=1)"
   ]
  },
  {
   "cell_type": "code",
   "execution_count": 77,
   "id": "892fcd88",
   "metadata": {},
   "outputs": [
    {
     "data": {
      "text/plain": [
       "array([[0., 0., 0., 0., 0., 0.],\n",
       "       [1., 0., 0., 0., 0., 0.],\n",
       "       [0., 1., 0., 0., 0., 0.],\n",
       "       [0., 0., 1., 0., 0., 0.]])"
      ]
     },
     "execution_count": 77,
     "metadata": {},
     "output_type": "execute_result"
    }
   ],
   "source": [
    "# Index of the diagonal: \n",
    "# a negative value refers to a lower diagonal.\n",
    "\n",
    "np.eye(4, 6 , k=-1)"
   ]
  },
  {
   "cell_type": "markdown",
   "id": "c2f39833",
   "metadata": {},
   "source": [
    "\n",
    "### np.linspace()\n",
    "\n",
    "Syntax : linspace(start, stop, num=50, endpoint=True, retstep=False, dtype=None, axis=0)\n",
    "\n",
    "Return evenly spaced numbers over a specified interval. Returns `num` evenly spaced samples, calculated over theinterval `start`, `stop`. The endpoint of the interval can optionally be excluded."
   ]
  },
  {
   "cell_type": "code",
   "execution_count": 78,
   "id": "475d2e44",
   "metadata": {},
   "outputs": [
    {
     "data": {
      "text/plain": [
       "array([ 7, 14, 21, 28, 35, 42, 49, 56, 63, 70], dtype=int8)"
      ]
     },
     "execution_count": 78,
     "metadata": {},
     "output_type": "execute_result"
    }
   ],
   "source": [
    "# Linear Space - This includes the last numbers\n",
    "\n",
    "np.linspace(7, 70, 10, dtype=\"int8\", axis=0)"
   ]
  },
  {
   "cell_type": "code",
   "execution_count": 79,
   "id": "a88cebaf",
   "metadata": {},
   "outputs": [
    {
     "data": {
      "text/plain": [
       "array([ 7, 14, 21, 28, 35, 42, 49, 56, 63, 70], dtype=int8)"
      ]
     },
     "execution_count": 79,
     "metadata": {},
     "output_type": "execute_result"
    }
   ],
   "source": [
    "# Linear Space - This includes the last numbers\n",
    "\n",
    "np.linspace(7, 70, 10, dtype=\"int8\", axis=0)"
   ]
  },
  {
   "cell_type": "code",
   "execution_count": 80,
   "id": "8bc5692e",
   "metadata": {},
   "outputs": [],
   "source": [
    "def f(x):\n",
    "    return x*(x-2)*(x+2)"
   ]
  },
  {
   "cell_type": "code",
   "execution_count": 81,
   "id": "5602ee07",
   "metadata": {},
   "outputs": [
    {
     "data": {
      "image/png": "[encoded data removed]",
      "text/plain": [
       "<Figure size 640x480 with 1 Axes>"
      ]
     },
     "metadata": {},
     "output_type": "display_data"
    }
   ],
   "source": [
    "%matplotlib inline\n",
    "x_values = np.linspace(-3, 3, 50)\n",
    "plt.plot(x_values, f(x_values))\n",
    "# Add labels\n",
    "plt.title('Line Plot of f(x) Using np.linspace')\n",
    "plt.xlabel('x')\n",
    "plt.ylabel('f(x)')\n",
    "plt.grid=\"True\"\n",
    "plt.show()"
   ]
  },
  {
   "cell_type": "code",
   "execution_count": 82,
   "id": "1342c4c0",
   "metadata": {},
   "outputs": [
    {
     "data": {
      "image/png": "[encoded data removed]",
      "text/plain": [
       "<Figure size 640x480 with 1 Axes>"
      ]
     },
     "metadata": {},
     "output_type": "display_data"
    }
   ],
   "source": [
    "# Plotting the graph using arange without the step argument\n",
    "%matplotlib inline\n",
    "x_values = np.arange(-3, 3)\n",
    "plt.plot(x_values, f(x_values))\n",
    "plt.show()"
   ]
  },
  {
   "cell_type": "code",
   "execution_count": 83,
   "id": "173d37d4",
   "metadata": {},
   "outputs": [
    {
     "data": {
      "text/plain": [
       "array([1, 1, 1, 1, 1])"
      ]
     },
     "execution_count": 83,
     "metadata": {},
     "output_type": "execute_result"
    }
   ],
   "source": [
    "np.diff(x_values)"
   ]
  },
  {
   "cell_type": "code",
   "execution_count": 84,
   "id": "f8d7726b",
   "metadata": {},
   "outputs": [
    {
     "data": {
      "image/png": "[encoded data removed]",
      "text/plain": [
       "<Figure size 640x480 with 1 Axes>"
      ]
     },
     "metadata": {},
     "output_type": "display_data"
    }
   ],
   "source": [
    "# Plotting the graph using arange with step argument\n",
    "# step as linear space\n",
    "%matplotlib inline\n",
    "x_values = np.arange(-3, 3 , 0.12)\n",
    "plt.plot(x_values, f(x_values))\n",
    "plt.show()"
   ]
  },
  {
   "cell_type": "markdown",
   "id": "23f39269",
   "metadata": {},
   "source": [
    "### np.arange()\n",
    "\n",
    " Return evenly spaced values within a given interval.\n",
    " \n",
    " Values are generated within the half-open interval ``[start, stop)``\n",
    " (in other words, the interval including `start` but excluding `stop`).\n",
    " For integer arguments the function is equivalent to the Python built-in\n",
    " `range` function, but returns an ndarray rather than a list.\n",
    " \n",
    " When using a non-integer step, such as 0.1, the results will often not be consistent.  It is better to use `numpy.linspace` for these cases.\n",
    "    \n"
   ]
  },
  {
   "cell_type": "code",
   "execution_count": 85,
   "id": "8ad4575f",
   "metadata": {},
   "outputs": [
    {
     "data": {
      "text/plain": [
       "array([ 6, 12, 18, 24, 30, 36, 42, 48, 54, 60])"
      ]
     },
     "execution_count": 85,
     "metadata": {},
     "output_type": "execute_result"
    }
   ],
   "source": [
    "np.arange(6, 61, 6)"
   ]
  },
  {
   "cell_type": "code",
   "execution_count": 86,
   "id": "13f6ad40",
   "metadata": {},
   "outputs": [
    {
     "data": {
      "text/plain": [
       "array([ 20,  15,  10,   5,   0,  -5, -10, -15, -20])"
      ]
     },
     "execution_count": 86,
     "metadata": {},
     "output_type": "execute_result"
    }
   ],
   "source": [
    "np.arange(20, -21, -5)"
   ]
  },
  {
   "cell_type": "markdown",
   "id": "9e405a52",
   "metadata": {},
   "source": [
    "## np.random Module"
   ]
  },
  {
   "cell_type": "markdown",
   "id": "e6773a70",
   "metadata": {},
   "source": [
    "\n",
    "### np.random.rand()\n",
    "\n",
    "Return a Random values Uniformly sampled between 0 and 1 in given shape."
   ]
  },
  {
   "cell_type": "code",
   "execution_count": 87,
   "id": "e421416e",
   "metadata": {},
   "outputs": [
    {
     "name": "stdout",
     "output_type": "stream",
     "text": [
      "[[0.70075258 0.66567807 0.31062112]\n",
      " [0.32112489 0.93528659 0.11836049]\n",
      " [0.58106778 0.28665259 0.58654902]\n",
      " [0.74615579 0.80714888 0.09943491]\n",
      " [0.33751068 0.38143128 0.85973953]]\n"
     ]
    }
   ],
   "source": [
    "# Uniformly sampled between 0 and 1.\n",
    "arr_rand = np.random.rand(5,3)\n",
    "print(arr_rand)"
   ]
  },
  {
   "cell_type": "markdown",
   "id": "d15c42e1",
   "metadata": {},
   "source": [
    "\n",
    "### np.random.randn()\n",
    "\n",
    "Return a sample (or samples) from the \"standard normal\" distribution."
   ]
  },
  {
   "cell_type": "code",
   "execution_count": 88,
   "id": "29db383f",
   "metadata": {},
   "outputs": [
    {
     "name": "stdout",
     "output_type": "stream",
     "text": [
      "[[-0.51786748 -0.43020419 -1.2067791 ]\n",
      " [ 0.42078631 -0.2397249   0.7849541 ]\n",
      " [ 0.08204812 -1.43380822 -1.02334881]\n",
      " [-1.72684765  0.90414105 -1.18043256]\n",
      " [ 1.06462217  0.11238978 -0.26871573]]\n"
     ]
    }
   ],
   "source": [
    "# Series of number with mean 0 variance 1\n",
    "# Normal distribution\n",
    "\n",
    "arr_randn = np.random.randn(5,3)\n",
    "print(arr_randn)"
   ]
  },
  {
   "cell_type": "markdown",
   "id": "5315ad30",
   "metadata": {},
   "source": [
    "### np.random.random() & np.random.ranf() & np.random.random_sample(), \n",
    "\n",
    " Return random floats in the half-open interval 0.0 (inclusive), 1.0 (exclusive)."
   ]
  },
  {
   "cell_type": "code",
   "execution_count": 89,
   "id": "c9f85e77",
   "metadata": {},
   "outputs": [
    {
     "data": {
      "text/plain": [
       "array([0.05179912, 0.38866454, 0.06638627, 0.08774524, 0.4125645 ,\n",
       "       0.17813179, 0.49959157, 0.41023344, 0.23489986, 0.69073873])"
      ]
     },
     "execution_count": 89,
     "metadata": {},
     "output_type": "execute_result"
    }
   ],
   "source": [
    "np.random.random(10)"
   ]
  },
  {
   "cell_type": "code",
   "execution_count": 90,
   "id": "bdf40ef1",
   "metadata": {},
   "outputs": [
    {
     "name": "stdout",
     "output_type": "stream",
     "text": [
      "[0.56603313 0.13376511 0.52248183 0.02380347 0.6257006  0.28651518]\n"
     ]
    }
   ],
   "source": [
    "# Return random floats in the half-open interval [0.0, 1.0)\n",
    "\n",
    "arr_f = np.random.ranf(6)\n",
    "print(arr_f)"
   ]
  },
  {
   "cell_type": "code",
   "execution_count": 91,
   "id": "d09588a4",
   "metadata": {},
   "outputs": [
    {
     "name": "stdout",
     "output_type": "stream",
     "text": [
      "[[0.69506045 0.64924845 0.21084238 0.83506472]\n",
      " [0.8495853  0.96758966 0.99469368 0.08330187]]\n"
     ]
    }
   ],
   "source": [
    "arr_f = np.random.ranf((2,4))\n",
    "print(arr_f)"
   ]
  },
  {
   "cell_type": "code",
   "execution_count": 92,
   "id": "5800a27c",
   "metadata": {},
   "outputs": [
    {
     "name": "stdout",
     "output_type": "stream",
     "text": [
      "[[0.14359432 0.44849682 0.04529992]\n",
      " [0.31217235 0.66157626 0.11157812]]\n"
     ]
    }
   ],
   "source": [
    "arr_f = np.random.random_sample((2,3))\n",
    "print(arr_f)"
   ]
  },
  {
   "cell_type": "markdown",
   "id": "4da1bfe5",
   "metadata": {},
   "source": [
    "\n",
    "### np.random.randint()\n",
    "\n",
    "Return random integers from `low` (inclusive) to `high` (exclusive). Return random integers from the \"discrete uniform\" distribution of the specified dtype in the \"half-open\" interval `[low, high)`. If `high` is None (the default), then results are from `[0, low)`."
   ]
  },
  {
   "cell_type": "code",
   "execution_count": 93,
   "id": "928e092f",
   "metadata": {},
   "outputs": [
    {
     "name": "stdout",
     "output_type": "stream",
     "text": [
      "[[ 5  1 20  4 15]\n",
      " [ 7 13 20  4  8]]\n"
     ]
    }
   ],
   "source": [
    "# Random numbers beween 2 numbers in given dimention\n",
    "\n",
    "arr_rint = np.random.randint(1, 30, (2,5))\n",
    "print(arr_rint)"
   ]
  },
  {
   "cell_type": "markdown",
   "id": "65cafe21",
   "metadata": {},
   "source": [
    "\n",
    "### np.random.seed()\n",
    "\n",
    "Helps to fix the randomly generated number based on the seed value."
   ]
  },
  {
   "cell_type": "code",
   "execution_count": 94,
   "id": "8a92a3ab",
   "metadata": {},
   "outputs": [
    {
     "name": "stdout",
     "output_type": "stream",
     "text": [
      "[[0.8734294  0.96854066 0.86919454]\n",
      " [0.53085569 0.23272833 0.0113988 ]]\n"
     ]
    }
   ],
   "source": [
    "np.random.seed(8)\n",
    "arr_f = np.random.random_sample((2,3))\n",
    "print(arr_f)"
   ]
  },
  {
   "cell_type": "markdown",
   "id": "7daa17f1",
   "metadata": {},
   "source": [
    "\n",
    "### np.random.shuffle() & np.random.permutation()\n",
    "\n",
    "Randomly permute a sequence, or return a permuted range. If x is a multi-dimensional array, it is only shuffled along its first index."
   ]
  },
  {
   "cell_type": "code",
   "execution_count": 95,
   "id": "c32aaf6d",
   "metadata": {},
   "outputs": [
    {
     "name": "stdout",
     "output_type": "stream",
     "text": [
      "Before Shuffle:\n",
      " [[0.8734294  0.96854066 0.86919454]\n",
      " [0.53085569 0.23272833 0.0113988 ]]\n",
      "After Shuffle:\n",
      " [[0.8734294  0.96854066 0.86919454]\n",
      " [0.53085569 0.23272833 0.0113988 ]]\n"
     ]
    }
   ],
   "source": [
    "# Shuffle will alter the original array.\n",
    "\n",
    "print(\"Before Shuffle:\\n\", arr_f)\n",
    "np.random.shuffle(arr_f)\n",
    "print(\"After Shuffle:\\n\",arr_f)"
   ]
  },
  {
   "cell_type": "code",
   "execution_count": 96,
   "id": "dd39cb34",
   "metadata": {},
   "outputs": [
    {
     "name": "stdout",
     "output_type": "stream",
     "text": [
      "Before Shuffle:\n",
      " [[0.8734294  0.96854066 0.86919454]\n",
      " [0.53085569 0.23272833 0.0113988 ]]\n",
      "Shuffled Array:\n",
      " [[0.53085569 0.23272833 0.0113988 ]\n",
      " [0.8734294  0.96854066 0.86919454]]\n",
      "After Shuffle:\n",
      " [[0.8734294  0.96854066 0.86919454]\n",
      " [0.53085569 0.23272833 0.0113988 ]]\n"
     ]
    }
   ],
   "source": [
    "# Permutation returns the shuffled array\n",
    "# Do not alter the orgiginal\n",
    "\n",
    "print(\"Before Shuffle:\\n\", arr_f)\n",
    "arr_perm= np.random.permutation(arr_f)\n",
    "print(\"Shuffled Array:\\n\",arr_perm)\n",
    "print(\"After Shuffle:\\n\",arr_f)\n"
   ]
  },
  {
   "cell_type": "markdown",
   "id": "ed9a6533",
   "metadata": {},
   "source": [
    "\n",
    "### np.random.choice()\n",
    "\n",
    "Syntax: np.random.choice(a, size=None, replace=True, p=None)\n",
    "\n",
    "Generates a random sample from a given 1-D array"
   ]
  },
  {
   "cell_type": "code",
   "execution_count": 97,
   "id": "d15a8a91",
   "metadata": {},
   "outputs": [
    {
     "data": {
      "text/plain": [
       "array([2, 4, 3, 4, 1, 2, 2, 2, 4, 2])"
      ]
     },
     "execution_count": 97,
     "metadata": {},
     "output_type": "execute_result"
    }
   ],
   "source": [
    "# generates a 10 random sample from the given list\n",
    "\n",
    "np.random.choice([1, 2, 3, 4], 10)"
   ]
  },
  {
   "cell_type": "code",
   "execution_count": 98,
   "id": "5c64854a",
   "metadata": {},
   "outputs": [
    {
     "data": {
      "text/plain": [
       "array([2, 3, 2, 6, 6, 5, 0, 1, 3, 4])"
      ]
     },
     "execution_count": 98,
     "metadata": {},
     "output_type": "execute_result"
    }
   ],
   "source": [
    "# generates a 10 random sample using internally generated\n",
    "# array of integers from 0 to 7\n",
    "# With replcement, Number can repeat\n",
    "\n",
    "np.random.choice(8, 10, 1)"
   ]
  },
  {
   "cell_type": "code",
   "execution_count": 99,
   "id": "791cae0e",
   "metadata": {},
   "outputs": [
    {
     "data": {
      "text/plain": [
       "array([ 8,  4,  0,  3, 12, 13,  1,  6,  2,  9])"
      ]
     },
     "execution_count": 99,
     "metadata": {},
     "output_type": "execute_result"
    }
   ],
   "source": [
    "# generates a 10 random sample using internally generated\n",
    "# array of integers from 0 to 14\n",
    "# Without replcement, Number can repeat\n",
    "# Range should be higher than reqeusted array number\n",
    "\n",
    "np.random.choice(15, 10, 0)"
   ]
  },
  {
   "cell_type": "markdown",
   "id": "6b5eb973",
   "metadata": {},
   "source": [
    "\n",
    "****\n"
   ]
  }
 ],
 "metadata": {
  "kernelspec": {
   "display_name": "Python 3 (ipykernel)",
   "language": "python",
   "name": "python3"
  },
  "language_info": {
   "codemirror_mode": {
    "name": "ipython",
    "version": 3
   },
   "file_extension": ".py",
   "mimetype": "text/x-python",
   "name": "python",
   "nbconvert_exporter": "python",
   "pygments_lexer": "ipython3",
   "version": "3.10.8"
  }
 },
 "nbformat": 4,
 "nbformat_minor": 5
}
