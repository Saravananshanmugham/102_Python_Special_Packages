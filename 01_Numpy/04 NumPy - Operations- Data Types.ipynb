{
 "cells": [
  {
   "cell_type": "markdown",
   "id": "9489bf49",
   "metadata": {},
   "source": [
    "\n",
    "# Numpy - Operations - Data Types\n"
   ]
  },
  {
   "cell_type": "code",
   "execution_count": 1,
   "id": "f0effbfb",
   "metadata": {},
   "outputs": [],
   "source": [
    "import numpy as np"
   ]
  },
  {
   "cell_type": "markdown",
   "id": "c7268d3a",
   "metadata": {},
   "source": [
    "\n",
    "****\n"
   ]
  },
  {
   "cell_type": "markdown",
   "id": "99e6c556",
   "metadata": {},
   "source": [
    "\n",
    "## Data Types in Python\n",
    "\n",
    "By default Python have these data types:\n",
    "\n",
    "* strings - used to represent text data, the text is given under quote marks. e.g. \"ABCD\"\n",
    "* integer - used to represent integer numbers. e.g. -1, -2, -3\n",
    "* float - used to represent real numbers. e.g. 1.2, 42.42\n",
    "* boolean - used to represent True or False.\n",
    "* complex - used to represent complex numbers. e.g. 1.0 + 2.0j, 1.5 + 2.5j"
   ]
  },
  {
   "cell_type": "markdown",
   "id": "ded7bd3e",
   "metadata": {},
   "source": [
    "\n",
    "## Data Types in NumPy\n",
    "\n",
    "NumPy has some extra data types, and refer to data types with one character, like `i` for integers, `u` for unsigned integers etc.\n",
    "\n",
    "Below is a list of all data types in NumPy and the characters used to represent them.\n",
    "* i - integer\n",
    "* b - boolean\n",
    "* u - unsigned integer\n",
    "* f - float\n",
    "* c - complex float\n",
    "* m - timedelta\n",
    "* M - datetime\n",
    "* O - object\n",
    "* S - string\n",
    "* U - unicode string\n",
    "* V - fixed chunk of memory for other type ( void )\n",
    "\n"
   ]
  },
  {
   "cell_type": "markdown",
   "id": "ae858987",
   "metadata": {},
   "source": [
    "\n",
    "### Checking the Data Type of an Array\n",
    "\n",
    "The NumPy array object has a property called dtype that returns the data type of the array."
   ]
  },
  {
   "cell_type": "code",
   "execution_count": 4,
   "id": "0b88ffa0",
   "metadata": {},
   "outputs": [
    {
     "name": "stdout",
     "output_type": "stream",
     "text": [
      "float64\n",
      "<U6\n"
     ]
    }
   ],
   "source": [
    "# For String - 'U' Means Unicode\n",
    "# For String - Number 6 means Max length of a string in the array\n",
    "\n",
    "f_arr = np.array([1.6, 2.5, 3.7])\n",
    "s_arr = np.array(['apple', 'banana', 'cherry'])\n",
    "\n",
    "print(f_arr.dtype)\n",
    "print(s_arr.dtype)"
   ]
  },
  {
   "cell_type": "markdown",
   "id": "872e0d77",
   "metadata": {},
   "source": [
    "\n",
    "## Creating Arrays With a Defined Data Type\n",
    "\n",
    "We use the `array()` function to create arrays, this function can take an optional argument: dtype that allows us to define the expected data type of the array elements."
   ]
  },
  {
   "cell_type": "code",
   "execution_count": 8,
   "id": "111c49e2",
   "metadata": {},
   "outputs": [
    {
     "name": "stdout",
     "output_type": "stream",
     "text": [
      "[1 2 3 4]\n",
      "int32\n"
     ]
    }
   ],
   "source": [
    "# Created with default size int32\n",
    "\n",
    "i_arr = np.array([1, 2, 3, 4], dtype='i')\n",
    "\n",
    "print(i_arr)\n",
    "print(i_arr.dtype)"
   ]
  },
  {
   "cell_type": "code",
   "execution_count": 18,
   "id": "3eb4f81d",
   "metadata": {},
   "outputs": [
    {
     "name": "stdout",
     "output_type": "stream",
     "text": [
      "[1 2 3 4]\n",
      "int8\n"
     ]
    }
   ],
   "source": [
    "# Create array with int8 if the array content\n",
    "# is expected to be small numbers \n",
    "# 1=8 bytes, 2=16 bytes, 4=32 bytes, 8 = 64 bytes\n",
    "# It should be in multiples of 2 of the bytes \n",
    "\n",
    "i_arr = np.array([1, 2, 3, 4], dtype='i1')\n",
    "\n",
    "print(i_arr)\n",
    "print(i_arr.dtype)"
   ]
  },
  {
   "cell_type": "markdown",
   "id": "42e99ab4",
   "metadata": {},
   "source": [
    "\n",
    "## Coverting Data Type of Existing Array\n",
    "\n",
    "The best way to change the data type of an existing array, is to make a copy of the array with the `astype()` method.\n",
    "\n",
    "The `astype()` function creates a copy of the array, and allows you to specify the data type as a parameter.\n",
    "\n",
    "The data type can be specified using a string, like 'f' for float, 'i' for integer etc. or you can use the data type directly like float for float and int for integer."
   ]
  },
  {
   "cell_type": "code",
   "execution_count": null,
   "id": "7a289f02",
   "metadata": {},
   "outputs": [],
   "source": [
    "arr1 = np.array([1.6, 2.5, 3.7])\n",
    "\n",
    "#new_arr1 = arr1.astype('i')\n",
    "new_arr1 = arr1.astype(int)\n",
    "\n",
    "print(\"Original Array:\",arr1)\n",
    "print(\"Coverted to Int:\",new_arr1)\n",
    "print(new_arr1.dtype)"
   ]
  },
  {
   "cell_type": "code",
   "execution_count": null,
   "id": "f52da26f",
   "metadata": {},
   "outputs": [],
   "source": [
    "# 0 - False\n",
    "# >= 1 - True\n",
    "\n",
    "arr2 = np.array([1, 0, 3])\n",
    "bool_arr = arr2.astype(bool)\n",
    "\n",
    "print(\"Original Array:\",arr2)\n",
    "print(\"Coverted to Int:\",bool_arr)\n",
    "print(bool_arr.dtype)\n"
   ]
  },
  {
   "cell_type": "markdown",
   "id": "08025d4b",
   "metadata": {},
   "source": [
    "### What if a Value Can Not Be Converted?\n",
    "If a type is given in which elements can't be casted then NumPy will raise a ValueError.\n",
    "\n",
    ">**ValueError:** In Python ValueError is raised when the type of passed argument to a function is unexpected/incorrect."
   ]
  },
  {
   "cell_type": "markdown",
   "id": "d0a15163",
   "metadata": {},
   "source": [
    "\n",
    "****\n"
   ]
  }
 ],
 "metadata": {
  "kernelspec": {
   "display_name": "Python 3 (ipykernel)",
   "language": "python",
   "name": "python3"
  },
  "language_info": {
   "codemirror_mode": {
    "name": "ipython",
    "version": 3
   },
   "file_extension": ".py",
   "mimetype": "text/x-python",
   "name": "python",
   "nbconvert_exporter": "python",
   "pygments_lexer": "ipython3",
   "version": "3.8.12"
  }
 },
 "nbformat": 4,
 "nbformat_minor": 5
}
