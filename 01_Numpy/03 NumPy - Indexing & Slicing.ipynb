{
 "cells": [
  {
   "cell_type": "markdown",
   "id": "9489bf49",
   "metadata": {},
   "source": [
    "\n",
    "# Numpy - Indexing\n",
    "\n",
    "## Indexing array\n",
    "\n",
    "Array indexing is the same as accessing an array element. You can access an array element by referring to its index number. The indexes in NumPy arrays start with 0, meaning that the first element has index 0, and the second has index 1 etc.\n",
    "\n",
    "#### Negative Indexing\n",
    "Use negative indexing to access an array from the end. -1 refers to the last element in the array.\n",
    "\n",
    "## Slicing arrays\n",
    "\n",
    "Slicing in python means taking elements from one given index to another given index.We pass slice instead of index like this: `[start:end]`.\n",
    "\n",
    "We can also define the step, like this: `[start:end:step]`. If we don't pass start its considered `0`. If we don't pass end its considered `length of array` in that dimension. If we don't pass step its considered `1`\n"
   ]
  },
  {
   "cell_type": "code",
   "execution_count": 1,
   "id": "f0effbfb",
   "metadata": {},
   "outputs": [],
   "source": [
    "import numpy as np"
   ]
  },
  {
   "cell_type": "markdown",
   "id": "c7268d3a",
   "metadata": {},
   "source": [
    "\n",
    "****\n"
   ]
  },
  {
   "cell_type": "code",
   "execution_count": 2,
   "id": "e3c0f86e",
   "metadata": {},
   "outputs": [
    {
     "name": "stdout",
     "output_type": "stream",
     "text": [
      "[[[ 1  2  3  4  5]\n",
      "  [ 6  7  8  9 10]]\n",
      "\n",
      " [[11 12 13 14 15]\n",
      "  [16 17 18 19 20]]]\n"
     ]
    }
   ],
   "source": [
    "# This is an example to create 3D array with data type\n",
    "\n",
    "arr3d = np.array([\n",
    "    [\n",
    "        [1, 2, 3, 4, 5],\n",
    "        [6, 7, 8, 9, 10]\n",
    "    ],\n",
    "    [\n",
    "        [11, 12, 13, 14, 15],\n",
    "        [16, 17, 18, 19, 20]\n",
    "    ]\n",
    "], dtype='int8')\n",
    "\n",
    "print(arr3d)"
   ]
  },
  {
   "cell_type": "markdown",
   "id": "32015cda",
   "metadata": {},
   "source": [
    "\n",
    "***\n"
   ]
  },
  {
   "cell_type": "markdown",
   "id": "a349706b",
   "metadata": {},
   "source": [
    "\n",
    "## Numpy - Indexing\n"
   ]
  },
  {
   "cell_type": "code",
   "execution_count": 3,
   "id": "47c39eaa",
   "metadata": {},
   "outputs": [
    {
     "name": "stdout",
     "output_type": "stream",
     "text": [
      "3\n"
     ]
    }
   ],
   "source": [
    "# Index the 3 from the array\n",
    "\n",
    "print(arr3d[0,0,2])"
   ]
  },
  {
   "cell_type": "code",
   "execution_count": 4,
   "id": "d28603ba",
   "metadata": {},
   "outputs": [
    {
     "name": "stdout",
     "output_type": "stream",
     "text": [
      "9\n",
      "9\n"
     ]
    }
   ],
   "source": [
    "# Index the 9 from the array\n",
    "\n",
    "print(arr3d[0,1,3])\n",
    "print(arr3d[0,1,-2])   # Using the negative index, last element is -1"
   ]
  },
  {
   "cell_type": "markdown",
   "id": "8d89c7a1",
   "metadata": {},
   "source": [
    "\n",
    "## Numpy - Slicing\n"
   ]
  },
  {
   "cell_type": "code",
   "execution_count": 5,
   "id": "257a1bed",
   "metadata": {},
   "outputs": [
    {
     "name": "stdout",
     "output_type": "stream",
     "text": [
      "[18 19]\n"
     ]
    }
   ],
   "source": [
    "# Slice the 18 & 19 from the array\n",
    "# Dimension: 1, Row: 1, Columns: 2 & 3. (4 Excluded)\n",
    "\n",
    "print(arr3d[1,1,2:4])\n"
   ]
  },
  {
   "cell_type": "code",
   "execution_count": 6,
   "id": "98bef287",
   "metadata": {},
   "outputs": [
    {
     "name": "stdout",
     "output_type": "stream",
     "text": [
      "[[ 2  7]\n",
      " [12 17]]\n"
     ]
    }
   ],
   "source": [
    "# Slice the 2, 7, 12,& 17 from the array\n",
    "# Dimension: All, Row: All, Columns: 1\n",
    "\n",
    "print(arr3d[:,:,1])"
   ]
  },
  {
   "cell_type": "code",
   "execution_count": 7,
   "id": "7b4915bf",
   "metadata": {},
   "outputs": [
    {
     "name": "stdout",
     "output_type": "stream",
     "text": [
      "[[[ 2  3  4]\n",
      "  [ 7  8  9]]\n",
      "\n",
      " [[12 13 14]\n",
      "  [17 18 19]]]\n"
     ]
    }
   ],
   "source": [
    "# Slice the 2,3 & 4 Colums from the array\n",
    "# Dimension: All, Row: All, Columns: 1 to 3 (4 Excluded)\n",
    "\n",
    "print(arr3d[:,:,1:4])"
   ]
  },
  {
   "cell_type": "code",
   "execution_count": 9,
   "id": "db6dd194",
   "metadata": {},
   "outputs": [
    {
     "name": "stdout",
     "output_type": "stream",
     "text": [
      "[[11 13 15]\n",
      " [16 18 20]]\n"
     ]
    }
   ],
   "source": [
    "# Slice the Alternate columns starting from 1st column \n",
    "# from the array from Dim 1\n",
    "# Dimension: 1, Row: All, Columns: all, skip by 2\n",
    "\n",
    "print(arr3d[1,:,::2])"
   ]
  },
  {
   "cell_type": "code",
   "execution_count": 10,
   "id": "2e2d4e0b",
   "metadata": {},
   "outputs": [
    {
     "name": "stdout",
     "output_type": "stream",
     "text": [
      "[[[ 1  4  5]\n",
      "  [ 6  9 10]]\n",
      "\n",
      " [[11 14 15]\n",
      "  [16 19 20]]]\n"
     ]
    }
   ],
   "source": [
    "# Slice the 1st, 4th  & 5th columns from arry\n",
    "# Dimension: All, Row: All, Columns: 0, 3 & 4 \n",
    "\n",
    "print(arr3d[:,:,[0,3,4]])"
   ]
  },
  {
   "cell_type": "code",
   "execution_count": 11,
   "id": "8404830f",
   "metadata": {},
   "outputs": [
    {
     "data": {
      "text/plain": [
       "array([[[False,  True, False,  True, False],\n",
       "        [ True, False,  True, False,  True]],\n",
       "\n",
       "       [[False,  True, False,  True, False],\n",
       "        [ True, False,  True, False,  True]]])"
      ]
     },
     "execution_count": 11,
     "metadata": {},
     "output_type": "execute_result"
    }
   ],
   "source": [
    "# Display only Even Numbers\n",
    "arr3d % 2 ==0"
   ]
  },
  {
   "cell_type": "code",
   "execution_count": 12,
   "id": "954648c9",
   "metadata": {},
   "outputs": [
    {
     "data": {
      "text/plain": [
       "array([ 2,  4,  6,  8, 10, 12, 14, 16, 18, 20], dtype=int8)"
      ]
     },
     "execution_count": 12,
     "metadata": {},
     "output_type": "execute_result"
    }
   ],
   "source": [
    "# Condition - Only even numbers\n",
    "\n",
    "arr3d[arr3d % 2 ==0]"
   ]
  },
  {
   "cell_type": "code",
   "execution_count": 13,
   "id": "1ad3e43c",
   "metadata": {},
   "outputs": [
    {
     "data": {
      "text/plain": [
       "array([2, 4, 6, 8], dtype=int8)"
      ]
     },
     "execution_count": 13,
     "metadata": {},
     "output_type": "execute_result"
    }
   ],
   "source": [
    "# Multiple filter criterias\n",
    "# Even numbers and Less than 10\n",
    "\n",
    "arr3d[(arr3d % 2 ==0) & (arr3d <10) ]"
   ]
  },
  {
   "cell_type": "markdown",
   "id": "c44ce27d",
   "metadata": {},
   "source": [
    "\n",
    "***\n"
   ]
  }
 ],
 "metadata": {
  "kernelspec": {
   "display_name": "Python 3 (ipykernel)",
   "language": "python",
   "name": "python3"
  },
  "language_info": {
   "codemirror_mode": {
    "name": "ipython",
    "version": 3
   },
   "file_extension": ".py",
   "mimetype": "text/x-python",
   "name": "python",
   "nbconvert_exporter": "python",
   "pygments_lexer": "ipython3",
   "version": "3.8.12"
  }
 },
 "nbformat": 4,
 "nbformat_minor": 5
}
