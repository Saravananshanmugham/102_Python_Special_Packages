{
 "cells": [
  {
   "cell_type": "code",
   "execution_count": 1,
   "id": "1368bb86",
   "metadata": {},
   "outputs": [],
   "source": [
    "import numpy as np"
   ]
  },
  {
   "cell_type": "markdown",
   "id": "9227f68b",
   "metadata": {},
   "source": [
    "\n",
    "-------\n"
   ]
  },
  {
   "cell_type": "markdown",
   "id": "902c1ba2",
   "metadata": {},
   "source": [
    "\n",
    "# NumPy - Linear Algebra\n"
   ]
  },
  {
   "cell_type": "markdown",
   "id": "ca9cd63c",
   "metadata": {},
   "source": [
    " **Dot product of two arrays. Specifically,**\n",
    "- If both `a` and `b` are 1-D arrays, it is inner product of vectors (without complex conjugation).\n",
    "- If both `a` and `b` are 2-D arrays, it is matrix multiplication, but using :func:`matmul` or ``a @ b`` is preferred.\n",
    "- If either `a` or `b` is 0-D (scalar), it is equivalent to func:`multiply` and using ``numpy.multiply(a, b)`` or ``a * b`` is preferred.\n",
    "- If `a` is an N-D array and `b` is a 1-D array, it is a sum product over the last axis of `a` and `b`.\n",
    "- If `a` is an N-D array and `b` is an M-D array (where ``M>=2``), it is a sum product over the last axis of `a` and the second-to-last axis of `b`"
   ]
  },
  {
   "cell_type": "code",
   "execution_count": 12,
   "id": "2d95983c",
   "metadata": {},
   "outputs": [
    {
     "data": {
      "text/plain": [
       "38"
      ]
     },
     "execution_count": 12,
     "metadata": {},
     "output_type": "execute_result"
    }
   ],
   "source": [
    "# a and b are 1-D Array\n",
    "a = np.array([1,2,3])\n",
    "b = np.array([5,6,7])\n",
    "np.dot(a, b)"
   ]
  },
  {
   "cell_type": "code",
   "execution_count": 13,
   "id": "bdd20235",
   "metadata": {},
   "outputs": [
    {
     "data": {
      "text/plain": [
       "array([[37, 40],\n",
       "       [85, 92]])"
      ]
     },
     "execution_count": 13,
     "metadata": {},
     "output_type": "execute_result"
    }
   ],
   "source": [
    "# Dot Product of 2 Arrays\n",
    "a = np.array([[1,2],[3,4]]) \n",
    "b = np.array([[11,12],[13,14]]) \n",
    "np.dot(a,b)"
   ]
  },
  {
   "cell_type": "code",
   "execution_count": 15,
   "id": "9b6ada0e",
   "metadata": {},
   "outputs": [
    {
     "data": {
      "text/plain": [
       "array([[ 5, 10],\n",
       "       [15, 20]])"
      ]
     },
     "execution_count": 15,
     "metadata": {},
     "output_type": "execute_result"
    }
   ],
   "source": [
    "a = np.array([[1,2],[3,4]])\n",
    "b = np.array(5)\n",
    "np.dot(a, b)"
   ]
  },
  {
   "cell_type": "code",
   "execution_count": 25,
   "id": "671dd4c7",
   "metadata": {},
   "outputs": [
    {
     "data": {
      "text/plain": [
       "array([ 6, 14])"
      ]
     },
     "execution_count": 25,
     "metadata": {},
     "output_type": "execute_result"
    }
   ],
   "source": [
    "a = np.array([[1,2],[3,4]])\n",
    "b = np.array([2,2])\n",
    "np.dot(a, b)"
   ]
  },
  {
   "cell_type": "code",
   "execution_count": 30,
   "id": "3f6fd204",
   "metadata": {},
   "outputs": [
    {
     "data": {
      "text/plain": [
       "array([[12, 14],\n",
       "       [30, 32]])"
      ]
     },
     "execution_count": 30,
     "metadata": {},
     "output_type": "execute_result"
    }
   ],
   "source": [
    "# Dot Product of N x M D array\n",
    "\n",
    "a = np.array([[1, 2, 3],[4, 5, 6]]) \n",
    "b = np.array([[2, 1],[2, 2],[2, 3]]) \n",
    "\n",
    "np.dot(a,b)"
   ]
  },
  {
   "cell_type": "markdown",
   "id": "75436e2f",
   "metadata": {},
   "source": [
    "##### Matrix Multiplication"
   ]
  },
  {
   "cell_type": "code",
   "execution_count": 34,
   "id": "30ccf073",
   "metadata": {},
   "outputs": [
    {
     "data": {
      "text/plain": [
       "array([[12, 14],\n",
       "       [30, 32]])"
      ]
     },
     "execution_count": 34,
     "metadata": {},
     "output_type": "execute_result"
    }
   ],
   "source": [
    "a = np.array([[1, 2, 3],[4, 5, 6]]) \n",
    "b = np.array([[2, 1],[2, 2],[2, 3]]) \n",
    "np.matmul(a,b)"
   ]
  },
  {
   "cell_type": "markdown",
   "id": "e757ad6d",
   "metadata": {},
   "source": [
    "#### Dot product of the two vectors."
   ]
  },
  {
   "cell_type": "code",
   "execution_count": 35,
   "id": "baa626ba",
   "metadata": {},
   "outputs": [
    {
     "data": {
      "text/plain": [
       "130"
      ]
     },
     "execution_count": 35,
     "metadata": {},
     "output_type": "execute_result"
    }
   ],
   "source": [
    "a = np.array([[1,2],[3,4]]) \n",
    "b = np.array([[11,12],[13,14]]) \n",
    "np.vdot(a,b)"
   ]
  },
  {
   "cell_type": "markdown",
   "id": "9098c6ec",
   "metadata": {},
   "source": [
    "#### Determinant of Matrix"
   ]
  },
  {
   "cell_type": "code",
   "execution_count": 41,
   "id": "89a00c3f",
   "metadata": {},
   "outputs": [
    {
     "data": {
      "text/plain": [
       "-209.99999999999977"
      ]
     },
     "execution_count": 41,
     "metadata": {},
     "output_type": "execute_result"
    }
   ],
   "source": [
    "a = np.array([[11, 2, 3],[14, 5, 6],[7,18,9]]) \n",
    "np.linalg.det(a)"
   ]
  },
  {
   "cell_type": "code",
   "execution_count": null,
   "id": "4633c91c",
   "metadata": {},
   "outputs": [],
   "source": []
  },
  {
   "cell_type": "code",
   "execution_count": 43,
   "id": "9ed30553",
   "metadata": {},
   "outputs": [
    {
     "data": {
      "text/plain": [
       "array([[35, 41],\n",
       "       [81, 95]])"
      ]
     },
     "execution_count": 43,
     "metadata": {},
     "output_type": "execute_result"
    }
   ],
   "source": [
    "a = np.array([[1,2], [3,4]]) \n",
    "b = np.array([[11, 12], [13, 14]]) \n",
    "np.inner(a,b)"
   ]
  },
  {
   "cell_type": "markdown",
   "id": "8774694c",
   "metadata": {},
   "source": [
    "#### "
   ]
  },
  {
   "cell_type": "code",
   "execution_count": 46,
   "id": "6ffc2835",
   "metadata": {},
   "outputs": [
    {
     "data": {
      "text/plain": [
       "array([2., 3.])"
      ]
     },
     "execution_count": 46,
     "metadata": {},
     "output_type": "execute_result"
    }
   ],
   "source": [
    "a = np.array([[3,1], [1,2]])\n",
    "b = np.array([9,8])\n",
    "x = np.linalg.solve(a, b)\n",
    "x"
   ]
  },
  {
   "cell_type": "code",
   "execution_count": 48,
   "id": "2f06cd3a",
   "metadata": {},
   "outputs": [
    {
     "data": {
      "text/plain": [
       "True"
      ]
     },
     "execution_count": 48,
     "metadata": {},
     "output_type": "execute_result"
    }
   ],
   "source": [
    "# Check that the solution is correct:\n",
    "np.allclose(np.dot(a, x), b)\n"
   ]
  },
  {
   "cell_type": "code",
   "execution_count": 52,
   "id": "b354738c",
   "metadata": {},
   "outputs": [
    {
     "data": {
      "text/plain": [
       "array([[-2. ,  1. ],\n",
       "       [ 1.5, -0.5]])"
      ]
     },
     "execution_count": 52,
     "metadata": {},
     "output_type": "execute_result"
    }
   ],
   "source": [
    "x = np.array([[1,2],[3,4]]) \n",
    "y = np.linalg.inv(x) \n",
    "y"
   ]
  }
 ],
 "metadata": {
  "kernelspec": {
   "display_name": "Python 3 (ipykernel)",
   "language": "python",
   "name": "python3"
  },
  "language_info": {
   "codemirror_mode": {
    "name": "ipython",
    "version": 3
   },
   "file_extension": ".py",
   "mimetype": "text/x-python",
   "name": "python",
   "nbconvert_exporter": "python",
   "pygments_lexer": "ipython3",
   "version": "3.8.12"
  }
 },
 "nbformat": 4,
 "nbformat_minor": 5
}
