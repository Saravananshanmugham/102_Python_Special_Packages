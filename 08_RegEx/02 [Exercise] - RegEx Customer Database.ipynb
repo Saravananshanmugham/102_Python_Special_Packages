{
 "cells": [
  {
   "cell_type": "markdown",
   "id": "997ea1ae",
   "metadata": {},
   "source": [
    "# Exercise - RegEx Customer Database"
   ]
  },
  {
   "cell_type": "code",
   "execution_count": 1,
   "id": "7bdde79c",
   "metadata": {},
   "outputs": [],
   "source": [
    "import re"
   ]
  },
  {
   "cell_type": "markdown",
   "id": "df6c8e35",
   "metadata": {},
   "source": [
    "## Exercise - Address List"
   ]
  },
  {
   "cell_type": "markdown",
   "id": "5b3bbd7c",
   "metadata": {},
   "source": [
    "#### Step 1: Extract File content"
   ]
  },
  {
   "cell_type": "code",
   "execution_count": 25,
   "id": "d541e328",
   "metadata": {},
   "outputs": [],
   "source": [
    "with open(\"C:\\MyLearn\\DataSet\\RegEx\\data.txt\", mode=\"r\", encoding=\"utf-8\") as f:\n",
    "    addr_list = f.readlines()"
   ]
  },
  {
   "cell_type": "markdown",
   "id": "5cefaabb",
   "metadata": {},
   "source": [
    "#### Step 2: Convert the list into a string"
   ]
  },
  {
   "cell_type": "code",
   "execution_count": 26,
   "id": "a21eadec",
   "metadata": {},
   "outputs": [],
   "source": [
    "addr_str =\"\"\n",
    "for line in addr_list:\n",
    "    myline = line.strip()   # Remove the extra spaces and new line characters\n",
    "    addr_str += myline+\" \"  # Add a space between words         "
   ]
  },
  {
   "cell_type": "markdown",
   "id": "0e1f9a33",
   "metadata": {},
   "source": [
    "#### Step 3: Create an RegEx expression"
   ]
  },
  {
   "cell_type": "code",
   "execution_count": 27,
   "id": "c734bc7d",
   "metadata": {},
   "outputs": [
    {
     "name": "stdout",
     "output_type": "stream",
     "text": [
      "['Dave Martin', 'Charles Harris', 'Eric Williams', 'Corey Jefferson', 'Erick Davis', 'Neil Patterson', 'Laura Jefferson', 'Michael Arnold', 'Michael Smith', 'Erik Stuart', 'Laura Martin', 'Linda Jackson', 'Eric Miller', 'Dave Arnold', 'Neil Wilson', 'Kurt Jackson', 'Mary Jacobs', 'Michael White', 'Jennifer Jenkins', 'Sam Wright', 'John Davis', 'Eric Davis', 'Laura Jackson', 'John Williams', 'Michael Martin', 'Maggie Brown', 'Erik Wilson', 'Elizabeth Arnold', 'Jane Martin', 'Laura Jefferson', 'Jennifer Taylor', 'Erick Wright', 'Steve Doe', 'Kurt Davis', 'Elizabeth Davis', 'Maggie Jenkins', 'Linda Jenkins', 'Eric White', 'Laura Robinson', 'Charles Patterson', 'Michael Johnson', 'Corey Miller', 'James Moore', 'Charles Martin', 'Eric Wilks', 'Elizabeth Arnold', 'John Miller', 'Corey Jackson', 'Sam Thomas', 'Patricia Thomas', 'Jennifer Davis', 'Patricia Brown', 'Barbara Williams', 'James Taylor', 'Eric Harris', 'Travis Anderson', 'Sam Robinson', 'Steve Robinson', 'Sam Wilson', 'Charles Jones', 'Laura Brown', 'Tom Harris', 'Patricia Taylor', 'Barbara Williams', 'Maggie Johnson', 'Kurt Miller', 'Neil Stuart', 'Linda Patterson', 'Charles Davis', 'Jennifer Jefferson', 'Erick Taylor', 'Robert Wilks', 'Travis Jackson', 'Travis Jackson', 'Laura Wilks', 'Neil Arnold', 'Linda Johnson', 'Jennifer Wilson', 'Maria Arnold', 'Mary Patterson', 'Robert Davis', 'James Taylor', 'Charles Miller']\n"
     ]
    }
   ],
   "source": [
    "# Extract Customer Name\n",
    "pattern = re.compile(r\"([a-zA-Z]+\\s[a-zA-Z]+)(\\s\\d{3}-\\d{3}-\\d{4}\\s\\d{3}\\s)([a-zA-z0-9]+\\sSt.,\\s)([a-zA-Z]+\\s)([A-Z]+\\s)(\\d{5}\\s[a-zA-Z]+@[a-z]+\\.[a-z]+)\")\n",
    "matches = pattern.finditer(addr_str)\n",
    "cust_name = [match.group(1) for match in matches]\n",
    "print(cust_name)"
   ]
  },
  {
   "cell_type": "code",
   "execution_count": 28,
   "id": "1b53c2a5",
   "metadata": {},
   "outputs": [
    {
     "name": "stdout",
     "output_type": "stream",
     "text": [
      "['615-555-7164', '800-555-5669', '560-555-5153', '900-555-9340', '714-555-7405', '800-555-6771', '783-555-4799', '516-555-4615', '127-555-1867', '608-555-4938', '568-555-6051', '292-555-1875', '900-555-3205', '614-555-1166', '530-555-2676', '470-555-2750', '800-555-6089', '880-555-8319', '777-555-8378', '998-555-7385', '800-555-7100', '903-555-8277', '196-555-5674', '900-555-5118', '905-555-1630', '203-555-3475', '884-555-8444', '904-555-8559', '889-555-7393', '195-555-2405', '321-555-9053', '133-555-1711', '900-555-5428', '760-555-7147', '391-555-6621', '932-555-7724', '609-555-7908', '800-555-8810', '149-555-7657', '130-555-9709', '143-555-9295', '903-555-9878', '574-555-3194', '496-555-7533', '210-555-3757', '900-555-9598', '866-555-9844', '669-555-7159', '152-555-7417', '893-555-9832', '217-555-7123', '786-555-6544', '780-555-2574', '926-555-8735', '895-555-3539', '874-555-3949', '800-555-2420', '936-555-6340', '372-555-9809', '890-555-5618', '670-555-3005', '509-555-5997', '721-555-5632', '900-555-3567', '147-555-6830', '582-555-3426', '400-555-1706', '525-555-1793', '317-555-6700', '974-555-8301', '800-555-3216', '746-555-4094', '922-555-1773', '711-555-4427', '355-555-1872', '852-555-6521', '691-555-5773', '332-555-5441', '900-555-7755', '379-555-3685', '127-555-9682', '789-555-7032', '783-555-5135', '315-555-6507', '481-555-5835', '365-555-8287', '911-555-7535', '681-555-2460', '274-555-9800', '800-555-1372', '300-555-7821', '133-555-3889', '705-555-6863', '215-555-9449', '988-555-6112', '623-555-3006', '192-555-4977', '178-555-4899', '952-555-3089', '900-555-6426']\n"
     ]
    }
   ],
   "source": [
    "# Extract Telephone Number\n",
    "pattern = re.compile(r\"\\d{3}-\\d{3}-\\d{4}\")\n",
    "matches = pattern.findall(addr_str)\n",
    "print(matches)"
   ]
  },
  {
   "cell_type": "code",
   "execution_count": 29,
   "id": "a75e66bd",
   "metadata": {},
   "outputs": [
    {
     "name": "stdout",
     "output_type": "stream",
     "text": [
      "['55924', '34075', '86847', '10671', '74983', '32425', '61914', '29947', '43597', '90938', '99000', '87282', '28362', '92474', '61967', '56526', '97152', '82767', '72160', '97183', '58176', '89212', '96962', '77737', '34615', '30826', '29348', '94854', '21888', '59348', '74122', '99431', '16576', '25668', '29540', '60758', '78172', '79714', '87195', '85386', '57112', '64102', '17880', '46692', '78455', '29087', '11899', '43281', '78036', '62260', '66724', '18586', '16272', '89569', '54999', '89260', '61275', '88289', '75205', '36433', '25473', '30958', '62155', '57680', '55462', '51312', '72025', '78862', '13147', '92369', '29551', '23225', '81427', '96421', '96698', '98412', '26245', '56449', '97503', '49113', '47472', '11845', '74526', '26941', '47182', '22772', '73725', '47466', '73860', '82473', '58720', '57764', '31836', '31169', '81541', '15445', '22215', '39308', '16547', '24886']\n"
     ]
    }
   ],
   "source": [
    "# Extract the Zip Code\n",
    "pattern = re.compile(r\"\\d{5}\")\n",
    "matches = pattern.findall(addr_str)\n",
    "print(matches)"
   ]
  },
  {
   "cell_type": "code",
   "execution_count": 30,
   "id": "67352f45",
   "metadata": {},
   "outputs": [
    {
     "name": "stdout",
     "output_type": "stream",
     "text": [
      "['Springfield ', 'Atlantis ', 'Faketown ', 'Epicburg ', 'Sunnydale ', 'Olympus ', 'Dawnstar ', 'Pythonville ', 'Quahog ', 'Winterfell ', 'Lakeview ', 'Smalltown ', 'Westworld ', 'Balmora ', 'Valyria ', 'Mordor ', 'Blackwater ', 'Bedrock ', 'Mordor ', 'Smalltown ', 'Smalltown ', 'Bedrock ', 'Balmora ', 'Quahog ', 'Valyria ', 'Olympus ', 'Lakeview ', 'Mordor ', 'Winterfell ', 'Metropolis ', 'Metropolis ', 'Pythonville ', 'Blackwater ', 'Atlantis ', 'Atlantis ', 'Eerie ', 'Gotham ', 'Bedrock ', 'Smalltown ', 'Valyria ', 'Valyria ', 'Smalltown ', 'Springfield ', 'Gotham ', 'Faketown ', 'Blackwater ', 'Atlantis ', 'Thundera ', 'Gotham ', 'Springfield ', 'Blackwater ', 'Smalltown ', 'Gotham ', 'Balmora ', 'Dawnstar ', 'Smalltown ', 'Thundera ', 'Lakeview ', 'Springfield ', 'Westworld ', 'Olympus ', 'Smalltown ', 'Blackwater ', 'Olympus ', 'Sunnydale ', 'Quahog ', 'Quahog ', 'Sunnydale ', 'Lakeview ', 'Mordor ', 'Sunnydale ', 'Bedrock ', 'Sunnydale ', 'Metropolis ', 'Atlantis ', 'Smalltown ', 'Faketown ', 'Balmora ', 'Westworld ', 'Metropolis ', 'Valyria ', 'Mordor ', 'Olympus ', 'Blackwater ']\n"
     ]
    }
   ],
   "source": [
    "# Extract City Name\n",
    "pattern = re.compile(r\"(\\d{3}\\s)([a-zA-z0-9]+\\sSt.,\\s)([a-zA-Z]+\\s)([A-Z]+\\s)(\\d{5})\")\n",
    "matches = pattern.finditer(addr_str)\n",
    "cityname = [match.group(3) for match in matches]\n",
    "print(cityname)"
   ]
  },
  {
   "cell_type": "code",
   "execution_count": 31,
   "id": "fcbd4b2c",
   "metadata": {},
   "outputs": [
    {
     "name": "stdout",
     "output_type": "stream",
     "text": [
      "['davemartin@bogusemail.com', 'charlesharris@bogusemail.com', 'laurawilliams@bogusemail.com', 'coreyjefferson@bogusemail.com', 'jenniferwhite@bogusemail.com', 'tomdavis@bogusemail.com', 'neilpatterson@bogusemail.com', 'laurajefferson@bogusemail.com', 'mariajohnson@bogusemail.com', 'michaelarnold@bogusemail.com', 'michaelsmith@bogusemail.com', 'robertstuart@bogusemail.com', 'lauramartin@bogusemail.com', 'barbaramartin@bogusemail.com', 'lindajackson@bogusemail.com', 'stevemiller@bogusemail.com', 'davearnold@bogusemail.com', 'jenniferjacobs@bogusemail.com', 'neilwilson@bogusemail.com', 'kurtjackson@bogusemail.com', 'maryjacobs@bogusemail.com', 'michaelwhite@bogusemail.com', 'jenniferjenkins@bogusemail.com', 'samwright@bogusemail.com', 'johndavis@bogusemail.com', 'neildavis@bogusemail.com', 'laurajackson@bogusemail.com', 'johnwilliams@bogusemail.com', 'michaelmartin@bogusemail.com', 'maggiebrown@bogusemail.com', 'kurtwilson@bogusemail.com', 'elizabetharnold@bogusemail.com', 'janemartin@bogusemail.com', 'travisjohnson@bogusemail.com', 'laurajefferson@bogusemail.com', 'tomwilliams@bogusemail.com', 'jennifertaylor@bogusemail.com', 'jenniferwright@bogusemail.com', 'stevedoe@bogusemail.com', 'kurtdavis@bogusemail.com', 'coreyharris@bogusemail.com', 'nicoletaylor@bogusemail.com', 'elizabethdavis@bogusemail.com', 'maggiejenkins@bogusemail.com', 'lindadavis@bogusemail.com', 'davemoore@bogusemail.com', 'lindajenkins@bogusemail.com', 'samwhite@bogusemail.com', 'laurarobinson@bogusemail.com', 'charlespatterson@bogusemail.com', 'joejackson@bogusemail.com', 'michaeljohnson@bogusemail.com', 'coreymiller@bogusemail.com', 'jamesmoore@bogusemail.com', 'jenniferstuart@bogusemail.com', 'charlesmartin@bogusemail.com', 'joewilks@bogusemail.com', 'elizabetharnold@bogusemail.com', 'johnmiller@bogusemail.com', 'coreyjackson@bogusemail.com', 'samthomas@bogusemail.com', 'patriciathomas@bogusemail.com', 'jenniferdavis@bogusemail.com', 'patriciabrown@bogusemail.com', 'barbarawilliams@bogusemail.com', 'jamestaylor@bogusemail.com', 'barbaraharris@bogusemail.com', 'travisanderson@bogusemail.com', 'samrobinson@bogusemail.com', 'steverobinson@bogusemail.com', 'marywilson@bogusemail.com', 'samwilson@bogusemail.com', 'charlesjones@bogusemail.com', 'laurabrown@bogusemail.com', 'tomharris@bogusemail.com', 'patriciataylor@bogusemail.com', 'barbarawilliams@bogusemail.com', 'maggiejohnson@bogusemail.com', 'kurtmiller@bogusemail.com', 'neilstuart@bogusemail.com', 'lindapatterson@bogusemail.com', 'charlesdavis@bogusemail.com', 'jenniferjefferson@bogusemail.com', 'coreytaylor@bogusemail.com', 'robertwilks@bogusemail.com', 'travisjackson@bogusemail.com', 'travisjackson@bogusemail.com', 'laurawilks@bogusemail.com', 'neilarnold@bogusemail.com', 'lindajohnson@bogusemail.com', 'jenniferwilson@bogusemail.com', 'nicolewhite@bogusemail.com', 'mariaarnold@bogusemail.com', 'jenniferdavis@bogusemail.com', 'marypatterson@bogusemail.com', 'janestuart@bogusemail.com', 'robertdavis@bogusemail.com', 'jamestaylor@bogusemail.com', 'johnstuart@bogusemail.com', 'charlesmiller@bogusemail.com']\n"
     ]
    }
   ],
   "source": [
    "# Extract Email Id's\n",
    "pattern = re.compile(r\"[a-zA-Z]+@[a-z]+\\.[a-z]+\")\n",
    "matches = pattern.findall(addr_str)\n",
    "print(matches)"
   ]
  },
  {
   "cell_type": "markdown",
   "id": "7f572313",
   "metadata": {},
   "source": [
    "***"
   ]
  },
  {
   "cell_type": "code",
   "execution_count": null,
   "id": "b3dcea08",
   "metadata": {},
   "outputs": [],
   "source": []
  }
 ],
 "metadata": {
  "kernelspec": {
   "display_name": "Python 3 (ipykernel)",
   "language": "python",
   "name": "python3"
  },
  "language_info": {
   "codemirror_mode": {
    "name": "ipython",
    "version": 3
   },
   "file_extension": ".py",
   "mimetype": "text/x-python",
   "name": "python",
   "nbconvert_exporter": "python",
   "pygments_lexer": "ipython3",
   "version": "3.9.13"
  }
 },
 "nbformat": 4,
 "nbformat_minor": 5
}
