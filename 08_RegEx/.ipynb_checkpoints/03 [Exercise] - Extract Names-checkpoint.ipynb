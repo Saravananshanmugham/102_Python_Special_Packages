{
 "cells": [
  {
   "cell_type": "code",
   "execution_count": 1,
   "id": "7519ba97",
   "metadata": {},
   "outputs": [],
   "source": [
    "import re"
   ]
  },
  {
   "cell_type": "code",
   "execution_count": 2,
   "id": "84214dde",
   "metadata": {},
   "outputs": [],
   "source": [
    "name_list=\"\"\"\n",
    "Hello\n",
    "2020.03.14\n",
    "Mr. Schafer\n",
    "Mr Smith\n",
    "Ms Davis\n",
    "Mrs. Robinson\n",
    "Mr. Thiru\n",
    "Ms. Devasena\n",
    "Mrs. Sujaya Saravanan\n",
    "This is also has additional Texts\n",
    "\"\"\""
   ]
  },
  {
   "cell_type": "code",
   "execution_count": 57,
   "id": "692460fe",
   "metadata": {},
   "outputs": [
    {
     "name": "stdout",
     "output_type": "stream",
     "text": [
      "Mr. Schafer\n",
      "Mr Smith\n",
      "Ms Davis\n",
      "Mrs. Robinson\n",
      "Mr. Thiru\n",
      "Ms. Devasena\n",
      "Mrs. Sujaya Saravanan\n"
     ]
    }
   ],
   "source": [
    "pattern = re.compile(r\"(Mr.?|Ms.?|Mrs.?).([a-zA-Z]+).[a-zA-Z]+\")\n",
    "matches = pattern.finditer(name_list)\n",
    "\n",
    "for match in matches:\n",
    "    print(match.group(0))\n"
   ]
  },
  {
   "cell_type": "code",
   "execution_count": null,
   "id": "14f5a72b",
   "metadata": {},
   "outputs": [],
   "source": []
  },
  {
   "cell_type": "code",
   "execution_count": null,
   "id": "f101693a",
   "metadata": {},
   "outputs": [],
   "source": []
  }
 ],
 "metadata": {
  "kernelspec": {
   "display_name": "Python 3 (ipykernel)",
   "language": "python",
   "name": "python3"
  },
  "language_info": {
   "codemirror_mode": {
    "name": "ipython",
    "version": 3
   },
   "file_extension": ".py",
   "mimetype": "text/x-python",
   "name": "python",
   "nbconvert_exporter": "python",
   "pygments_lexer": "ipython3",
   "version": "3.8.12"
  }
 },
 "nbformat": 4,
 "nbformat_minor": 5
}
