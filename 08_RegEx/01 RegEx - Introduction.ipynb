{
 "cells": [
  {
   "cell_type": "markdown",
   "id": "997ea1ae",
   "metadata": {},
   "source": [
    "# Introduction to Regular Expression (RegEx)\n",
    "\n",
    "Documentation link : [RE Link](https://docs.python.org/3/library/re.html#),\n",
    "                     [Regular Expression How To](https://docs.python.org/3/howto/regex.html#regex-howto)"
   ]
  },
  {
   "cell_type": "code",
   "execution_count": 2,
   "id": "7bdde79c",
   "metadata": {},
   "outputs": [],
   "source": [
    "import re\n",
    "import random"
   ]
  },
  {
   "cell_type": "markdown",
   "id": "3a9ba6df",
   "metadata": {},
   "source": [
    "Regular expressions (called REs, or regexes, or regex patterns) are essentially a tiny, highly specialized programming language embedded inside Python and made available through the re module. \n",
    "\n",
    "Using this little language, you specify the rules for the set of possible strings that you want to match; this set might contain English sentences, or e-mail addresses, or TeX commands, or anything you like. You can then ask questions such as **“Does this string match the pattern?”**, or **“Is there a match for the pattern anywhere in this string?”**. You can also use REs to modify a string or to split it apart in various ways.\n",
    "\n",
    "The regular expression language is relatively small and restricted, so not all possible string processing tasks can be done using regular expressions. There are also tasks that can be done with regular expressions, but the expressions turn out to be very complicated. In these cases, you may be better off writing Python code to do the processing; while Python code will be slower than an elaborate regular expression, it will also probably be more understandable."
   ]
  },
  {
   "cell_type": "markdown",
   "id": "fca108c5",
   "metadata": {},
   "source": [
    "### Simple Patterns - Matching Characters\n",
    "\n",
    "Most letters and characters will simply match themselves. For example, the regular expression `test` will match the string `test` exactly. (You can enable a case-insensitive mode that would let this RE match `Test` or `TEST` as well; more about this later.)"
   ]
  },
  {
   "cell_type": "markdown",
   "id": "834a5ee3",
   "metadata": {},
   "source": [
    "#### Compiling Regular Expressions"
   ]
  },
  {
   "cell_type": "markdown",
   "id": "38a06e0d",
   "metadata": {},
   "source": [
    "Regular expressions are compiled into pattern objects, which have methods for various operations such as searching for pattern matches or performing string substitutions."
   ]
  },
  {
   "cell_type": "code",
   "execution_count": 38,
   "id": "581de635",
   "metadata": {},
   "outputs": [
    {
     "data": {
      "text/plain": [
       "re.compile(r'ab*', re.UNICODE)"
      ]
     },
     "execution_count": 38,
     "metadata": {},
     "output_type": "execute_result"
    }
   ],
   "source": [
    "pattern = re.compile('ab*')\n",
    "pattern"
   ]
  },
  {
   "cell_type": "markdown",
   "id": "b9e0a4a2",
   "metadata": {},
   "source": [
    "`re.compile()` also accepts an optional flags argument, used to enable various special features and syntax variations. We’ll go over the available settings later, but for now a single example will do:"
   ]
  },
  {
   "cell_type": "code",
   "execution_count": 40,
   "id": "6d20c2f6",
   "metadata": {},
   "outputs": [
    {
     "data": {
      "text/plain": [
       "re.compile(r'ab*', re.IGNORECASE|re.UNICODE)"
      ]
     },
     "execution_count": 40,
     "metadata": {},
     "output_type": "execute_result"
    }
   ],
   "source": [
    "pattern = re.compile('ab*', re.IGNORECASE)\n",
    "pattern"
   ]
  },
  {
   "cell_type": "markdown",
   "id": "e4e3f60e",
   "metadata": {},
   "source": [
    "The RE is passed to `re.compile()` as a string. REs are handled as strings because regular expressions aren’t part of the core Python language, and no special syntax was created for expressing them. Instead, the re module is simply a C extension module included with Python, just like the socket or zlib modules.\n",
    "\n",
    "Putting REs in strings keeps the Python language simpler, but has one disadvantage which is called `The Backslash Plague`"
   ]
  },
  {
   "cell_type": "markdown",
   "id": "ce63f985",
   "metadata": {},
   "source": [
    "#### The Backslash Plague"
   ]
  },
  {
   "cell_type": "markdown",
   "id": "7465152d",
   "metadata": {},
   "source": [
    "Regular expressions use the backslash character (`'\\'`) to indicate special forms or to allow special characters to be used without invoking their special meaning. This conflicts with Python’s usage of the same character for the same purpose in string literals.\n",
    "\n",
    "Let’s say you want to write a RE that matches the string `\\section` from the document.\n",
    "\n",
    "* Start with the desired string to be matched. \n",
    "* Escape any backslashes and other metacharacters by preceding them with a backslash\n",
    "* Resulting in the string `\\\\section`. \n",
    "\n",
    "The resulting string that must be passed to `re.compile()` must be \\\\section. However, to express this as a Python string literal, both backslashes must be escaped again."
   ]
  },
  {
   "cell_type": "markdown",
   "id": "9e84774c",
   "metadata": {},
   "source": [
    "| Characters | Remarks | \n",
    "| :---: | :--- |\n",
    "| `\\section` | Text string to be matched |\n",
    "| `\\\\section` | Escaped backslasges for `re.compile()`|\n",
    "| `\\\\\\\\section` | Escaped backslaces for a string literal|"
   ]
  },
  {
   "cell_type": "markdown",
   "id": "27b0b2ef",
   "metadata": {},
   "source": [
    "In short, to match a literal backslash, one has to write '\\\\\\\\' as the RE string, because the regular expression must be \\\\, and each backslash must be expressed as \\\\ inside a regular Python string literal. In REs that feature backslashes repeatedly, this leads to lots of repeated backslashes and makes the resulting strings difficult to understand.\n",
    "\n",
    "The solution is to use Python’s **raw string notation for regular expressions;** backslashes are not handled in any special way in a string literal prefixed with 'r', so r\"\\n\" is a two-character string containing '\\' and 'n', while \"\\n\" is a one-character string containing a newline. Regular expressions will often be written in Python code using this raw string notation.\n",
    "\n",
    "In addition, special escape sequences that are valid in regular expressions, but not valid as Python string literals, now result in a DeprecationWarning and will eventually become a SyntaxError, which means the sequences will be invalid if raw string notation or escaping the backslashes isn’t used."
   ]
  },
  {
   "cell_type": "markdown",
   "id": "94037e7d",
   "metadata": {},
   "source": [
    "| Regular String | Raw Strings | \n",
    "| :---: | :--- |\n",
    "| `ab*` | r\"ab*\" |\n",
    "| `\\\\\\\\section` | r\"\\\\section\"|\n",
    "| `\\\\w+\\\\s+\\\\1` | r\"\\w+\\s+\\1\"|"
   ]
  },
  {
   "cell_type": "code",
   "execution_count": 15,
   "id": "1a8d3cd8",
   "metadata": {},
   "outputs": [
    {
     "name": "stdout",
     "output_type": "stream",
     "text": [
      "Oject Type of 'matches': <class 'callable_iterator'>\n",
      "<re.Match object; span=(3, 6), match='abc'>\n",
      "<re.Match object; span=(12, 15), match='abc'>\n"
     ]
    }
   ],
   "source": [
    "# finditer method all occurance of the pattern in the string\n",
    "\n",
    "test_string = '123abc456789abc123ABC'\n",
    "pattern = re.compile(r\"abc\")\n",
    "matches = pattern.finditer(test_string)\n",
    "print(\"Oject Type of 'matches':\",type(matches))\n",
    "\n",
    "for match in matches:\n",
    "    print(match)"
   ]
  },
  {
   "cell_type": "code",
   "execution_count": 175,
   "id": "3b45ecd2",
   "metadata": {},
   "outputs": [
    {
     "data": {
      "text/plain": [
       "['abc', 'abc']"
      ]
     },
     "execution_count": 175,
     "metadata": {},
     "output_type": "execute_result"
    }
   ],
   "source": [
    "# Findall method find all occurances of the pattern in the string\n",
    "test_string = '123abc456789abc123ABC'\n",
    "pattern = re.compile(r\"abc\")\n",
    "matches = pattern.findall(test_string)\n",
    "matches"
   ]
  },
  {
   "cell_type": "markdown",
   "id": "e34d67ac",
   "metadata": {},
   "source": [
    "There are exceptions to this rule; some characters are special metacharacters, and don’t match themselves. Instead, they signal that some out-of-the-ordinary thing should be matched, or they affect other portions of the RE by repeating them or changing their meaning. Much of this document is devoted to discussing various metacharacters and what they do.\n",
    "\n",
    "Here’s a complete list of the metacharacters "
   ]
  },
  {
   "cell_type": "markdown",
   "id": "e4b73f4f",
   "metadata": {},
   "source": [
    "### Meta Characters\n",
    "* `.`  - Any Character Except New Line\n",
    "* `^`  - Start with \"^hello\"\n",
    "*` $`  - End with \"world$\"\n",
    "* `*`  - Zero or more occurances \"aix*\"\n",
    "* `+`  - One or more occurances \"aix+\"\n",
    "* `{ }` - Exactly the specified number of occurances al{2}\n",
    "* `[ ]` - A set of characters [a-m]\n",
    "* `\\`   - Special sequance or escape special characters \"\\$\"\n",
    "* `|`   - Either or \"abc|ABC\"\n",
    "* `( )` - Capture and group"
   ]
  },
  {
   "cell_type": "markdown",
   "id": "a7e9374d",
   "metadata": {},
   "source": [
    "#### First Meta Character - [ ] \n",
    "\n",
    "They’re used for specifying a character class, which is a set of characters that you wish to match. Characters can be listed individually, or a range of characters can be indicated by giving two characters and separating them by a '-'. For example, [abc] will match any of the characters a, b, or c; this is the same as [a-c], which uses a range to express the same set of characters. If you wanted to match only lowercase letters, your RE would be [a-z]"
   ]
  },
  {
   "cell_type": "code",
   "execution_count": 132,
   "id": "62ce5e52",
   "metadata": {},
   "outputs": [
    {
     "name": "stdout",
     "output_type": "stream",
     "text": [
      "<re.Match object; span=(3, 4), match='a'>\n",
      "<re.Match object; span=(4, 5), match='b'>\n",
      "<re.Match object; span=(9, 10), match='7'>\n",
      "<re.Match object; span=(10, 11), match='8'>\n",
      "<re.Match object; span=(11, 12), match='9'>\n",
      "<re.Match object; span=(12, 13), match='a'>\n",
      "<re.Match object; span=(13, 14), match='b'>\n",
      "<re.Match object; span=(17, 18), match='f'>\n",
      "<re.Match object; span=(18, 19), match='g'>\n",
      "<re.Match object; span=(19, 20), match='h'>\n"
     ]
    }
   ],
   "source": [
    "# Example\n",
    "# It Looks for characters a,b \n",
    "# It looks for characters in the range of 7 to 9 and f to h\n",
    "\n",
    "test_string = '123abc456789abcdefgh123ABC'\n",
    "pattern = re.compile(r\"[ab7-9f-h]\")\n",
    "matches = pattern.finditer(test_string)\n",
    "\n",
    "for match in matches:\n",
    "    print(match)"
   ]
  },
  {
   "cell_type": "markdown",
   "id": "17f5f553",
   "metadata": {},
   "source": [
    "Metacharacters are not active inside classes. For example, `[akm$]` will match any of the characters 'a', 'k', 'm', or '$'; '$' is usually a metacharacter, but inside a character class it’s stripped of its special nature"
   ]
  },
  {
   "cell_type": "code",
   "execution_count": 133,
   "id": "bdc949e5",
   "metadata": {},
   "outputs": [
    {
     "name": "stdout",
     "output_type": "stream",
     "text": [
      "<re.Match object; span=(0, 1), match='a'>\n",
      "<re.Match object; span=(3, 4), match='k'>\n",
      "<re.Match object; span=(6, 7), match='$'>\n"
     ]
    }
   ],
   "source": [
    "# Example\n",
    "# It Looks for characters a,k,m and $ \n",
    "# $ is a meta character, but do not have the special nature inside the class\n",
    "\n",
    "test_string = 'abckgh$1'\n",
    "pattern = re.compile(r\"[akm$]\")\n",
    "matches = pattern.finditer(test_string)\n",
    "\n",
    "for match in matches:\n",
    "    print(match)"
   ]
  },
  {
   "cell_type": "markdown",
   "id": "70dd1930",
   "metadata": {},
   "source": [
    "You can match the characters not listed within the class by complementing the set. This is indicated by including a '^' as the first character of the class. For example, `[^5]` will match any character except '5'. If the caret appears elsewhere in a character class, it does not have special meaning. For example: `[5^]` will match either a '5' or a '^'"
   ]
  },
  {
   "cell_type": "code",
   "execution_count": 43,
   "id": "cd0534ba",
   "metadata": {},
   "outputs": [
    {
     "name": "stdout",
     "output_type": "stream",
     "text": [
      "<re.Match object; span=(2, 3), match='g'>\n",
      "<re.Match object; span=(3, 4), match='h'>\n",
      "<re.Match object; span=(5, 6), match='1'>\n"
     ]
    }
   ],
   "source": [
    "# Example ^ in the starting position\n",
    "# It Looks for characters not a,k,m and $ \n",
    "# $ is a meta character, but do not have the special nature inside the class\n",
    "\n",
    "test_string = 'akgh$1'\n",
    "pattern = re.compile(r\"[^akm$]\")\n",
    "matches = pattern.finditer(test_string)\n",
    "\n",
    "for match in matches:\n",
    "    print(match)"
   ]
  },
  {
   "cell_type": "code",
   "execution_count": 44,
   "id": "be90b47a",
   "metadata": {},
   "outputs": [
    {
     "name": "stdout",
     "output_type": "stream",
     "text": [
      "<re.Match object; span=(0, 1), match='a'>\n",
      "<re.Match object; span=(1, 2), match='k'>\n",
      "<re.Match object; span=(2, 3), match='^'>\n",
      "<re.Match object; span=(5, 6), match='$'>\n"
     ]
    }
   ],
   "source": [
    "# Example ^ not in the starting position\n",
    "# It Looks for characters not a,k,^,m and $ \n",
    "# ^ and $ are meta characters, but do not have the special nature inside the class\n",
    "\n",
    "test_string = 'ak^gh$1'\n",
    "pattern = re.compile(r\"[ak^m$]\")\n",
    "matches = pattern.finditer(test_string)\n",
    "\n",
    "for match in matches:\n",
    "    print(match)"
   ]
  },
  {
   "cell_type": "markdown",
   "id": "14aa74c6",
   "metadata": {},
   "source": [
    "Perhaps the most important metacharacter is the backslash, `\\`. As in Python string literals, the backslash can be followed by various characters to signal various special sequences. It’s also used to escape all the metacharacters so you can still match them in patterns; for example, if you need to match a `[` or `\\`, you can precede them with a backslash to remove their special meaning: `\\[` or `\\\\`.\n",
    "\n",
    "Some of the special sequences beginning with '\\' represent predefined sets of characters that are often useful, such as the set of digits, the set of letters, or the set of anything that isn’t whitespace.\n",
    "\n",
    "Let’s take an example: `\\w` matches any alphanumeric character. If the regex pattern is expressed in bytes, this is equivalent to the class [a-zA-Z0-9_]. If the regex pattern is a string, `\\w` will match all the characters marked as letters in the Unicode database provided by the unicodedata module. You can use the more restricted definition of `\\w` in a string pattern by supplying the `re.ASCII` flag when compiling the regular expression.\n",
    "\n",
    "The following list of special sequences isn’t complete. For a complete list of sequences and expanded class definitions for Unicode string patterns, see the last part of Regular Expression Syntax in the Standard Library reference. In general, the Unicode versions match any character that’s in the appropriate category in the Unicode database."
   ]
  },
  {
   "cell_type": "markdown",
   "id": "420964e7",
   "metadata": {},
   "source": [
    "#### More Meta Characters\n",
    "* `\\d` - Matches any decimal digits that is equivalent to the class `[0-9]`\n",
    "* `\\D` - Matches any non-decimal digit characters, that is equivalent to the class `[^0-9]`\n",
    "* `\\s` - Matches any Whitespace (space, tab, newline)`[\\t\\n\\r\\f\\v]`\n",
    "* `\\S` - Matches any non-Whitespace `[^\\t\\n\\r\\f\\v]`\n",
    "* `\\w` - Matches any alpha-numeric (Word) Character (a-z, A-Z, 0-9, _) `[a-zA-Z0-9_]`\n",
    "* `\\W` - Matches any non-alpha-numeric (Word) Character `[^a-zA-Z0-9_]`\n",
    "* `\\b` - Matches where the specified characters are at the begining or at the end of word (Word Boundary)\n",
    "* `\\B` - Matches where the specified characters are at the begining or at the end of word (Not a Word Boundary)"
   ]
  },
  {
   "cell_type": "markdown",
   "id": "48a5bdba",
   "metadata": {},
   "source": [
    "These sequences can be included inside a character class. For example, `[\\s,.]` is a character class that will match any whitespace character, or ',' or '.'.\n",
    "\n",
    "The final metacharacter in this section is `.` \n",
    "\n",
    "It matches anything except a newline character, and there’s an alternate mode (re.DOTALL) where it will match even a newline. `.` is often used where you want to match “any character”."
   ]
  },
  {
   "cell_type": "markdown",
   "id": "b3f76650",
   "metadata": {},
   "source": [
    "### Repeating Things\n",
    "\n",
    "Being able to match varying sets of characters is the first thing regular expressions can do that isn’t already possible with the methods available on strings. However, if that was the only additional capability of regexes, they wouldn’t be much of an advance. Another capability is that you can specify that portions of the RE must be repeated a certain number of times."
   ]
  },
  {
   "cell_type": "markdown",
   "id": "bee5cb8a",
   "metadata": {},
   "source": [
    "#### Quantifiers\n",
    "* `*` - 0 or More\n",
    "* `+` - 1 or more\n",
    "* `?` - 0 or 1 -> Optional Character\n",
    "* `{4}` - Exact Number of elements to get after the match\n",
    "* `{4,6}` - Range number (min, max)"
   ]
  },
  {
   "cell_type": "markdown",
   "id": "b0fbd0df",
   "metadata": {},
   "source": [
    "The first metacharacter for repeating things that we’ll look at is `*`. `*` doesn’t match the literal character '*'; instead, it specifies that the previous character can be matched zero or more times, instead of exactly once.\n",
    "\n",
    "For example, ca*t will match 'ct' (0 'a' characters), 'cat' (1 'a'), 'caaat' (3 'a' characters), and so forth."
   ]
  },
  {
   "cell_type": "code",
   "execution_count": 46,
   "id": "3144cc00",
   "metadata": {},
   "outputs": [
    {
     "name": "stdout",
     "output_type": "stream",
     "text": [
      "<re.Match object; span=(0, 2), match='ct'>\n",
      "<re.Match object; span=(7, 10), match='cat'>\n",
      "<re.Match object; span=(13, 18), match='caaat'>\n"
     ]
    }
   ],
   "source": [
    "# Example for Quantifers - * \n",
    "\n",
    "test_string = 'ctandabcathdhcaaatandmore'\n",
    "pattern = re.compile(r\"ca*t\")\n",
    "matches = pattern.finditer(test_string)\n",
    "\n",
    "for match in matches:\n",
    "    print(match)"
   ]
  },
  {
   "cell_type": "markdown",
   "id": "0c51dfc1",
   "metadata": {},
   "source": [
    "Repetitions such as `*` are greedy; when repeating a RE, the matching engine will try to repeat it as many times as possible. If later portions of the pattern don’t match, the matching engine will then back up and try again with fewer repetitions.\n",
    "\n",
    "A step-by-step example will make this more obvious. Let’s consider the expression `a[bcd]*b`. This matches the letter 'a', zero or more letters from the class `[bcd]`, and finally ends with a 'b'. Now imagine matching this RE against the string 'abcbd'.\n"
   ]
  },
  {
   "cell_type": "code",
   "execution_count": 92,
   "id": "f466a12e",
   "metadata": {},
   "outputs": [
    {
     "name": "stdout",
     "output_type": "stream",
     "text": [
      "<re.Match object; span=(0, 6), match='abcbdb'>\n",
      "<re.Match object; span=(6, 11), match='acddb'>\n"
     ]
    }
   ],
   "source": [
    "# Example for Quantifers - * \n",
    "\n",
    "test_string = 'abcbdbacddb'\n",
    "pattern = re.compile(r\"a[bcd]*b\")\n",
    "matches = pattern.finditer(test_string)\n",
    "\n",
    "for match in matches:\n",
    "    print(match)"
   ]
  },
  {
   "cell_type": "code",
   "execution_count": 86,
   "id": "c437df64",
   "metadata": {},
   "outputs": [
    {
     "name": "stdout",
     "output_type": "stream",
     "text": [
      "<re.Match object; span=(0, 4), match='abcd'>\n",
      "<re.Match object; span=(16, 19), match='abd'>\n",
      "<re.Match object; span=(34, 37), match='acd'>\n",
      "<re.Match object; span=(52, 54), match='ad'>\n"
     ]
    }
   ],
   "source": [
    "test_string = 'abcdefghijklmnopabddkshdaskjdhsakdacdqweuqwioeuqwoeuadjkgdkasdksd'\n",
    "pattern = re.compile(r\"a[bc]*d\")\n",
    "matches = pattern.finditer(test_string)\n",
    "\n",
    "for match in matches:\n",
    "    print(match)"
   ]
  },
  {
   "cell_type": "markdown",
   "id": "cf7956dc",
   "metadata": {},
   "source": [
    "The Search for the following combinations\n",
    "1. a bcd b\n",
    "2. a bc  b\n",
    "3. a bd  b\n",
    "4. a cd  b\n",
    "\n",
    "From the string of `abcbd`\n",
    "1. abcb is the only combination you can get.\n",
    "\n",
    "| Step | Matched | Explanation |\n",
    "| :---: | :---: | :--- |\n",
    "| Step 1 | a | The `a` in the RE matches | \n",
    "| Step 2 | abcbd | The engine matches `[bcd]*`, going as fars as it can, which is to the end of the string. | \n",
    "| Step 3 | Failure | The engine tries to match `b`, but the current position is at the end of the string, so it fails. | \n",
    "| Step 4 | abcb | Back up, so that `[bcd]*` matches one less character. | \n",
    "| Step 5 | Failure | Try `b` again, but the current position is at the last character, which is a `d`. | \n",
    "| Step 6 | abc | Back up again, so that `[bcd]*` is only matching `bc`. | \n",
    "| Step 6 | abcb | Try `b` again. This time the character at the current position is `b`, so it succeeds. | "
   ]
  },
  {
   "cell_type": "markdown",
   "id": "39f51797",
   "metadata": {},
   "source": [
    "The end of the RE has now been reached, and it has matched 'abcb'. This demonstrates how the matching engine goes as far as it can at first, and if no match is found it will then progressively back up and retry the rest of the RE again and again. It will back up until it has tried zero matches for [bcd]*, and if that subsequently fails, the engine will conclude that the string doesn’t match the RE at all."
   ]
  },
  {
   "cell_type": "markdown",
   "id": "b6e8ba58",
   "metadata": {},
   "source": [
    "Another repeating metacharacter is +, which matches one or more times. Pay careful attention to the difference between * and +; * matches zero or more times, so whatever’s being repeated may not be present at all, while + requires at least one occurrence. To use a similar example, ca+t will match 'cat' (1 'a'), 'caaat' (3 'a's), but won’t match 'ct'."
   ]
  },
  {
   "cell_type": "code",
   "execution_count": 93,
   "id": "3428adbc",
   "metadata": {},
   "outputs": [
    {
     "name": "stdout",
     "output_type": "stream",
     "text": [
      "<re.Match object; span=(7, 10), match='cat'>\n",
      "<re.Match object; span=(13, 18), match='caaat'>\n"
     ]
    }
   ],
   "source": [
    "# Example for Quantifers - +\n",
    "\n",
    "test_string = 'ctandabcathdhcaaatandmore'\n",
    "pattern = re.compile(r\"ca+t\")\n",
    "matches = pattern.finditer(test_string)\n",
    "\n",
    "for match in matches:\n",
    "    print(match)"
   ]
  },
  {
   "cell_type": "markdown",
   "id": "a029d9af",
   "metadata": {},
   "source": [
    "There are two more repeating qualifiers. The question mark character, ?, matches either once or zero times; you can think of it as marking something as being optional. For example, home-?brew matches either 'homebrew' or 'home-brew'."
   ]
  },
  {
   "cell_type": "code",
   "execution_count": 139,
   "id": "f849eabe",
   "metadata": {},
   "outputs": [
    {
     "name": "stdout",
     "output_type": "stream",
     "text": [
      "<re.Match object; span=(14, 20), match='golive'>\n",
      "<re.Match object; span=(36, 43), match='Go-Live'>\n"
     ]
    }
   ],
   "source": [
    "# Example for Quantifers - ?\n",
    "\n",
    "test_string = 'Today Infosys golive with SFSF, the Go-Live was very successful.'\n",
    "pattern = re.compile(r\"go-?live\", re.I)\n",
    "matches = pattern.finditer(test_string)\n",
    "\n",
    "for match in matches:\n",
    "    print(match)"
   ]
  },
  {
   "cell_type": "markdown",
   "id": "b5beffd3",
   "metadata": {},
   "source": [
    "The most complicated repeated qualifier is {m,n}, where m and n are decimal integers. This qualifier means there must be at least m repetitions, and at most n. For example, ca{2,3}t will match caat and caaat. It won’t match 'cat'.\n",
    "\n",
    "You can omit either m or n; in that case, a reasonable value is assumed for the missing value. Omitting m is interpreted as a lower limit of 0, while omitting n results in an upper bound of infinity.\n",
    "\n",
    "Readers of a reductionist bent may notice that the three other qualifiers can all be expressed using this notation. {0,} is the same as *, {1,} is equivalent to +, and {0,1} is the same as ?. It’s better to use *, +, or ? when you can, simply because they’re shorter and easier to read"
   ]
  },
  {
   "cell_type": "code",
   "execution_count": 140,
   "id": "f15aaa9f",
   "metadata": {},
   "outputs": [
    {
     "name": "stdout",
     "output_type": "stream",
     "text": [
      "<re.Match object; span=(6, 10), match='caat'>\n"
     ]
    }
   ],
   "source": [
    "# Example for Quantifers - { }\n",
    "# Having a hard limit of 2 repeatations\n",
    "\n",
    "test_string = 'ctxcatcaatcaaaty'\n",
    "pattern = re.compile(r\"ca{2}t\")\n",
    "matches = pattern.finditer(test_string)\n",
    "\n",
    "for match in matches:\n",
    "    print(match)"
   ]
  },
  {
   "cell_type": "code",
   "execution_count": 141,
   "id": "926fa1ad",
   "metadata": {},
   "outputs": [
    {
     "name": "stdout",
     "output_type": "stream",
     "text": [
      "<re.Match object; span=(6, 10), match='caat'>\n",
      "<re.Match object; span=(10, 15), match='caaat'>\n"
     ]
    }
   ],
   "source": [
    "# Example for Quantifers - { }\n",
    "# Having a range limit of 2 to 3 repeatations\n",
    "test_string = 'ctxcatcaatcaaaty'\n",
    "pattern = re.compile(r\"ca{2,3}t\")\n",
    "matches = pattern.finditer(test_string)\n",
    "\n",
    "for match in matches:\n",
    "    print(match)"
   ]
  },
  {
   "cell_type": "code",
   "execution_count": 142,
   "id": "15f0bfa5",
   "metadata": {},
   "outputs": [
    {
     "name": "stdout",
     "output_type": "stream",
     "text": [
      "<re.Match object; span=(0, 2), match='ct'>\n",
      "<re.Match object; span=(3, 6), match='cat'>\n",
      "<re.Match object; span=(6, 10), match='caat'>\n",
      "<re.Match object; span=(10, 15), match='caaat'>\n"
     ]
    }
   ],
   "source": [
    "# Example for Quantifers - { }\n",
    "# Having a start limit undefined, hence range starts from 0\n",
    "# Same as ca*t\n",
    "\n",
    "test_string = 'ctxcatcaatcaaaty'\n",
    "pattern = re.compile(r\"ca{,3}t\")\n",
    "matches = pattern.finditer(test_string)\n",
    "\n",
    "for match in matches:\n",
    "    print(match)"
   ]
  },
  {
   "cell_type": "markdown",
   "id": "fb6c3dad",
   "metadata": {},
   "source": [
    "***"
   ]
  },
  {
   "cell_type": "markdown",
   "id": "edf36948",
   "metadata": {},
   "source": [
    "### Performing Matches\n",
    "\n",
    "Once you have an object representing a compiled regular expression, what do you do with it? Pattern objects have several methods and attributes. Only the most significant ones will be covered here; consult the re docs for a complete listing.\n",
    "\n",
    "| Method / Attribute | Purpose |\n",
    "| :--- | :--- |\n",
    "| match() | Determine if the RE matches at the beginning of the string. |\n",
    "| search() | Scan through a string, looking for any location where this RE matches. |\n",
    "| findall() | Find all substrings where the RE matches, and returns them as a list. |\n",
    "| finditer() | Find all substrings where the RE matches, and returns them as an iterator. |\n",
    "\n",
    "\n",
    "`match()` and `search()` return `None` if no match can be found. If they’re successful, a match object instance is returned, containing information about the match: where it starts and ends, the substring it matched, and more."
   ]
  },
  {
   "cell_type": "code",
   "execution_count": 102,
   "id": "ac063860",
   "metadata": {},
   "outputs": [
    {
     "data": {
      "text/plain": [
       "re.compile(r'[1-9]+', re.UNICODE)"
      ]
     },
     "execution_count": 102,
     "metadata": {},
     "output_type": "execute_result"
    }
   ],
   "source": [
    "test_string = '123abc456789abc123ABC'\n",
    "pattern = re.compile(r'[1-9]+')\n",
    "pattern"
   ]
  },
  {
   "cell_type": "markdown",
   "id": "e33e6a90",
   "metadata": {},
   "source": [
    "Now, you can try matching various strings against the RE `[a-z]+`. An empty string shouldn’t match at all, since + means ‘one or more repetitions’. `match()` should return `None` in this case, which will cause the interpreter to print no output. You can explicitly print the result of `match()` to make this clear."
   ]
  },
  {
   "cell_type": "code",
   "execution_count": 95,
   "id": "56524018",
   "metadata": {},
   "outputs": [
    {
     "name": "stdout",
     "output_type": "stream",
     "text": [
      "None\n"
     ]
    }
   ],
   "source": [
    "print(pattern.match(\"\"))"
   ]
  },
  {
   "cell_type": "markdown",
   "id": "13c0c020",
   "metadata": {},
   "source": [
    "Now, let’s try it on a string that it should match, such as tempo. In this case, `match()` will return a match object, so you should store the result in a variable for later use."
   ]
  },
  {
   "cell_type": "code",
   "execution_count": 104,
   "id": "eff1cfae",
   "metadata": {},
   "outputs": [
    {
     "data": {
      "text/plain": [
       "<re.Match object; span=(0, 3), match='123'>"
      ]
     },
     "execution_count": 104,
     "metadata": {},
     "output_type": "execute_result"
    }
   ],
   "source": [
    "matches = pattern.match(test_string)\n",
    "matches"
   ]
  },
  {
   "cell_type": "markdown",
   "id": "96e892b1",
   "metadata": {},
   "source": [
    "Now you can query the match object for information about the matching string. Match object instances also have several methods and attributes; the most important ones are:\n",
    "\n",
    "| Method / Attribute | Purpose |\n",
    "| :--- | :--- |\n",
    "| group() | Return the string matched by the RE. |\n",
    "| start() | Return the starting position of the match. |\n",
    "| end() | Return the ending position of the match. |\n",
    "| span() | Return a tuple containing the (start, end) positions of the match. |\n",
    "\n",
    "Trying these methods will soon clarify their meaning"
   ]
  },
  {
   "cell_type": "code",
   "execution_count": 158,
   "id": "da60f98b",
   "metadata": {},
   "outputs": [
    {
     "name": "stdout",
     "output_type": "stream",
     "text": [
      "123\n",
      "0\n",
      "3\n",
      "(0, 3)\n"
     ]
    }
   ],
   "source": [
    "print(matches.group())\n",
    "print(matches.start())\n",
    "print(matches.end())\n",
    "print(matches.span())"
   ]
  },
  {
   "cell_type": "markdown",
   "id": "794a09b1",
   "metadata": {},
   "source": [
    "`group()` returns the substring that was matched by the RE. `start()` and `end()` return the starting and ending index of the match. `span()` returns both start and end indexes in a single tuple. Since the `match()` method only checks if the RE matches at the start of a string, `start()` will always be zero. However, the `search()` method of patterns scans through the string, so the match may not start at zero in that case."
   ]
  },
  {
   "cell_type": "code",
   "execution_count": 105,
   "id": "0ec0b625",
   "metadata": {},
   "outputs": [
    {
     "name": "stdout",
     "output_type": "stream",
     "text": [
      "abc\n",
      "3\n",
      "6\n",
      "(3, 6)\n"
     ]
    }
   ],
   "source": [
    "pattern = re.compile(r\"abc\", re.I)\n",
    "matches = pattern.search(test_string)\n",
    "print(matches.group())\n",
    "print(matches.start())\n",
    "print(matches.end())\n",
    "print(matches.span())"
   ]
  },
  {
   "cell_type": "markdown",
   "id": "4eedd616",
   "metadata": {},
   "source": [
    "`findall()` has to create the entire list before it can be returned as the result. The `finditer()` method returns a sequence of match object instances as an iterator:"
   ]
  },
  {
   "cell_type": "code",
   "execution_count": 106,
   "id": "49ccf323",
   "metadata": {},
   "outputs": [
    {
     "data": {
      "text/plain": [
       "['abc', 'abc', 'ABC']"
      ]
     },
     "execution_count": 106,
     "metadata": {},
     "output_type": "execute_result"
    }
   ],
   "source": [
    "pattern = re.compile(r\"abc\", re.I)\n",
    "matches = pattern.findall(test_string)\n",
    "matches"
   ]
  },
  {
   "cell_type": "code",
   "execution_count": 112,
   "id": "6ea06bfd",
   "metadata": {},
   "outputs": [
    {
     "name": "stdout",
     "output_type": "stream",
     "text": [
      "abc\n",
      "3\n",
      "6\n",
      "(3, 6)\n",
      "abc\n",
      "12\n",
      "15\n",
      "(12, 15)\n",
      "ABC\n",
      "18\n",
      "21\n",
      "(18, 21)\n"
     ]
    }
   ],
   "source": [
    "pattern = re.compile(r\"abc\", re.I)\n",
    "matches = pattern.finditer(test_string)\n",
    "for match in matches:\n",
    "    print(match.group())\n",
    "    print(match.start())\n",
    "    print(match.end())\n",
    "    print(match.span())"
   ]
  },
  {
   "cell_type": "markdown",
   "id": "e089296a",
   "metadata": {},
   "source": [
    "***"
   ]
  },
  {
   "cell_type": "markdown",
   "id": "67a106e4",
   "metadata": {},
   "source": [
    "### Compilation Flags\n",
    "\n",
    "Compilation flags let you modify some aspects of how regular expressions work. Flags are available in the re module under two names, a long name such as `IGNORECASE` and a short, one-letter form such as `I`. \n",
    "\n",
    "Multiple flags can be specified by bitwise OR-ing them; re.I | re.M sets both the I and M flags, for example.\n",
    "\n",
    "Here’s a table of the available flags, followed by a more detailed explanation of each one.\n",
    "\n",
    "| Flag | Meaning |\n",
    "| :--- | :--- |\n",
    "| ASCII, A | Makes several escapes like \\w, \\b, \\s and \\d match only on ASCII characters with the respective property. |\n",
    "| DOTALL, S | Make . match any character, including newlines. |\n",
    "| IGNORECASE, I | Do case-insensitive matches. |\n",
    "| LOCALE, L | Do a locale-aware match. |\n",
    "| MULTILINE, M | Multi-line matching, affecting ^ and $. |\n",
    "| VERBOSE, X (for ‘extended’) | Enable verbose REs, which can be organized more cleanly and understandably. |"
   ]
  },
  {
   "cell_type": "markdown",
   "id": "0af189cb",
   "metadata": {},
   "source": [
    "*** "
   ]
  },
  {
   "cell_type": "markdown",
   "id": "0ae497ba",
   "metadata": {},
   "source": [
    "### More Patterns - More Meta Characters\n",
    "\n",
    "zero-width assertions: They don’t cause the engine to advance through the string; instead, they consume no characters at all, and simply succeed or fail. For example, \\b is an assertion that the current position is located at a word boundary; the position isn’t changed by the \\b at all. This means that zero-width assertions should never be repeated, because if they match once at a given location, they can obviously be matched an infinite number of times."
   ]
  },
  {
   "cell_type": "code",
   "execution_count": 113,
   "id": "31b830c1",
   "metadata": {},
   "outputs": [
    {
     "name": "stdout",
     "output_type": "stream",
     "text": [
      "<re.Match object; span=(3, 8), match='class'>\n",
      "None\n",
      "None\n"
     ]
    }
   ],
   "source": [
    "# Example matches class only when it’s a complete word; \n",
    "# It won’t match when it’s contained inside another word.\n",
    "\n",
    "p = re.compile(r'\\bclass\\b')\n",
    "\n",
    "print(p.search('no class at all'))\n",
    "print(p.search('the declassified algorithm'))\n",
    "print(p.search('one subclass is'))"
   ]
  },
  {
   "cell_type": "code",
   "execution_count": 169,
   "id": "1a7828e4",
   "metadata": {},
   "outputs": [
    {
     "name": "stdout",
     "output_type": "stream",
     "text": [
      "<re.Match object; span=(3, 8), match='class'>\n",
      "None\n",
      "<re.Match object; span=(7, 12), match='class'>\n"
     ]
    }
   ],
   "source": [
    "# Example matches class only when it’s a end of the  word or full word\n",
    "# It won’t match when it’s contained inside another word.\n",
    "\n",
    "p = re.compile(r'class\\b')\n",
    "\n",
    "print(p.search('no class at all'))\n",
    "print(p.search('the declassified algorithm'))\n",
    "print(p.search('one subclass is'))"
   ]
  },
  {
   "cell_type": "code",
   "execution_count": 170,
   "id": "b5345e3c",
   "metadata": {},
   "outputs": [
    {
     "name": "stdout",
     "output_type": "stream",
     "text": [
      "<re.Match object; span=(3, 8), match='class'>\n",
      "<re.Match object; span=(4, 9), match='class'>\n",
      "None\n"
     ]
    }
   ],
   "source": [
    "# Example matches class only when it’s in the begining of the  word or full word\n",
    "# It won’t match when it’s contained inside another word.\n",
    "\n",
    "p = re.compile(r'\\bclass')\n",
    "\n",
    "print(p.search('no class at all'))\n",
    "print(p.search('the classified algorithm'))\n",
    "print(p.search('one subclass is'))"
   ]
  },
  {
   "cell_type": "markdown",
   "id": "ec1739cb",
   "metadata": {},
   "source": [
    "2. | Alternation, or the “or” operator: If A and B are regular expressions, A|B will match any string that matches either A or B. `|` has very low precedence in order to make it work reasonably when you’re alternating multi-character strings. `Crow|Servo` will match either 'Crow' or 'Servo', not 'Cro', a 'w' or an 'S', and 'ervo'. To match a literal '|', use \\|, or enclose it inside a character class, as in [|].\n",
    "\n",
    "3. ^ Matches at the beginning of lines: Unless the MULTILINE flag has been set, this will only match at the beginning of the string. In MULTILINE mode, this also matches immediately after each newline within the string. For example, if you wish to match the word From only at the beginning of a line, the RE to use is ^From.\n",
    "\n",
    "4. $ Matches at the end of a line, which is defined as either the end of the string, or any location followed by a newline character.\n",
    "\n",
    "5. \\A Matches only at the start of the string. When not in MULTILINE mode, \\A and ^ are effectively the same. In MULTILINE mode, they’re different: \\A still matches only at the beginning of the string, but ^ may match at any location inside the string that follows a newline character.\n",
    "\n",
    "6. \\Z Matches only at the end of the string.\n",
    "\n",
    "7. \\b Word boundary. This is a zero-width assertion that matches only at the beginning or end of a word. A word is defined as a sequence of alphanumeric characters, so the end of a word is indicated by whitespace or a non-alphanumeric character.\n",
    "\n",
    "8. \\B Another zero-width assertion, this is the opposite of \\b, only matching when the current position is not at a word boundary."
   ]
  },
  {
   "cell_type": "markdown",
   "id": "faca7f8f",
   "metadata": {},
   "source": [
    "#### Example - Meta Character `.` "
   ]
  },
  {
   "cell_type": "code",
   "execution_count": 181,
   "id": "42202dc3",
   "metadata": {},
   "outputs": [
    {
     "name": "stdout",
     "output_type": "stream",
     "text": [
      "a\n",
      "9\n",
      ".\n"
     ]
    }
   ],
   "source": [
    "# Any character except new line\n",
    "test_string=\"a9.\"\n",
    "pattern = re.compile(r\".\")\n",
    "matches = pattern.finditer(test_string)\n",
    "\n",
    "for match in matches:\n",
    "    print(match.group())"
   ]
  },
  {
   "cell_type": "markdown",
   "id": "deef7db2",
   "metadata": {},
   "source": [
    "Dot is a special character for any character. Hence by using meta character `\\` convert it as raw searchable character"
   ]
  },
  {
   "cell_type": "code",
   "execution_count": 182,
   "id": "b15bcbd1",
   "metadata": {},
   "outputs": [
    {
     "name": "stdout",
     "output_type": "stream",
     "text": [
      "<re.Match object; span=(2, 3), match='.'>\n"
     ]
    }
   ],
   "source": [
    "test_string=\"a9.\"\n",
    "pattern = re.compile(r\"\\.\")\n",
    "matches = pattern.finditer(test_string)\n",
    "\n",
    "for match in matches:\n",
    "    print(match)"
   ]
  },
  {
   "cell_type": "markdown",
   "id": "b9337fd1",
   "metadata": {},
   "source": [
    "#### Example - Meta Character `^` - Start With"
   ]
  },
  {
   "cell_type": "code",
   "execution_count": 60,
   "id": "fb09a3bc",
   "metadata": {},
   "outputs": [
    {
     "name": "stdout",
     "output_type": "stream",
     "text": [
      "<re.Match object; span=(0, 3), match='123'>\n"
     ]
    }
   ],
   "source": [
    "test_string = '123abc456789abc123ABC.'\n",
    "pattern = re.compile(r\"^123\")\n",
    "matches = pattern.finditer(test_string)\n",
    "\n",
    "for match in matches:\n",
    "    print(match)"
   ]
  },
  {
   "cell_type": "code",
   "execution_count": 192,
   "id": "ee1aa99a",
   "metadata": {},
   "outputs": [
    {
     "data": {
      "text/plain": [
       "[]"
      ]
     },
     "execution_count": 192,
     "metadata": {},
     "output_type": "execute_result"
    }
   ],
   "source": [
    "# Returns nothing when used with out multiline compilation flag\n",
    "# It looks only at the begining of the line\n",
    "test_string = '''\n",
    "123\n",
    "abc456789\n",
    "abc123\n",
    "ABC.'''\n",
    "pattern = re.compile(r\"^abc\\w+\")\n",
    "matches = pattern.findall(test_string)\n",
    "matches"
   ]
  },
  {
   "cell_type": "code",
   "execution_count": 194,
   "id": "7934de2b",
   "metadata": {},
   "outputs": [
    {
     "data": {
      "text/plain": [
       "['abc456789', 'abc123']"
      ]
     },
     "execution_count": 194,
     "metadata": {},
     "output_type": "execute_result"
    }
   ],
   "source": [
    "# Returns data when used with multiline compilation flag\n",
    "test_string = '''\n",
    "123\n",
    "abc456789\n",
    "abc123\n",
    "ABC.'''\n",
    "pattern = re.compile(r\"^abc\\w+\", re.M)\n",
    "matches = pattern.findall(test_string)\n",
    "matches"
   ]
  },
  {
   "cell_type": "markdown",
   "id": "139656c2",
   "metadata": {},
   "source": [
    "#### Example - Meta Character `$` - End With"
   ]
  },
  {
   "cell_type": "code",
   "execution_count": 203,
   "id": "48530657",
   "metadata": {},
   "outputs": [
    {
     "name": "stdout",
     "output_type": "stream",
     "text": [
      "None\n",
      "<re.Match object; span=(7, 12), match='class'>\n"
     ]
    }
   ],
   "source": [
    "p = re.compile(r'class$')\n",
    "\n",
    "print(p.search('no class at all'))\n",
    "print(p.search('one subclass'))"
   ]
  },
  {
   "cell_type": "code",
   "execution_count": 199,
   "id": "54f4e0e4",
   "metadata": {},
   "outputs": [
    {
     "name": "stdout",
     "output_type": "stream",
     "text": [
      "<re.Match object; span=(21, 22), match='.'>\n"
     ]
    }
   ],
   "source": [
    "test_string = '123abc456789abc123ABC.'\n",
    "pattern = re.compile(r\"\\.$\")\n",
    "matches = pattern.finditer(test_string)\n",
    "\n",
    "for match in matches:\n",
    "    print(match)"
   ]
  },
  {
   "cell_type": "code",
   "execution_count": 205,
   "id": "ec052871",
   "metadata": {},
   "outputs": [
    {
     "name": "stdout",
     "output_type": "stream",
     "text": [
      "<re.Match object; span=(6, 7), match='1'>\n",
      "<re.Match object; span=(7, 8), match='2'>\n",
      "<re.Match object; span=(8, 9), match='3'>\n"
     ]
    }
   ],
   "source": [
    "test_string = 'hello 123_ heyho hohey'\n",
    "pattern = re.compile(r\"\\d\")\n",
    "matches = pattern.finditer(test_string)\n",
    "\n",
    "for match in matches:\n",
    "    print(match)"
   ]
  },
  {
   "cell_type": "code",
   "execution_count": 207,
   "id": "e082f497",
   "metadata": {},
   "outputs": [
    {
     "name": "stdout",
     "output_type": "stream",
     "text": [
      "<re.Match object; span=(0, 1), match='h'>\n",
      "<re.Match object; span=(1, 2), match='e'>\n",
      "<re.Match object; span=(2, 3), match='l'>\n",
      "<re.Match object; span=(3, 4), match='l'>\n",
      "<re.Match object; span=(4, 5), match='o'>\n",
      "<re.Match object; span=(5, 6), match=' '>\n",
      "<re.Match object; span=(9, 10), match='_'>\n"
     ]
    }
   ],
   "source": [
    "test_string = 'hello 123_'\n",
    "pattern = re.compile(r\"\\D\")\n",
    "matches = pattern.finditer(test_string)\n",
    "\n",
    "for match in matches:\n",
    "    print(match)"
   ]
  },
  {
   "cell_type": "code",
   "execution_count": 210,
   "id": "39f5a99d",
   "metadata": {},
   "outputs": [
    {
     "name": "stdout",
     "output_type": "stream",
     "text": [
      "<re.Match object; span=(5, 6), match=' '>\n"
     ]
    }
   ],
   "source": [
    "test_string = 'hello 123_'\n",
    "pattern = re.compile(r\"\\s\")\n",
    "matches = pattern.finditer(test_string)\n",
    "\n",
    "for match in matches:\n",
    "    print(match)"
   ]
  },
  {
   "cell_type": "code",
   "execution_count": 211,
   "id": "a8441d52",
   "metadata": {},
   "outputs": [
    {
     "name": "stdout",
     "output_type": "stream",
     "text": [
      "<re.Match object; span=(0, 1), match='h'>\n",
      "<re.Match object; span=(1, 2), match='e'>\n",
      "<re.Match object; span=(2, 3), match='l'>\n",
      "<re.Match object; span=(3, 4), match='l'>\n",
      "<re.Match object; span=(4, 5), match='o'>\n",
      "<re.Match object; span=(6, 7), match='1'>\n",
      "<re.Match object; span=(7, 8), match='2'>\n",
      "<re.Match object; span=(8, 9), match='3'>\n",
      "<re.Match object; span=(9, 10), match='_'>\n"
     ]
    }
   ],
   "source": [
    "test_string = 'hello 123_'\n",
    "pattern = re.compile(r\"\\S\")\n",
    "matches = pattern.finditer(test_string)\n",
    "\n",
    "for match in matches:\n",
    "    print(match)"
   ]
  },
  {
   "cell_type": "code",
   "execution_count": 214,
   "id": "f3311a83",
   "metadata": {},
   "outputs": [
    {
     "name": "stdout",
     "output_type": "stream",
     "text": [
      "<re.Match object; span=(0, 1), match='h'>\n",
      "<re.Match object; span=(1, 2), match='e'>\n",
      "<re.Match object; span=(2, 3), match='l'>\n",
      "<re.Match object; span=(3, 4), match='l'>\n",
      "<re.Match object; span=(4, 5), match='o'>\n",
      "<re.Match object; span=(6, 7), match='1'>\n",
      "<re.Match object; span=(7, 8), match='2'>\n",
      "<re.Match object; span=(8, 9), match='3'>\n",
      "<re.Match object; span=(9, 10), match='_'>\n"
     ]
    }
   ],
   "source": [
    "test_string = 'hello 123_'\n",
    "pattern = re.compile(r\"\\w\")\n",
    "matches = pattern.finditer(test_string)\n",
    "\n",
    "for match in matches:\n",
    "    print(match)"
   ]
  },
  {
   "cell_type": "code",
   "execution_count": 216,
   "id": "cd27a787",
   "metadata": {},
   "outputs": [
    {
     "name": "stdout",
     "output_type": "stream",
     "text": [
      "<re.Match object; span=(5, 6), match=' '>\n"
     ]
    }
   ],
   "source": [
    "test_string = 'hello 123_'\n",
    "pattern = re.compile(r\"\\W\")\n",
    "matches = pattern.finditer(test_string)\n",
    "\n",
    "for match in matches:\n",
    "    print(match)"
   ]
  },
  {
   "cell_type": "code",
   "execution_count": 220,
   "id": "43f98635",
   "metadata": {},
   "outputs": [
    {
     "name": "stdout",
     "output_type": "stream",
     "text": [
      "<re.Match object; span=(0, 1), match='h'>\n"
     ]
    }
   ],
   "source": [
    "test_string = 'hello 123_'\n",
    "pattern = re.compile(r\"\\bh\")\n",
    "matches = pattern.finditer(test_string)\n",
    "\n",
    "for match in matches:\n",
    "    print(match)"
   ]
  },
  {
   "cell_type": "code",
   "execution_count": 222,
   "id": "dc005cc9",
   "metadata": {},
   "outputs": [
    {
     "name": "stdout",
     "output_type": "stream",
     "text": [
      "<re.Match object; span=(19, 22), match='hey'>\n"
     ]
    }
   ],
   "source": [
    "test_string = 'hello 123_ heyho hohey'\n",
    "pattern = re.compile(r\"\\Bhey\")\n",
    "matches = pattern.finditer(test_string)\n",
    "\n",
    "for match in matches:\n",
    "    print(match)"
   ]
  },
  {
   "cell_type": "code",
   "execution_count": 85,
   "id": "11929ba0",
   "metadata": {},
   "outputs": [
    {
     "name": "stdout",
     "output_type": "stream",
     "text": [
      "<re.Match object; span=(0, 1), match='h'>\n",
      "<re.Match object; span=(1, 2), match='e'>\n",
      "<re.Match object; span=(2, 3), match='l'>\n",
      "<re.Match object; span=(3, 4), match='l'>\n",
      "<re.Match object; span=(4, 5), match='o'>\n",
      "<re.Match object; span=(5, 6), match='H'>\n",
      "<re.Match object; span=(6, 7), match='E'>\n",
      "<re.Match object; span=(7, 8), match='L'>\n",
      "<re.Match object; span=(8, 9), match='L'>\n",
      "<re.Match object; span=(9, 10), match='O'>\n",
      "<re.Match object; span=(11, 12), match='1'>\n",
      "<re.Match object; span=(12, 13), match='2'>\n",
      "<re.Match object; span=(13, 14), match='3'>\n"
     ]
    }
   ],
   "source": [
    "test_string ='helloHELLO 123_'\n",
    "pattern = re.compile(r\"[a-zA-Z0-9]\")\n",
    "matches = pattern.finditer(test_string)\n",
    "\n",
    "for match in matches:\n",
    "    print(match)"
   ]
  },
  {
   "cell_type": "code",
   "execution_count": 87,
   "id": "9fba1ee2",
   "metadata": {},
   "outputs": [
    {
     "name": "stdout",
     "output_type": "stream",
     "text": [
      "<re.Match object; span=(0, 0), match=''>\n",
      "<re.Match object; span=(1, 1), match=''>\n",
      "<re.Match object; span=(2, 2), match=''>\n",
      "<re.Match object; span=(3, 3), match=''>\n",
      "<re.Match object; span=(4, 4), match=''>\n",
      "<re.Match object; span=(5, 5), match=''>\n",
      "<re.Match object; span=(6, 9), match='123'>\n",
      "<re.Match object; span=(9, 9), match=''>\n",
      "<re.Match object; span=(10, 10), match=''>\n"
     ]
    }
   ],
   "source": [
    "test_string ='hello 123_'\n",
    "pattern = re.compile(r\"\\d*\")\n",
    "matches = pattern.finditer(test_string)\n",
    "\n",
    "for match in matches:\n",
    "    print(match)"
   ]
  },
  {
   "cell_type": "code",
   "execution_count": 88,
   "id": "5a382200",
   "metadata": {},
   "outputs": [
    {
     "name": "stdout",
     "output_type": "stream",
     "text": [
      "<re.Match object; span=(6, 9), match='123'>\n"
     ]
    }
   ],
   "source": [
    "test_string ='hello 123_'\n",
    "pattern = re.compile(r\"\\d+\")\n",
    "matches = pattern.finditer(test_string)\n",
    "\n",
    "for match in matches:\n",
    "    print(match)"
   ]
  },
  {
   "cell_type": "code",
   "execution_count": 89,
   "id": "9ed0b5f3",
   "metadata": {},
   "outputs": [
    {
     "name": "stdout",
     "output_type": "stream",
     "text": [
      "<re.Match object; span=(5, 7), match='_1'>\n"
     ]
    }
   ],
   "source": [
    "test_string ='hello_123'\n",
    "pattern = re.compile(r\"_\\d\")\n",
    "matches = pattern.finditer(test_string)\n",
    "\n",
    "for match in matches:\n",
    "    print(match)"
   ]
  },
  {
   "cell_type": "code",
   "execution_count": 90,
   "id": "6434dbe6",
   "metadata": {},
   "outputs": [],
   "source": [
    "test_string ='hello123'\n",
    "pattern = re.compile(r\"_\\d\")\n",
    "matches = pattern.finditer(test_string)\n",
    "\n",
    "for match in matches:\n",
    "    print(match)"
   ]
  },
  {
   "cell_type": "code",
   "execution_count": 91,
   "id": "ef67cfc0",
   "metadata": {},
   "outputs": [
    {
     "name": "stdout",
     "output_type": "stream",
     "text": [
      "<re.Match object; span=(5, 6), match='1'>\n",
      "<re.Match object; span=(6, 7), match='2'>\n",
      "<re.Match object; span=(7, 8), match='3'>\n"
     ]
    }
   ],
   "source": [
    "test_string ='hello123'\n",
    "pattern = re.compile(r\"_?\\d\")\n",
    "matches = pattern.finditer(test_string)\n",
    "\n",
    "for match in matches:\n",
    "    print(match)"
   ]
  },
  {
   "cell_type": "code",
   "execution_count": 92,
   "id": "25fa34a7",
   "metadata": {},
   "outputs": [
    {
     "name": "stdout",
     "output_type": "stream",
     "text": [
      "<re.Match object; span=(5, 8), match='123'>\n"
     ]
    }
   ],
   "source": [
    "test_string ='hello123'\n",
    "pattern = re.compile(r\"\\d{3}\")\n",
    "matches = pattern.finditer(test_string)\n",
    "\n",
    "for match in matches:\n",
    "    print(match)"
   ]
  },
  {
   "cell_type": "code",
   "execution_count": 95,
   "id": "6ee978b9",
   "metadata": {},
   "outputs": [
    {
     "name": "stdout",
     "output_type": "stream",
     "text": [
      "<re.Match object; span=(5, 8), match='123'>\n"
     ]
    }
   ],
   "source": [
    "test_string ='hello123'\n",
    "pattern = re.compile(r\"\\d{1,5}\")\n",
    "matches = pattern.finditer(test_string)\n",
    "\n",
    "for match in matches:\n",
    "    print(match)"
   ]
  },
  {
   "cell_type": "code",
   "execution_count": 96,
   "id": "764ac527",
   "metadata": {},
   "outputs": [],
   "source": [
    "dates =\"\"\"\n",
    "01.04.2020\n",
    "\n",
    "2020.04.01\n",
    "\n",
    "\n",
    "2020-04-01\n",
    "2020-05-23\n",
    "2020-06-11\n",
    "2020-07-11\n",
    "2020-08-11\n",
    "\n",
    "2020/04/02\n",
    "\n",
    "2020_04_04\n",
    "2020_04_04\n",
    "\"\"\""
   ]
  },
  {
   "cell_type": "code",
   "execution_count": 102,
   "id": "15e1cf8f",
   "metadata": {},
   "outputs": [
    {
     "name": "stdout",
     "output_type": "stream",
     "text": [
      "<re.Match object; span=(26, 36), match='2020-04-01'>\n",
      "<re.Match object; span=(37, 47), match='2020-05-23'>\n",
      "<re.Match object; span=(48, 58), match='2020-06-11'>\n",
      "<re.Match object; span=(59, 69), match='2020-07-11'>\n",
      "<re.Match object; span=(70, 80), match='2020-08-11'>\n"
     ]
    }
   ],
   "source": [
    "pattern = re.compile(r\"\\d{4}-\\d{2}-\\d{2}\")\n",
    "matches = pattern.finditer(dates)\n",
    "\n",
    "for match in matches:\n",
    "    print(match)"
   ]
  },
  {
   "cell_type": "code",
   "execution_count": 108,
   "id": "1a98d5d8",
   "metadata": {},
   "outputs": [
    {
     "name": "stdout",
     "output_type": "stream",
     "text": [
      "<re.Match object; span=(37, 47), match='2020-05-23'>\n",
      "<re.Match object; span=(48, 58), match='2020-06-11'>\n",
      "<re.Match object; span=(59, 69), match='2020-07-11'>\n"
     ]
    }
   ],
   "source": [
    "pattern = re.compile(r\"\\d{4}[-_]0[5-7][-_]\\d{2}\")\n",
    "matches = pattern.finditer(dates)\n",
    "\n",
    "for match in matches:\n",
    "    print(match)"
   ]
  },
  {
   "cell_type": "markdown",
   "id": "8161b74a",
   "metadata": {},
   "source": [
    "### Conditions"
   ]
  },
  {
   "cell_type": "code",
   "execution_count": 12,
   "id": "6ac9d484",
   "metadata": {},
   "outputs": [],
   "source": [
    "my_string = \"\"\"\n",
    "hello world\n",
    "1223\n",
    "2020-05-20\n",
    "Mr Simpson\n",
    "Mrs Simpson\n",
    "Mr. Brown\n",
    "Ms Smith\n",
    "Mr. T\n",
    "Mrs. Sujaya\"\"\""
   ]
  },
  {
   "cell_type": "code",
   "execution_count": 13,
   "id": "0516bb6e",
   "metadata": {},
   "outputs": [
    {
     "name": "stdout",
     "output_type": "stream",
     "text": [
      "<re.Match object; span=(29, 39), match='Mr Simpson'>\n"
     ]
    }
   ],
   "source": [
    "pattern = re.compile(r\"Mr\\s\\w+\")\n",
    "matches = pattern.finditer(my_string)\n",
    "\n",
    "for match in matches:\n",
    "    print(match)"
   ]
  },
  {
   "cell_type": "code",
   "execution_count": 14,
   "id": "c7069692",
   "metadata": {},
   "outputs": [
    {
     "name": "stdout",
     "output_type": "stream",
     "text": [
      "<re.Match object; span=(52, 61), match='Mr. Brown'>\n",
      "<re.Match object; span=(71, 76), match='Mr. T'>\n"
     ]
    }
   ],
   "source": [
    "pattern = re.compile(r\"Mr[.]\\s\\w+\")\n",
    "matches = pattern.finditer(my_string)\n",
    "\n",
    "for match in matches:\n",
    "    print(match)"
   ]
  },
  {
   "cell_type": "code",
   "execution_count": 15,
   "id": "60fb1888",
   "metadata": {},
   "outputs": [
    {
     "name": "stdout",
     "output_type": "stream",
     "text": [
      "<re.Match object; span=(29, 39), match='Mr Simpson'>\n",
      "<re.Match object; span=(40, 51), match='Mrs Simpson'>\n",
      "<re.Match object; span=(52, 61), match='Mr. Brown'>\n",
      "<re.Match object; span=(62, 70), match='Ms Smith'>\n",
      "<re.Match object; span=(71, 76), match='Mr. T'>\n",
      "<re.Match object; span=(77, 88), match='Mrs. Sujaya'>\n"
     ]
    }
   ],
   "source": [
    "pattern = re.compile(r\"(Mr|Ms|Mrs)[.]?\\s\\w+\")\n",
    "matches = pattern.finditer(my_string)\n",
    "\n",
    "for match in matches:\n",
    "    print(match)"
   ]
  },
  {
   "cell_type": "code",
   "execution_count": 16,
   "id": "e7e7a98d",
   "metadata": {},
   "outputs": [
    {
     "name": "stdout",
     "output_type": "stream",
     "text": [
      "<re.Match object; span=(29, 39), match='Mr Simpson'>\n",
      "<re.Match object; span=(40, 51), match='Mrs Simpson'>\n",
      "<re.Match object; span=(52, 61), match='Mr. Brown'>\n",
      "<re.Match object; span=(62, 70), match='Ms Smith'>\n",
      "<re.Match object; span=(71, 76), match='Mr. T'>\n",
      "<re.Match object; span=(77, 88), match='Mrs. Sujaya'>\n"
     ]
    }
   ],
   "source": [
    "pattern = re.compile(r\"(Mr|Ms|Mrs)\\.?\\s\\w+\")\n",
    "matches = pattern.finditer(my_string)\n",
    "\n",
    "for match in matches:\n",
    "    print(match)"
   ]
  },
  {
   "cell_type": "code",
   "execution_count": 19,
   "id": "bf0c108b",
   "metadata": {},
   "outputs": [],
   "source": [
    "my_string = \"\"\"\n",
    "hello world\n",
    "1223\n",
    "2020-05-20\n",
    "Mr Simpson\n",
    "Mrs Simpson\n",
    "Mr. Brown\n",
    "Ms Smith\n",
    "Mr. T\n",
    "pythonengineer@gmail.com\n",
    "python-engineer@gmx.de\n",
    "python-engineer123@my-domain.org\n",
    "\"\"\""
   ]
  },
  {
   "cell_type": "code",
   "execution_count": 21,
   "id": "d8d9b7ab",
   "metadata": {},
   "outputs": [
    {
     "name": "stdout",
     "output_type": "stream",
     "text": [
      "<re.Match object; span=(77, 92), match='pythonengineer@'>\n",
      "<re.Match object; span=(102, 118), match='python-engineer@'>\n",
      "<re.Match object; span=(125, 144), match='python-engineer123@'>\n"
     ]
    }
   ],
   "source": [
    "pattern = re.compile(r\"[a-zA-Z0-9-]+@\")\n",
    "matches = pattern.finditer(my_string)\n",
    "\n",
    "for match in matches:\n",
    "    print(match)"
   ]
  },
  {
   "cell_type": "code",
   "execution_count": 20,
   "id": "4f9c6dc2",
   "metadata": {},
   "outputs": [
    {
     "name": "stdout",
     "output_type": "stream",
     "text": [
      "<re.Match object; span=(77, 92), match='pythonengineer@'>\n",
      "<re.Match object; span=(102, 118), match='python-engineer@'>\n",
      "<re.Match object; span=(125, 144), match='python-engineer123@'>\n"
     ]
    }
   ],
   "source": [
    "pattern = re.compile(r\"[\\w-]+@\")\n",
    "matches = pattern.finditer(my_string)\n",
    "\n",
    "for match in matches:\n",
    "    print(match)"
   ]
  },
  {
   "cell_type": "code",
   "execution_count": 23,
   "id": "f111f216",
   "metadata": {},
   "outputs": [
    {
     "name": "stdout",
     "output_type": "stream",
     "text": [
      "<re.Match object; span=(77, 101), match='pythonengineer@gmail.com'>\n",
      "<re.Match object; span=(102, 124), match='python-engineer@gmx.de'>\n",
      "<re.Match object; span=(125, 157), match='python-engineer123@my-domain.org'>\n"
     ]
    }
   ],
   "source": [
    "pattern = re.compile(r\"[a-zA-Z0-9-]+@[a-zA-Z-]+\\.[a-z]+\")\n",
    "matches = pattern.finditer(my_string)\n",
    "\n",
    "for match in matches:\n",
    "    print(match)"
   ]
  },
  {
   "cell_type": "code",
   "execution_count": 31,
   "id": "b3eca204",
   "metadata": {},
   "outputs": [
    {
     "name": "stdout",
     "output_type": "stream",
     "text": [
      "<re.Match object; span=(77, 101), match='pythonengineer@gmail.com'>\n",
      "<re.Match object; span=(102, 124), match='python-engineer@gmx.de'>\n",
      "<re.Match object; span=(125, 157), match='python-engineer123@my-domain.org'>\n"
     ]
    }
   ],
   "source": [
    "pattern = re.compile(r\"\"\"\n",
    "                     [\\w-]+    # Email Id \n",
    "                     @         # \n",
    "                     [\\w-]+    # Domain Name\n",
    "                     \\.        # Dot\n",
    "                     [\\w]+     # Domain Extension\n",
    "                     \"\"\", re.VERBOSE)\n",
    "\n",
    "matches = pattern.finditer(my_string )\n",
    "\n",
    "for match in matches:\n",
    "    print(match)"
   ]
  },
  {
   "cell_type": "markdown",
   "id": "deac576d",
   "metadata": {},
   "source": [
    "### Grouping\n",
    "\n",
    "Frequently you need to obtain more information than just whether the RE matched or not. Regular expressions are often used to dissect strings by writing a RE divided into several subgroups which match different components of interest.\n",
    "\n",
    "Groups are marked by the '(', ')' metacharacters. '(' and ')' have much the same meaning as they do in mathematical expressions; they group together the expressions contained inside them, and you can repeat the contents of a group with a repeating qualifier, such as `*`, `+`, `?`, or `{m,n}`. For example, `(ab)*` will match zero or more repetitions of `ab`.\n",
    "\n",
    "Groups indicated with '(', ')' also capture the starting and ending index of the text that they match; this can be retrieved by passing an argument to `group()`, `start()`, `end()`, and `span()`. Groups are numbered starting with 0. Group 0 is always present; it’s the whole RE, so match object methods all have group 0 as their default argument.\n",
    "\n",
    "Subgroups are numbered from left to right, from 1 upward. Groups can be nested; to determine the number, just count the opening parenthesis characters, going from left to right.\n",
    "\n"
   ]
  },
  {
   "cell_type": "code",
   "execution_count": 227,
   "id": "8617c52d",
   "metadata": {},
   "outputs": [
    {
     "name": "stdout",
     "output_type": "stream",
     "text": [
      "pythonengineer@gmail.com\n",
      "pythonengineer@gmail.com\n",
      "pythonengineer\n",
      "gmail\n",
      "com\n",
      "python-engineer@gmx.de\n",
      "python-engineer@gmx.de\n",
      "python-engineer\n",
      "gmx\n",
      "de\n",
      "python-engineer123@my-domain.org\n",
      "python-engineer123@my-domain.org\n",
      "python-engineer123\n",
      "my-domain\n",
      "org\n"
     ]
    }
   ],
   "source": [
    "pattern = re.compile(r\"([a-zA-Z0-9-]+)@([a-zA-Z-]+)\\.([a-z]+)\")\n",
    "matches = pattern.finditer(my_string)\n",
    "\n",
    "for match in matches:\n",
    "    print(match.group())\n",
    "    print(match.group(0))\n",
    "    print(match.group(1))\n",
    "    print(match.group(2))\n",
    "    print(match.group(3))"
   ]
  },
  {
   "cell_type": "markdown",
   "id": "3b0d3a69",
   "metadata": {},
   "source": [
    "`group()` can be passed multiple group numbers at a time, in which case it will return a tuple containing the corresponding values for those groups."
   ]
  },
  {
   "cell_type": "code",
   "execution_count": 228,
   "id": "6d9e5a6d",
   "metadata": {},
   "outputs": [
    {
     "name": "stdout",
     "output_type": "stream",
     "text": [
      "('pythonengineer', 'gmail', 'com')\n",
      "('python-engineer', 'gmx', 'de')\n",
      "('python-engineer123', 'my-domain', 'org')\n"
     ]
    }
   ],
   "source": [
    "pattern = re.compile(r\"([a-zA-Z0-9-]+)@([a-zA-Z-]+)\\.([a-z]+)\")\n",
    "matches = pattern.finditer(my_string)\n",
    "\n",
    "for match in matches:\n",
    "    print(match.group(1, 2, 3))"
   ]
  },
  {
   "cell_type": "markdown",
   "id": "7003471f",
   "metadata": {},
   "source": [
    "The `groups()` method returns a tuple containing the strings for all the subgroups, from 1 up to however many there are."
   ]
  },
  {
   "cell_type": "code",
   "execution_count": 229,
   "id": "8c1f6926",
   "metadata": {},
   "outputs": [
    {
     "name": "stdout",
     "output_type": "stream",
     "text": [
      "('pythonengineer', 'gmail', 'com')\n",
      "('python-engineer', 'gmx', 'de')\n",
      "('python-engineer123', 'my-domain', 'org')\n"
     ]
    }
   ],
   "source": [
    "pattern = re.compile(r\"([a-zA-Z0-9-]+)@([a-zA-Z-]+)\\.([a-z]+)\")\n",
    "matches = pattern.finditer(my_string)\n",
    "\n",
    "for match in matches:\n",
    "    print(match.groups())"
   ]
  },
  {
   "cell_type": "markdown",
   "id": "70480ba5",
   "metadata": {},
   "source": [
    "Backreferences in a pattern allow you to specify that the contents of an earlier capturing group must also be found at the current location in the string. For example, \\1 will succeed if the exact contents of group 1 can be found at the current position, and fails otherwise. Remember that Python’s string literals also use a backslash followed by numbers to allow including arbitrary characters in a string, so be sure to use a raw string when incorporating backreferences in a RE.\n",
    "\n",
    "For example, the following RE detects doubled words in a string."
   ]
  },
  {
   "cell_type": "code",
   "execution_count": 230,
   "id": "2be879c7",
   "metadata": {},
   "outputs": [
    {
     "data": {
      "text/plain": [
       "'the the'"
      ]
     },
     "execution_count": 230,
     "metadata": {},
     "output_type": "execute_result"
    }
   ],
   "source": [
    "p = re.compile(r'\\b(\\w+)\\s+\\1\\b')\n",
    "p.search('Paris in the the spring').group()"
   ]
  },
  {
   "cell_type": "markdown",
   "id": "80bf9b5b",
   "metadata": {},
   "source": [
    "### Modifications\n",
    "\n",
    "Split and Sub"
   ]
  },
  {
   "cell_type": "code",
   "execution_count": 232,
   "id": "9fbd2d0b",
   "metadata": {},
   "outputs": [
    {
     "data": {
      "text/plain": [
       "['This', 'is', 'a', 'test, short and sweet, of split().']"
      ]
     },
     "execution_count": 232,
     "metadata": {},
     "output_type": "execute_result"
    }
   ],
   "source": [
    "p = re.compile(r'\\W+')\n",
    "p.split('This is a test, short and sweet, of split().')"
   ]
  },
  {
   "cell_type": "code",
   "execution_count": 233,
   "id": "d99a7958",
   "metadata": {},
   "outputs": [
    {
     "data": {
      "text/plain": [
       "['This', 'is', 'a', 'test, short and sweet, of split().']"
      ]
     },
     "execution_count": 233,
     "metadata": {},
     "output_type": "execute_result"
    }
   ],
   "source": [
    "p.split('This is a test, short and sweet, of split().', 3)"
   ]
  },
  {
   "cell_type": "code",
   "execution_count": 140,
   "id": "ea69f5bd",
   "metadata": {},
   "outputs": [
    {
     "name": "stdout",
     "output_type": "stream",
     "text": [
      "['123', '456', '123ABC']\n"
     ]
    }
   ],
   "source": [
    "test_string = '123abc456abc123ABC' \n",
    "\n",
    "pattern = re.compile(r\"abc\")\n",
    "splitted = pattern.split(test_string)\n",
    "print(splitted)"
   ]
  },
  {
   "cell_type": "markdown",
   "id": "e93dfeb1",
   "metadata": {},
   "source": [
    "#### Search and Replace\n",
    "\n",
    "Another common task is to find all the matches for a pattern, and replace them with a different string. The sub() method takes a replacement value, which can be either a string or a function, and the string to be processed.\n",
    "\n",
    "```python\n",
    ".sub(replacement, string[, count=0])\n",
    "```\n",
    "\n",
    "Returns the string obtained by replacing the leftmost non-overlapping occurrences of the RE in string by the replacement replacement. If the pattern isn’t found, string is returned unchanged.\n",
    "\n",
    "The optional argument count is the maximum number of pattern occurrences to be replaced; count must be a non-negative integer. The default value of 0 means to replace all occurrences.\n",
    "\n",
    "Here’s a simple example of using the sub() method. It replaces colour names with the word colour:"
   ]
  },
  {
   "cell_type": "code",
   "execution_count": 234,
   "id": "fba8ff84",
   "metadata": {},
   "outputs": [
    {
     "data": {
      "text/plain": [
       "'colour socks and colour shoes'"
      ]
     },
     "execution_count": 234,
     "metadata": {},
     "output_type": "execute_result"
    }
   ],
   "source": [
    "p = re.compile('(blue|white|red)')\n",
    "p.sub('colour', 'blue socks and red shoes')"
   ]
  },
  {
   "cell_type": "code",
   "execution_count": 235,
   "id": "1858bc93",
   "metadata": {},
   "outputs": [
    {
     "data": {
      "text/plain": [
       "'colour socks and red shoes'"
      ]
     },
     "execution_count": 235,
     "metadata": {},
     "output_type": "execute_result"
    }
   ],
   "source": [
    "p.sub('colour', 'blue socks and red shoes', count=1)"
   ]
  },
  {
   "cell_type": "markdown",
   "id": "6de057ce",
   "metadata": {},
   "source": [
    "The subn() method does the same work, but returns a 2-tuple containing the new string value and the number of replacements that were performed:"
   ]
  },
  {
   "cell_type": "code",
   "execution_count": 236,
   "id": "a728dcde",
   "metadata": {},
   "outputs": [
    {
     "data": {
      "text/plain": [
       "('colour socks and colour shoes', 2)"
      ]
     },
     "execution_count": 236,
     "metadata": {},
     "output_type": "execute_result"
    }
   ],
   "source": [
    "p = re.compile('(blue|white|red)')\n",
    "p.subn('colour', 'blue socks and red shoes')"
   ]
  },
  {
   "cell_type": "code",
   "execution_count": 237,
   "id": "503ff600",
   "metadata": {},
   "outputs": [
    {
     "data": {
      "text/plain": [
       "('no colours at all', 0)"
      ]
     },
     "execution_count": 237,
     "metadata": {},
     "output_type": "execute_result"
    }
   ],
   "source": [
    "p.subn('colour', 'no colours at all')"
   ]
  },
  {
   "cell_type": "code",
   "execution_count": 145,
   "id": "2466fa18",
   "metadata": {},
   "outputs": [
    {
     "name": "stdout",
     "output_type": "stream",
     "text": [
      "hello planet, you are the best planet\n"
     ]
    }
   ],
   "source": [
    "test_string = 'hello world, you are the best world' \n",
    "\n",
    "pattern = re.compile(r\"world\")\n",
    "subbed_string = pattern.sub(\"planet\", test_string)\n",
    "print(subbed_string)\n"
   ]
  },
  {
   "cell_type": "code",
   "execution_count": 146,
   "id": "6f3bceb4",
   "metadata": {},
   "outputs": [
    {
     "name": "stdout",
     "output_type": "stream",
     "text": [
      "35\n",
      "hello world you are the best world\n",
      "34\n"
     ]
    }
   ],
   "source": [
    "test_string = 'hello world, you are the best world'\n",
    "print(len(test_string))\n",
    "pattern = re.compile(r\",\")\n",
    "subbed_string = pattern.sub(\"\", test_string)\n",
    "print(subbed_string)\n",
    "print(len(subbed_string))"
   ]
  },
  {
   "cell_type": "code",
   "execution_count": 152,
   "id": "c7c1376d",
   "metadata": {},
   "outputs": [],
   "source": [
    "urls = '''\n",
    "hello\n",
    "2020-05-20\n",
    "http://python-engineer.com\n",
    "https://www.python-engineer.com\n",
    "http://www.pyeng.net\n",
    "'''"
   ]
  },
  {
   "cell_type": "code",
   "execution_count": 166,
   "id": "4a16191b",
   "metadata": {},
   "outputs": [
    {
     "name": "stdout",
     "output_type": "stream",
     "text": [
      "<re.Match object; span=(18, 44), match='http://python-engineer.com'>\n",
      "<re.Match object; span=(45, 76), match='https://www.python-engineer.com'>\n",
      "<re.Match object; span=(77, 97), match='http://www.pyeng.net'>\n"
     ]
    }
   ],
   "source": [
    "pattern = re.compile(r\"https?://(www\\.)?([a-zA-Z-]+)\\.([a-zA-Z]+)\")\n",
    "matches = pattern.finditer(urls)\n",
    "\n",
    "for match in matches:\n",
    "    print(match)"
   ]
  },
  {
   "cell_type": "code",
   "execution_count": 184,
   "id": "bd3b8713",
   "metadata": {},
   "outputs": [
    {
     "name": "stdout",
     "output_type": "stream",
     "text": [
      "<re.Match object; span=(1, 27), match='http://python-engineer.com'>\n",
      "<re.Match object; span=(28, 59), match='https://www.python-engineer.com'>\n",
      "<re.Match object; span=(60, 80), match='http://www.pyeng.net'>\n",
      "\n",
      "python-engineer.com\n",
      "python-engineer.com\n",
      "pyeng.net\n",
      "\n",
      "python-engineer.com\n",
      "python-engineer.com\n",
      "pyeng.net\n"
     ]
    }
   ],
   "source": [
    "urls = '''\n",
    "http://python-engineer.com\n",
    "https://www.python-engineer.com\n",
    "http://www.pyeng.net\n",
    "'''\n",
    "pattern = re.compile(r\"https?://(www\\.)?([a-zA-Z-]+)(\\.[a-zA-Z]+)\")\n",
    "matches = pattern.finditer(urls)\n",
    "\n",
    "for match in matches:\n",
    "    print(match)\n",
    "    \n",
    "subbed_urls = pattern.sub(r\"\\2\\3\", urls)\n",
    "print(subbed_urls)\n",
    "pattern = re.compile(r\"[a-zA-Z-]+\\.[a-z]+\")\n",
    "matches = pattern.findall(subbed_urls)\n",
    "for match in matches:\n",
    "    print(match)"
   ]
  },
  {
   "cell_type": "code",
   "execution_count": 187,
   "id": "906c6a42",
   "metadata": {},
   "outputs": [
    {
     "data": {
      "text/plain": [
       "['My', 'Name', 'Is', 'Saravanan', 'Shanmugham']"
      ]
     },
     "execution_count": 187,
     "metadata": {},
     "output_type": "execute_result"
    }
   ],
   "source": [
    "my_string =\"My Name Is Saravanan Shanmugham\"\n",
    "pattern = re.compile(r\"[a-zA-Z]+\")\n",
    "matches = pattern.findall(my_string)\n",
    "matches"
   ]
  },
  {
   "cell_type": "code",
   "execution_count": 189,
   "id": "ddde2fe8",
   "metadata": {},
   "outputs": [
    {
     "data": {
      "text/plain": [
       "['My', 'Name', 'Is', 'Saravanan', 'Shanmugham']"
      ]
     },
     "execution_count": 189,
     "metadata": {},
     "output_type": "execute_result"
    }
   ],
   "source": [
    "my_string =\"My Name Is Saravanan Shanmugham\"\n",
    "pattern = re.compile(r\"\\S+\")\n",
    "matches = pattern.findall(my_string)\n",
    "matches"
   ]
  },
  {
   "cell_type": "code",
   "execution_count": 190,
   "id": "dc80dedc",
   "metadata": {},
   "outputs": [
    {
     "data": {
      "text/plain": [
       "['My', 'Name', 'Is', 'Saravanan', 'Shanmugham']"
      ]
     },
     "execution_count": 190,
     "metadata": {},
     "output_type": "execute_result"
    }
   ],
   "source": [
    "my_string =\"My Name Is Saravanan Shanmugham\"\n",
    "pattern = re.compile(r\"\\w+\")\n",
    "matches = pattern.findall(my_string)\n",
    "matches"
   ]
  },
  {
   "cell_type": "markdown",
   "id": "81b308bb",
   "metadata": {},
   "source": [
    "***"
   ]
  },
  {
   "cell_type": "code",
   "execution_count": 18,
   "id": "5dbfb3a7",
   "metadata": {},
   "outputs": [
    {
     "data": {
      "text/plain": [
       "<re.Match object; span=(1, 3), match='og'>"
      ]
     },
     "execution_count": 18,
     "metadata": {},
     "output_type": "execute_result"
    }
   ],
   "source": [
    "pattern = re.compile(\"o[gh]\")\n",
    "pattern.fullmatch(\"dog\")      # No match as \"o\" is not at the start of \"dog\".\n",
    "pattern.fullmatch(\"ogre\")     # No match as not the full string matches.\n",
    "pattern.fullmatch(\"doggie\", 1, 3)   # Matches within given limits.\n"
   ]
  },
  {
   "cell_type": "code",
   "execution_count": 30,
   "id": "b3dcea08",
   "metadata": {},
   "outputs": [
    {
     "name": "stdout",
     "output_type": "stream",
     "text": [
      "<re.Match object; span=(0, 2), match='ab'>\n",
      "<re.Match object; span=(0, 2), match='ec'>\n",
      "<re.Match object; span=(0, 2), match='bd'>\n",
      "None\n",
      "None\n"
     ]
    }
   ],
   "source": [
    "valid = re.compile(r\"^[abcde]{2}$\")\n",
    "\n",
    "print(valid.match(\"ab\"))  # Valid.\n",
    "print(valid.match(\"ec\"))  # Valid.\n",
    "print(valid.match(\"bd\"))  # Valid.\n",
    "print(valid.match(\"abhgde\"))  # Invalid.\n",
    "print(valid.match(\"a8\"))  # Valid.\n",
    "\n"
   ]
  },
  {
   "cell_type": "markdown",
   "id": "65fe4634",
   "metadata": {},
   "source": [
    "#### Making a Phonebook\n",
    "\n",
    "split() splits a string into a list delimited by the passed pattern. The method is invaluable for converting textual data into data structures that can be easily read and modified by Python as demonstrated in the following example that creates a phonebook.\n",
    "\n",
    "First, here is the input. Normally it may come from a file, here we are using triple-quoted string syntax"
   ]
  },
  {
   "cell_type": "markdown",
   "id": "91c1d34e",
   "metadata": {},
   "source": [
    "##### Documentation Reference:\n",
    "```python\n",
    "re.split(pattern, string, maxsplit=0, flags=0)\n",
    "```\n",
    "\n",
    "Split string by the occurrences of pattern. If capturing parentheses are used in pattern, then the text of all groups in the pattern are also returned as part of the resulting list. If maxsplit is nonzero, at most maxsplit splits occur, and the remainder of the string is returned as the final element of the list."
   ]
  },
  {
   "cell_type": "code",
   "execution_count": 38,
   "id": "edd569f2",
   "metadata": {},
   "outputs": [],
   "source": [
    "text = \"\"\"Ross McFluff: 834.345.1254 155 Elm Street\n",
    "\n",
    "Ronald Heathmore: 892.345.3428 436 Finley Avenue\n",
    "Frank Burger: 925.541.7625 662 South Dogwood Way\n",
    "\n",
    "\n",
    "Heather Albrecht: 548.326.4584 919 Park Place\"\"\""
   ]
  },
  {
   "cell_type": "markdown",
   "id": "a59fedb1",
   "metadata": {},
   "source": [
    "The entries are separated by one or more newlines. Now we convert the string into a list with each nonempty line having its own entry:"
   ]
  },
  {
   "cell_type": "code",
   "execution_count": 39,
   "id": "26d6bdd9",
   "metadata": {},
   "outputs": [
    {
     "data": {
      "text/plain": [
       "['Ross McFluff: 834.345.1254 155 Elm Street',\n",
       " 'Ronald Heathmore: 892.345.3428 436 Finley Avenue',\n",
       " 'Frank Burger: 925.541.7625 662 South Dogwood Way',\n",
       " 'Heather Albrecht: 548.326.4584 919 Park Place']"
      ]
     },
     "execution_count": 39,
     "metadata": {},
     "output_type": "execute_result"
    }
   ],
   "source": [
    "entries = re.split(\"\\n+\", text)\n",
    "entries\n"
   ]
  },
  {
   "cell_type": "markdown",
   "id": "a9a5ba88",
   "metadata": {},
   "source": [
    "Finally, split each entry into a list with first name, last name, telephone number, and address. We use the maxsplit parameter of split() because the address has spaces, our splitting pattern, in it:"
   ]
  },
  {
   "cell_type": "code",
   "execution_count": 40,
   "id": "db116e1d",
   "metadata": {},
   "outputs": [
    {
     "data": {
      "text/plain": [
       "[['Ross', 'McFluff', '834.345.1254', '155 Elm Street'],\n",
       " ['Ronald', 'Heathmore', '892.345.3428', '436 Finley Avenue'],\n",
       " ['Frank', 'Burger', '925.541.7625', '662 South Dogwood Way'],\n",
       " ['Heather', 'Albrecht', '548.326.4584', '919 Park Place']]"
      ]
     },
     "execution_count": 40,
     "metadata": {},
     "output_type": "execute_result"
    }
   ],
   "source": [
    "[re.split(\":? \", entry, 3) for entry in entries]"
   ]
  },
  {
   "cell_type": "markdown",
   "id": "5b25b6b5",
   "metadata": {},
   "source": [
    "The :? pattern matches the colon after the last name, so that it does not occur in the result list. With a maxsplit of 4, we could separate the house number from the street name:"
   ]
  },
  {
   "cell_type": "code",
   "execution_count": 46,
   "id": "71d4e1bc",
   "metadata": {},
   "outputs": [
    {
     "data": {
      "text/plain": [
       "[['Ross', 'McFluff', '834.345.1254', '155', 'Elm Street'],\n",
       " ['Ronald', 'Heathmore', '892.345.3428', '436', 'Finley Avenue'],\n",
       " ['Frank', 'Burger', '925.541.7625', '662', 'South Dogwood Way'],\n",
       " ['Heather', 'Albrecht', '548.326.4584', '919', 'Park Place']]"
      ]
     },
     "execution_count": 46,
     "metadata": {},
     "output_type": "execute_result"
    }
   ],
   "source": [
    "[re.split(\":? \", entry, 4) for entry in entries]"
   ]
  },
  {
   "cell_type": "markdown",
   "id": "60a70bb5",
   "metadata": {},
   "source": [
    "### Text Munging\n",
    "\n",
    "sub() replaces every occurrence of a pattern with a string or the result of a function. This example demonstrates using sub() with a function to “munge” text, or randomize the order of all the characters in each word of a sentence except for the first and last characters:\n"
   ]
  },
  {
   "cell_type": "markdown",
   "id": "ed8a633b",
   "metadata": {},
   "source": [
    "##### Documentation Reference\n",
    "```python\n",
    "re.sub(pattern, repl, string, count=0, flags=0)\n",
    "```\n",
    "Return the string obtained by replacing the leftmost non-overlapping occurrences of pattern in string by the replacement repl. If the pattern isn’t found, string is returned unchanged. **repl can be a string or a function**.\n",
    "\n",
    "If it is a string, any backslash escapes in it are processed. That is, `\\n` is converted to a single newline character, `\\r` is converted to a carriage return, and so forth. Unknown escapes of ASCII letters are reserved for future use and treated as errors. Other unknown escapes such as `\\&` are left alone. Backreferences, such as `\\6`, are replaced with the substring matched by group 6 in the pattern."
   ]
  },
  {
   "cell_type": "code",
   "execution_count": 50,
   "id": "9adf1ff9",
   "metadata": {},
   "outputs": [
    {
     "data": {
      "text/plain": [
       "'Pofeossrr Aldaoelbmk, plaese roeprt your aecebsns pmtrploy.'"
      ]
     },
     "execution_count": 50,
     "metadata": {},
     "output_type": "execute_result"
    }
   ],
   "source": [
    "def repl(m):\n",
    "    inner_word = list(m.group(2))\n",
    "    random.shuffle(inner_word)\n",
    "    return m.group(1) + \"\".join(inner_word) + m.group(3)\n",
    "\n",
    "text = \"Professor Abdolmalek, please report your absences promptly.\"\n",
    "\n",
    "re.sub(r\"(\\w)(\\w+)(\\w)\", repl, text)\n"
   ]
  },
  {
   "cell_type": "code",
   "execution_count": 56,
   "id": "23bbe2d5",
   "metadata": {},
   "outputs": [
    {
     "data": {
      "text/plain": [
       "'My Nmae Is Svaaranan Sagahhmunm'"
      ]
     },
     "execution_count": 56,
     "metadata": {},
     "output_type": "execute_result"
    }
   ],
   "source": [
    "my_string =\"My Name Is Saravanan Shanmugham\"\n",
    "pattern = re.compile(r\"(\\w)(\\w+)(\\w)\")\n",
    "re.sub(r\"(\\w)(\\w+)(\\w)\", repl, my_string)\n"
   ]
  },
  {
   "cell_type": "code",
   "execution_count": 70,
   "id": "d9ccf0cf",
   "metadata": {},
   "outputs": [
    {
     "data": {
      "text/plain": [
       "['carefully', 'disguised', 'captured', 'quickly']"
      ]
     },
     "execution_count": 70,
     "metadata": {},
     "output_type": "execute_result"
    }
   ],
   "source": [
    "# Find all words ending with \"ly\" and \"ed\"\n",
    "\n",
    "text = \"He was carefully disguised but captured quickly by police.\"\n",
    "re.findall(r\"(\\w+ed|\\w+ly)\\b\", text)"
   ]
  },
  {
   "cell_type": "markdown",
   "id": "cf8ec835",
   "metadata": {},
   "source": [
    "***"
   ]
  }
 ],
 "metadata": {
  "kernelspec": {
   "display_name": "Python 3 (ipykernel)",
   "language": "python",
   "name": "python3"
  },
  "language_info": {
   "codemirror_mode": {
    "name": "ipython",
    "version": 3
   },
   "file_extension": ".py",
   "mimetype": "text/x-python",
   "name": "python",
   "nbconvert_exporter": "python",
   "pygments_lexer": "ipython3",
   "version": "3.9.13"
  }
 },
 "nbformat": 4,
 "nbformat_minor": 5
}
