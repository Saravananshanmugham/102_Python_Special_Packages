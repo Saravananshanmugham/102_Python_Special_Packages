{
 "cells": [
  {
   "cell_type": "markdown",
   "id": "cbbb89b4",
   "metadata": {},
   "source": [
    "# SQLite working with Date and DateTime"
   ]
  },
  {
   "cell_type": "code",
   "execution_count": 9,
   "id": "020956e5",
   "metadata": {},
   "outputs": [],
   "source": [
    "import sqlite3\n",
    "import datetime\n",
    "dbpath=r'C:\\MyLearn\\Databases\\SQLite_Python.db'"
   ]
  },
  {
   "cell_type": "markdown",
   "id": "e6ccaf82",
   "metadata": {},
   "source": [
    "This lesson demonstrates how to work with SQLite date and timestamp types in Python and vice-versa. Most of the time, we need to insert Python date or DateTime value into an SQLite table. Also, we need to read the SQLite date and timestamp values stored in the SQLite3 database and convert them into Python date and DateTime types."
   ]
  },
  {
   "cell_type": "markdown",
   "id": "0b694ba3",
   "metadata": {},
   "source": [
    "## Python example to insert/Retrieve DateTime from SQLite table\n",
    "\n",
    "n a usual scenario, when you execute the insert query with the DateTime object, the Python sqlite3 module converts it into a string format instead of an actual DateTime. And when you run a SELECT query from Python to read DateTime values from SQLite table, the sqlite3 module will convert it into a string object. Let’s understand this scenario with a simple example."
   ]
  },
  {
   "cell_type": "code",
   "execution_count": 12,
   "id": "35a60c75",
   "metadata": {},
   "outputs": [
    {
     "name": "stdout",
     "output_type": "stream",
     "text": [
      "Connected to SQLite\n",
      "Developer added successfully \n",
      "\n",
      "Mark  joined on 2022-02-09 11:49:01.634358\n",
      "joining date type is <class 'str'>\n",
      "sqlite connection is closed\n"
     ]
    }
   ],
   "source": [
    "\n",
    "def addDeveloper(id, name, joiningDate):\n",
    "    try:\n",
    "        sqliteConnection = sqlite3.connect(dbpath)\n",
    "        cursor = sqliteConnection.cursor()\n",
    "        print(\"Connected to SQLite\")\n",
    "\n",
    "        sqlite_create_table_query = '''CREATE TABLE new_developers (\n",
    "                                       id INTEGER PRIMARY KEY,\n",
    "                                       name TEXT NOT NULL,\n",
    "                                       joiningDate timestamp);'''\n",
    "\n",
    "        cursor = sqliteConnection.cursor()\n",
    "        cursor.execute(sqlite_create_table_query)\n",
    "\n",
    "        # insert developer detail\n",
    "        sqlite_insert_with_param = \"\"\"INSERT INTO 'new_developers'\n",
    "                          ('id', 'name', 'joiningDate') \n",
    "                          VALUES (?, ?, ?);\"\"\"\n",
    "\n",
    "        data_tuple = (id, name, joiningDate)\n",
    "        cursor.execute(sqlite_insert_with_param, data_tuple)\n",
    "        sqliteConnection.commit()\n",
    "        print(\"Developer added successfully \\n\")\n",
    "\n",
    "        # get developer detail\n",
    "        sqlite_select_query = \"\"\"SELECT name, joiningDate from new_developers where id = ?\"\"\"\n",
    "        cursor.execute(sqlite_select_query, (1,))\n",
    "        records = cursor.fetchall()\n",
    "\n",
    "        for row in records:\n",
    "            developer = row[0]\n",
    "            joining_Date = row[1]\n",
    "            print(developer, \" joined on\", joiningDate)\n",
    "            print(\"joining date type is\", type(joining_Date))\n",
    "\n",
    "        cursor.close()\n",
    "\n",
    "    except sqlite3.Error as error:\n",
    "        print(\"Error while working with SQLite\", error)\n",
    "    finally:\n",
    "        if sqliteConnection:\n",
    "            sqliteConnection.close()\n",
    "            print(\"sqlite connection is closed\")\n",
    "\n",
    "addDeveloper(1, 'Mark', datetime.datetime.now())\n"
   ]
  },
  {
   "cell_type": "markdown",
   "id": "9926f826",
   "metadata": {},
   "source": [
    "As we can see, we inserted a date object, but when we retrieved the details from a table, we got a string type. But we don’t want string type. We want the DateTime type so we can directly use it.\n",
    "\n",
    "To solve this problem, use `detect_types` as `PARSE_DECLTYPES` and `PARSE_COLNAMES` as arguments in the connect method of the sqlite3 module.\n",
    "\n",
    "##### sqlite3.PARSE_DECLTYPES\n",
    "\n",
    "If you use this parameter in the connect method, then the sqlite3 module parses the declared type for each column it returns.\n",
    "\n",
    "It will parse the declared type then use the type converters dictionary to execute the converter function registered for that type there.\n",
    "\n",
    "###### sqlite3.PARSE_COLNAMES\n",
    "\n",
    "If you use this parameter in the connect method, then the SQLite interface parses the column name for each column it returns. It will use the converters dictionary and then use the converter function found there to return the value.\n",
    "\n",
    "Let see the example now. In this example, when we read DateTime from the SQLite table we must get the joining date type as a `datetime`."
   ]
  },
  {
   "cell_type": "code",
   "execution_count": 13,
   "id": "759d4f19",
   "metadata": {},
   "outputs": [
    {
     "name": "stdout",
     "output_type": "stream",
     "text": [
      "Connected to SQLite\n",
      "Developer added successfully \n",
      "\n",
      "Mark  joined on 2022-02-09 11:50:45.475359\n",
      "joining date type is <class 'datetime.datetime'>\n",
      "sqlite connection is closed\n"
     ]
    }
   ],
   "source": [
    "def addDeveloper(id, name, joiningDate):\n",
    "    try:\n",
    "        sqliteConnection = sqlite3.connect(dbpath,\n",
    "                                           detect_types=sqlite3.PARSE_DECLTYPES |\n",
    "                                                        sqlite3.PARSE_COLNAMES)\n",
    "        cursor = sqliteConnection.cursor()\n",
    "        print(\"Connected to SQLite\")\n",
    "\n",
    "        # insert developer detail\n",
    "        sqlite_insert_with_param = \"\"\"INSERT INTO 'new_developers'\n",
    "                          ('id', 'name', 'joiningDate') \n",
    "                          VALUES (?, ?, ?);\"\"\"\n",
    "\n",
    "        data_tuple = (id, name, joiningDate)\n",
    "        cursor.execute(sqlite_insert_with_param, data_tuple)\n",
    "        sqliteConnection.commit()\n",
    "        print(\"Developer added successfully \\n\")\n",
    "\n",
    "        # get developer detail\n",
    "        sqlite_select_query = \"\"\"SELECT name, joiningDate from new_developers where id = ?\"\"\"\n",
    "        cursor.execute(sqlite_select_query, (1,))\n",
    "        records = cursor.fetchall()\n",
    "\n",
    "        for row in records:\n",
    "            developer = row[0]\n",
    "            joining_Date = row[1]\n",
    "            print(developer, \" joined on\", joiningDate)\n",
    "            print(\"joining date type is\", type(joining_Date))\n",
    "\n",
    "        cursor.close()\n",
    "\n",
    "    except sqlite3.Error as error:\n",
    "        print(\"Error while working with SQLite\", error)\n",
    "    finally:\n",
    "        if (sqliteConnection):\n",
    "            sqliteConnection.close()\n",
    "            print(\"sqlite connection is closed\")\n",
    "\n",
    "addDeveloper(1, 'Mark', datetime.datetime.now())\n"
   ]
  },
  {
   "cell_type": "markdown",
   "id": "23d80257",
   "metadata": {},
   "source": [
    "As you can see when we retrieved the joining date from SQLite table and we got the result in `datetime.datetime` type."
   ]
  },
  {
   "cell_type": "markdown",
   "id": "b3657399",
   "metadata": {},
   "source": [
    "****"
   ]
  },
  {
   "cell_type": "code",
   "execution_count": null,
   "id": "d9df773a",
   "metadata": {},
   "outputs": [],
   "source": []
  }
 ],
 "metadata": {
  "kernelspec": {
   "display_name": "Python 3 (ipykernel)",
   "language": "python",
   "name": "python3"
  },
  "language_info": {
   "codemirror_mode": {
    "name": "ipython",
    "version": 3
   },
   "file_extension": ".py",
   "mimetype": "text/x-python",
   "name": "python",
   "nbconvert_exporter": "python",
   "pygments_lexer": "ipython3",
   "version": "3.8.12"
  }
 },
 "nbformat": 4,
 "nbformat_minor": 5
}
