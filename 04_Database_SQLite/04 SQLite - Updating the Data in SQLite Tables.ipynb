{
 "cells": [
  {
   "cell_type": "markdown",
   "id": "b1ea11bc",
   "metadata": {},
   "source": [
    "# Updating the Data in SQLite Tables"
   ]
  },
  {
   "cell_type": "code",
   "execution_count": 1,
   "id": "c0d44af5",
   "metadata": {},
   "outputs": [],
   "source": [
    "import sqlite3\n",
    "dbpath = r'C:\\MyLearn\\Databases\\SQLite_Python.db'"
   ]
  },
  {
   "cell_type": "markdown",
   "id": "27b4a988",
   "metadata": {},
   "source": [
    "### Steps to Update Data in SQLite Tables\n",
    "\n",
    "##### Step 1: Connect to SQLite from Python\n",
    "Use the connect() method of the connector class with the database name. To establish a connection to SQLite, you need to pass the database name you want to connect. If you specify the database file name that already presents on the disk, it will connect to it. But if your specified SQLite database file doesn’t exist, SQLite creates a new database for you. This method returns the SQLite Connection Object if the connection is successful.\n",
    "\n",
    "\n",
    "##### Step 2: Prepare a SQL Update Query\n",
    "Prepare an update statement query with data to update. Mention the column name we want to update and its new value. For example, `UPDATE table_name SET column1 = value1, column2 = value2...., columnN = valueN WHERE [condition];`\n",
    "\n",
    "##### Step 3: Execute the UPDATE query, using cursor.execute()\n",
    "This method executes the operation stored in the UPDATE query.\n",
    "\n",
    "##### Step 4: Commit your changes\n",
    "After the successful execution of the SQLite update query, Don’t forget to commit your changes to the database using `connection.comit()`.\n",
    "\n",
    "##### Step 5: Extract the number of rows affected\n",
    "After a successful update operation, use a `cursor.rowcount` method to get the number of rows affected. The count depends on how many rows you are updating.\n",
    "\n",
    "##### Step 6: Verify result using the SQL SELECT query\n",
    "Execute a SQLite select query from Python to see the new changes\n",
    "\n",
    "##### Step 7: Close the cursor object and database connection object\n",
    "use `cursor.clsoe()` and `connection.clsoe()` method to close SQLite connections once the update operation completes."
   ]
  },
  {
   "cell_type": "code",
   "execution_count": 2,
   "id": "7ac28427",
   "metadata": {},
   "outputs": [
    {
     "name": "stdout",
     "output_type": "stream",
     "text": [
      "Connected to SQLite\n",
      "Record Updated successfully \n",
      "The SQLite connection is closed\n"
     ]
    }
   ],
   "source": [
    "def updateSqliteTable():\n",
    "    try:\n",
    "        sqliteConnection = sqlite3.connect(dbpath)\n",
    "        cursor = sqliteConnection.cursor()\n",
    "        print(\"Connected to SQLite\")\n",
    "\n",
    "        sql_update_query = \"\"\"Update SqliteDb_developers set salary = 10000 where id = 4\"\"\"\n",
    "        cursor.execute(sql_update_query)\n",
    "        sqliteConnection.commit()\n",
    "        print(\"Record Updated successfully \")\n",
    "        cursor.close()\n",
    "\n",
    "    except sqlite3.Error as error:\n",
    "        print(\"Failed to update sqlite table\", error)\n",
    "    finally:\n",
    "        if sqliteConnection:\n",
    "            sqliteConnection.close()\n",
    "            print(\"The SQLite connection is closed\")\n",
    "\n",
    "updateSqliteTable()\n"
   ]
  },
  {
   "cell_type": "markdown",
   "id": "f2dd04e7",
   "metadata": {},
   "source": [
    "**Note:** If you are doing multiple update operations and wanted to revert your change in case of failure of any operations, use the rollback() method of a connection class to revert the changes. Use the rollback() method of a connection class. in except block."
   ]
  },
  {
   "cell_type": "markdown",
   "id": "a5361c38",
   "metadata": {},
   "source": [
    "## Using Python variables in SQLite UPDATE query\n",
    "\n",
    "Most of the time, we need to update a table with some runtime values. \n",
    "\n",
    "For example, when users update their profile or any other details through a user interface, we need to update a table with those new values. In such cases, It is always best practice to use a parameterized query.\n",
    "\n",
    "The parameterized query uses placeholders (?) inside SQL statements that contain input from users. It helps us to update runtime values and prevent SQL injection concerns.\n"
   ]
  },
  {
   "cell_type": "code",
   "execution_count": 3,
   "id": "0cdbbba8",
   "metadata": {},
   "outputs": [
    {
     "name": "stdout",
     "output_type": "stream",
     "text": [
      "Connected to SQLite\n",
      "Record Updated successfully\n",
      "The sqlite connection is closed\n"
     ]
    }
   ],
   "source": [
    "def updateSqliteTable(id, salary):\n",
    "    try:\n",
    "        sqliteConnection = sqlite3.connect(dbpath)\n",
    "        cursor = sqliteConnection.cursor()\n",
    "        print(\"Connected to SQLite\")\n",
    "\n",
    "        sql_update_query = \"\"\"Update SqliteDb_developers set salary = ? where id = ?\"\"\"\n",
    "        data = (salary, id)\n",
    "        cursor.execute(sql_update_query, data)\n",
    "        sqliteConnection.commit()\n",
    "        print(\"Record Updated successfully\")\n",
    "        cursor.close()\n",
    "\n",
    "    except sqlite3.Error as error:\n",
    "        print(\"Failed to update sqlite table\", error)\n",
    "    finally:\n",
    "        if sqliteConnection:\n",
    "            sqliteConnection.close()\n",
    "            print(\"The sqlite connection is closed\")\n",
    "\n",
    "updateSqliteTable(3, 7500)\n"
   ]
  },
  {
   "cell_type": "markdown",
   "id": "82746531",
   "metadata": {},
   "source": [
    "**Let’s understand the above program**\n",
    "\n",
    "* We used two placeholders in the update query, one for the salary column and the other is for the id column.\n",
    "* We prepared a data tuple by specifying two **Python variables** in sequential order.\n",
    "* we passed the SQL update query and data tuple to the `cursor.execute()` method. Remember variables order in the tuple is sequential as per column placeholders order."
   ]
  },
  {
   "cell_type": "markdown",
   "id": "26b7f0cf",
   "metadata": {},
   "source": [
    "## Update multiple rows of SQLite table\n",
    "\n",
    "In the above example, we have used `execute()` method of cursor object to update a single record. But sometimes, we need to update multiple rows of the SQLite table. For example, you want to increase the salary of developers by 20%.\n",
    "\n",
    "Instead of executing the UPDATE query every time to update each record, you can perform bulk update operations in a single query using the cursor.executemany() method.\n",
    "\n",
    "The executemany(query, seq_param) method accepts the following two parameters\n",
    "* SQL query\n",
    "* list of records to be updated.\n",
    "\n",
    "Now, let see the example. In this example, we are updating three rows."
   ]
  },
  {
   "cell_type": "code",
   "execution_count": 4,
   "id": "d76e9ba0",
   "metadata": {},
   "outputs": [
    {
     "name": "stdout",
     "output_type": "stream",
     "text": [
      "Connected to SQLite\n",
      "Total 3 Records updated successfully\n",
      "The SQLite connection is closed\n"
     ]
    }
   ],
   "source": [
    "def updateMultipleRecords(recordList):\n",
    "    try:\n",
    "        sqliteConnection = sqlite3.connect(dbpath)\n",
    "        cursor = sqliteConnection.cursor()\n",
    "        print(\"Connected to SQLite\")\n",
    "\n",
    "        sqlite_update_query = \"\"\"Update SqliteDb_developers set salary = ? where id = ?\"\"\"\n",
    "        cursor.executemany(sqlite_update_query, recordList)\n",
    "        sqliteConnection.commit()\n",
    "        print(\"Total\", cursor.rowcount, \"Records updated successfully\")\n",
    "        sqliteConnection.commit()\n",
    "        cursor.close()\n",
    "\n",
    "    except sqlite3.Error as error:\n",
    "        print(\"Failed to update multiple records of sqlite table\", error)\n",
    "    finally:\n",
    "        if sqliteConnection:\n",
    "            sqliteConnection.close()\n",
    "            print(\"The SQLite connection is closed\")\n",
    "\n",
    "records_to_update = [(9700, 4), (7800, 5), (8400, 6)]\n",
    "updateMultipleRecords(records_to_update)\n"
   ]
  },
  {
   "cell_type": "markdown",
   "id": "c268da12",
   "metadata": {},
   "source": [
    "**Let’s understand the above example**\n",
    "\n",
    "* We prepared the SQLite update query with two placeholders (“salary” and “Id” column ) and a list of records to update in tuple format.\n",
    "* Each element of a list is nothing but a tuple for each row. Each tuple contains two values, i.e., salary and id of a developer.\n",
    "* We passed SQLite update query and record list to `executemany()` as arguments.\n",
    "* To get to know the number of records updated, we used a `cursor.rowcount` function."
   ]
  },
  {
   "cell_type": "markdown",
   "id": "ff1e47e3",
   "metadata": {},
   "source": [
    "## Update multiple Columns of SQLite table\n",
    "\n",
    "We can also update multiple columns of an SQLite table in a single query. Just prepare a parameterized query using a placeholder to update multiple columns. Let see this with an example program."
   ]
  },
  {
   "cell_type": "code",
   "execution_count": 6,
   "id": "07d85667",
   "metadata": {},
   "outputs": [
    {
     "name": "stdout",
     "output_type": "stream",
     "text": [
      "Connected to SQLite\n",
      "Multiple columns updated successfully\n",
      "sqlite connection is closed\n"
     ]
    }
   ],
   "source": [
    "def updateMultipleColumns(id, salary, email):\n",
    "    try:\n",
    "        sqliteConnection = sqlite3.connect(dbpath)\n",
    "        cursor = sqliteConnection.cursor()\n",
    "        print(\"Connected to SQLite\")\n",
    "\n",
    "        sqlite_update_query = \"\"\"Update SqliteDb_developers set salary = ?, email = ? where id = ?\"\"\"\n",
    "        columnValues = (salary, email, id)\n",
    "        cursor.execute(sqlite_update_query, columnValues)\n",
    "        sqliteConnection.commit()\n",
    "        print(\"Multiple columns updated successfully\")\n",
    "        sqliteConnection.commit()\n",
    "        cursor.close()\n",
    "\n",
    "    except sqlite3.Error as error:\n",
    "        print(\"Failed to update multiple columns of sqlite table\", error)\n",
    "    finally:\n",
    "        if sqliteConnection:\n",
    "            sqliteConnection.close()\n",
    "            print(\"sqlite connection is closed\")\n",
    "\n",
    "updateMultipleColumns(3, 6500, 'ben_stokes@gmail.com')\n"
   ]
  },
  {
   "cell_type": "markdown",
   "id": "59d85dd5",
   "metadata": {},
   "source": [
    "***"
   ]
  },
  {
   "cell_type": "code",
   "execution_count": null,
   "id": "cfd162be",
   "metadata": {},
   "outputs": [],
   "source": []
  }
 ],
 "metadata": {
  "kernelspec": {
   "display_name": "Python 3 (ipykernel)",
   "language": "python",
   "name": "python3"
  },
  "language_info": {
   "codemirror_mode": {
    "name": "ipython",
    "version": 3
   },
   "file_extension": ".py",
   "mimetype": "text/x-python",
   "name": "python",
   "nbconvert_exporter": "python",
   "pygments_lexer": "ipython3",
   "version": "3.8.12"
  }
 },
 "nbformat": 4,
 "nbformat_minor": 5
}
