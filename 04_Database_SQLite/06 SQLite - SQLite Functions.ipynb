{
 "cells": [
  {
   "cell_type": "markdown",
   "id": "be391a9d",
   "metadata": {},
   "source": [
    "# SQLite Functions"
   ]
  },
  {
   "cell_type": "markdown",
   "id": "d4ef9b3b",
   "metadata": {},
   "source": [
    "We can create a user-defined function or stored procedure in a database server like MySQL, MSSQL, PostgreSQL but SQLite does not have a function/stored procedure language.\n",
    "\n",
    "So `CREATE FUNCTION` or `CREATE PROCEDURE` does not work in SQLite. In this tutorial, we will learn how to create and redefine SQL functions from Python.\n",
    "\n",
    "SQLite’s C API allows us to create user-defined functions or redefine the behavior of existing SQL functions or aggregates.\n",
    "\n",
    "Python sqlite3 module is nothing but a wrapper on this C API, which allows us to create and redefine SQL functions from Python.\n",
    "\n",
    "### Goals of this lesson\n",
    "* Python sqlite3’s `connection.create_function()` to create or redefine functions in SQLite.\n",
    "* The connection.create_aggregate() to create or redefine aggregate in SQLite"
   ]
  },
  {
   "cell_type": "code",
   "execution_count": 2,
   "id": "f1d110e4",
   "metadata": {},
   "outputs": [],
   "source": [
    "import sqlite3\n",
    "dbpath=r'C:\\MyLearn\\Databases\\SQLite_Python.db'"
   ]
  },
  {
   "cell_type": "markdown",
   "id": "adbe673b",
   "metadata": {},
   "source": [
    "## Defining SQLite Functions using Python\n",
    "\n",
    "In some situations, we need to perform specific tasks when we are executing a SQL statement, particularly when we are inserting or selecting data. We need to use user-defined functions in a SQL statement.\n",
    "\n",
    "For example, When displaying the user name, we want it to be in a title case. As you know, SQLite has lots of built-in string functions like LENGTH, LOWER, UPPER, SUBSTR, REPLACE, and many more.\n",
    "\n",
    "Let add a new function `TOTITLE`, to convert any string to the title case.\n",
    "\n",
    "Syntax of `create_function()`\n",
    "\n",
    "```python\n",
    "create_function(name, num_params, func)\n",
    "```\n",
    "\n",
    "This function accepts three arguments.\n",
    "\n",
    "* name: It is a function name.\n",
    "* num_params: It is the number of parameters the function accepts.\n",
    "* func: It is a Python callable that is called the SQL function within a query.\n",
    "\n",
    "This function creates a new user-defined function that we can use from SQL statements under the function name.\n",
    "\n",
    "**Note:** if num_params is -1, the function may take any number of arguments. `connection.create_function()` can return any of the types supported by SQLite for example, bytes, str, int, float, and None.\n",
    "\n",
    "Let’s create a new user-defined function in SQLite using Python."
   ]
  },
  {
   "cell_type": "code",
   "execution_count": 3,
   "id": "6b3e1079",
   "metadata": {},
   "outputs": [
    {
     "name": "stdout",
     "output_type": "stream",
     "text": [
      "Connected to SQLite\n",
      "Developer Name is ('Joe',)\n",
      "sqlite connection is closed\n"
     ]
    }
   ],
   "source": [
    "def _toTitleCase(string):\n",
    "    return str(string).title()\n",
    "\n",
    "def getDeveloperName(id):\n",
    "    try:\n",
    "        sqliteConnection = sqlite3.connect(dbpath)\n",
    "        cursor = sqliteConnection.cursor()\n",
    "        print(\"Connected to SQLite\")\n",
    "\n",
    "        sqliteConnection.create_function(\"TOTILECASE\", 1, _toTitleCase)\n",
    "        select_query = \"SELECT TOTILECASE(name) FROM SqliteDb_developers where id = ?\"\n",
    "        cursor.execute(select_query, (id,))\n",
    "        name = cursor.fetchone()\n",
    "        print(\"Developer Name is\", name)\n",
    "        cursor.close()\n",
    "\n",
    "    except sqlite3.Error as error:\n",
    "        print(\"Failed to read data from sqlite table\", error)\n",
    "    finally:\n",
    "        if sqliteConnection:\n",
    "            sqliteConnection.close()\n",
    "            print(\"sqlite connection is closed\")\n",
    "\n",
    "getDeveloperName(2)\n"
   ]
  },
  {
   "cell_type": "markdown",
   "id": "f0a89a74",
   "metadata": {},
   "source": [
    "**Understand Python create SQLite function example**\n",
    "\n",
    "* We created a `_toTitleCase` function that accepts a string as input and converts it into a title case.\n",
    "* Using a `sqlite3.connect()` method, we established a connection to SQLite Database from Python.\n",
    "* We used a `connection.cursor()` method to get a cursor object from the connection object.\n",
    "* We called `create_fundction` of a connection class and passed three arguments function name, the number of parameters the `_toTitleCase` accepts, and Python callable that is called as the SQL function within a query.\n",
    "* We called the `TOTILECASE` function in SQLite SELECT query to get the developer name in the title case.\n",
    "* We executed the operation stored in the SQLite SELECT query using a execute() method of a Cursor object and fetched the name using `cursor.fetchone()`.\n",
    "* At last, we are closing the cursor and SQLite connection object inside the `finally` block once we complete the operation."
   ]
  },
  {
   "cell_type": "markdown",
   "id": "7da678de",
   "metadata": {},
   "source": [
    "## Redefine existing SQLite SQL Functions using Python\n",
    "\n",
    "In some situations, we need to redefine the working of existing SQLite functions.\n",
    "\n",
    "For demo purposes, let’s convert the SQLite built-in function LOWER to UPPER case so whenever you invoke this function from SQL query, it will turn the text into the UPPER case instead of the lower case.\n",
    "\n",
    "For example:\n",
    "\n",
    "``` Python\n",
    "SELECT lower(name) FROM SqliteDb_developers where id = 1 should return James as an output. After our redefinition, it will return JAMES.\n",
    "```\n",
    "Let’s create a new definition for lower() function of SQLite.\n"
   ]
  },
  {
   "cell_type": "code",
   "execution_count": 4,
   "id": "bfc50318",
   "metadata": {},
   "outputs": [
    {
     "name": "stdout",
     "output_type": "stream",
     "text": [
      "Connected to SQLite\n",
      "Developer Name is ('JAMES',)\n",
      "sqlite connection is closed\n"
     ]
    }
   ],
   "source": [
    "def lower(string):\n",
    "    return str(string).upper()\n",
    "\n",
    "def getDeveloperName(id):\n",
    "    try:\n",
    "        sqliteConnection = sqlite3.connect(dbpath)\n",
    "        cursor = sqliteConnection.cursor()\n",
    "        print(\"Connected to SQLite\")\n",
    "\n",
    "        sqliteConnection.create_function(\"lower\", 1, lower)\n",
    "        select_query = \"SELECT lower(name) FROM SqliteDb_developers where id = ?\"\n",
    "        cursor.execute(select_query, (id,))\n",
    "        name = cursor.fetchone()\n",
    "        print(\"Developer Name is\", name)\n",
    "        cursor.close()\n",
    "\n",
    "    except sqlite3.Error as error:\n",
    "        print(\"Failed to read data from sqlite table\", error)\n",
    "    finally:\n",
    "        if sqliteConnection:\n",
    "            sqliteConnection.close()\n",
    "            print(\"sqlite connection is closed\")\n",
    "\n",
    "getDeveloperName(1)\n"
   ]
  },
  {
   "cell_type": "markdown",
   "id": "eaeb6466",
   "metadata": {},
   "source": [
    "****"
   ]
  },
  {
   "cell_type": "code",
   "execution_count": null,
   "id": "c3e11c33",
   "metadata": {},
   "outputs": [],
   "source": []
  }
 ],
 "metadata": {
  "kernelspec": {
   "display_name": "Python 3 (ipykernel)",
   "language": "python",
   "name": "python3"
  },
  "language_info": {
   "codemirror_mode": {
    "name": "ipython",
    "version": 3
   },
   "file_extension": ".py",
   "mimetype": "text/x-python",
   "name": "python",
   "nbconvert_exporter": "python",
   "pygments_lexer": "ipython3",
   "version": "3.8.12"
  }
 },
 "nbformat": 4,
 "nbformat_minor": 5
}
