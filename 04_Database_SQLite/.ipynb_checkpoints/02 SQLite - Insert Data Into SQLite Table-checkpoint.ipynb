{
 "cells": [
  {
   "cell_type": "markdown",
   "id": "97861973",
   "metadata": {},
   "source": [
    "# Insert Data into SQLite Table"
   ]
  },
  {
   "cell_type": "code",
   "execution_count": 1,
   "id": "a9487c80",
   "metadata": {},
   "outputs": [],
   "source": [
    "import sqlite3\n",
    "dbpath=r'C:\\MyLearn\\Databases\\SQLite_Python.db'"
   ]
  },
  {
   "cell_type": "markdown",
   "id": "606dd7c2",
   "metadata": {},
   "source": [
    "### Goals of this lesson\n",
    "* Insert single and multiple rows into the SQLite table\n",
    "* Insert Integer, string, float, double, and datetime values into SQLite table\n",
    "* Use a parameterized query to insert Python variables as dynamic data into a table"
   ]
  },
  {
   "cell_type": "markdown",
   "id": "e504c928",
   "metadata": {},
   "source": [
    "### Steps to Insert Data Into SQLite Table\n",
    "\n",
    "##### Step 1: Connect to SQLite from Python\n",
    "Use the connect() method of the connector class with the database name. To establish a connection to SQLite, you need to pass the database name you want to connect. If you specify the database file name that already presents on the disk, it will connect to it. But if your specified SQLite database file doesn’t exist, SQLite creates a new database for you. This method returns the SQLite Connection Object if the connection is successful.\n",
    "\n",
    "##### Step 2: Define a SQL Insert query\n",
    "prepare a SQL INSERT query to insert a row into a table. in the insert query, we mention column names and their values to insert in a table.\n",
    "For example, `INSERT INTO mysql_table (column1, column2, …) VALUES (value1, value2, …);`\n",
    "\n",
    "##### Step 3: Get Cursor Object from Connection\n",
    "Use a `connection.cursor()` method to create a cursor object. using cursor object we can execute SQL queries.\n",
    "\n",
    "##### Step 4: Execute the insert query using execute() method\n",
    "The `cursor.execute(query)` method executes the operation stored in the Insert query.\n",
    "\n",
    "##### Step 5: Commit your changes\n",
    "After successfully executing an insert operation, make changes persistent into a database using the `commit()` of a connection class.\n",
    "\n",
    "##### Step 6: Get the number of rows affected\n",
    "After a successful insert operation, use a `cursor.rowcount` method to get the number of rows affected. The count depends on how many rows you are Inserting.\n",
    "\n",
    "##### Step 7: Verify result using the SQL SELECT query\n",
    "If required, execute SQLite select query from Python to see the new changes.\n",
    "\n",
    "##### Step 8: Close the cursor object and database connection object\n",
    "use `cursor.clsoe()` and `connection.clsoe()` method to close the cursor and SQLite connections after your work completes."
   ]
  },
  {
   "cell_type": "code",
   "execution_count": 2,
   "id": "10672943",
   "metadata": {},
   "outputs": [
    {
     "name": "stdout",
     "output_type": "stream",
     "text": [
      "Successfully Connected to SQLite\n",
      "Failed to insert data into sqlite table UNIQUE constraint failed: SqliteDb_developers.id\n",
      "The SQLite connection is closed\n"
     ]
    }
   ],
   "source": [
    "try:\n",
    "    sqliteConnection = sqlite3.connect(dbpath)\n",
    "    cursor = sqliteConnection.cursor()\n",
    "    print(\"Successfully Connected to SQLite\")\n",
    "\n",
    "    sqlite_insert_query = \"\"\"INSERT INTO SqliteDb_developers\n",
    "                          (id, name, email, joining_date, salary) \n",
    "                           VALUES \n",
    "                          (1,'James','james@pynative.com','2019-03-17',8000)\"\"\"\n",
    "\n",
    "    count = cursor.execute(sqlite_insert_query)\n",
    "    sqliteConnection.commit()\n",
    "    print(\"Record inserted successfully into SqliteDb_developers table \", cursor.rowcount)\n",
    "    cursor.close()\n",
    "\n",
    "except sqlite3.Error as error:\n",
    "    print(\"Failed to insert data into sqlite table\", error)\n",
    "finally:\n",
    "    if sqliteConnection:\n",
    "        sqliteConnection.close()\n",
    "        print(\"The SQLite connection is closed\")\n"
   ]
  },
  {
   "cell_type": "markdown",
   "id": "9a45defa",
   "metadata": {},
   "source": [
    "## Using Python variables in SQLite INSERT query\n",
    "\n",
    "Sometimes we need to insert a Python variable value into a table’s column. This value can be anything, including integer, string, float, and DateTime. \n",
    "\n",
    "For example, in the registration form person enter his/her details. You can take those values in Python variables and insert them into the SQLite table.\n",
    "\n",
    "We use a parameterized query to insert Python variables into the table. Using a parameterized query, we can pass python variables as a query parameter in which placeholders (?)"
   ]
  },
  {
   "cell_type": "code",
   "execution_count": 5,
   "id": "54c95c0f",
   "metadata": {},
   "outputs": [
    {
     "name": "stdout",
     "output_type": "stream",
     "text": [
      "Connected to SQLite\n",
      "Failed to insert Python variable into sqlite table UNIQUE constraint failed: SqliteDb_developers.id\n",
      "The SQLite connection is closed\n",
      "Connected to SQLite\n",
      "Failed to insert Python variable into sqlite table UNIQUE constraint failed: SqliteDb_developers.id\n",
      "The SQLite connection is closed\n"
     ]
    }
   ],
   "source": [
    "def insertVaribleIntoTable(id, name, email, joinDate, salary):\n",
    "    try:\n",
    "        sqliteConnection = sqlite3.connect(dbpath)\n",
    "        cursor = sqliteConnection.cursor()\n",
    "        print(\"Connected to SQLite\")\n",
    "\n",
    "        sqlite_insert_with_param = \"\"\"INSERT INTO SqliteDb_developers\n",
    "                          (id, name, email, joining_date, salary) \n",
    "                          VALUES (?, ?, ?, ?, ?);\"\"\"\n",
    "\n",
    "        data_tuple = (id, name, email, joinDate, salary)\n",
    "        cursor.execute(sqlite_insert_with_param, data_tuple)\n",
    "        sqliteConnection.commit()\n",
    "        print(\"Python Variables inserted successfully into SqliteDb_developers table\\n\")\n",
    "\n",
    "        cursor.close()\n",
    "\n",
    "    except sqlite3.Error as error:\n",
    "        print(\"Failed to insert Python variable into sqlite table\", error)\n",
    "    finally:\n",
    "        if sqliteConnection:\n",
    "            sqliteConnection.close()\n",
    "            print(\"The SQLite connection is closed\")\n",
    "\n",
    "insertVaribleIntoTable(2, 'Joe', 'joe@pynative.com', '2019-05-19', 9000)\n",
    "insertVaribleIntoTable(3, 'Ben', 'ben@pynative.com', '2019-02-23', 9500)\n"
   ]
  },
  {
   "cell_type": "markdown",
   "id": "a0c1860a",
   "metadata": {},
   "source": [
    "## Python Insert multiple rows into SQLite table \n",
    "\n",
    "In the above example, we have used execute() method of cursor object to insert a single record. Still, sometimes we need to insert multiple rows into the table in a single insert query.\n",
    "\n",
    "For example, You wanted to add all records from the CSV file into the SQLite table. Instead of executing the INSERT query every time to add each record, you can perform a bulk insert operation in a single query using a cursor’s `executemany()` function.\n",
    "\n",
    "The `executemany()` method takes two arguments SQL query and records to update."
   ]
  },
  {
   "cell_type": "code",
   "execution_count": 7,
   "id": "6f48cec4",
   "metadata": {},
   "outputs": [
    {
     "name": "stdout",
     "output_type": "stream",
     "text": [
      "Connected to SQLite\n",
      "Total 3 Records inserted successfully into SqliteDb_developers table\n",
      "The SQLite connection is closed\n"
     ]
    }
   ],
   "source": [
    "def insertMultipleRecords(recordList):\n",
    "    try:\n",
    "        sqliteConnection = sqlite3.connect(dbpath)\n",
    "        cursor = sqliteConnection.cursor()\n",
    "        print(\"Connected to SQLite\")\n",
    "\n",
    "        sqlite_insert_query = \"\"\"INSERT INTO SqliteDb_developers\n",
    "                          (id, name, email, joining_date, salary) \n",
    "                          VALUES (?, ?, ?, ?, ?);\"\"\"\n",
    "\n",
    "        cursor.executemany(sqlite_insert_query, recordList)\n",
    "        sqliteConnection.commit()\n",
    "        print(\"Total\", cursor.rowcount, \"Records inserted successfully into SqliteDb_developers table\")\n",
    "        sqliteConnection.commit()\n",
    "        cursor.close()\n",
    "\n",
    "    except sqlite3.Error as error:\n",
    "        print(\"Failed to insert multiple records into sqlite table\", error)\n",
    "    finally:\n",
    "        if sqliteConnection:\n",
    "            sqliteConnection.close()\n",
    "            print(\"The SQLite connection is closed\")\n",
    "\n",
    "recordsToInsert = [(4, 'Jos', 'jos@gmail.com', '2019-01-14', 9500),\n",
    "                   (5, 'Chris', 'chris@gmail.com', '2019-05-15', 7600),\n",
    "                   (6, 'Jonny', 'jonny@gmail.com', '2019-03-27', 8400)]\n",
    "\n",
    "insertMultipleRecords(recordsToInsert)"
   ]
  },
  {
   "cell_type": "markdown",
   "id": "058a99ac",
   "metadata": {},
   "source": [
    "**Let’s understand the above example**\n",
    "\n",
    "* After connecting to SQLite, We prepared a list of records to insert into the SQLite table. Each entry in the list is nothing but a table tuple (row)\n",
    "* SQL INSERT statement contains the parameterized query, which uses the placeholder (?) for each column value.\n",
    "* Next, Using cursor.executemany(sqlite_insert_query, recordList) , we inserted multiple rows into the table.\n",
    "* To get to know the number of records inserted, we used a cursor.rowcount method."
   ]
  },
  {
   "cell_type": "markdown",
   "id": "8c770b10",
   "metadata": {},
   "source": [
    "***"
   ]
  },
  {
   "cell_type": "code",
   "execution_count": null,
   "id": "ff51b711",
   "metadata": {},
   "outputs": [],
   "source": []
  }
 ],
 "metadata": {
  "kernelspec": {
   "display_name": "Python 3 (ipykernel)",
   "language": "python",
   "name": "python3"
  },
  "language_info": {
   "codemirror_mode": {
    "name": "ipython",
    "version": 3
   },
   "file_extension": ".py",
   "mimetype": "text/x-python",
   "name": "python",
   "nbconvert_exporter": "python",
   "pygments_lexer": "ipython3",
   "version": "3.9.12"
  }
 },
 "nbformat": 4,
 "nbformat_minor": 5
}
