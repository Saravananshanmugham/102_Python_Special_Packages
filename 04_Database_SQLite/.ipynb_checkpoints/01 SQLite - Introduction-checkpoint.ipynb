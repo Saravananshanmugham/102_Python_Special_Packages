{
 "cells": [
  {
   "cell_type": "markdown",
   "id": "c206bb12",
   "metadata": {},
   "source": [
    "# SQLite Introduction"
   ]
  },
  {
   "attachments": {
    "sqlite370_banner.gif": {
     "image/gif": "[encoded data removed]"
    }
   },
   "cell_type": "markdown",
   "id": "39d57259",
   "metadata": {},
   "source": [
    "![sqlite370_banner.gif](attachment:sqlite370_banner.gif) "
   ]
  },
  {
   "cell_type": "markdown",
   "id": "2a59e5df",
   "metadata": {},
   "source": [
    "Product Home Page : [SQLite](https://www.sqlite.org/index.html)\n",
    "\n",
    "**SQLite** is a C-language library that implements a small, fast, self-contained, high-reliability, full-featured, SQL database engine. SQLite is the most used database engine in the world. SQLite is built into all mobile phones and most computers and comes bundled inside countless other applications that people use every day.\n",
    "\n",
    "SQLite is an embedded SQL database engine. Unlike most other SQL databases, SQLite does not have a separate server process. SQLite reads and writes directly to ordinary disk files. A complete SQL database with multiple tables, indices, triggers, and views, is contained in a single disk file. The database file format is cross-platform - you can freely copy a database between 32-bit and 64-bit systems or between big-endian and little-endian architectures\n",
    "\n",
    "SQLite responds gracefully to memory allocation failures and disk I/O errors. Transactions are ACID even if interrupted by system crashes or power failures."
   ]
  },
  {
   "cell_type": "code",
   "execution_count": 1,
   "id": "388cc232",
   "metadata": {},
   "outputs": [],
   "source": [
    "import sqlite3\n",
    "import traceback\n",
    "import sys\n",
    "dbpath=r'C:\\MyLearn\\Databases\\SQLite_Python.db'\n",
    "bkppath=r'C:\\MyLearn\\Databases\\SQLite_Python_bkp.db'"
   ]
  },
  {
   "cell_type": "markdown",
   "id": "979268c5",
   "metadata": {},
   "source": [
    "## Python SQLite Database \n",
    "\n",
    "End to end steps to execute a transaction.\n",
    "\n",
    "##### Step 1: Import sqlite3 module\n",
    "`import sqlite3` statement imports the `sqlite3` module in the program. Using the `classes` and `methods` defined in the `sqlite3` module we can communicate with the SQLite database.\n",
    "\n",
    "##### Use the connect() method\n",
    "Use the `connect()` method of the `connector` class with the `database name`. To establish a connection to SQLite, you need to pass the `database name` you want to connect. If you specify the database file name that already presents on the disk, it will connect to it. But if your specified SQLite database file doesn’t exist, SQLite creates a new database for you.\n",
    "This method returns the SQLite `Connection Object` if the connection is successful.\n",
    "\n",
    "##### Use the cursor() method\n",
    "Use the `cursor()` method of a connection class to create a `cursor object` to execute SQLite command/queries from Python.\n",
    "\n",
    "##### Use the execute() method\n",
    "The `execute()` methods run the SQL query and return the result.\n",
    "\n",
    "##### Extract result using fetchall()\n",
    "Use cursor `.fetchall()` or `fetchone()` or `fetchmany()` to read query result.\n",
    "\n",
    "##### Close cursor and connection objects\n",
    "use `cursor.clsoe()` and `connection.close()` method to close the cursor and SQLite connections after your work completes\n",
    "\n",
    "Using the standard python exception management catch the database exception if any that may occur during this connection process.\n",
    "\n",
    "The following Python program creates and connects to the new database file “SQLite_Python.db” and prints the SQLite version details."
   ]
  },
  {
   "cell_type": "code",
   "execution_count": 2,
   "id": "47b91094",
   "metadata": {},
   "outputs": [
    {
     "name": "stdout",
     "output_type": "stream",
     "text": [
      "Database created and Successfully Connected to SQLite\n",
      "SQLite Database Version is:  [('3.38.3',)]\n",
      "The SQLite connection is closed\n"
     ]
    }
   ],
   "source": [
    "try:\n",
    "    sqliteConnection = sqlite3.connect(dbpath)\n",
    "    cursor = sqliteConnection.cursor()\n",
    "    print(\"Database created and Successfully Connected to SQLite\")\n",
    "\n",
    "    sqlite_select_Query = \"select sqlite_version();\"\n",
    "    cursor.execute(sqlite_select_Query)\n",
    "    record = cursor.fetchall()\n",
    "    print(\"SQLite Database Version is: \", record)\n",
    "    cursor.close()\n",
    "\n",
    "except sqlite3.Error as error:\n",
    "    print(\"Error while connecting to sqlite\", error)\n",
    "finally:\n",
    "    if sqliteConnection:\n",
    "        sqliteConnection.close()\n",
    "        print(\"The SQLite connection is closed\")"
   ]
  },
  {
   "cell_type": "markdown",
   "id": "cef32792",
   "metadata": {},
   "source": [
    "#### Important points while connecting to SQLite\n",
    "* The `connection object` is not thread-safe. The sqlite3 module doesn’t allow sharing connections between threads. If you still try to do so, you will get an exception at runtime.\n",
    "* The `connect()` method accepts various arguments. In our example, we passed the database name argument to connect.\n",
    "* Using a `connection` object, we can create a cursor object which allows us to execute SQLite command/queries through Python.\n",
    "* We can create as many cursors as we want from a single connection object. Like a connection object, this cursor object is also not thread-safe. The sqlite3 module doesn’t allow sharing cursors between threads. If you still try to do so, you will get an exception at runtime.\n",
    "* `try-except-finally block:` We placed all our code in this block to catch the SQLite database exceptions and errors during this process.\n",
    "* Using the Error class, we can handle any database error and exception that may occur while working with SQLite from Python.\n",
    "* The `Error` class helps us to understand the error in detail. It returns an error message and error code.\n",
    "* It is always good practice to close the cursor and connection object once your work gets completed to avoid database issues."
   ]
  },
  {
   "cell_type": "markdown",
   "id": "1071f79a",
   "metadata": {},
   "source": [
    "## Create SQLite table from Python\n",
    " \n",
    "Create table statement is a DDL query. Let see how to execute it from Python. In this example, we are creating a `SqliteDb_developers` table inside the `SQLite_Python.db` database.\n",
    "\n",
    "#### Steps for create aa table in SQLite from Python: –\n",
    "\n",
    "* Connect to SQLite using a sqlite3.connect().\n",
    "* Create cursor for this database connection\n",
    "* Prepare a create table query.\n",
    "* Execute the query using a cursor.execute(query)"
   ]
  },
  {
   "cell_type": "code",
   "execution_count": 14,
   "id": "cadce3e4",
   "metadata": {},
   "outputs": [
    {
     "name": "stdout",
     "output_type": "stream",
     "text": [
      "Successfully Connected to SQLite\n",
      "Error while creating a sqlite table table SqliteDb_developers already exists\n",
      "sqlite connection is closed\n"
     ]
    }
   ],
   "source": [
    "try:\n",
    "    sqliteConnection = sqlite3.connect(dbpath)\n",
    "    cursor = sqliteConnection.cursor()\n",
    "    print(\"Successfully Connected to SQLite\")\n",
    "    \n",
    "    sqlite_create_table_query = '''CREATE TABLE SqliteDb_developers (\n",
    "                                id INTEGER PRIMARY KEY,\n",
    "                                name TEXT NOT NULL,\n",
    "                                email text NOT NULL UNIQUE,\n",
    "                                joining_date datetime,\n",
    "                                salary REAL NOT NULL);'''\n",
    "    cursor.execute(sqlite_create_table_query)\n",
    "    sqliteConnection.commit()\n",
    "    print(\"SQLite table created\")\n",
    "\n",
    "    cursor.close()\n",
    "\n",
    "except sqlite3.Error as error:\n",
    "    print(\"Error while creating a sqlite table\", error)\n",
    "finally:\n",
    "    if sqliteConnection:\n",
    "        sqliteConnection.close()\n",
    "        print(\"sqlite connection is closed\")"
   ]
  },
  {
   "cell_type": "markdown",
   "id": "6c6637e2",
   "metadata": {},
   "source": [
    "## SQLite Datatypes and it’s corresponding Python types\n",
    "\n",
    "Before executing SQLite Create, Read, Update and Delete operations from Python, first understand SQLite data type and their corresponding Python types, which will help us store and read data from the SQLite table.\n",
    "\n",
    "SQLite database engine has multiple storage classes to store values. Every value stored in an SQLite database has one of the following storage classes or data types.\n",
    "\n",
    "#### SQLite DataTypes:\n",
    "\n",
    "* NULL: – The value is a NULL value.\n",
    "* INTEGER: – To store the numeric value. The integer stored in 1, 2, 3, 4, 6, or 8 bytes depending on the magnitude of the number.\n",
    "* REAL: – The value is a floating-point value, for example, 3.14 value of PI\n",
    "* TEXT: – The value is a text string, TEXT value stored using the UTF-8, UTF-16BE or UTF-16LE encoding.\n",
    "* BLOB: – The value is a blob of data, i.e., binary data. It is used to store images and files.\n",
    "\n",
    "The following Python types get converted to SQLite without any problem. So when you are modifying or reading from the SQLite table by performing CRUD operations, remember this table.\n",
    "\n",
    "\n",
    "| Python Type | SQLite Type |\n",
    "|:----:|:---:|\n",
    "| None | NULL |\n",
    "| Int | INTEGER |\n",
    "| float | REAL |\n",
    "| str | TEXT |\n",
    "| bytes | BLOB |"
   ]
  },
  {
   "cell_type": "markdown",
   "id": "bc13cb4e",
   "metadata": {},
   "source": [
    "## Execute SQL File (scripts) from Python using cursor’s executescript\n",
    "\n",
    "SQLite scripts are handy for most of the daily job. SQLite script is a set of SQL commands saved as a file (in .sql format).\n",
    "\n",
    "An SQLite script contains one or more SQL operations that you’ll execute from your command line prompt whenever required. You can execute your script from the SQLite command line using the .read command, like this:\n",
    "\n",
    "For this example, I have created a sample SQLite script that will create two tables. Now let’s see how to execute an SQLite script from Python.\n",
    "\n",
    "**Note:** After connecting to SQLite, We read all content of an SQLite script file stored on disk and copied it into a python string variable. Then we called the cursor.executscript(script) method to execute all SQL statements in one call."
   ]
  },
  {
   "cell_type": "code",
   "execution_count": 15,
   "id": "2dab6496",
   "metadata": {},
   "outputs": [
    {
     "name": "stdout",
     "output_type": "stream",
     "text": [
      "Successfully Connected to SQLite\n",
      "Error while executing sqlite script: table hardware already exists\n",
      "sqlite connection is closed\n"
     ]
    }
   ],
   "source": [
    "filepath=r'C:\\MyLearn\\Databases\\mySQLiteScript.sql'\n",
    "try:\n",
    "    sqliteConnection = sqlite3.connect(dbpath)\n",
    "    cursor = sqliteConnection.cursor()\n",
    "    print(\"Successfully Connected to SQLite\")\n",
    "\n",
    "    with open(filepath, 'r') as sqlite_file:\n",
    "        sql_script = sqlite_file.read()\n",
    "\n",
    "    cursor.executescript(sql_script)\n",
    "    print(\"SQLite script executed successfully\")\n",
    "    cursor.close()\n",
    "\n",
    "except sqlite3.Error as error:\n",
    "    print(\"Error while executing sqlite script:\", error)\n",
    "finally:\n",
    "    if sqliteConnection:\n",
    "        sqliteConnection.close()\n",
    "        print(\"sqlite connection is closed\")\n"
   ]
  },
  {
   "cell_type": "markdown",
   "id": "d95ddce9",
   "metadata": {},
   "source": [
    "##### sqlite3.Warning\n",
    "* A subclass of Exception. And you can ignore it or read and take action if required.\n",
    "\n",
    "###### sqlite3.Error\n",
    "* The base class of the other exceptions in the sqlite3 module. It is a subclass of Exception.\n",
    "\n",
    "###### sqlite3.DatabaseError\n",
    "* This Exception raised for errors that are related to the database.\n",
    "* Examples: If you try and open a file as a sqlite3 database that is NOT a database file, you will get sqlite3.DatabaseError: file is encrypted or is not a database.\n",
    "\n",
    "##### sqlite3.IntegrityError\n",
    "\n",
    "* Subclass of a DatabaseError.  You will get this Exception when the relational integrity of the database is affected, e.g., a foreign key check fails.\n",
    "\n",
    "##### sqlite3.ProgrammingError\n",
    "* It is also a subclass of DatabaseError. This exception raised because of programming errors, e.g., creating a table with the same which already exists, syntax error in the SQL queries.\n",
    "\n",
    "##### sqlite3.OperationalError\n",
    "* It is also a subclass of DatabaseError. This error is not in our control. This exception raised for errors that are related to the database’s operation.\n",
    "* Examples: an accidental disconnect, server down, a timeout occurs, the data source issues. server down\n",
    "\n",
    "##### sqlite3.NotSupportedError\n",
    "* You will get an exception raised when database API was used which is not supported by the database.\n",
    "* Example: calling the rollback() method on a connection that does not support the transaction. Calling commit after creating table command.\n",
    "\n",
    "So it will always be advisable to write all your database operation code in the try block so you can catch exceptions in except block if any and take the corrective actions against it.\n",
    "\n",
    "For example, let’s try to insert data into a table that doesn’t exist in the SQLite database and Print the full exception stack."
   ]
  },
  {
   "cell_type": "code",
   "execution_count": 16,
   "id": "0d522338",
   "metadata": {},
   "outputs": [
    {
     "name": "stdout",
     "output_type": "stream",
     "text": [
      "Successfully Connected to SQLite\n",
      "Failed to insert data into sqlite table\n",
      "Exception class is:  <class 'sqlite3.OperationalError'>\n",
      "Exception is ('no such table: unknown_table_1',)\n",
      "\n",
      "Printing detailed SQLite exception traceback: \n",
      "['Traceback (most recent call last):\\n', '  File \"C:\\\\Users\\\\i025736\\\\AppData\\\\Local\\\\Temp/ipykernel_21460/275346970.py\", line 9, in <module>\\n    count = cursor.execute(sqlite_insert_query)\\n', 'sqlite3.OperationalError: no such table: unknown_table_1\\n']\n",
      "The SQLite connection is closed\n"
     ]
    }
   ],
   "source": [
    "try:\n",
    "    sqliteConnection = sqlite3.connect(dbpath)\n",
    "    cursor = sqliteConnection.cursor()\n",
    "    print(\"Successfully Connected to SQLite\")\n",
    "\n",
    "    sqlite_insert_query = \"\"\"INSERT INTO unknown_table_1\n",
    "                          (id, text)  VALUES  (1, 'Demo Text')\"\"\"\n",
    "\n",
    "    count = cursor.execute(sqlite_insert_query)\n",
    "    sqliteConnection.commit()\n",
    "    print(\"Record inserted successfully into SqliteDb_developers table \", cursor.rowcount)\n",
    "    cursor.close()\n",
    "\n",
    "except sqlite3.Error as error:\n",
    "    print(\"Failed to insert data into sqlite table\")\n",
    "    print(\"Exception class is: \", error.__class__)\n",
    "    print(\"Exception is\", error.args)\n",
    "    print('\\nPrinting detailed SQLite exception traceback: ')\n",
    "    exc_type, exc_value, exc_tb = sys.exc_info()\n",
    "    print(traceback.format_exception(exc_type, exc_value, exc_tb))\n",
    "    \n",
    "finally:\n",
    "    if (sqliteConnection):\n",
    "        sqliteConnection.close()\n",
    "        print(\"The SQLite connection is closed\")"
   ]
  },
  {
   "cell_type": "markdown",
   "id": "122b8462",
   "metadata": {},
   "source": [
    "## Change SQLite connection timeout when connecting from Python\n",
    "\n",
    "When multiple connections access an SQLite database and one of the processes performing some data modification operation on the database, the timeout parameter we specify while connecting to the database determines how long the connection should wait for the lock to go away until raising an exception.\n",
    "\n",
    "The default value for the timeout parameter is 5.0 (five seconds). Whenever you connect to SQLite from Python, and you didn’t get a response within 5 seconds, your program will raise an exception. But if you face a connection timeout issue and want to increase it, you can do this using a timeout argument of a sqlite3.connect() function.\n",
    "\n",
    "Let see how to change the connection timeout value."
   ]
  },
  {
   "cell_type": "code",
   "execution_count": 17,
   "id": "037a60d9",
   "metadata": {},
   "outputs": [
    {
     "name": "stdout",
     "output_type": "stream",
     "text": [
      "Connected to SQLite\n",
      "Total rows are:   (0,)\n",
      "The Sqlite connection is closed\n"
     ]
    }
   ],
   "source": [
    "try:\n",
    "    sqliteConnection = sqlite3.connect(dbpath, timeout=10)\n",
    "    cursor = sqliteConnection.cursor()\n",
    "    print(\"Connected to SQLite\")\n",
    "\n",
    "    sqlite_select_query = \"\"\"SELECT count(*) from SqliteDb_developers\"\"\"\n",
    "    cursor.execute(sqlite_select_query)\n",
    "    totalRows = cursor.fetchone()\n",
    "    print(\"Total rows are:  \", totalRows)\n",
    "    cursor.close()\n",
    "\n",
    "except sqlite3.Error as error:\n",
    "    print(\"Failed to read data from sqlite table\", error)\n",
    "finally:\n",
    "    if sqliteConnection:\n",
    "        sqliteConnection.close()\n",
    "        print(\"The Sqlite connection is closed\")\n",
    "\n"
   ]
  },
  {
   "cell_type": "markdown",
   "id": "a4ef57d4",
   "metadata": {},
   "source": [
    "## Identify total changes since the SQLite database connection is open\n",
    "\n",
    "\n",
    "For audit or statistics purpose, use the `total_changes()` method of a connection class to find the numbers of database rows modified, inserted, or deleted since the database connection was opened .\n",
    "\n",
    "The `connection.total_changes` method returns the total number of database rows that have been affected."
   ]
  },
  {
   "cell_type": "code",
   "execution_count": 18,
   "id": "6cc43bfe",
   "metadata": {},
   "outputs": [
    {
     "name": "stdout",
     "output_type": "stream",
     "text": [
      "Connected to SQLite\n",
      "Total Rows affected since the database connection was opened:  3\n",
      "sqlite connection is closed\n"
     ]
    }
   ],
   "source": [
    "try:\n",
    "    sqliteConnection = sqlite3.connect(dbpath)\n",
    "    cursor = sqliteConnection.cursor()\n",
    "    print(\"Connected to SQLite\")\n",
    "\n",
    "    sqlite_insert_query = \"\"\"INSERT INTO SqliteDb_developers\n",
    "                          (id, name, email, joining_date, salary) \n",
    "                          VALUES (4, 'Jos', 'jos@gmail.com', '2019-01-14', 9500);\"\"\"\n",
    "    cursor.execute(sqlite_insert_query)\n",
    "\n",
    "    sql_update_query = \"\"\"Update SqliteDb_developers set salary = 10000 where id = 4\"\"\"\n",
    "    cursor.execute(sql_update_query)\n",
    "\n",
    "    sql_delete_query = \"\"\"DELETE from SqliteDb_developers where id = 4\"\"\"\n",
    "    cursor.execute(sql_delete_query)\n",
    "\n",
    "    sqliteConnection.commit()\n",
    "    cursor.close()\n",
    "\n",
    "except sqlite3.Error as error:\n",
    "    print(\"Error while working with SQLite\", error)\n",
    "finally:\n",
    "    if sqliteConnection:\n",
    "        print(\"Total Rows affected since the database connection was opened: \", sqliteConnection.total_changes)\n",
    "        sqliteConnection.close()\n",
    "        print(\"sqlite connection is closed\")\n"
   ]
  },
  {
   "cell_type": "markdown",
   "id": "a313ea94",
   "metadata": {},
   "source": [
    "## Take a backup of SQLite database from Python\n",
    "\n",
    "Using a `connection.backup()` method, you can take the backup of the SQLite database.\n",
    "\n",
    "```python\n",
    "connection.backup(target, *, pages=0, progress=None, name=\"main\", sleep=0.250)\n",
    "\n",
    "```\n",
    "\n",
    "This function takes a backup of the SQLite database, and a copy will be written into the argument target, which must be another Connection instance. By default, or when pages are either 0 or a negative integer, the entire database is copied in a single step; otherwise, the method performs a loop copying up to pages at a time.\n",
    "\n",
    "The name argument specifies the database that you want to copy. The sleep argument defines the number of seconds to sleep by between successive attempts to backup the remaining pages of a database. The sleep argument can be specified either as an integer or a floating-point value.\n",
    "\n",
    "Let see the example to copy an existing database into another.\n",
    "\n",
    "**Note:**\n",
    "\n",
    "* After connecting to SQLite, We opened both the databases using two different connections.\n",
    "* Next, we executed a `connection.backup()` method using a first connection instance. Also, we specified the number of database pages to copy in each iteration.\n"
   ]
  },
  {
   "cell_type": "code",
   "execution_count": 19,
   "id": "392d54f1",
   "metadata": {},
   "outputs": [
    {
     "name": "stdout",
     "output_type": "stream",
     "text": [
      "Copied 5 of 5 pages...\n",
      "backup successful\n"
     ]
    }
   ],
   "source": [
    "def progress(status, remaining, total):\n",
    "    print(f'Copied {total - remaining} of {total} pages...')\n",
    "\n",
    "try:\n",
    "    # existing DB\n",
    "    sqliteCon = sqlite3.connect(dbpath)\n",
    "    # copy into this DB\n",
    "    backupCon = sqlite3.connect(bkppath)\n",
    "    \n",
    "    with backupCon:\n",
    "        sqliteCon.backup(backupCon, pages=10, progress=progress)\n",
    "    \n",
    "    print(\"backup successful\")\n",
    "\n",
    "except sqlite3.Error as error:\n",
    "    print(\"Error while taking backup: \", error)\n",
    "\n",
    "finally:\n",
    "    if backupCon:\n",
    "        backupCon.close()\n",
    "        sqliteCon.close()\n"
   ]
  },
  {
   "cell_type": "markdown",
   "id": "7308afa6",
   "metadata": {},
   "source": [
    "*****"
   ]
  },
  {
   "cell_type": "code",
   "execution_count": null,
   "id": "4621ca1c",
   "metadata": {},
   "outputs": [],
   "source": []
  },
  {
   "cell_type": "code",
   "execution_count": null,
   "id": "1e335446",
   "metadata": {},
   "outputs": [],
   "source": []
  }
 ],
 "metadata": {
  "kernelspec": {
   "display_name": "Python 3 (ipykernel)",
   "language": "python",
   "name": "python3"
  },
  "language_info": {
   "codemirror_mode": {
    "name": "ipython",
    "version": 3
   },
   "file_extension": ".py",
   "mimetype": "text/x-python",
   "name": "python",
   "nbconvert_exporter": "python",
   "pygments_lexer": "ipython3",
   "version": "3.9.12"
  }
 },
 "nbformat": 4,
 "nbformat_minor": 5
}
