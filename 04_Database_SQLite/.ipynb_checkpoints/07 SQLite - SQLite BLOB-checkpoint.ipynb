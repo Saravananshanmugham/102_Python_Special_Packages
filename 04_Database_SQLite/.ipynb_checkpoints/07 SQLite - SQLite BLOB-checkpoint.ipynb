{
 "cells": [
  {
   "cell_type": "markdown",
   "id": "d1a2958a",
   "metadata": {},
   "source": [
    "# SQLite BLOB"
   ]
  },
  {
   "cell_type": "code",
   "execution_count": 1,
   "id": "56082b92",
   "metadata": {},
   "outputs": [],
   "source": [
    "import sqlite3\n",
    "dbpath=r'C:\\MyLearn\\Databases\\SQLite_Python.db'"
   ]
  },
  {
   "cell_type": "markdown",
   "id": "2ed5fc8d",
   "metadata": {},
   "source": [
    "SQLite Database for insert and retrieve a file stored as a BLOB in the SQLite table using Python’s sqlite3 module.\n",
    "\n",
    "* Use SQLite BLOB data type to store any binary data into the SQLite table using Python. Binary can be a file, image, video, or a media.\n",
    "* Read BLOB data from the SQLite table in Python."
   ]
  },
  {
   "cell_type": "markdown",
   "id": "9c83be26",
   "metadata": {},
   "source": [
    "To Store BLOB data in the SQLite table, we need to create a table that can hold binary data. A new table new_employee created for testing.\n",
    "\n",
    "The table contains two BLOB columns.\n",
    "\n",
    "* A photo column contains an employee picture.\n",
    "* A resume column includes a file which is a developer resume.\n",
    "* Before proceeding to the examples first understand what is BLOB."
   ]
  },
  {
   "cell_type": "code",
   "execution_count": 2,
   "id": "6b671daa",
   "metadata": {},
   "outputs": [
    {
     "name": "stdout",
     "output_type": "stream",
     "text": [
      "Successfully Connected to SQLite\n",
      "Error while creating a sqlite table table new_employee already exists\n",
      "sqlite connection is closed\n"
     ]
    }
   ],
   "source": [
    "try:\n",
    "    sqliteConnection = sqlite3.connect(dbpath)\n",
    "    cursor = sqliteConnection.cursor()\n",
    "    print(\"Successfully Connected to SQLite\")\n",
    "    \n",
    "    sqlite_create_table_query = '''CREATE TABLE new_employee (\n",
    "                                   id INTEGER PRIMARY KEY, name TEXT NOT NULL, \n",
    "                                   photo BLOB NOT NULL, resume BLOB NOT NULL);'''\n",
    "    cursor.execute(sqlite_create_table_query)\n",
    "    sqliteConnection.commit()\n",
    "    print(\"SQLite table new_employee created\")\n",
    "\n",
    "    cursor.close()\n",
    "\n",
    "except sqlite3.Error as error:\n",
    "    print(\"Error while creating a sqlite table\", error)\n",
    "finally:\n",
    "    if sqliteConnection:\n",
    "        sqliteConnection.close()\n",
    "        print(\"sqlite connection is closed\")"
   ]
  },
  {
   "cell_type": "markdown",
   "id": "7fa400c2",
   "metadata": {},
   "source": [
    "## What is BLOB\n",
    "\n",
    "A BLOB (large binary object) is an SQLite data type that stores large objects, typically large files such as images, music, videos, documents, pdf, etc.\n",
    "\n",
    "We need to convert our files and images into binary data (byte array in Python) to store it into SQLite database."
   ]
  },
  {
   "cell_type": "markdown",
   "id": "b42ebe3b",
   "metadata": {},
   "source": [
    "## Insert Image and File as a BLOB data into SQLite Table\n",
    "\n",
    "To insert BLOB data into SQLite table from Python, you need to follow the below steps: –\n",
    "\n",
    "##### Step 1: Establish the SQLite connection from Python.\n",
    "##### Step 2: Create a cursor object using the connection object.\n",
    "##### Step 3: Define the SQLite INSERT Query. You need to know the table and the column name in which you want to insert data.\n",
    "##### Step 4: Create a function to convert digital data, i.e., images or any file, to binary data\n",
    "##### Step 5: Execute the INSERT query in Python using the cursor.execute().\n",
    "##### Step 6: After the successful execution of the SQLite insert operation, commit your changes to the database.\n",
    "##### Step 7: Close the Cursor and SQLite database connection.\n",
    "##### Step 8: Most important, Catch SQL exceptions, if any.\n",
    "\n",
    "**Note:**\n",
    "\n",
    "We inserted the employee id, name, photo, and resume file into the table. For the image and resume, we passed the location where it is present so our program can read and convert those files into binary data.\n",
    "\n",
    "As you can see, we converted our image and file into a binary format by reading the image and data in rb mode before inserting it into a BLOB column.\n",
    "\n",
    "Also, we used a parameterized query to insert dynamic data into an SQLite table."
   ]
  },
  {
   "cell_type": "code",
   "execution_count": 3,
   "id": "2585eb08",
   "metadata": {},
   "outputs": [
    {
     "name": "stdout",
     "output_type": "stream",
     "text": [
      "Connected to SQLite\n",
      "Failed to insert blob data into sqlite table UNIQUE constraint failed: new_employee.id\n",
      "the sqlite connection is closed\n",
      "Connected to SQLite\n",
      "Failed to insert blob data into sqlite table UNIQUE constraint failed: new_employee.id\n",
      "the sqlite connection is closed\n"
     ]
    }
   ],
   "source": [
    "def convertToBinaryData(filename):\n",
    "    # Convert digital data to binary format\n",
    "    with open(filename, 'rb') as file:\n",
    "        blobData = file.read()\n",
    "    return blobData\n",
    "\n",
    "def insertBLOB(empId, name, photo, resumeFile):\n",
    "    try:\n",
    "        sqliteConnection = sqlite3.connect(dbpath)\n",
    "        cursor = sqliteConnection.cursor()\n",
    "        print(\"Connected to SQLite\")\n",
    "        sqlite_insert_blob_query = \"\"\" INSERT INTO new_employee\n",
    "                                  (id, name, photo, resume) VALUES (?, ?, ?, ?)\"\"\"\n",
    "\n",
    "        empPhoto = convertToBinaryData(photo)\n",
    "        resume = convertToBinaryData(resumeFile)\n",
    "        # Convert data into tuple format\n",
    "        data_tuple = (empId, name, empPhoto, resume)\n",
    "        cursor.execute(sqlite_insert_blob_query, data_tuple)\n",
    "        sqliteConnection.commit()\n",
    "        print(\"Image and file inserted successfully as a BLOB into a table\")\n",
    "        cursor.close()\n",
    "\n",
    "    except sqlite3.Error as error:\n",
    "        print(\"Failed to insert blob data into sqlite table\", error)\n",
    "    finally:\n",
    "        if sqliteConnection:\n",
    "            sqliteConnection.close()\n",
    "            print(\"the sqlite connection is closed\")\n",
    "\n",
    "insertBLOB(1, \"Karthick1\", \"C:\\MyLearn\\Images\\Sks1.jpg\", \"C:\\MyLearn\\Databases\\Resume1.txt\")\n",
    "insertBLOB(2, \"Karthick2\", \"C:\\MyLearn\\Images\\Sks2.jpg\", \"C:\\MyLearn\\Databases\\Resume2.txt\")\n"
   ]
  },
  {
   "cell_type": "markdown",
   "id": "c7c5f0d8",
   "metadata": {},
   "source": [
    "## Retrieve Image and File stored as a BLOB from SQLite Table\n",
    "\n",
    "Assume you want to read the file or images stored in the SQLite table in BLOB format and write that file back to some location on the disk so you can view and read it in a proper format.\n",
    "\n",
    "In this example, we are reading the employee photo and resume file that we stored in the SQLite table stored as a BLOB in the previous example.\n",
    "\n",
    "To read BLOB data from SQLite Table using Python, you need to follow the below steps: –\n",
    "\n",
    "* Establish the SQLite database connection in Python.\n",
    "* Second, Define the SELECT query to fetch BLOB columns from the table.\n",
    "* Execute the SELECT query in Python using a cursor.execute()\n",
    "* Use the cursor.fetchall() to retrieve all the rows from the result set and iterate over it.\n",
    "* Create a function to convert BLOB data in proper format and save it in a readable format.\n",
    "* Close the Cursor and MySQL database connection.\n",
    "\n",
    "**Note:** To copy binary data on the hard drive, we converted binary data(BLOB) to the proper format and wrote it on Hard Disk. In our example, we converted the photo blob column into png and resume blob column data into txt file.\n"
   ]
  },
  {
   "cell_type": "code",
   "execution_count": 4,
   "id": "607d93e8",
   "metadata": {},
   "outputs": [
    {
     "name": "stdout",
     "output_type": "stream",
     "text": [
      "Connected to SQLite\n",
      "Id =  1 Name =  Karthick1\n",
      "Storing employee image and resume on disk \n",
      "\n",
      "Stored blob data into:  C:/Temp/Karthick1.jpg \n",
      "\n",
      "Stored blob data into:  C:/Temp/Karthick1_resume.txt \n",
      "\n",
      "sqlite connection is closed\n",
      "Connected to SQLite\n",
      "Id =  2 Name =  Karthick2\n",
      "Storing employee image and resume on disk \n",
      "\n",
      "Stored blob data into:  C:/Temp/Karthick2.jpg \n",
      "\n",
      "Stored blob data into:  C:/Temp/Karthick2_resume.txt \n",
      "\n",
      "sqlite connection is closed\n"
     ]
    }
   ],
   "source": [
    "path=r'C:/Temp/'\n",
    "\n",
    "def writeTofile(data, filename):\n",
    "    # Convert binary data to proper format and write it on Hard Disk\n",
    "    with open(filename, 'wb') as file:\n",
    "        file.write(data)\n",
    "    print(\"Stored blob data into: \", filename, \"\\n\")\n",
    "\n",
    "def readBlobData(empId):\n",
    "    try:\n",
    "        sqliteConnection = sqlite3.connect(dbpath)\n",
    "        cursor = sqliteConnection.cursor()\n",
    "        print(\"Connected to SQLite\")\n",
    "\n",
    "        sql_fetch_blob_query = \"\"\"SELECT * from new_employee where id = ?\"\"\"\n",
    "        cursor.execute(sql_fetch_blob_query, (empId,))\n",
    "        record = cursor.fetchall()\n",
    "        for row in record:\n",
    "            print(\"Id = \", row[0], \"Name = \", row[1])\n",
    "            name = row[1]\n",
    "            photo = row[2]\n",
    "            resumeFile = row[3]\n",
    "\n",
    "            print(\"Storing employee image and resume on disk \\n\")\n",
    "            photoPath = path + name + \".jpg\"\n",
    "            resumePath = path + name + \"_resume.txt\"\n",
    "            writeTofile(photo, photoPath)\n",
    "            writeTofile(resumeFile, resumePath)\n",
    "\n",
    "        cursor.close()\n",
    "\n",
    "    except sqlite3.Error as error:\n",
    "        print(\"Failed to read blob data from sqlite table\", error)\n",
    "    finally:\n",
    "        if sqliteConnection:\n",
    "            sqliteConnection.close()\n",
    "            print(\"sqlite connection is closed\")\n",
    "\n",
    "readBlobData(1)\n",
    "readBlobData(2)\n"
   ]
  },
  {
   "cell_type": "markdown",
   "id": "de08e375",
   "metadata": {},
   "source": [
    "***"
   ]
  }
 ],
 "metadata": {
  "kernelspec": {
   "display_name": "Python 3 (ipykernel)",
   "language": "python",
   "name": "python3"
  },
  "language_info": {
   "codemirror_mode": {
    "name": "ipython",
    "version": 3
   },
   "file_extension": ".py",
   "mimetype": "text/x-python",
   "name": "python",
   "nbconvert_exporter": "python",
   "pygments_lexer": "ipython3",
   "version": "3.9.12"
  }
 },
 "nbformat": 4,
 "nbformat_minor": 5
}
