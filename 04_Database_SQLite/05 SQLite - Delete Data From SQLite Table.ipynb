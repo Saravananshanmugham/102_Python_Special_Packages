{
 "cells": [
  {
   "cell_type": "markdown",
   "id": "21589b99",
   "metadata": {},
   "source": [
    "# Delete Data From SQLite Table"
   ]
  },
  {
   "cell_type": "code",
   "execution_count": 1,
   "id": "ba0fe411",
   "metadata": {},
   "outputs": [],
   "source": [
    "import sqlite3\n",
    "dbpath=r'C:\\MyLearn\\Databases\\SQLite_Python.db'"
   ]
  },
  {
   "cell_type": "markdown",
   "id": "af20c4a4",
   "metadata": {},
   "source": [
    "### Goals of this lesson\n",
    "\n",
    "* Delete a single and multiple rows, all rows, a single column, and multiple columns from the SQLite table using Python\n",
    "* Use a Python parameterized query to provide value at runtime to the SQLite delete query\n",
    "* Execute a bulk delete using a single query"
   ]
  },
  {
   "cell_type": "markdown",
   "id": "bd0fd570",
   "metadata": {},
   "source": [
    "### Steps to Delete data From SQLite Table\n",
    "\n",
    "##### Step 1: Connect to SQLite from Python\n",
    "Use the connect() method of the connector class with the database name. To establish a connection to SQLite, you need to pass the database name you want to connect. If you specify the database file name that already presents on the disk, it will connect to it. But if your specified SQLite database file doesn’t exist, SQLite creates a new database for you. This method returns the SQLite Connection Object if the connection is successful.\n",
    "\n",
    "##### Step 2: Define a SQL Delete Query\n",
    "Next, prepare a SQL delete query to delete a row from a table. Delete query contains the row to be deleted based on a condition placed in where clause of a query. For example, `DELETE FROM MySQL_table WHERE id=10;`\n",
    "\n",
    "##### Step 3: Get Cursor Object from Connection\n",
    "Next, use a `connection.cursor()` method to create a cursor object. using cursor object we can execute SQL queries.\n",
    "\n",
    "##### Step 4: Execute the delete query using execute() method\n",
    "The `cursor.execute(query)` method executes the operation stored in the delete query.\n",
    "After a successful delete operation, the `execute()` method returns the number of rows affected.\n",
    "\n",
    "##### Step 5: Commit your changes\n",
    "After successfully executing a delete operation, make changes persistent into a database using the `commit()` of a connection class.\n",
    "\n",
    "##### Step 6: Get the number of rows affected\n",
    "Use a `cursor.rowcount` method to get the number of rows affected. The count depends on how many rows you are deleting. You can also execute SQLite select query from Python to verify the result.\n",
    "\n",
    "##### Step 7: Close the cursor object and database connection object\n",
    "use `cursor.clsoe()` and `connection.clsoe()` method to close the cursor and SQLite connections after your work completes."
   ]
  },
  {
   "cell_type": "code",
   "execution_count": 2,
   "id": "0295c266",
   "metadata": {},
   "outputs": [
    {
     "name": "stdout",
     "output_type": "stream",
     "text": [
      "Connected to SQLite\n",
      "Record deleted successfully \n",
      "the sqlite connection is closed\n"
     ]
    }
   ],
   "source": [
    "def deleteRecord():\n",
    "    try:\n",
    "        sqliteConnection = sqlite3.connect(dbpath)\n",
    "        cursor = sqliteConnection.cursor()\n",
    "        print(\"Connected to SQLite\")\n",
    "\n",
    "        # Deleting single record now\n",
    "        sql_delete_query = \"\"\"DELETE from SqliteDb_developers where id = 6\"\"\"\n",
    "        cursor.execute(sql_delete_query)\n",
    "        sqliteConnection.commit()\n",
    "        print(\"Record deleted successfully \")\n",
    "        cursor.close()\n",
    "\n",
    "    except sqlite3.Error as error:\n",
    "        print(\"Failed to delete record from sqlite table\", error)\n",
    "    finally:\n",
    "        if sqliteConnection:\n",
    "            sqliteConnection.close()\n",
    "            print(\"the sqlite connection is closed\")\n",
    "\n",
    "deleteRecord()\n"
   ]
  },
  {
   "cell_type": "markdown",
   "id": "49f46841",
   "metadata": {},
   "source": [
    "**Note:** If you are doing multiple delete operations and wanted to revert your change in case of failure of any operations, use the `rollback()` function of the connection class to revert the changes. Use `rollback()` function in except block."
   ]
  },
  {
   "cell_type": "markdown",
   "id": "11af3e2e",
   "metadata": {},
   "source": [
    "## Use Python Variable in a query to Delete Row from SQLite table\n",
    "\n",
    "Most of the time, we need to delete a row from an SQLite table where the id passed at runtime. For example, when a user cancels his/her subscription, we need to delete the entry from a table as per the user id. In such cases, It is always best practice to use a parameterized query.\n",
    "\n",
    "The parameterized query uses placeholders (?) inside SQL statements that contain input from users. It helps us to delete runtime values and prevent SQL injection concerns."
   ]
  },
  {
   "cell_type": "code",
   "execution_count": 3,
   "id": "ba5fb73e",
   "metadata": {},
   "outputs": [
    {
     "name": "stdout",
     "output_type": "stream",
     "text": [
      "Connected to SQLite\n",
      "Record deleted successfully\n",
      "sqlite connection is closed\n"
     ]
    }
   ],
   "source": [
    "def deleteSqliteRecord(id):\n",
    "    try:\n",
    "        sqliteConnection = sqlite3.connect(dbpath)\n",
    "        cursor = sqliteConnection.cursor()\n",
    "        print(\"Connected to SQLite\")\n",
    "\n",
    "        sql_update_query = \"\"\"DELETE from SqliteDb_developers where id = ?\"\"\"\n",
    "        cursor.execute(sql_update_query, (id,))\n",
    "        sqliteConnection.commit()\n",
    "        print(\"Record deleted successfully\")\n",
    "\n",
    "        cursor.close()\n",
    "\n",
    "    except sqlite3.Error as error:\n",
    "        print(\"Failed to delete reocord from a sqlite table\", error)\n",
    "    finally:\n",
    "        if sqliteConnection:\n",
    "            sqliteConnection.close()\n",
    "            print(\"sqlite connection is closed\")\n",
    "\n",
    "deleteSqliteRecord(5)"
   ]
  },
  {
   "cell_type": "markdown",
   "id": "624d85c6",
   "metadata": {},
   "source": [
    "**Let’s understand the above example**\n",
    "\n",
    "* We used the parameterized query to accept developer id at runtime using a placeholder(?) for the id column\n",
    "* We then prepared data tuple by using Python variables.\n",
    "* We passed the SQL delete query and data tuple to a cursor.execute() method.\n",
    "* In the end, we made our changes permanent into the database using a commit() method of a connection class."
   ]
  },
  {
   "cell_type": "markdown",
   "id": "c4256d55",
   "metadata": {},
   "source": [
    "## Delete multiple rows from SQLite table\n",
    "\n",
    "In the above example, we have used `execute()` method of cursor object to update a single record, but sometimes, we need to delete an N-number of rows. For example, You want to delete employee data from the developer’s table who left the organization.\n",
    "\n",
    "Instead of executing a delete query repeatedly to delete each record, you can perform the bulk delete operation in a single query using the `cursor.executemany()` method.\n",
    "\n",
    "The `executemany(query, seq_param)` method accepts two parameters a SQL query and a list of records to delete.\n",
    "\n",
    "In this example, we are removing three rows."
   ]
  },
  {
   "cell_type": "code",
   "execution_count": 4,
   "id": "b07c8f9a",
   "metadata": {},
   "outputs": [
    {
     "name": "stdout",
     "output_type": "stream",
     "text": [
      "Connected to SQLite\n",
      "Total 2 Records deleted successfully\n",
      "sqlite connection is closed\n"
     ]
    }
   ],
   "source": [
    "def deleteMultipleRecords(idList):\n",
    "    try:\n",
    "        sqliteConnection = sqlite3.connect(dbpath)\n",
    "        cursor = sqliteConnection.cursor()\n",
    "        print(\"Connected to SQLite\")\n",
    "        sqlite_update_query = \"\"\"DELETE from SqliteDb_developers where id = ?\"\"\"\n",
    "\n",
    "        cursor.executemany(sqlite_update_query, idList)\n",
    "        sqliteConnection.commit()\n",
    "        print(\"Total\", cursor.rowcount, \"Records deleted successfully\")\n",
    "        cursor.close()\n",
    "\n",
    "    except sqlite3.Error as error:\n",
    "        print(\"Failed to delete multiple records from sqlite table\", error)\n",
    "    finally:\n",
    "        if sqliteConnection:\n",
    "            sqliteConnection.close()\n",
    "            print(\"sqlite connection is closed\")\n",
    "\n",
    "idsToDelete = [(4,), (3,)]\n",
    "deleteMultipleRecords(idsToDelete)"
   ]
  },
  {
   "cell_type": "markdown",
   "id": "b988d939",
   "metadata": {},
   "source": [
    "**Let’s understand the above example**\n",
    "\n",
    "* We prepared SQLite parameterized delete query with a single placeholder and then created a list of Ids to remove in tuple format.\n",
    "* Each element of a list is nothing but a tuple for each row. Each tuple contains the id of a developer. Here we created three tuples, so we are deleting three rows.\n",
    "* Next, we called a `executemany()` method to delete multiple rows from the SQLite table.\n",
    "* To get to know the number of records updated, we used a `cursor.rowcount` method."
   ]
  },
  {
   "cell_type": "markdown",
   "id": "619a3fea",
   "metadata": {},
   "source": [
    "***"
   ]
  },
  {
   "cell_type": "code",
   "execution_count": null,
   "id": "a1d0731a",
   "metadata": {},
   "outputs": [],
   "source": []
  }
 ],
 "metadata": {
  "kernelspec": {
   "display_name": "Python 3 (ipykernel)",
   "language": "python",
   "name": "python3"
  },
  "language_info": {
   "codemirror_mode": {
    "name": "ipython",
    "version": 3
   },
   "file_extension": ".py",
   "mimetype": "text/x-python",
   "name": "python",
   "nbconvert_exporter": "python",
   "pygments_lexer": "ipython3",
   "version": "3.8.12"
  }
 },
 "nbformat": 4,
 "nbformat_minor": 5
}
