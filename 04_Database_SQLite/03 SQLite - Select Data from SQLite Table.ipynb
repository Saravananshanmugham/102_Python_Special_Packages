{
 "cells": [
  {
   "cell_type": "markdown",
   "id": "b4ce9a13",
   "metadata": {},
   "source": [
    "# Select Data from SQLite Table"
   ]
  },
  {
   "cell_type": "code",
   "execution_count": 1,
   "id": "1c772dec",
   "metadata": {},
   "outputs": [],
   "source": [
    "import sqlite3\n",
    "dbpath=r'C:\\MyLearn\\Databases\\SQLite_Python.db'"
   ]
  },
  {
   "cell_type": "markdown",
   "id": "79b269a2",
   "metadata": {},
   "source": [
    "### Goals of this lesson\n",
    "\n",
    "* Fetch all rows using a `cursor.fetchall()`\n",
    "* Use `cursor.fetchmany(size)` to fetch limited rows, and fetch only a single row using `cursor.fetchone()`\n",
    "* Use the Python variables in the SQLite Select query to pass dynamic values."
   ]
  },
  {
   "cell_type": "markdown",
   "id": "f1d4b1bc",
   "metadata": {},
   "source": [
    "### Steps to Select data From SQLite Table\n",
    "\n",
    "##### Step 1: Connect to SQLite from Python\n",
    "Use the connect() method of the connector class with the database name. To establish a connection to SQLite, you need to pass the database name you want to connect. If you specify the database file name that already presents on the disk, it will connect to it. But if your specified SQLite database file doesn’t exist, SQLite creates a new database for you. This method returns the SQLite Connection Object if the connection is successful.\n",
    "\n",
    "##### Step 2: Define a SQLite SELECT Query\n",
    "* Prepare a SQLite SELECT query to fetch rows from a table. You can select all or limited rows based on your requirement.\n",
    "* For example, `SELECT column1, column2, columnN FROM table_name;`\n",
    "\n",
    "##### Step 3: Get Cursor Object from Connection\n",
    "Use a `connection.cursor()` method to create a cursor object. This method returns a cursor object. The Cursor object is required to execute the query.\n",
    "\n",
    "##### Step 4: Execute the SELECT query\n",
    "Execute the select query using the `cursor.execute(query)` method.\n",
    "\n",
    "##### Step 5: Extract all rows from a result\n",
    "After successfully executing a select operation, Use the `fetchall()` method of a cursor object to get all rows from a query result. it returns a list of rows.\n",
    "\n",
    "##### Step 7: Iterate each row\n",
    "Iterate a row list using a for loop and access each row individually (Access each row’s column data using a column name or index number.)\n",
    "\n",
    "##### Step 8: Close the cursor object and database connection object\n",
    "use `cursor.clsoe()` and `connection.clsoe()` method to close the SQLite connection after your work completes."
   ]
  },
  {
   "cell_type": "markdown",
   "id": "b6addfe6",
   "metadata": {},
   "source": [
    "## Example to read all rows from SQLite table"
   ]
  },
  {
   "cell_type": "code",
   "execution_count": 7,
   "id": "e0a9ea7d",
   "metadata": {},
   "outputs": [
    {
     "name": "stdout",
     "output_type": "stream",
     "text": [
      "Connected to SQLite\n",
      "(1, 'James', 'james@pynative.com', '2019-03-17', 8000.0)\n",
      "(2, 'Joe', 'joe@pynative.com', '2019-05-19', 9000.0)\n",
      "(3, 'Ben', 'ben@pynative.com', '2019-02-23', 9500.0)\n",
      "(4, 'Jos', 'jos@gmail.com', '2019-01-14', 9500.0)\n",
      "(5, 'Chris', 'chris@gmail.com', '2019-05-15', 7600.0)\n",
      "(6, 'Jonny', 'jonny@gmail.com', '2019-03-27', 8400.0)\n",
      "Total rows are:   6 \n",
      "\n",
      "The SQLite connection is closed\n"
     ]
    }
   ],
   "source": [
    "def readSqliteTable():\n",
    "    try:\n",
    "        sqliteConnection = sqlite3.connect(dbpath)\n",
    "        cursor = sqliteConnection.cursor()\n",
    "        print(\"Connected to SQLite\")\n",
    "\n",
    "        sqlite_select_query = \"\"\"SELECT * from SqliteDb_developers\"\"\"\n",
    "        cursor.execute(sqlite_select_query)\n",
    "        \n",
    "        records = cursor.fetchall()\n",
    "        for row in records:\n",
    "            print(row)\n",
    "\n",
    "        print(\"Total rows are:  \", len(records),\"\\n\")    \n",
    "        cursor.close()\n",
    "\n",
    "    except sqlite3.Error as error:\n",
    "        print(\"Failed to read data from sqlite table\", error)\n",
    "    finally:\n",
    "        if sqliteConnection:\n",
    "            sqliteConnection.close()\n",
    "            print(\"The SQLite connection is closed\")\n",
    "\n",
    "readSqliteTable()"
   ]
  },
  {
   "cell_type": "markdown",
   "id": "c4aadbde",
   "metadata": {},
   "source": [
    "## Use Python variables as parameters in SQLite Select Query\n",
    "\n",
    "We often need to pass a variable to SQLite select query in where clause to check some condition.\n",
    "\n",
    "Let’s say the application wants to fetch person details by giving any id at runtime. To handle such a requirement, we need to use a parameterized query. A parameterized query is a query in which placeholders (?) are used for parameters and the parameter values supplied at execution time.\n",
    "\n",
    "```python\n",
    "cursor.execute(\"SELECT salary FROM SqliteDb_developers WHERE id = \"ID from application\")\n",
    "```"
   ]
  },
  {
   "cell_type": "code",
   "execution_count": 8,
   "id": "fb24ee18",
   "metadata": {},
   "outputs": [
    {
     "name": "stdout",
     "output_type": "stream",
     "text": [
      "Connected to SQLite\n",
      "Printing ID  2\n",
      "(2, 'Joe', 'joe@pynative.com', '2019-05-19', 9000.0)\n",
      "The SQLite connection is closed\n"
     ]
    }
   ],
   "source": [
    "def getDeveloperInfo(id):\n",
    "    try:\n",
    "        sqliteConnection = sqlite3.connect(dbpath)\n",
    "        cursor = sqliteConnection.cursor()\n",
    "        print(\"Connected to SQLite\")\n",
    "\n",
    "        sql_select_query = \"\"\"select * from SqliteDb_developers where id = ?\"\"\"\n",
    "        cursor.execute(sql_select_query, (id,))\n",
    "        records = cursor.fetchall()\n",
    "        print(\"Printing ID \", id)\n",
    "        for row in records:\n",
    "            print(row)\n",
    "        cursor.close()\n",
    "\n",
    "    except sqlite3.Error as error:\n",
    "        print(\"Failed to read data from sqlite table\", error)\n",
    "    finally:\n",
    "        if sqliteConnection:\n",
    "            sqliteConnection.close()\n",
    "            print(\"The SQLite connection is closed\")\n",
    "\n",
    "getDeveloperInfo(2)\n"
   ]
  },
  {
   "cell_type": "markdown",
   "id": "ed44d9c3",
   "metadata": {},
   "source": [
    "## Select limited rows from SQLite table using cursor.fetchmany()\n",
    "\n",
    "In some circumstances, fetching all the data rows from a table is a time-consuming task if a table contains thousands of rows.\n",
    "\n",
    "To fetch all rows, we have to use more resources, so we need more space and processing time. To enhance performance, use the `fetchmany(SIZE)` method of a cursor class to fetch fewer rows."
   ]
  },
  {
   "cell_type": "code",
   "execution_count": 22,
   "id": "a1688275",
   "metadata": {},
   "outputs": [
    {
     "name": "stdout",
     "output_type": "stream",
     "text": [
      "Connected to SQLite\n",
      "(1, 'James', 'james@pynative.com', '2019-03-17', 8000.0)\n",
      "(2, 'Joe', 'joe@pynative.com', '2019-05-19', 9000.0)\n",
      "(3, 'Ben', 'ben@pynative.com', '2019-02-23', 9500.0)\n",
      "(4, 'Jos', 'jos@gmail.com', '2019-01-14', 9500.0)\n",
      "\n",
      "\n",
      "(5, 'Chris', 'chris@gmail.com', '2019-05-15', 7600.0)\n",
      "(6, 'Jonny', 'jonny@gmail.com', '2019-03-27', 8400.0)\n",
      "\n",
      "\n",
      "\n",
      "\n",
      "The SQLite connection is closed\n"
     ]
    }
   ],
   "source": [
    "def readLimitedRows(rowSize):\n",
    "    try:\n",
    "        sqliteConnection = sqlite3.connect(dbpath)\n",
    "        cursor = sqliteConnection.cursor()\n",
    "        print(\"Connected to SQLite\")\n",
    "\n",
    "        sqlite_select_query = \"\"\"SELECT * from SqliteDb_developers\"\"\"\n",
    "        cursor.execute(sqlite_select_query)\n",
    "        \n",
    "        # First Set of 4 rows\n",
    "        records = cursor.fetchmany(rowSize)\n",
    "        for row in records:\n",
    "            print(row)\n",
    "        \n",
    "        print(\"\\n\")\n",
    "        # Second set of 4 rows\n",
    "        records = cursor.fetchmany(rowSize)\n",
    "        for row in records:\n",
    "            print(row)\n",
    "\n",
    "        cursor.close()\n",
    "\n",
    "    except sqlite3.Error as error:\n",
    "        print(\"Failed to read data from sqlite table\", error)\n",
    "    finally:\n",
    "        if sqliteConnection:\n",
    "            sqliteConnection.close()\n",
    "            print(\"The SQLite connection is closed\")\n",
    "\n",
    "readLimitedRows(4)"
   ]
  },
  {
   "cell_type": "markdown",
   "id": "0f1dac2c",
   "metadata": {},
   "source": [
    "## Select a single row from SQLite table\n",
    "\n",
    "When you want to read only one row from the SQLite table, then you should use `fetchone()` method of a cursor class. You can also use this method in situations when you know the query is going to return only one row.\n",
    "\n",
    "The `cursor.fetchone()` method retrieves the next row from the result set."
   ]
  },
  {
   "cell_type": "code",
   "execution_count": 28,
   "id": "5aadb039",
   "metadata": {},
   "outputs": [
    {
     "name": "stdout",
     "output_type": "stream",
     "text": [
      "Connected to SQLite\n",
      "Reading single row \n",
      "\n",
      "(3, 'Ben', 'ben@pynative.com', '2019-02-23', 9500.0)\n",
      "The SQLite connection is closed\n"
     ]
    }
   ],
   "source": [
    "def readSingleRow(developerId):\n",
    "    try:\n",
    "        sqliteConnection = sqlite3.connect(dbpath)\n",
    "        cursor = sqliteConnection.cursor()\n",
    "        print(\"Connected to SQLite\")\n",
    "\n",
    "        sqlite_select_query = \"\"\"SELECT * from SqliteDb_developers where id = ?\"\"\"\n",
    "        cursor.execute(sqlite_select_query, (developerId,))\n",
    "        print(\"Reading single row \\n\")\n",
    "        record = cursor.fetchone()\n",
    "        print(record)\n",
    "        \n",
    "        cursor.close()\n",
    " \n",
    "    except sqlite3.Error as error:\n",
    "        print(\"Failed to read single row from sqlite table\", error)\n",
    "    finally:\n",
    "        if sqliteConnection:\n",
    "            sqliteConnection.close()\n",
    "            print(\"The SQLite connection is closed\")\n",
    "\n",
    "readSingleRow(3)\n"
   ]
  },
  {
   "cell_type": "markdown",
   "id": "ecb3af18",
   "metadata": {},
   "source": [
    "***"
   ]
  }
 ],
 "metadata": {
  "kernelspec": {
   "display_name": "Python 3 (ipykernel)",
   "language": "python",
   "name": "python3"
  },
  "language_info": {
   "codemirror_mode": {
    "name": "ipython",
    "version": 3
   },
   "file_extension": ".py",
   "mimetype": "text/x-python",
   "name": "python",
   "nbconvert_exporter": "python",
   "pygments_lexer": "ipython3",
   "version": "3.9.12"
  }
 },
 "nbformat": 4,
 "nbformat_minor": 5
}
