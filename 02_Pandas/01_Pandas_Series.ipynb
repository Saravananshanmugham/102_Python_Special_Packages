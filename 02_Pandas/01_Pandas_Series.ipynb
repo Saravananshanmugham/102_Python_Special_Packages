{
 "cells": [
  {
   "cell_type": "markdown",
   "id": "1134e7d0",
   "metadata": {},
   "source": [
    "# 01 Pandas - Series"
   ]
  },
  {
   "cell_type": "code",
   "execution_count": 4,
   "id": "5f925c30",
   "metadata": {},
   "outputs": [],
   "source": [
    "import numpy as np\n",
    "import pandas as pd"
   ]
  },
  {
   "cell_type": "code",
   "execution_count": 5,
   "id": "e32d3058",
   "metadata": {},
   "outputs": [
    {
     "data": {
      "text/plain": [
       "'2.1.4'"
      ]
     },
     "execution_count": 5,
     "metadata": {},
     "output_type": "execute_result"
    }
   ],
   "source": [
    "pd.__version__"
   ]
  },
  {
   "cell_type": "markdown",
   "id": "336603d9",
   "metadata": {},
   "source": [
    "\n",
    "----\n"
   ]
  },
  {
   "cell_type": "markdown",
   "id": "733a3b6d",
   "metadata": {},
   "source": [
    "At the very basic level, Pandas objects can be thought of as enhanced versions of NumPy structured arrays in which the rows and columns are identified with labels rather than simple integer indices. Pandas is built on top of NumPy to make data processing on relational data easier.\n",
    "\n",
    "## Limitations of NumPy\n",
    "\n",
    "Before we start learning Pandas, good to understand the limitations Numpy Possess\n",
    "\n",
    "* No way to attach labels to data\n",
    "* No pre-built methods to fill missing values\n",
    "* No way to group data\n",
    "* No way to pivot data\n",
    "\n",
    "Thus, before we go any further, let's introduce these first data structure of three fundamental Pandas data structures\n",
    "\n",
    "The ``Series``\n"
   ]
  },
  {
   "cell_type": "markdown",
   "id": "8a08eb27",
   "metadata": {},
   "source": [
    "\n",
    "---\n"
   ]
  },
  {
   "cell_type": "markdown",
   "id": "ac027c7b",
   "metadata": {},
   "source": [
    "\n",
    "# Pandas - Series\n"
   ]
  },
  {
   "cell_type": "markdown",
   "id": "da50be47",
   "metadata": {},
   "source": [
    "### Creating Series objects\n",
    "\n",
    "`Series` is an One-dimensional ndarray with axis labels (including time series).\n",
    "\n",
    "**Pandas Series & Index Syntax:**\n",
    "\n",
    "```python\n",
    "pandas.Series(data=None, index=None, dtype=None, \n",
    "              name=None, copy=False, fastpath=False)\n",
    "```\n",
    "```Python\n",
    "pandas.Index(data=None, dtype=None, copy=False, \n",
    "    name=None, tupleize_cols=True, **kwargs)\n",
    "```\n",
    "Documentation link for [pandas.Series](https://pandas.pydata.org/docs/reference/api/pandas.Series.html#)\n",
    "\n",
    "A Pandas ``Series`` is a one-dimensional array-like object containing a sequence of values (of\n",
    "similar types to NumPy types) and an associated array of data labels, called its `index`.\n",
    "The simplest Series is formed from only an array of data. It can be created from a list or array as follows:"
   ]
  },
  {
   "cell_type": "code",
   "execution_count": 6,
   "id": "35aacda4",
   "metadata": {},
   "outputs": [
    {
     "name": "stdout",
     "output_type": "stream",
     "text": [
      "0    0.25\n",
      "1    0.50\n",
      "2    0.75\n",
      "3    1.00\n",
      "dtype: float64\n"
     ]
    }
   ],
   "source": [
    "# Create Series using a list\n",
    "\n",
    "mylist = [0.25, 0.5, 0.75, 1.0]\n",
    "data1 = pd.Series(mylist)\n",
    "print(data1)"
   ]
  },
  {
   "cell_type": "markdown",
   "id": "c331c653",
   "metadata": {},
   "source": [
    "As we see in the output, the ``Series`` wraps both a sequence of values and a sequence of indices, which we can access with the ``values`` and ``index`` attributes. Since we did not specify an index for the data, a default one consisting of the integers 0 through `N - 1` (where N is the length of the data) is created.\n",
    "\n",
    "The ``values`` are simply a familiar NumPy array:"
   ]
  },
  {
   "cell_type": "code",
   "execution_count": 7,
   "id": "a7bdaaa7",
   "metadata": {},
   "outputs": [
    {
     "name": "stdout",
     "output_type": "stream",
     "text": [
      "[0.25 0.5  0.75 1.  ]\n",
      "<class 'numpy.ndarray'>\n"
     ]
    }
   ],
   "source": [
    "# Display the values of the series and Its data type\n",
    "\n",
    "print(data1.values)\n",
    "print(type(data1.values))\n"
   ]
  },
  {
   "cell_type": "markdown",
   "id": "b54a7c22",
   "metadata": {},
   "source": [
    "The ``index`` is an array-like object of type ``pd.Index``. By just typing the ``<object>.index`` we get the output detail about the index. We can see that the index object start number is ``0`` and end with ``4`` (Excluding) and incremented by steps of ``1``."
   ]
  },
  {
   "cell_type": "code",
   "execution_count": 8,
   "id": "124b1b64",
   "metadata": {},
   "outputs": [
    {
     "data": {
      "text/plain": [
       "RangeIndex(start=0, stop=4, step=1)"
      ]
     },
     "execution_count": 8,
     "metadata": {},
     "output_type": "execute_result"
    }
   ],
   "source": [
    "data1.index"
   ]
  },
  {
   "cell_type": "markdown",
   "id": "90fbf92e",
   "metadata": {},
   "source": [
    "Often it will be desirable to create a Series with an index identifying each data point with a label. Which helps to identify the values with easy and meaningful. Series can be given a `name`, which helps to associate the data in meaningful way."
   ]
  },
  {
   "cell_type": "code",
   "execution_count": 9,
   "id": "e17e3b62",
   "metadata": {},
   "outputs": [
    {
     "name": "stdout",
     "output_type": "stream",
     "text": [
      "Series Name: Planet_Mercury\n",
      "Mass            0.33\n",
      "Diameter       57.90\n",
      "Daylength    4222.60\n",
      "Name: Planet_Mercury, dtype: float64\n"
     ]
    }
   ],
   "source": [
    "# Example for Series with Index identifing each data point\n",
    "# We also given name to the series - Plannet_Mercury\n",
    "\n",
    "mercury = pd.Series([0.33, 57.9, 4222.6], \n",
    "                 index=['Mass','Diameter','Daylength'],\n",
    "                   name=\"Planet_Mercury\")\n",
    "\n",
    "print(\"Series Name:\", mercury.name)\n",
    "print(mercury)\n"
   ]
  },
  {
   "cell_type": "markdown",
   "id": "314f66c0",
   "metadata": {},
   "source": [
    "***"
   ]
  },
  {
   "cell_type": "markdown",
   "id": "5bf92eaf",
   "metadata": {},
   "source": [
    "### Different Ways to Create Series\n",
    "\n",
    "* Using a List - **Already Tested before**\n",
    "* Using Numpy Array\n",
    "* Using Dictionary "
   ]
  },
  {
   "cell_type": "code",
   "execution_count": 10,
   "id": "16e038f2",
   "metadata": {},
   "outputs": [
    {
     "name": "stdout",
     "output_type": "stream",
     "text": [
      "72    21\n",
      "74    24\n",
      "70    15\n",
      "88    36\n",
      "65    34\n",
      "72     5\n",
      "81    17\n",
      "88     6\n",
      "70    47\n",
      "64    11\n",
      "dtype: int32\n"
     ]
    }
   ],
   "source": [
    "# Create Series using Numpy Array for Data and Index\n",
    "\n",
    "arr = np.random.randint(1,50, 10)           # Generate Random 10 numbers between 1 and 50\n",
    "index_arr = np.random.randint(60,100, 10)   # Generate Random 10 numbers between 60 and 100\n",
    "np_series = pd.Series(arr, index_arr)       # Use both the ndarray as data and index.\n",
    "\n",
    "print(np_series)"
   ]
  },
  {
   "cell_type": "markdown",
   "id": "7b690df2",
   "metadata": {},
   "source": [
    "When you are only passing a Dictionary object, the index in the resulting Series will have the dict’s keys."
   ]
  },
  {
   "cell_type": "code",
   "execution_count": 11,
   "id": "89765672",
   "metadata": {},
   "outputs": [
    {
     "name": "stdout",
     "output_type": "stream",
     "text": [
      "Dictionary Keys: dict_keys(['Texas', 'New York', 'Florida', 'Illinois', 'California'])\n",
      "Dictionary Values: dict_values([26448193, 19651127, 19552860, 12882135, 38332521])\n",
      "Texas         26448193\n",
      "New York      19651127\n",
      "Florida       19552860\n",
      "Illinois      12882135\n",
      "California    38332521\n",
      "dtype: int64\n"
     ]
    }
   ],
   "source": [
    "# Create Series using a dictionary\n",
    "\n",
    "population_dict = {'Texas': 26448193,\n",
    "                   'New York': 19651127,\n",
    "                   'Florida': 19552860,\n",
    "                   'Illinois': 12882135,\n",
    "                   'California': 38332521}\n",
    "print(\"Dictionary Keys:\", population_dict.keys())\n",
    "print(\"Dictionary Values:\", population_dict.values())\n",
    "population = pd.Series(population_dict)\n",
    "print(population)"
   ]
  },
  {
   "cell_type": "markdown",
   "id": "c4af0871",
   "metadata": {},
   "source": [
    "You can override the order of the keys by passing the index data separatly, The dictionary keys are matched with the passed index values, if any Dictionary key is missed in the index, the same will be ignored in the `Series`, if any new key is passed which is not part of the dictionary key it is added to the `Series` with `NaN` value."
   ]
  },
  {
   "cell_type": "code",
   "execution_count": 12,
   "id": "7723397b",
   "metadata": {},
   "outputs": [
    {
     "name": "stdout",
     "output_type": "stream",
     "text": [
      "Ohio      35000\n",
      "Texas     71000\n",
      "Oregon    16000\n",
      "Utah       5000\n",
      "dtype: int64\n",
      "\n",
      "\n",
      "Ohio       35000.0\n",
      "Oregon     16000.0\n",
      "Florida        NaN\n",
      "Utah        5000.0\n",
      "dtype: float64\n"
     ]
    }
   ],
   "source": [
    "# Create Series using a dictionary\n",
    "# Since Texas not passed in index it is skipped\n",
    "# Since Florida not passed in the Index is added with 'NaN'\n",
    "\n",
    "sdata = {'Ohio': 35000, 'Texas': 71000, 'Oregon': 16000, 'Utah': 5000}\n",
    "states = ['Ohio', 'Oregon','Florida','Utah']\n",
    "obj3 = pd.Series(sdata)\n",
    "obj4 = pd.Series(sdata, index=states)\n",
    "print(obj3)\n",
    "print(\"\\n\")\n",
    "print(obj4)"
   ]
  },
  {
   "cell_type": "markdown",
   "id": "e4b2da90",
   "metadata": {},
   "source": [
    "Source is a dictionary, in which ``index`` is limited Not covering all the values, Notice that in this case, the ``Series`` is populated only with the explicitly identified index values"
   ]
  },
  {
   "cell_type": "code",
   "execution_count": 13,
   "id": "49128927",
   "metadata": {},
   "outputs": [
    {
     "data": {
      "text/plain": [
       "3    c\n",
       "2    a\n",
       "dtype: object"
      ]
     },
     "execution_count": 13,
     "metadata": {},
     "output_type": "execute_result"
    }
   ],
   "source": [
    "pd.Series({2:'a', 1:'b', 3:'c'}, index=[3, 2])"
   ]
  },
  {
   "cell_type": "markdown",
   "id": "211cb881",
   "metadata": {},
   "source": [
    "\n",
    "---\n"
   ]
  },
  {
   "cell_type": "markdown",
   "id": "9250f1e9",
   "metadata": {},
   "source": [
    "## ``Series`` as generalized NumPy array"
   ]
  },
  {
   "cell_type": "markdown",
   "id": "3cf43059",
   "metadata": {},
   "source": [
    "From what we've seen so far, it may look like the ``Series`` object is basically interchangeable with a one-dimensional NumPy array.\n",
    "The essential difference is the presence of the index: while the Numpy Array has an *implicitly defined* integer index used to access the values, the Pandas ``Series`` has an *explicitly defined* index associated with the values.\n",
    "\n",
    "This explicit index definition gives the ``Series`` object additional capabilities. For example, the index need not be an integer, but can consist of values of any desired type.\n",
    "\n",
    "For example, if we wish, we can use strings as an index:"
   ]
  },
  {
   "cell_type": "code",
   "execution_count": 14,
   "id": "e8c1ec0d",
   "metadata": {},
   "outputs": [
    {
     "data": {
      "text/plain": [
       "a    0.25\n",
       "b    0.50\n",
       "c    0.75\n",
       "d    1.00\n",
       "dtype: float64"
      ]
     },
     "execution_count": 14,
     "metadata": {},
     "output_type": "execute_result"
    }
   ],
   "source": [
    "data2 = pd.Series([0.25, 0.5, 0.75, 1.0],\n",
    "                 index=['a', 'b', 'c', 'd'])\n",
    "data2"
   ]
  },
  {
   "cell_type": "code",
   "execution_count": 15,
   "id": "4398505d",
   "metadata": {},
   "outputs": [
    {
     "data": {
      "text/plain": [
       "Index(['a', 'b', 'c', 'd'], dtype='object')"
      ]
     },
     "execution_count": 15,
     "metadata": {},
     "output_type": "execute_result"
    }
   ],
   "source": [
    "data2.index"
   ]
  },
  {
   "cell_type": "code",
   "execution_count": 16,
   "id": "bf766192",
   "metadata": {},
   "outputs": [
    {
     "name": "stdout",
     "output_type": "stream",
     "text": [
      "0.25\n",
      "0.75\n",
      "b    0.50\n",
      "c    0.75\n",
      "dtype: float64\n"
     ]
    },
    {
     "name": "stderr",
     "output_type": "stream",
     "text": [
      "C:\\Users\\I025736\\AppData\\Local\\Temp\\ipykernel_11216\\786084261.py:3: FutureWarning: Series.__getitem__ treating keys as positions is deprecated. In a future version, integer keys will always be treated as labels (consistent with DataFrame behavior). To access a value by position, use `ser.iloc[pos]`\n",
      "  print(data2[0])\n",
      "C:\\Users\\I025736\\AppData\\Local\\Temp\\ipykernel_11216\\786084261.py:4: FutureWarning: Series.__getitem__ treating keys as positions is deprecated. In a future version, integer keys will always be treated as labels (consistent with DataFrame behavior). To access a value by position, use `ser.iloc[pos]`\n",
      "  print(data2[2])\n"
     ]
    }
   ],
   "source": [
    "# Still implicit Indexing works\n",
    "\n",
    "print(data2[0])\n",
    "print(data2[2])\n",
    "print(\"{0}\".format(data2[1:3]))"
   ]
  },
  {
   "cell_type": "code",
   "execution_count": 17,
   "id": "75dcafa8",
   "metadata": {},
   "outputs": [
    {
     "name": "stdout",
     "output_type": "stream",
     "text": [
      "0.75\n",
      "b    0.50\n",
      "c    0.75\n",
      "dtype: float64\n"
     ]
    }
   ],
   "source": [
    "# Explicit Indexing\n",
    "# Note in explicit indexing the end range is not excluded\n",
    "\n",
    "print(data2['c'])\n",
    "print(\"{0}\".format(data2['b':'c']))"
   ]
  },
  {
   "cell_type": "markdown",
   "id": "c93eba8e",
   "metadata": {},
   "source": [
    "We can even use non-contiguous or non-sequential indices:"
   ]
  },
  {
   "cell_type": "code",
   "execution_count": 18,
   "id": "c0c63447",
   "metadata": {},
   "outputs": [
    {
     "data": {
      "text/plain": [
       "2    0.25\n",
       "4    0.50\n",
       "6    0.75\n",
       "3    1.00\n",
       "dtype: float64"
      ]
     },
     "execution_count": 18,
     "metadata": {},
     "output_type": "execute_result"
    }
   ],
   "source": [
    "data3 = pd.Series([0.25, 0.5, 0.75, 1.0],\n",
    "                 index=[2, 4, 6, 3])\n",
    "data3"
   ]
  },
  {
   "cell_type": "code",
   "execution_count": 19,
   "id": "adf2bfad",
   "metadata": {},
   "outputs": [
    {
     "data": {
      "text/plain": [
       "Index([2, 4, 6, 3], dtype='int64')"
      ]
     },
     "execution_count": 19,
     "metadata": {},
     "output_type": "execute_result"
    }
   ],
   "source": [
    "data3.index"
   ]
  },
  {
   "cell_type": "code",
   "execution_count": 20,
   "id": "901fb465",
   "metadata": {},
   "outputs": [
    {
     "data": {
      "text/plain": [
       "2    0.25\n",
       "4    0.50\n",
       "6    0.75\n",
       "dtype: float64"
      ]
     },
     "execution_count": 20,
     "metadata": {},
     "output_type": "execute_result"
    }
   ],
   "source": [
    "data3[0:3]"
   ]
  },
  {
   "cell_type": "markdown",
   "id": "53a6c6b8",
   "metadata": {},
   "source": [
    "\n",
    "---\n"
   ]
  },
  {
   "cell_type": "markdown",
   "id": "b0c38be5",
   "metadata": {},
   "source": [
    "### Series as specialized dictionary\n",
    "\n",
    "In this way, you can think of a Pandas ``Series`` a bit like a specialization of a Python dictionary.\n",
    "\n",
    "A dictionary is a structure that maps arbitrary keys to a set of arbitrary values, and a ``Series`` is a structure which maps typed keys to a set of typed values.\n",
    "\n",
    "This typing is important: just as the type-specific compiled code behind a NumPy array makes it more efficient than a Python list for certain operations, the type information of a Pandas ``Series`` makes it much more efficient than Python dictionaries for certain operations.\n",
    "\n",
    "The ``Series``-as-dictionary analogy can be made even more clear by constructing a ``Series`` object directly from a Python dictionary:"
   ]
  },
  {
   "cell_type": "code",
   "execution_count": 21,
   "id": "0880a1bd",
   "metadata": {},
   "outputs": [
    {
     "name": "stdout",
     "output_type": "stream",
     "text": [
      "California    38332521\n",
      "Texas         26448193\n",
      "New York      19651127\n",
      "Florida       19552860\n",
      "Illinois      12882135\n",
      "dtype: int64\n"
     ]
    }
   ],
   "source": [
    "population_dict = {'California': 38332521,\n",
    "                   'Texas': 26448193,\n",
    "                   'New York': 19651127,\n",
    "                   'Florida': 19552860,\n",
    "                   'Illinois': 12882135}\n",
    "\n",
    "population = pd.Series(population_dict)\n",
    "print(population)"
   ]
  },
  {
   "cell_type": "markdown",
   "id": "78e2f726",
   "metadata": {},
   "source": [
    "By default, a ``Series`` will be created where the index is drawn from the sorted keys. From here, typical dictionary-style item access can be performed:"
   ]
  },
  {
   "cell_type": "code",
   "execution_count": 22,
   "id": "b6daeb10",
   "metadata": {},
   "outputs": [
    {
     "data": {
      "text/plain": [
       "38332521"
      ]
     },
     "execution_count": 22,
     "metadata": {},
     "output_type": "execute_result"
    }
   ],
   "source": [
    "population['California']"
   ]
  },
  {
   "cell_type": "code",
   "execution_count": 23,
   "id": "9e356db5",
   "metadata": {},
   "outputs": [
    {
     "data": {
      "text/plain": [
       "California    38332521\n",
       "Texas         26448193\n",
       "New York      19651127\n",
       "Florida       19552860\n",
       "dtype: int64"
      ]
     },
     "execution_count": 23,
     "metadata": {},
     "output_type": "execute_result"
    }
   ],
   "source": [
    "# Notice that all the elements from start to end is listed\n",
    "# the rule of end exclusion is not happening\n",
    "\n",
    "population['California':'Florida']"
   ]
  },
  {
   "cell_type": "code",
   "execution_count": 24,
   "id": "34ab7c1c",
   "metadata": {},
   "outputs": [
    {
     "data": {
      "text/plain": [
       "California    38332521\n",
       "Texas         26448193\n",
       "New York      19651127\n",
       "Florida       19552860\n",
       "dtype: int64"
      ]
     },
     "execution_count": 24,
     "metadata": {},
     "output_type": "execute_result"
    }
   ],
   "source": [
    "# Using of slicing uses implicit index\n",
    "# Florida's Index is 3\n",
    "\n",
    "population[0:4]"
   ]
  },
  {
   "cell_type": "code",
   "execution_count": 25,
   "id": "d43d0cba",
   "metadata": {},
   "outputs": [
    {
     "data": {
      "text/plain": [
       "Index(['California', 'Texas', 'New York', 'Florida', 'Illinois'], dtype='object')"
      ]
     },
     "execution_count": 25,
     "metadata": {},
     "output_type": "execute_result"
    }
   ],
   "source": [
    "population.index"
   ]
  },
  {
   "cell_type": "markdown",
   "id": "e0056c45",
   "metadata": {},
   "source": [
    "\n",
    "---\n"
   ]
  },
  {
   "cell_type": "markdown",
   "id": "e066ee9c",
   "metadata": {},
   "source": [
    "## The Pandas Index Object\n",
    "\n",
    "We have seen here that ``Series`` objects contain an explicit *index* that lets you reference and modify data.\n",
    "\n",
    "```Python\n",
    "pandas.Index(data=None, dtype=None, copy=False, \n",
    "    name=None, tupleize_cols=True, **kwargs)\n",
    "```\n",
    "Documentation link for [pandas.index](https://pandas.pydata.org/docs/reference/api/pandas.Index.html)\n",
    "\n",
    "This ``Index`` object is an interesting structure in itself, and it can be thought of either as an *immutable array* or as an *ordered set* (technically a multi-set, as ``Index`` objects may contain repeated values).\n",
    "\n",
    "Those views have some interesting consequences in the operations available on ``Index`` objects.\n",
    "\n",
    "As a simple example, let's construct an ``Index`` from a list of integers:"
   ]
  },
  {
   "cell_type": "code",
   "execution_count": 26,
   "id": "2e3bc278",
   "metadata": {},
   "outputs": [
    {
     "data": {
      "text/plain": [
       "Index([2, 3, 5, 7, 11], dtype='int64')"
      ]
     },
     "execution_count": 26,
     "metadata": {},
     "output_type": "execute_result"
    }
   ],
   "source": [
    "ind = pd.Index([2, 3, 5, 7, 11])\n",
    "ind"
   ]
  },
  {
   "cell_type": "markdown",
   "id": "f2c9ad4b",
   "metadata": {},
   "source": [
    "### Index as immutable array\n",
    "\n",
    "The ``Index`` in many ways operates like an array.\n",
    "For example, we can use standard Python indexing notation to retrieve values or slices:"
   ]
  },
  {
   "cell_type": "code",
   "execution_count": 27,
   "id": "a2f17c2b",
   "metadata": {},
   "outputs": [
    {
     "data": {
      "text/plain": [
       "3"
      ]
     },
     "execution_count": 27,
     "metadata": {},
     "output_type": "execute_result"
    }
   ],
   "source": [
    "ind[1]"
   ]
  },
  {
   "cell_type": "code",
   "execution_count": 28,
   "id": "1fdc531b",
   "metadata": {},
   "outputs": [
    {
     "data": {
      "text/plain": [
       "Index([2, 5, 11], dtype='int64')"
      ]
     },
     "execution_count": 28,
     "metadata": {},
     "output_type": "execute_result"
    }
   ],
   "source": [
    "ind[::2]"
   ]
  },
  {
   "cell_type": "markdown",
   "id": "65893da5",
   "metadata": {},
   "source": [
    "``Index`` objects also have many of the attributes familiar from NumPy arrays:"
   ]
  },
  {
   "cell_type": "code",
   "execution_count": 29,
   "id": "c5ecb51d",
   "metadata": {},
   "outputs": [
    {
     "name": "stdout",
     "output_type": "stream",
     "text": [
      "5 (5,) 1 int64\n"
     ]
    }
   ],
   "source": [
    "print(ind.size, ind.shape, ind.ndim, ind.dtype)"
   ]
  },
  {
   "cell_type": "markdown",
   "id": "9c62756c",
   "metadata": {},
   "source": [
    "One difference between ``Index`` objects and NumPy arrays is that indices are immutable–that is, they cannot be modified via the normal means.\n",
    "\n",
    "This immutability makes it safer to share indices between multiple ``DataFrames`` and arrays, without the potential for side effects from inadvertent index modification."
   ]
  },
  {
   "cell_type": "code",
   "execution_count": 30,
   "id": "b2378736",
   "metadata": {},
   "outputs": [
    {
     "data": {
      "text/plain": [
       "<bound method Index.argmax of Index([2, 3, 5, 7, 11], dtype='int64')>"
      ]
     },
     "execution_count": 30,
     "metadata": {},
     "output_type": "execute_result"
    }
   ],
   "source": [
    "ind.argmax"
   ]
  },
  {
   "cell_type": "markdown",
   "id": "3c87bc2e",
   "metadata": {},
   "source": [
    "### Index as ordered set\n",
    "\n",
    "Pandas objects are designed to facilitate operations such as joins across datasets, which depend on many aspects of set arithmetic.\n",
    "The ``Index`` object follows many of the conventions used by Python's built-in ``set`` data structure, so that unions, intersections, differences, and other combinations can be computed in a familiar way:"
   ]
  },
  {
   "cell_type": "code",
   "execution_count": 31,
   "id": "638ae86e",
   "metadata": {},
   "outputs": [],
   "source": [
    "indA = pd.Index([1, 3, 5, 7, 9])\n",
    "indB = pd.Index([2, 3, 5, 7, 11])"
   ]
  },
  {
   "cell_type": "code",
   "execution_count": 32,
   "id": "74c8df06",
   "metadata": {},
   "outputs": [
    {
     "data": {
      "text/plain": [
       "Index([3, 5, 7], dtype='int64')"
      ]
     },
     "execution_count": 32,
     "metadata": {},
     "output_type": "execute_result"
    }
   ],
   "source": [
    "# Intersection\n",
    "\n",
    "indA.intersection(indB)"
   ]
  },
  {
   "cell_type": "code",
   "execution_count": 33,
   "id": "73bfdb4b",
   "metadata": {},
   "outputs": [
    {
     "data": {
      "text/plain": [
       "Index([1, 2, 3, 5, 7, 9, 11], dtype='int64')"
      ]
     },
     "execution_count": 33,
     "metadata": {},
     "output_type": "execute_result"
    }
   ],
   "source": [
    "# Union\n",
    "\n",
    "indA.union(indB)"
   ]
  },
  {
   "cell_type": "code",
   "execution_count": 34,
   "id": "66290d28",
   "metadata": {},
   "outputs": [
    {
     "data": {
      "text/plain": [
       "Index([1, 9], dtype='int64')"
      ]
     },
     "execution_count": 34,
     "metadata": {},
     "output_type": "execute_result"
    }
   ],
   "source": [
    "# Difference\n",
    "\n",
    "indA.difference(indB)"
   ]
  },
  {
   "cell_type": "code",
   "execution_count": 35,
   "id": "aff9a220",
   "metadata": {},
   "outputs": [
    {
     "data": {
      "text/plain": [
       "Index([1, 2, 9, 11], dtype='int64')"
      ]
     },
     "execution_count": 35,
     "metadata": {},
     "output_type": "execute_result"
    }
   ],
   "source": [
    "# Symmetric Difference\n",
    "\n",
    "indA.symmetric_difference(indB)"
   ]
  },
  {
   "cell_type": "markdown",
   "id": "95783417",
   "metadata": {},
   "source": [
    "\n",
    "---\n"
   ]
  }
 ],
 "metadata": {
  "kernelspec": {
   "display_name": "Python 3 (ipykernel)",
   "language": "python",
   "name": "python3"
  },
  "language_info": {
   "codemirror_mode": {
    "name": "ipython",
    "version": 3
   },
   "file_extension": ".py",
   "mimetype": "text/x-python",
   "name": "python",
   "nbconvert_exporter": "python",
   "pygments_lexer": "ipython3",
   "version": "3.10.13"
  }
 },
 "nbformat": 4,
 "nbformat_minor": 5
}
