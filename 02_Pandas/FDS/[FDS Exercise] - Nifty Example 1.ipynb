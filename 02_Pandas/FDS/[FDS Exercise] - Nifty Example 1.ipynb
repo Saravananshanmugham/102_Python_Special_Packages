{
 "cells": [
  {
   "cell_type": "code",
   "execution_count": 2,
   "id": "8fd99e91",
   "metadata": {},
   "outputs": [],
   "source": [
    "import numpy as np\n",
    "import pandas as pd"
   ]
  },
  {
   "cell_type": "code",
   "execution_count": 4,
   "id": "aa9b2413",
   "metadata": {},
   "outputs": [],
   "source": [
    "nifty_data = pd.read_csv(\"../DataSets/nifty.csv\", index_col=0).iloc[:, 0]"
   ]
  },
  {
   "cell_type": "code",
   "execution_count": 5,
   "id": "a83825e0",
   "metadata": {},
   "outputs": [
    {
     "data": {
      "text/plain": [
       "Date\n",
       "01-Jan-2019    10910.10\n",
       "02-Jan-2019    10792.50\n",
       "03-Jan-2019    10672.25\n",
       "04-Jan-2019    10727.35\n",
       "07-Jan-2019    10771.80\n",
       "                 ...   \n",
       "24-Dec-2019    12214.55\n",
       "26-Dec-2019    12126.55\n",
       "27-Dec-2019    12245.80\n",
       "30-Dec-2019    12255.85\n",
       "31-Dec-2019    12168.45\n",
       "Name: Close, Length: 245, dtype: float64"
      ]
     },
     "execution_count": 5,
     "metadata": {},
     "output_type": "execute_result"
    }
   ],
   "source": [
    "nifty_data"
   ]
  },
  {
   "cell_type": "markdown",
   "id": "60dd9262",
   "metadata": {},
   "source": [
    "### Task 1\n",
    "1. What fraction of days did the markets close higher than the previous day's close"
   ]
  },
  {
   "cell_type": "markdown",
   "id": "67ccf028",
   "metadata": {},
   "source": [
    "**Important Point to be noted in this exercise**\n",
    "\n",
    "* Pandas first align the index key - means map the index key of pandas ``Series`` or ``DataFra`` then execute the operation on it."
   ]
  },
  {
   "cell_type": "markdown",
   "id": "0693773d",
   "metadata": {},
   "source": [
    "Idea is to slice the Series \n",
    "- object 1 as index 0 to last but one element\n",
    "- Object 2 as index 1 to last element\n",
    "\n",
    "Object 1 has the 0 element and object 2 has 1 element as fist element. Let us try this approch"
   ]
  },
  {
   "cell_type": "code",
   "execution_count": 6,
   "id": "37afeade",
   "metadata": {},
   "outputs": [
    {
     "data": {
      "text/plain": [
       "Date\n",
       "01-Jan-2019    10910.10\n",
       "02-Jan-2019    10792.50\n",
       "03-Jan-2019    10672.25\n",
       "04-Jan-2019    10727.35\n",
       "07-Jan-2019    10771.80\n",
       "                 ...   \n",
       "23-Dec-2019    12262.75\n",
       "24-Dec-2019    12214.55\n",
       "26-Dec-2019    12126.55\n",
       "27-Dec-2019    12245.80\n",
       "30-Dec-2019    12255.85\n",
       "Name: Close, Length: 244, dtype: float64"
      ]
     },
     "execution_count": 6,
     "metadata": {},
     "output_type": "execute_result"
    }
   ],
   "source": [
    "#  object 1 as index 0 to last but one element\n",
    "# you can see 31st Dec 2019 is excluded\n",
    "\n",
    "nifty_data[0:-1]"
   ]
  },
  {
   "cell_type": "code",
   "execution_count": 7,
   "id": "a64f60f6",
   "metadata": {},
   "outputs": [
    {
     "data": {
      "text/plain": [
       "Date\n",
       "02-Jan-2019    10792.50\n",
       "03-Jan-2019    10672.25\n",
       "04-Jan-2019    10727.35\n",
       "07-Jan-2019    10771.80\n",
       "08-Jan-2019    10802.15\n",
       "                 ...   \n",
       "24-Dec-2019    12214.55\n",
       "26-Dec-2019    12126.55\n",
       "27-Dec-2019    12245.80\n",
       "30-Dec-2019    12255.85\n",
       "31-Dec-2019    12168.45\n",
       "Name: Close, Length: 244, dtype: float64"
      ]
     },
     "execution_count": 7,
     "metadata": {},
     "output_type": "execute_result"
    }
   ],
   "source": [
    "#  object 2 as index 1 to last element\n",
    "# you can see 31st Dec 2019 is included and 1st Jan is excluded\n",
    "\n",
    "nifty_data[1:]"
   ]
  },
  {
   "cell_type": "code",
   "execution_count": 8,
   "id": "39a0b36e",
   "metadata": {},
   "outputs": [
    {
     "data": {
      "text/plain": [
       "Date\n",
       "01-Apr-2019    0.0\n",
       "01-Aug-2019    0.0\n",
       "01-Feb-2019    0.0\n",
       "01-Jan-2019    NaN\n",
       "01-Jul-2019    0.0\n",
       "              ... \n",
       "31-Dec-2019    NaN\n",
       "31-Jan-2019    0.0\n",
       "31-Jul-2019    0.0\n",
       "31-May-2019    0.0\n",
       "31-Oct-2019    0.0\n",
       "Name: Close, Length: 245, dtype: float64"
      ]
     },
     "execution_count": 8,
     "metadata": {},
     "output_type": "execute_result"
    }
   ],
   "source": [
    "nifty_data[1:] - nifty_data[0:-1]"
   ]
  },
  {
   "cell_type": "markdown",
   "id": "6acd3b58",
   "metadata": {},
   "source": [
    "To our surprise, all the values are zero and NaN for the missing dates. This is due to the fact, Pandas align the index key first and exeucte the operation. Hence the result is 0.\n",
    "\n",
    "Alternate solution is to skip the Index keys and use only values with similar approch of slicing"
   ]
  },
  {
   "cell_type": "code",
   "execution_count": 9,
   "id": "422d8b46",
   "metadata": {},
   "outputs": [
    {
     "data": {
      "text/plain": [
       "0.5265306122448979"
      ]
     },
     "execution_count": 9,
     "metadata": {},
     "output_type": "execute_result"
    }
   ],
   "source": [
    "np.sum((nifty_data.values[1:] - \n",
    "        nifty_data.values[:-1]) > 0)/len(nifty_data)"
   ]
  },
  {
   "cell_type": "markdown",
   "id": "ee8ae64f",
   "metadata": {},
   "source": [
    "\n",
    "----\n"
   ]
  },
  {
   "cell_type": "markdown",
   "id": "eae44c8c",
   "metadata": {},
   "source": [
    "### Task 2\n",
    "\n",
    "1. Compute moving average of the last 5 days\n",
    "2. Subset the data to include only data for Fridays"
   ]
  },
  {
   "cell_type": "markdown",
   "id": "f8c60304",
   "metadata": {},
   "source": [
    "#### 1. Compute moving average of the last 5 days"
   ]
  },
  {
   "cell_type": "code",
   "execution_count": 10,
   "id": "91556ca8",
   "metadata": {},
   "outputs": [
    {
     "name": "stdout",
     "output_type": "stream",
     "text": [
      "Date\n",
      "01-Jan-2019         NaN\n",
      "02-Jan-2019         NaN\n",
      "03-Jan-2019         NaN\n",
      "04-Jan-2019         NaN\n",
      "07-Jan-2019    10774.80\n",
      "                 ...   \n",
      "24-Dec-2019    12246.09\n",
      "26-Dec-2019    12227.07\n",
      "27-Dec-2019    12224.29\n",
      "30-Dec-2019    12221.10\n",
      "31-Dec-2019    12202.24\n",
      "Name: Close, Length: 245, dtype: float64\n"
     ]
    }
   ],
   "source": [
    "Rolling_mean = nifty_data.rolling(5).mean()\n",
    "print(Rolling_mean)"
   ]
  },
  {
   "cell_type": "markdown",
   "id": "9180f732",
   "metadata": {},
   "source": [
    "#### 2. Subset the data to include only data for Fridays"
   ]
  },
  {
   "cell_type": "code",
   "execution_count": 11,
   "id": "89ea6f36",
   "metadata": {},
   "outputs": [
    {
     "data": {
      "text/plain": [
       "Date\n",
       "04-Jan-2019    10727.35\n",
       "11-Jan-2019    10794.95\n",
       "18-Jan-2019    10906.95\n",
       "25-Jan-2019    10780.55\n",
       "01-Feb-2019    10893.65\n",
       "08-Feb-2019    10943.60\n",
       "15-Feb-2019    10724.40\n",
       "22-Feb-2019    10791.65\n",
       "01-Mar-2019    10863.50\n",
       "08-Mar-2019    11035.40\n",
       "15-Mar-2019    11426.85\n",
       "22-Mar-2019    11456.90\n",
       "29-Mar-2019    11623.90\n",
       "05-Apr-2019    11665.95\n",
       "12-Apr-2019    11643.45\n",
       "26-Apr-2019    11754.65\n",
       "03-May-2019    11712.25\n",
       "10-May-2019    11278.90\n",
       "17-May-2019    11407.15\n",
       "24-May-2019    11844.10\n",
       "31-May-2019    11922.80\n",
       "07-Jun-2019    11870.65\n",
       "14-Jun-2019    11823.30\n",
       "21-Jun-2019    11724.10\n",
       "28-Jun-2019    11788.85\n",
       "05-Jul-2019    11811.15\n",
       "12-Jul-2019    11552.50\n",
       "19-Jul-2019    11419.25\n",
       "26-Jul-2019    11284.30\n",
       "02-Aug-2019    10997.35\n",
       "09-Aug-2019    11109.65\n",
       "16-Aug-2019    11047.80\n",
       "23-Aug-2019    10829.35\n",
       "30-Aug-2019    11023.25\n",
       "06-Sep-2019    10946.20\n",
       "13-Sep-2019    11075.90\n",
       "20-Sep-2019    11274.20\n",
       "27-Sep-2019    11512.40\n",
       "04-Oct-2019    11174.75\n",
       "11-Oct-2019    11305.05\n",
       "18-Oct-2019    11661.85\n",
       "25-Oct-2019    11583.90\n",
       "01-Nov-2019    11890.60\n",
       "08-Nov-2019    11908.15\n",
       "15-Nov-2019    11895.45\n",
       "22-Nov-2019    11914.40\n",
       "29-Nov-2019    12056.05\n",
       "06-Dec-2019    11921.50\n",
       "13-Dec-2019    12086.70\n",
       "20-Dec-2019    12271.80\n",
       "27-Dec-2019    12245.80\n",
       "Name: Close, dtype: float64"
      ]
     },
     "execution_count": 11,
     "metadata": {},
     "output_type": "execute_result"
    }
   ],
   "source": [
    "nifty_data[pd.to_datetime(nifty_data.index).day_of_week==4]"
   ]
  },
  {
   "cell_type": "markdown",
   "id": "04c4cf17",
   "metadata": {},
   "source": [
    "#### Solution Provided by Professor"
   ]
  },
  {
   "cell_type": "code",
   "execution_count": 12,
   "id": "d0c07180",
   "metadata": {},
   "outputs": [],
   "source": [
    "new_index = map(pd.Timestamp, nifty_data.index)"
   ]
  },
  {
   "cell_type": "code",
   "execution_count": 13,
   "id": "1c9e6c74",
   "metadata": {},
   "outputs": [],
   "source": [
    "new_nifty = pd.Series(nifty_data.values, index=new_index)"
   ]
  },
  {
   "cell_type": "code",
   "execution_count": 14,
   "id": "402a097a",
   "metadata": {},
   "outputs": [
    {
     "data": {
      "text/plain": [
       "2019-01-01    10910.10\n",
       "2019-01-02    10792.50\n",
       "2019-01-03    10672.25\n",
       "2019-01-04    10727.35\n",
       "2019-01-07    10771.80\n",
       "                ...   \n",
       "2019-12-24    12214.55\n",
       "2019-12-26    12126.55\n",
       "2019-12-27    12245.80\n",
       "2019-12-30    12255.85\n",
       "2019-12-31    12168.45\n",
       "Length: 245, dtype: float64"
      ]
     },
     "execution_count": 14,
     "metadata": {},
     "output_type": "execute_result"
    }
   ],
   "source": [
    "new_nifty"
   ]
  },
  {
   "cell_type": "code",
   "execution_count": 15,
   "id": "a47357a3",
   "metadata": {},
   "outputs": [
    {
     "data": {
      "text/plain": [
       "Timestamp('2019-01-01 00:00:00')"
      ]
     },
     "execution_count": 15,
     "metadata": {},
     "output_type": "execute_result"
    }
   ],
   "source": [
    "new_nifty.index[0]"
   ]
  },
  {
   "cell_type": "code",
   "execution_count": 16,
   "id": "6c05ea18",
   "metadata": {},
   "outputs": [
    {
     "data": {
      "text/plain": [
       "2019-01-01    10910.100000\n",
       "2019-01-02    10851.300000\n",
       "2019-01-03    10791.616667\n",
       "2019-01-04    10775.550000\n",
       "2019-01-07    10723.800000\n",
       "                  ...     \n",
       "2019-12-24    12249.700000\n",
       "2019-12-26    12201.283333\n",
       "2019-12-27    12212.412500\n",
       "2019-12-30    12209.400000\n",
       "2019-12-31    12223.366667\n",
       "Length: 245, dtype: float64"
      ]
     },
     "execution_count": 16,
     "metadata": {},
     "output_type": "execute_result"
    }
   ],
   "source": [
    "new_nifty.rolling('5d').mean()"
   ]
  },
  {
   "cell_type": "code",
   "execution_count": 17,
   "id": "b8aec8a4",
   "metadata": {},
   "outputs": [],
   "source": [
    "dow = new_nifty.copy()\n",
    "for i in dow.index:\n",
    "    dow[i] = i.dayofweek"
   ]
  },
  {
   "cell_type": "code",
   "execution_count": 18,
   "id": "9e4b9f90",
   "metadata": {},
   "outputs": [
    {
     "data": {
      "text/plain": [
       "2019-01-04    10727.35\n",
       "2019-01-11    10794.95\n",
       "2019-01-18    10906.95\n",
       "2019-01-25    10780.55\n",
       "2019-02-01    10893.65\n",
       "2019-02-08    10943.60\n",
       "2019-02-15    10724.40\n",
       "2019-02-22    10791.65\n",
       "2019-03-01    10863.50\n",
       "2019-03-08    11035.40\n",
       "2019-03-15    11426.85\n",
       "2019-03-22    11456.90\n",
       "2019-03-29    11623.90\n",
       "2019-04-05    11665.95\n",
       "2019-04-12    11643.45\n",
       "2019-04-26    11754.65\n",
       "2019-05-03    11712.25\n",
       "2019-05-10    11278.90\n",
       "2019-05-17    11407.15\n",
       "2019-05-24    11844.10\n",
       "2019-05-31    11922.80\n",
       "2019-06-07    11870.65\n",
       "2019-06-14    11823.30\n",
       "2019-06-21    11724.10\n",
       "2019-06-28    11788.85\n",
       "2019-07-05    11811.15\n",
       "2019-07-12    11552.50\n",
       "2019-07-19    11419.25\n",
       "2019-07-26    11284.30\n",
       "2019-08-02    10997.35\n",
       "2019-08-09    11109.65\n",
       "2019-08-16    11047.80\n",
       "2019-08-23    10829.35\n",
       "2019-08-30    11023.25\n",
       "2019-09-06    10946.20\n",
       "2019-09-13    11075.90\n",
       "2019-09-20    11274.20\n",
       "2019-09-27    11512.40\n",
       "2019-10-04    11174.75\n",
       "2019-10-11    11305.05\n",
       "2019-10-18    11661.85\n",
       "2019-10-25    11583.90\n",
       "2019-11-01    11890.60\n",
       "2019-11-08    11908.15\n",
       "2019-11-15    11895.45\n",
       "2019-11-22    11914.40\n",
       "2019-11-29    12056.05\n",
       "2019-12-06    11921.50\n",
       "2019-12-13    12086.70\n",
       "2019-12-20    12271.80\n",
       "2019-12-27    12245.80\n",
       "dtype: float64"
      ]
     },
     "execution_count": 18,
     "metadata": {},
     "output_type": "execute_result"
    }
   ],
   "source": [
    "new_nifty[dow == 4]"
   ]
  },
  {
   "cell_type": "markdown",
   "id": "fab5fd9f",
   "metadata": {},
   "source": [
    "\n",
    "----\n"
   ]
  }
 ],
 "metadata": {
  "kernelspec": {
   "display_name": "Python 3 (ipykernel)",
   "language": "python",
   "name": "python3"
  },
  "language_info": {
   "codemirror_mode": {
    "name": "ipython",
    "version": 3
   },
   "file_extension": ".py",
   "mimetype": "text/x-python",
   "name": "python",
   "nbconvert_exporter": "python",
   "pygments_lexer": "ipython3",
   "version": "3.8.12"
  }
 },
 "nbformat": 4,
 "nbformat_minor": 5
}
