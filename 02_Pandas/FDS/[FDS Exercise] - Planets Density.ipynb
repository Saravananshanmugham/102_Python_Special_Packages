{
 "cells": [
  {
   "cell_type": "code",
   "execution_count": 1,
   "id": "47de69ae",
   "metadata": {},
   "outputs": [],
   "source": [
    "import numpy as np\n",
    "import pandas as pd"
   ]
  },
  {
   "cell_type": "code",
   "execution_count": 6,
   "id": "b6f7d845",
   "metadata": {},
   "outputs": [],
   "source": [
    "mass ={\n",
    "    'Mercury':0.330,\n",
    "    'Venus':4.87,\n",
    "    'Earth':5.97,\n",
    "    'Moon':0.073,\n",
    "    'Mars':0.642,\n",
    "    'Jupiter':1898,\n",
    "    'Saturn':568,\n",
    "    'Uranus':86.8,\n",
    "    'Neptune':102,\n",
    "    'Pluto':0.0130\n",
    "}\n",
    "\n",
    "mass_series = pd.Series(mass)"
   ]
  },
  {
   "cell_type": "code",
   "execution_count": 7,
   "id": "302b658b",
   "metadata": {},
   "outputs": [
    {
     "data": {
      "text/plain": [
       "Mercury       0.330\n",
       "Venus         4.870\n",
       "Earth         5.970\n",
       "Moon          0.073\n",
       "Mars          0.642\n",
       "Jupiter    1898.000\n",
       "Saturn      568.000\n",
       "Uranus       86.800\n",
       "Neptune     102.000\n",
       "Pluto         0.013\n",
       "dtype: float64"
      ]
     },
     "execution_count": 7,
     "metadata": {},
     "output_type": "execute_result"
    }
   ],
   "source": [
    "mass_series"
   ]
  },
  {
   "cell_type": "code",
   "execution_count": 8,
   "id": "1ec02dd0",
   "metadata": {},
   "outputs": [],
   "source": [
    "diameter ={\n",
    "    'Mercury':4879,\n",
    "    'Venus':12104,\n",
    "    'Earth':12756,\n",
    "    'Moon':3475,\n",
    "    'Mars':6792,\n",
    "    'Jupiter':142984,\n",
    "    'Saturn':120536,\n",
    "    'Uranus':51118,\n",
    "    'Neptune':49528,\n",
    "    'Pluto':2376\n",
    "}\n",
    "\n",
    "dia_series = pd.Series(diameter)"
   ]
  },
  {
   "cell_type": "code",
   "execution_count": 35,
   "id": "945b75a3",
   "metadata": {},
   "outputs": [],
   "source": [
    "planetary_data=pd.DataFrame({'Mass':mass_series,\n",
    "                             'Diameter':dia_series})"
   ]
  },
  {
   "cell_type": "code",
   "execution_count": 36,
   "id": "07c45c7e",
   "metadata": {},
   "outputs": [
    {
     "data": {
      "text/html": [
       "<div>\n",
       "<style scoped>\n",
       "    .dataframe tbody tr th:only-of-type {\n",
       "        vertical-align: middle;\n",
       "    }\n",
       "\n",
       "    .dataframe tbody tr th {\n",
       "        vertical-align: top;\n",
       "    }\n",
       "\n",
       "    .dataframe thead th {\n",
       "        text-align: right;\n",
       "    }\n",
       "</style>\n",
       "<table border=\"1\" class=\"dataframe\">\n",
       "  <thead>\n",
       "    <tr style=\"text-align: right;\">\n",
       "      <th></th>\n",
       "      <th>Mass</th>\n",
       "      <th>Diameter</th>\n",
       "    </tr>\n",
       "  </thead>\n",
       "  <tbody>\n",
       "    <tr>\n",
       "      <th>Mercury</th>\n",
       "      <td>0.330</td>\n",
       "      <td>4879</td>\n",
       "    </tr>\n",
       "    <tr>\n",
       "      <th>Venus</th>\n",
       "      <td>4.870</td>\n",
       "      <td>12104</td>\n",
       "    </tr>\n",
       "    <tr>\n",
       "      <th>Earth</th>\n",
       "      <td>5.970</td>\n",
       "      <td>12756</td>\n",
       "    </tr>\n",
       "    <tr>\n",
       "      <th>Moon</th>\n",
       "      <td>0.073</td>\n",
       "      <td>3475</td>\n",
       "    </tr>\n",
       "    <tr>\n",
       "      <th>Mars</th>\n",
       "      <td>0.642</td>\n",
       "      <td>6792</td>\n",
       "    </tr>\n",
       "    <tr>\n",
       "      <th>Jupiter</th>\n",
       "      <td>1898.000</td>\n",
       "      <td>142984</td>\n",
       "    </tr>\n",
       "    <tr>\n",
       "      <th>Saturn</th>\n",
       "      <td>568.000</td>\n",
       "      <td>120536</td>\n",
       "    </tr>\n",
       "    <tr>\n",
       "      <th>Uranus</th>\n",
       "      <td>86.800</td>\n",
       "      <td>51118</td>\n",
       "    </tr>\n",
       "    <tr>\n",
       "      <th>Neptune</th>\n",
       "      <td>102.000</td>\n",
       "      <td>49528</td>\n",
       "    </tr>\n",
       "    <tr>\n",
       "      <th>Pluto</th>\n",
       "      <td>0.013</td>\n",
       "      <td>2376</td>\n",
       "    </tr>\n",
       "  </tbody>\n",
       "</table>\n",
       "</div>"
      ],
      "text/plain": [
       "             Mass  Diameter\n",
       "Mercury     0.330      4879\n",
       "Venus       4.870     12104\n",
       "Earth       5.970     12756\n",
       "Moon        0.073      3475\n",
       "Mars        0.642      6792\n",
       "Jupiter  1898.000    142984\n",
       "Saturn    568.000    120536\n",
       "Uranus     86.800     51118\n",
       "Neptune   102.000     49528\n",
       "Pluto       0.013      2376"
      ]
     },
     "execution_count": 36,
     "metadata": {},
     "output_type": "execute_result"
    }
   ],
   "source": [
    "planetary_data"
   ]
  },
  {
   "cell_type": "code",
   "execution_count": 38,
   "id": "06b9eb07",
   "metadata": {},
   "outputs": [],
   "source": [
    "planetary_data['Density']=planetary_data ['Mass']/((4/3)*np.pi*\n",
    "                          np.power((planetary_data['Diameter']/2),3))"
   ]
  },
  {
   "cell_type": "code",
   "execution_count": 39,
   "id": "39699958",
   "metadata": {},
   "outputs": [
    {
     "data": {
      "text/html": [
       "<div>\n",
       "<style scoped>\n",
       "    .dataframe tbody tr th:only-of-type {\n",
       "        vertical-align: middle;\n",
       "    }\n",
       "\n",
       "    .dataframe tbody tr th {\n",
       "        vertical-align: top;\n",
       "    }\n",
       "\n",
       "    .dataframe thead th {\n",
       "        text-align: right;\n",
       "    }\n",
       "</style>\n",
       "<table border=\"1\" class=\"dataframe\">\n",
       "  <thead>\n",
       "    <tr style=\"text-align: right;\">\n",
       "      <th></th>\n",
       "      <th>Mass</th>\n",
       "      <th>Diameter</th>\n",
       "      <th>Density</th>\n",
       "    </tr>\n",
       "  </thead>\n",
       "  <tbody>\n",
       "    <tr>\n",
       "      <th>Mercury</th>\n",
       "      <td>0.330</td>\n",
       "      <td>4879</td>\n",
       "      <td>5.426538e-12</td>\n",
       "    </tr>\n",
       "    <tr>\n",
       "      <th>Venus</th>\n",
       "      <td>4.870</td>\n",
       "      <td>12104</td>\n",
       "      <td>5.244977e-12</td>\n",
       "    </tr>\n",
       "    <tr>\n",
       "      <th>Earth</th>\n",
       "      <td>5.970</td>\n",
       "      <td>12756</td>\n",
       "      <td>5.493286e-12</td>\n",
       "    </tr>\n",
       "    <tr>\n",
       "      <th>Moon</th>\n",
       "      <td>0.073</td>\n",
       "      <td>3475</td>\n",
       "      <td>3.322460e-12</td>\n",
       "    </tr>\n",
       "    <tr>\n",
       "      <th>Mars</th>\n",
       "      <td>0.642</td>\n",
       "      <td>6792</td>\n",
       "      <td>3.913302e-12</td>\n",
       "    </tr>\n",
       "    <tr>\n",
       "      <th>Jupiter</th>\n",
       "      <td>1898.000</td>\n",
       "      <td>142984</td>\n",
       "      <td>1.240039e-12</td>\n",
       "    </tr>\n",
       "    <tr>\n",
       "      <th>Saturn</th>\n",
       "      <td>568.000</td>\n",
       "      <td>120536</td>\n",
       "      <td>6.194402e-13</td>\n",
       "    </tr>\n",
       "    <tr>\n",
       "      <th>Uranus</th>\n",
       "      <td>86.800</td>\n",
       "      <td>51118</td>\n",
       "      <td>1.241079e-12</td>\n",
       "    </tr>\n",
       "    <tr>\n",
       "      <th>Neptune</th>\n",
       "      <td>102.000</td>\n",
       "      <td>49528</td>\n",
       "      <td>1.603427e-12</td>\n",
       "    </tr>\n",
       "    <tr>\n",
       "      <th>Pluto</th>\n",
       "      <td>0.013</td>\n",
       "      <td>2376</td>\n",
       "      <td>1.850996e-12</td>\n",
       "    </tr>\n",
       "  </tbody>\n",
       "</table>\n",
       "</div>"
      ],
      "text/plain": [
       "             Mass  Diameter       Density\n",
       "Mercury     0.330      4879  5.426538e-12\n",
       "Venus       4.870     12104  5.244977e-12\n",
       "Earth       5.970     12756  5.493286e-12\n",
       "Moon        0.073      3475  3.322460e-12\n",
       "Mars        0.642      6792  3.913302e-12\n",
       "Jupiter  1898.000    142984  1.240039e-12\n",
       "Saturn    568.000    120536  6.194402e-13\n",
       "Uranus     86.800     51118  1.241079e-12\n",
       "Neptune   102.000     49528  1.603427e-12\n",
       "Pluto       0.013      2376  1.850996e-12"
      ]
     },
     "execution_count": 39,
     "metadata": {},
     "output_type": "execute_result"
    }
   ],
   "source": [
    "planetary_data"
   ]
  },
  {
   "cell_type": "code",
   "execution_count": null,
   "id": "431550e8",
   "metadata": {},
   "outputs": [],
   "source": []
  }
 ],
 "metadata": {
  "kernelspec": {
   "display_name": "Python 3 (ipykernel)",
   "language": "python",
   "name": "python3"
  },
  "language_info": {
   "codemirror_mode": {
    "name": "ipython",
    "version": 3
   },
   "file_extension": ".py",
   "mimetype": "text/x-python",
   "name": "python",
   "nbconvert_exporter": "python",
   "pygments_lexer": "ipython3",
   "version": "3.8.12"
  }
 },
 "nbformat": 4,
 "nbformat_minor": 5
}
