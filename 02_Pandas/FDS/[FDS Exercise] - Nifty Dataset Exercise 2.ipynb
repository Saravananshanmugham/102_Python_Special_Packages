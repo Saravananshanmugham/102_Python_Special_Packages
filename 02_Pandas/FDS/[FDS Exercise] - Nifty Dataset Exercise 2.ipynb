{
 "cells": [
  {
   "cell_type": "code",
   "execution_count": 1,
   "id": "4d671b4b",
   "metadata": {},
   "outputs": [],
   "source": [
    "import numpy as np\n",
    "import pandas as pd"
   ]
  },
  {
   "cell_type": "code",
   "execution_count": 22,
   "id": "35b16ac7",
   "metadata": {},
   "outputs": [],
   "source": [
    "# Import the dataset - Nifty 50 for Year 2018\n",
    "\n",
    "nifty2018 = pd.read_csv(\"../DataSets/Nifty2018.csv\", index_col=0)\n",
    "nifty2019 = pd.read_csv(\"../DataSets/Nifty2019.csv\", index_col=0)\n",
    "nifty2020 = pd.read_csv(\"../DataSets/Nifty2020.csv\", index_col=0)\n",
    "niftyNxt502019 = pd.read_csv(\"../DataSets/NiftyNext502019.csv\", index_col=0)\n"
   ]
  },
  {
   "cell_type": "code",
   "execution_count": 23,
   "id": "3ca10eba",
   "metadata": {},
   "outputs": [
    {
     "data": {
      "text/html": [
       "<div>\n",
       "<style scoped>\n",
       "    .dataframe tbody tr th:only-of-type {\n",
       "        vertical-align: middle;\n",
       "    }\n",
       "\n",
       "    .dataframe tbody tr th {\n",
       "        vertical-align: top;\n",
       "    }\n",
       "\n",
       "    .dataframe thead th {\n",
       "        text-align: right;\n",
       "    }\n",
       "</style>\n",
       "<table border=\"1\" class=\"dataframe\">\n",
       "  <thead>\n",
       "    <tr style=\"text-align: right;\">\n",
       "      <th></th>\n",
       "      <th>Open</th>\n",
       "      <th>High</th>\n",
       "      <th>Low</th>\n",
       "      <th>Close</th>\n",
       "      <th>Shares Traded</th>\n",
       "      <th>Turnover (Rs. Cr)</th>\n",
       "    </tr>\n",
       "    <tr>\n",
       "      <th>Date</th>\n",
       "      <th></th>\n",
       "      <th></th>\n",
       "      <th></th>\n",
       "      <th></th>\n",
       "      <th></th>\n",
       "      <th></th>\n",
       "    </tr>\n",
       "  </thead>\n",
       "  <tbody>\n",
       "    <tr>\n",
       "      <th>24-Dec-2018</th>\n",
       "      <td>10780.90</td>\n",
       "      <td>10782.30</td>\n",
       "      <td>10649.25</td>\n",
       "      <td>10663.50</td>\n",
       "      <td>230291344</td>\n",
       "      <td>10695.60</td>\n",
       "    </tr>\n",
       "    <tr>\n",
       "      <th>26-Dec-2018</th>\n",
       "      <td>10635.45</td>\n",
       "      <td>10747.50</td>\n",
       "      <td>10534.55</td>\n",
       "      <td>10729.85</td>\n",
       "      <td>271942701</td>\n",
       "      <td>12831.99</td>\n",
       "    </tr>\n",
       "    <tr>\n",
       "      <th>27-Dec-2018</th>\n",
       "      <td>10817.90</td>\n",
       "      <td>10834.20</td>\n",
       "      <td>10764.45</td>\n",
       "      <td>10779.80</td>\n",
       "      <td>470160392</td>\n",
       "      <td>19119.88</td>\n",
       "    </tr>\n",
       "    <tr>\n",
       "      <th>28-Dec-2018</th>\n",
       "      <td>10820.95</td>\n",
       "      <td>10893.60</td>\n",
       "      <td>10817.15</td>\n",
       "      <td>10859.90</td>\n",
       "      <td>253086507</td>\n",
       "      <td>12615.01</td>\n",
       "    </tr>\n",
       "    <tr>\n",
       "      <th>31-Dec-2018</th>\n",
       "      <td>10913.20</td>\n",
       "      <td>10923.55</td>\n",
       "      <td>10853.20</td>\n",
       "      <td>10862.55</td>\n",
       "      <td>186494657</td>\n",
       "      <td>10176.13</td>\n",
       "    </tr>\n",
       "  </tbody>\n",
       "</table>\n",
       "</div>"
      ],
      "text/plain": [
       "                 Open      High       Low     Close  Shares Traded  \\\n",
       "Date                                                                 \n",
       "24-Dec-2018  10780.90  10782.30  10649.25  10663.50      230291344   \n",
       "26-Dec-2018  10635.45  10747.50  10534.55  10729.85      271942701   \n",
       "27-Dec-2018  10817.90  10834.20  10764.45  10779.80      470160392   \n",
       "28-Dec-2018  10820.95  10893.60  10817.15  10859.90      253086507   \n",
       "31-Dec-2018  10913.20  10923.55  10853.20  10862.55      186494657   \n",
       "\n",
       "             Turnover (Rs. Cr)  \n",
       "Date                            \n",
       "24-Dec-2018           10695.60  \n",
       "26-Dec-2018           12831.99  \n",
       "27-Dec-2018           19119.88  \n",
       "28-Dec-2018           12615.01  \n",
       "31-Dec-2018           10176.13  "
      ]
     },
     "execution_count": 23,
     "metadata": {},
     "output_type": "execute_result"
    }
   ],
   "source": [
    "nifty2018.tail(5)"
   ]
  },
  {
   "cell_type": "code",
   "execution_count": 17,
   "id": "f07539fb",
   "metadata": {},
   "outputs": [
    {
     "data": {
      "text/html": [
       "<div>\n",
       "<style scoped>\n",
       "    .dataframe tbody tr th:only-of-type {\n",
       "        vertical-align: middle;\n",
       "    }\n",
       "\n",
       "    .dataframe tbody tr th {\n",
       "        vertical-align: top;\n",
       "    }\n",
       "\n",
       "    .dataframe thead th {\n",
       "        text-align: right;\n",
       "    }\n",
       "</style>\n",
       "<table border=\"1\" class=\"dataframe\">\n",
       "  <thead>\n",
       "    <tr style=\"text-align: right;\">\n",
       "      <th></th>\n",
       "      <th>Open</th>\n",
       "      <th>High</th>\n",
       "      <th>Low</th>\n",
       "      <th>Close</th>\n",
       "      <th>Shares Traded</th>\n",
       "      <th>Turnover (Rs. Cr)</th>\n",
       "    </tr>\n",
       "    <tr>\n",
       "      <th>Date</th>\n",
       "      <th></th>\n",
       "      <th></th>\n",
       "      <th></th>\n",
       "      <th></th>\n",
       "      <th></th>\n",
       "      <th></th>\n",
       "    </tr>\n",
       "  </thead>\n",
       "  <tbody>\n",
       "    <tr>\n",
       "      <th>01-Jan-2019</th>\n",
       "      <td>10881.70</td>\n",
       "      <td>10923.60</td>\n",
       "      <td>10807.10</td>\n",
       "      <td>10910.10</td>\n",
       "      <td>159404542</td>\n",
       "      <td>8688.26</td>\n",
       "    </tr>\n",
       "    <tr>\n",
       "      <th>02-Jan-2019</th>\n",
       "      <td>10868.85</td>\n",
       "      <td>10895.35</td>\n",
       "      <td>10735.05</td>\n",
       "      <td>10792.50</td>\n",
       "      <td>309665939</td>\n",
       "      <td>15352.25</td>\n",
       "    </tr>\n",
       "    <tr>\n",
       "      <th>03-Jan-2019</th>\n",
       "      <td>10796.80</td>\n",
       "      <td>10814.05</td>\n",
       "      <td>10661.25</td>\n",
       "      <td>10672.25</td>\n",
       "      <td>286241745</td>\n",
       "      <td>15030.45</td>\n",
       "    </tr>\n",
       "    <tr>\n",
       "      <th>04-Jan-2019</th>\n",
       "      <td>10699.70</td>\n",
       "      <td>10741.05</td>\n",
       "      <td>10628.65</td>\n",
       "      <td>10727.35</td>\n",
       "      <td>296596655</td>\n",
       "      <td>14516.74</td>\n",
       "    </tr>\n",
       "    <tr>\n",
       "      <th>07-Jan-2019</th>\n",
       "      <td>10804.85</td>\n",
       "      <td>10835.95</td>\n",
       "      <td>10750.15</td>\n",
       "      <td>10771.80</td>\n",
       "      <td>269371080</td>\n",
       "      <td>12731.29</td>\n",
       "    </tr>\n",
       "  </tbody>\n",
       "</table>\n",
       "</div>"
      ],
      "text/plain": [
       "                 Open      High       Low     Close  Shares Traded  \\\n",
       "Date                                                                 \n",
       "01-Jan-2019  10881.70  10923.60  10807.10  10910.10      159404542   \n",
       "02-Jan-2019  10868.85  10895.35  10735.05  10792.50      309665939   \n",
       "03-Jan-2019  10796.80  10814.05  10661.25  10672.25      286241745   \n",
       "04-Jan-2019  10699.70  10741.05  10628.65  10727.35      296596655   \n",
       "07-Jan-2019  10804.85  10835.95  10750.15  10771.80      269371080   \n",
       "\n",
       "             Turnover (Rs. Cr)  \n",
       "Date                            \n",
       "01-Jan-2019            8688.26  \n",
       "02-Jan-2019           15352.25  \n",
       "03-Jan-2019           15030.45  \n",
       "04-Jan-2019           14516.74  \n",
       "07-Jan-2019           12731.29  "
      ]
     },
     "execution_count": 17,
     "metadata": {},
     "output_type": "execute_result"
    }
   ],
   "source": [
    "nifty2019.head(5)"
   ]
  },
  {
   "cell_type": "code",
   "execution_count": 18,
   "id": "48823332",
   "metadata": {},
   "outputs": [
    {
     "data": {
      "text/html": [
       "<div>\n",
       "<style scoped>\n",
       "    .dataframe tbody tr th:only-of-type {\n",
       "        vertical-align: middle;\n",
       "    }\n",
       "\n",
       "    .dataframe tbody tr th {\n",
       "        vertical-align: top;\n",
       "    }\n",
       "\n",
       "    .dataframe thead th {\n",
       "        text-align: right;\n",
       "    }\n",
       "</style>\n",
       "<table border=\"1\" class=\"dataframe\">\n",
       "  <thead>\n",
       "    <tr style=\"text-align: right;\">\n",
       "      <th></th>\n",
       "      <th>Open</th>\n",
       "      <th>High</th>\n",
       "      <th>Low</th>\n",
       "      <th>Close</th>\n",
       "      <th>Shares Traded</th>\n",
       "      <th>Turnover (Rs. Cr)</th>\n",
       "    </tr>\n",
       "    <tr>\n",
       "      <th>Date</th>\n",
       "      <th></th>\n",
       "      <th></th>\n",
       "      <th></th>\n",
       "      <th></th>\n",
       "      <th></th>\n",
       "      <th></th>\n",
       "    </tr>\n",
       "  </thead>\n",
       "  <tbody>\n",
       "    <tr>\n",
       "      <th>01-Jan-2020</th>\n",
       "      <td>12202.15</td>\n",
       "      <td>12222.20</td>\n",
       "      <td>12165.30</td>\n",
       "      <td>12182.50</td>\n",
       "      <td>304078039</td>\n",
       "      <td>10445.68</td>\n",
       "    </tr>\n",
       "    <tr>\n",
       "      <th>02-Jan-2020</th>\n",
       "      <td>12198.55</td>\n",
       "      <td>12289.90</td>\n",
       "      <td>12195.25</td>\n",
       "      <td>12282.20</td>\n",
       "      <td>407697594</td>\n",
       "      <td>15256.55</td>\n",
       "    </tr>\n",
       "    <tr>\n",
       "      <th>03-Jan-2020</th>\n",
       "      <td>12261.10</td>\n",
       "      <td>12265.60</td>\n",
       "      <td>12191.35</td>\n",
       "      <td>12226.65</td>\n",
       "      <td>428770054</td>\n",
       "      <td>16827.27</td>\n",
       "    </tr>\n",
       "    <tr>\n",
       "      <th>06-Jan-2020</th>\n",
       "      <td>12170.60</td>\n",
       "      <td>12179.10</td>\n",
       "      <td>11974.20</td>\n",
       "      <td>11993.05</td>\n",
       "      <td>396501419</td>\n",
       "      <td>16869.22</td>\n",
       "    </tr>\n",
       "    <tr>\n",
       "      <th>07-Jan-2020</th>\n",
       "      <td>12079.10</td>\n",
       "      <td>12152.15</td>\n",
       "      <td>12005.35</td>\n",
       "      <td>12052.95</td>\n",
       "      <td>447818617</td>\n",
       "      <td>17797.68</td>\n",
       "    </tr>\n",
       "  </tbody>\n",
       "</table>\n",
       "</div>"
      ],
      "text/plain": [
       "                 Open      High       Low     Close  Shares Traded  \\\n",
       "Date                                                                 \n",
       "01-Jan-2020  12202.15  12222.20  12165.30  12182.50      304078039   \n",
       "02-Jan-2020  12198.55  12289.90  12195.25  12282.20      407697594   \n",
       "03-Jan-2020  12261.10  12265.60  12191.35  12226.65      428770054   \n",
       "06-Jan-2020  12170.60  12179.10  11974.20  11993.05      396501419   \n",
       "07-Jan-2020  12079.10  12152.15  12005.35  12052.95      447818617   \n",
       "\n",
       "             Turnover (Rs. Cr)  \n",
       "Date                            \n",
       "01-Jan-2020           10445.68  \n",
       "02-Jan-2020           15256.55  \n",
       "03-Jan-2020           16827.27  \n",
       "06-Jan-2020           16869.22  \n",
       "07-Jan-2020           17797.68  "
      ]
     },
     "execution_count": 18,
     "metadata": {},
     "output_type": "execute_result"
    }
   ],
   "source": [
    "nifty2020.head(5)"
   ]
  },
  {
   "cell_type": "code",
   "execution_count": 19,
   "id": "284a624b",
   "metadata": {},
   "outputs": [
    {
     "data": {
      "text/html": [
       "<div>\n",
       "<style scoped>\n",
       "    .dataframe tbody tr th:only-of-type {\n",
       "        vertical-align: middle;\n",
       "    }\n",
       "\n",
       "    .dataframe tbody tr th {\n",
       "        vertical-align: top;\n",
       "    }\n",
       "\n",
       "    .dataframe thead th {\n",
       "        text-align: right;\n",
       "    }\n",
       "</style>\n",
       "<table border=\"1\" class=\"dataframe\">\n",
       "  <thead>\n",
       "    <tr style=\"text-align: right;\">\n",
       "      <th></th>\n",
       "      <th>Open</th>\n",
       "      <th>High</th>\n",
       "      <th>Low</th>\n",
       "      <th>Close</th>\n",
       "      <th>Shares Traded</th>\n",
       "      <th>Turnover (Rs. Cr)</th>\n",
       "    </tr>\n",
       "    <tr>\n",
       "      <th>Date</th>\n",
       "      <th></th>\n",
       "      <th></th>\n",
       "      <th></th>\n",
       "      <th></th>\n",
       "      <th></th>\n",
       "      <th></th>\n",
       "    </tr>\n",
       "  </thead>\n",
       "  <tbody>\n",
       "    <tr>\n",
       "      <th>01-Jan-2019</th>\n",
       "      <td>28243.95</td>\n",
       "      <td>28252.20</td>\n",
       "      <td>27988.60</td>\n",
       "      <td>28111.65</td>\n",
       "      <td>100916543</td>\n",
       "      <td>2354.60</td>\n",
       "    </tr>\n",
       "    <tr>\n",
       "      <th>02-Jan-2019</th>\n",
       "      <td>28074.05</td>\n",
       "      <td>28188.40</td>\n",
       "      <td>27801.75</td>\n",
       "      <td>27876.95</td>\n",
       "      <td>167334185</td>\n",
       "      <td>3410.28</td>\n",
       "    </tr>\n",
       "    <tr>\n",
       "      <th>03-Jan-2019</th>\n",
       "      <td>27874.05</td>\n",
       "      <td>28045.30</td>\n",
       "      <td>27630.20</td>\n",
       "      <td>27674.65</td>\n",
       "      <td>175238949</td>\n",
       "      <td>3362.20</td>\n",
       "    </tr>\n",
       "    <tr>\n",
       "      <th>04-Jan-2019</th>\n",
       "      <td>27707.20</td>\n",
       "      <td>27842.75</td>\n",
       "      <td>27533.90</td>\n",
       "      <td>27719.50</td>\n",
       "      <td>163387940</td>\n",
       "      <td>3295.06</td>\n",
       "    </tr>\n",
       "    <tr>\n",
       "      <th>07-Jan-2019</th>\n",
       "      <td>27893.95</td>\n",
       "      <td>27932.00</td>\n",
       "      <td>27652.95</td>\n",
       "      <td>27706.60</td>\n",
       "      <td>135700262</td>\n",
       "      <td>2862.02</td>\n",
       "    </tr>\n",
       "  </tbody>\n",
       "</table>\n",
       "</div>"
      ],
      "text/plain": [
       "                 Open      High       Low     Close    Shares Traded  \\\n",
       "Date                                                                   \n",
       "01-Jan-2019  28243.95  28252.20  27988.60  28111.65        100916543   \n",
       "02-Jan-2019  28074.05  28188.40  27801.75  27876.95        167334185   \n",
       "03-Jan-2019  27874.05  28045.30  27630.20  27674.65        175238949   \n",
       "04-Jan-2019  27707.20  27842.75  27533.90  27719.50        163387940   \n",
       "07-Jan-2019  27893.95  27932.00  27652.95  27706.60        135700262   \n",
       "\n",
       "            Turnover (Rs. Cr)  \n",
       "Date                           \n",
       "01-Jan-2019           2354.60  \n",
       "02-Jan-2019           3410.28  \n",
       "03-Jan-2019           3362.20  \n",
       "04-Jan-2019           3295.06  \n",
       "07-Jan-2019           2862.02  "
      ]
     },
     "execution_count": 19,
     "metadata": {},
     "output_type": "execute_result"
    }
   ],
   "source": [
    "niftyNxt502019.head()"
   ]
  },
  {
   "cell_type": "markdown",
   "id": "a23a14d4",
   "metadata": {},
   "source": [
    "## Combine Data Sources"
   ]
  },
  {
   "cell_type": "code",
   "execution_count": null,
   "id": "ce0b9736",
   "metadata": {},
   "outputs": [],
   "source": [
    "# Check the shape of the dataframes\n",
    "\n",
    "print(nifty2018.shape, nifty2019.shape, nifty2020.shape)"
   ]
  },
  {
   "cell_type": "code",
   "execution_count": null,
   "id": "3a97a25b",
   "metadata": {},
   "outputs": [],
   "source": [
    "# Concatinate the datasets\n",
    "\n",
    "nifty50 = pd.concat([nifty2018, nifty2019, nifty2020])"
   ]
  },
  {
   "cell_type": "code",
   "execution_count": null,
   "id": "b210ba24",
   "metadata": {},
   "outputs": [],
   "source": [
    "nifty50.shape"
   ]
  },
  {
   "cell_type": "code",
   "execution_count": null,
   "id": "1ac06839",
   "metadata": {},
   "outputs": [],
   "source": [
    "nifty50.describe()\n"
   ]
  },
  {
   "cell_type": "code",
   "execution_count": null,
   "id": "371c8025",
   "metadata": {},
   "outputs": [],
   "source": [
    "nifty50.info()"
   ]
  },
  {
   "cell_type": "code",
   "execution_count": null,
   "id": "e7b39cd8",
   "metadata": {},
   "outputs": [],
   "source": [
    "niftyNext50 = pd.concat([nifty2019, niftyNxt502019], axis=1,\n",
    "                       keys=['Nifty50','NiftyNext50'])"
   ]
  },
  {
   "cell_type": "code",
   "execution_count": null,
   "id": "0f55d64d",
   "metadata": {},
   "outputs": [],
   "source": [
    "niftyNext50.head()"
   ]
  },
  {
   "cell_type": "code",
   "execution_count": null,
   "id": "cb29d429",
   "metadata": {},
   "outputs": [],
   "source": [
    "niftyNext50.describe()"
   ]
  },
  {
   "cell_type": "code",
   "execution_count": null,
   "id": "3f3d11f2",
   "metadata": {},
   "outputs": [],
   "source": [
    "niftyNext50['Nifty50'][['Open','Close']]"
   ]
  },
  {
   "cell_type": "code",
   "execution_count": null,
   "id": "a2ca1208",
   "metadata": {},
   "outputs": [],
   "source": [
    "niftyNext50.xs(('High'), axis=1, level=1)"
   ]
  },
  {
   "cell_type": "code",
   "execution_count": null,
   "id": "e81917d1",
   "metadata": {},
   "outputs": [],
   "source": [
    "niftyNext50['Nifty50'].loc['31-Dec-2019']"
   ]
  },
  {
   "cell_type": "markdown",
   "id": "3d28b264",
   "metadata": {},
   "source": [
    "Tasks on the NIFTY datasets:\n",
    "\n",
    "1. In 2019, in how many days was the NIFTY50 volatile (high > 105% of low)\n",
    "\n",
    "2. In 2019, in how many days was the NIFTYNEXT50 volatile (high > 105% of low)\n",
    "\n",
    "3. In 2019, how many days belonged to the four classes NIFTY50 volatile / non-volatile and NIFTYNext50 volatile / non-volatile\n",
    "\n",
    "4. Compute the mean, median, std, var of closing values for each weekday in NIFTY50 for 2019\n",
    "\n",
    "5. Compute the mean, median, std, var of closing values for each month in NIFTY50 for 2019\n",
    "\n",
    "6. On the days in which NIFTY50 closed higher than the open, what was the mean of (close - open) for NIFTYNext50\n",
    "\n",
    "7. In 2019, how many days had the day's high lower than the previous day's low in NIFTY50\n",
    "\n",
    "8. In 2019, on how many days did the day's close exceed the 30 day moving average in NIFTY"
   ]
  },
  {
   "cell_type": "code",
   "execution_count": null,
   "id": "ef5eea2c",
   "metadata": {},
   "outputs": [],
   "source": []
  },
  {
   "cell_type": "code",
   "execution_count": null,
   "id": "96a97090",
   "metadata": {},
   "outputs": [],
   "source": []
  },
  {
   "cell_type": "code",
   "execution_count": null,
   "id": "8e5385a0",
   "metadata": {},
   "outputs": [],
   "source": []
  },
  {
   "cell_type": "code",
   "execution_count": null,
   "id": "bdbea5ec",
   "metadata": {},
   "outputs": [],
   "source": []
  },
  {
   "cell_type": "code",
   "execution_count": null,
   "id": "c0943c66",
   "metadata": {},
   "outputs": [],
   "source": []
  },
  {
   "cell_type": "code",
   "execution_count": null,
   "id": "a024025f",
   "metadata": {},
   "outputs": [],
   "source": []
  },
  {
   "cell_type": "code",
   "execution_count": null,
   "id": "2114ca08",
   "metadata": {},
   "outputs": [],
   "source": []
  },
  {
   "cell_type": "code",
   "execution_count": null,
   "id": "cc789c8e",
   "metadata": {},
   "outputs": [],
   "source": []
  },
  {
   "cell_type": "code",
   "execution_count": null,
   "id": "bd686321",
   "metadata": {},
   "outputs": [],
   "source": []
  },
  {
   "cell_type": "code",
   "execution_count": null,
   "id": "8a26867e",
   "metadata": {},
   "outputs": [],
   "source": []
  },
  {
   "cell_type": "code",
   "execution_count": null,
   "id": "f3a8644f",
   "metadata": {},
   "outputs": [],
   "source": []
  },
  {
   "cell_type": "code",
   "execution_count": null,
   "id": "e5592101",
   "metadata": {},
   "outputs": [],
   "source": []
  },
  {
   "cell_type": "code",
   "execution_count": null,
   "id": "3ef51408",
   "metadata": {},
   "outputs": [],
   "source": []
  },
  {
   "cell_type": "code",
   "execution_count": null,
   "id": "a2914d2a",
   "metadata": {},
   "outputs": [],
   "source": []
  },
  {
   "cell_type": "code",
   "execution_count": null,
   "id": "a8df0857",
   "metadata": {},
   "outputs": [],
   "source": []
  },
  {
   "cell_type": "code",
   "execution_count": null,
   "id": "7817c381",
   "metadata": {},
   "outputs": [],
   "source": []
  },
  {
   "cell_type": "code",
   "execution_count": null,
   "id": "8e6725c9",
   "metadata": {},
   "outputs": [],
   "source": []
  },
  {
   "cell_type": "code",
   "execution_count": null,
   "id": "8c18e510",
   "metadata": {},
   "outputs": [],
   "source": []
  },
  {
   "cell_type": "code",
   "execution_count": null,
   "id": "66f3d0ac",
   "metadata": {},
   "outputs": [],
   "source": []
  },
  {
   "cell_type": "code",
   "execution_count": null,
   "id": "aab1872b",
   "metadata": {},
   "outputs": [],
   "source": []
  },
  {
   "cell_type": "code",
   "execution_count": null,
   "id": "ee5531a1",
   "metadata": {},
   "outputs": [],
   "source": []
  },
  {
   "cell_type": "code",
   "execution_count": null,
   "id": "878320dd",
   "metadata": {},
   "outputs": [],
   "source": []
  },
  {
   "cell_type": "code",
   "execution_count": null,
   "id": "04183617",
   "metadata": {},
   "outputs": [],
   "source": []
  },
  {
   "cell_type": "code",
   "execution_count": null,
   "id": "ead5babf",
   "metadata": {},
   "outputs": [],
   "source": []
  },
  {
   "cell_type": "code",
   "execution_count": null,
   "id": "ac90ea3e",
   "metadata": {},
   "outputs": [],
   "source": []
  },
  {
   "cell_type": "code",
   "execution_count": null,
   "id": "6ad56644",
   "metadata": {},
   "outputs": [],
   "source": []
  },
  {
   "cell_type": "code",
   "execution_count": null,
   "id": "2cff2ca6",
   "metadata": {},
   "outputs": [],
   "source": []
  },
  {
   "cell_type": "code",
   "execution_count": null,
   "id": "d2ce6a6d",
   "metadata": {},
   "outputs": [],
   "source": []
  },
  {
   "cell_type": "code",
   "execution_count": null,
   "id": "b3ab46a3",
   "metadata": {},
   "outputs": [],
   "source": []
  },
  {
   "cell_type": "code",
   "execution_count": null,
   "id": "f9e082a6",
   "metadata": {},
   "outputs": [],
   "source": []
  },
  {
   "cell_type": "code",
   "execution_count": null,
   "id": "8f9bd829",
   "metadata": {},
   "outputs": [],
   "source": []
  },
  {
   "cell_type": "code",
   "execution_count": null,
   "id": "0e0e79e6",
   "metadata": {},
   "outputs": [],
   "source": []
  },
  {
   "cell_type": "code",
   "execution_count": null,
   "id": "4377e4f2",
   "metadata": {},
   "outputs": [],
   "source": []
  },
  {
   "cell_type": "code",
   "execution_count": null,
   "id": "1e922770",
   "metadata": {},
   "outputs": [],
   "source": []
  },
  {
   "cell_type": "code",
   "execution_count": null,
   "id": "3100d9cb",
   "metadata": {},
   "outputs": [],
   "source": []
  },
  {
   "cell_type": "code",
   "execution_count": null,
   "id": "6b47c75b",
   "metadata": {},
   "outputs": [],
   "source": []
  },
  {
   "cell_type": "code",
   "execution_count": null,
   "id": "ab56aa24",
   "metadata": {},
   "outputs": [],
   "source": []
  },
  {
   "cell_type": "code",
   "execution_count": null,
   "id": "b260c265",
   "metadata": {},
   "outputs": [],
   "source": []
  },
  {
   "cell_type": "code",
   "execution_count": null,
   "id": "967203a3",
   "metadata": {},
   "outputs": [],
   "source": []
  },
  {
   "cell_type": "code",
   "execution_count": null,
   "id": "0c1b2149",
   "metadata": {},
   "outputs": [],
   "source": []
  },
  {
   "cell_type": "code",
   "execution_count": null,
   "id": "e585ceaf",
   "metadata": {},
   "outputs": [],
   "source": []
  },
  {
   "cell_type": "code",
   "execution_count": null,
   "id": "9da0325a",
   "metadata": {},
   "outputs": [],
   "source": []
  },
  {
   "cell_type": "code",
   "execution_count": null,
   "id": "83494575",
   "metadata": {},
   "outputs": [],
   "source": []
  },
  {
   "cell_type": "code",
   "execution_count": null,
   "id": "77101775",
   "metadata": {},
   "outputs": [],
   "source": []
  },
  {
   "cell_type": "code",
   "execution_count": null,
   "id": "fa38a9b9",
   "metadata": {},
   "outputs": [],
   "source": []
  },
  {
   "cell_type": "code",
   "execution_count": null,
   "id": "e249457f",
   "metadata": {},
   "outputs": [],
   "source": []
  },
  {
   "cell_type": "code",
   "execution_count": null,
   "id": "ee5c4a11",
   "metadata": {},
   "outputs": [],
   "source": []
  },
  {
   "cell_type": "code",
   "execution_count": null,
   "id": "9f2583ba",
   "metadata": {},
   "outputs": [],
   "source": []
  },
  {
   "cell_type": "code",
   "execution_count": null,
   "id": "de2f8956",
   "metadata": {},
   "outputs": [],
   "source": []
  },
  {
   "cell_type": "code",
   "execution_count": null,
   "id": "12fc311e",
   "metadata": {},
   "outputs": [],
   "source": []
  },
  {
   "cell_type": "code",
   "execution_count": null,
   "id": "e6d56b4a",
   "metadata": {},
   "outputs": [],
   "source": []
  },
  {
   "cell_type": "code",
   "execution_count": null,
   "id": "f7f4ab53",
   "metadata": {},
   "outputs": [],
   "source": []
  },
  {
   "cell_type": "code",
   "execution_count": null,
   "id": "1576e18d",
   "metadata": {},
   "outputs": [],
   "source": []
  },
  {
   "cell_type": "code",
   "execution_count": null,
   "id": "4a29fc75",
   "metadata": {},
   "outputs": [],
   "source": []
  },
  {
   "cell_type": "code",
   "execution_count": null,
   "id": "06ef7907",
   "metadata": {},
   "outputs": [],
   "source": []
  },
  {
   "cell_type": "code",
   "execution_count": null,
   "id": "93f28075",
   "metadata": {},
   "outputs": [],
   "source": []
  },
  {
   "cell_type": "code",
   "execution_count": null,
   "id": "99e8ca01",
   "metadata": {},
   "outputs": [],
   "source": []
  },
  {
   "cell_type": "code",
   "execution_count": null,
   "id": "9d7c2233",
   "metadata": {},
   "outputs": [],
   "source": []
  },
  {
   "cell_type": "code",
   "execution_count": null,
   "id": "0c930c53",
   "metadata": {},
   "outputs": [],
   "source": []
  },
  {
   "cell_type": "code",
   "execution_count": null,
   "id": "ceda3eac",
   "metadata": {},
   "outputs": [],
   "source": []
  },
  {
   "cell_type": "code",
   "execution_count": null,
   "id": "a550888d",
   "metadata": {},
   "outputs": [],
   "source": []
  },
  {
   "cell_type": "code",
   "execution_count": null,
   "id": "b86612bb",
   "metadata": {},
   "outputs": [],
   "source": []
  },
  {
   "cell_type": "code",
   "execution_count": null,
   "id": "f63a0eac",
   "metadata": {},
   "outputs": [],
   "source": []
  },
  {
   "cell_type": "code",
   "execution_count": null,
   "id": "669b4de7",
   "metadata": {},
   "outputs": [],
   "source": []
  },
  {
   "cell_type": "code",
   "execution_count": null,
   "id": "3cd4c54d",
   "metadata": {},
   "outputs": [],
   "source": []
  },
  {
   "cell_type": "code",
   "execution_count": null,
   "id": "a6c608e8",
   "metadata": {},
   "outputs": [],
   "source": []
  },
  {
   "cell_type": "code",
   "execution_count": null,
   "id": "4509fe43",
   "metadata": {},
   "outputs": [],
   "source": []
  },
  {
   "cell_type": "code",
   "execution_count": null,
   "id": "867f776c",
   "metadata": {},
   "outputs": [],
   "source": []
  },
  {
   "cell_type": "code",
   "execution_count": null,
   "id": "f8c7d38e",
   "metadata": {},
   "outputs": [],
   "source": []
  },
  {
   "cell_type": "code",
   "execution_count": null,
   "id": "ed813b5e",
   "metadata": {},
   "outputs": [],
   "source": []
  },
  {
   "cell_type": "code",
   "execution_count": null,
   "id": "8fd580bc",
   "metadata": {},
   "outputs": [],
   "source": []
  },
  {
   "cell_type": "code",
   "execution_count": null,
   "id": "11fd7fa6",
   "metadata": {},
   "outputs": [],
   "source": []
  },
  {
   "cell_type": "code",
   "execution_count": null,
   "id": "0214a514",
   "metadata": {},
   "outputs": [],
   "source": []
  },
  {
   "cell_type": "code",
   "execution_count": null,
   "id": "e0aec69a",
   "metadata": {},
   "outputs": [],
   "source": []
  },
  {
   "cell_type": "code",
   "execution_count": null,
   "id": "f81b4078",
   "metadata": {},
   "outputs": [],
   "source": []
  },
  {
   "cell_type": "code",
   "execution_count": null,
   "id": "bf083556",
   "metadata": {},
   "outputs": [],
   "source": []
  },
  {
   "cell_type": "code",
   "execution_count": null,
   "id": "8799e1b1",
   "metadata": {},
   "outputs": [],
   "source": []
  },
  {
   "cell_type": "code",
   "execution_count": null,
   "id": "d5c369a6",
   "metadata": {},
   "outputs": [],
   "source": []
  },
  {
   "cell_type": "code",
   "execution_count": null,
   "id": "0e37a279",
   "metadata": {},
   "outputs": [],
   "source": []
  }
 ],
 "metadata": {
  "kernelspec": {
   "display_name": "Python 3 (ipykernel)",
   "language": "python",
   "name": "python3"
  },
  "language_info": {
   "codemirror_mode": {
    "name": "ipython",
    "version": 3
   },
   "file_extension": ".py",
   "mimetype": "text/x-python",
   "name": "python",
   "nbconvert_exporter": "python",
   "pygments_lexer": "ipython3",
   "version": "3.8.12"
  }
 },
 "nbformat": 4,
 "nbformat_minor": 5
}
