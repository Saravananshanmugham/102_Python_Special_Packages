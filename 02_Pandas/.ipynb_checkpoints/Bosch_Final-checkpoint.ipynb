{
 "cells": [
  {
   "cell_type": "code",
   "execution_count": 1,
   "id": "c0d5dd3f",
   "metadata": {},
   "outputs": [],
   "source": [
    "# Import required Packages\n",
    "import pandas as pd\n",
    "import numpy as np"
   ]
  },
  {
   "cell_type": "code",
   "execution_count": 2,
   "id": "006b232a",
   "metadata": {},
   "outputs": [],
   "source": [
    "# Import data into Pandas Data Frame\n",
    "df1=pd.read_csv('Merged_sleep_stages.csv',usecols=['System Date/Timestamp(UTC)','Huawei','Oura','Dreem','Iwatch','Fitbit'], na_values='NaN', skiprows=11)\n",
    "df2=pd.read_csv('Merged_edited.csv',usecols=['System Date/Timestamp(UTC)','Huawei','Oura','Dreem','Iwatch','Fitbit'], na_values='NaN', skiprows=11)"
   ]
  },
  {
   "cell_type": "code",
   "execution_count": 3,
   "id": "e2488e9d",
   "metadata": {},
   "outputs": [
    {
     "name": "stdout",
     "output_type": "stream",
     "text": [
      "Both Merged and Input Data Rows Matching !!\n"
     ]
    }
   ],
   "source": [
    "# Check for Data Mismatch\n",
    "df1len=len(df1)\n",
    "df2len=len(df2)\n",
    "if df1len==df2len:\n",
    "    print(\"Both Merged and Input Data Rows Matching !!\")\n",
    "else:\n",
    "    # Update the report file when there is difference in number of rows.\n",
    "    print(\"Data Mismatch.. There is a difference in number of rows\")\n",
    "    print(\"Merged File has \"+ str(df1len)+ \" Rows, Input data has \"+ str(df2len) +\" Rows.\")\n",
    "    print(\"Exiting the program....\")"
   ]
  },
  {
   "cell_type": "code",
   "execution_count": 4,
   "id": "556d6000",
   "metadata": {},
   "outputs": [],
   "source": [
    "# Drop & Rename the columns as required\n",
    "# Merge the DataFrames\n",
    "\n",
    "df2.drop('System Date/Timestamp(UTC)', axis=1, inplace=True)\n",
    "df2.rename(columns={'Huawei':'Huawei2','Oura':'Oura2','Dreem':'Dreem2','Iwatch':'Iwatch2','Fitbit':'Fitbit2'}, inplace=True)\n",
    "df3 = pd.concat([df1, df2], axis=1)"
   ]
  },
  {
   "cell_type": "code",
   "execution_count": 5,
   "id": "20b430e9",
   "metadata": {},
   "outputs": [],
   "source": [
    "# Create List of DataFrame Columns\n",
    "mycolumn2=[]\n",
    "mycompare=[]\n",
    "mycolumn1 =list(df1.columns)\n",
    "mycolumn1.remove('System Date/Timestamp(UTC)')\n",
    "for x in mycolumn1:\n",
    "    mycolumn2.append(x+'2')\n",
    "    mycompare.append('Compare_'+x)\n"
   ]
  },
  {
   "cell_type": "code",
   "execution_count": 6,
   "id": "65ce2950",
   "metadata": {},
   "outputs": [],
   "source": [
    "# Update DataFrame NaN Values to Zero\n",
    "for x,y in zip(mycolumn1, mycolumn2):\n",
    "    df3[x] = df3[x].fillna(0)\n",
    "    df3[y] = df3[y].fillna(0)"
   ]
  },
  {
   "cell_type": "code",
   "execution_count": 7,
   "id": "8d9f6da2",
   "metadata": {},
   "outputs": [],
   "source": [
    "# Compare the Columns and Create New Columns with Yes/No\n",
    "for x,y,z in zip(mycolumn1, mycolumn2, mycompare):\n",
    "    df3[z]= np.where((df3[x]==df3[y]),'Yes','No')"
   ]
  },
  {
   "cell_type": "code",
   "execution_count": 8,
   "id": "075972dd",
   "metadata": {},
   "outputs": [],
   "source": [
    "# Create an Empty DataFrame\n",
    "df5 = pd.DataFrame(columns=df3.columns)"
   ]
  },
  {
   "cell_type": "code",
   "execution_count": 9,
   "id": "9765c610",
   "metadata": {},
   "outputs": [
    {
     "name": "stderr",
     "output_type": "stream",
     "text": [
      "C:\\Users\\I025736\\AppData\\Local\\Temp\\ipykernel_1284\\2957891047.py:5: FutureWarning: The behavior of DataFrame concatenation with empty or all-NA entries is deprecated. In a future version, this will no longer exclude empty or all-NA columns when determining the result dtypes. To retain the old behavior, exclude the relevant entries before the concat operation.\n",
      "  df5 = pd.concat([df4, df5], axis=0, ignore_index=True)\n"
     ]
    }
   ],
   "source": [
    "# Append the rows has mismatch data\n",
    "for x,y,z in zip(mycolumn1, mycolumn2, mycompare):\n",
    "    df4 = df3[df3[z]=='No']\n",
    "    if len(df4)>0:\n",
    "        df5 = pd.concat([df4, df5], axis=0, ignore_index=True)"
   ]
  },
  {
   "cell_type": "code",
   "execution_count": 10,
   "id": "63b339d5",
   "metadata": {},
   "outputs": [
    {
     "name": "stdout",
     "output_type": "stream",
     "text": [
      "\n",
      "Huawei data is consistant, No mismatches\n",
      "\n",
      "Oura  data mismatch in Timestamp row 1688750587000  201.0  202.0\n",
      "\n",
      "Oura  data mismatch in Timestamp row 1688750588000  201.0  202.0\n",
      "\n",
      "Dreem data is consistant, No mismatches\n",
      "\n",
      "Iwatch data is consistant, No mismatches\n",
      "\n",
      "Fitbit data is consistant, No mismatches\n"
     ]
    }
   ],
   "source": [
    "# Update the Report file with Detais\n",
    "file1 = open(\"dqt.txt\", \"a\")  # append mode\n",
    "\n",
    "for x,y,z in zip(mycolumn1, mycolumn2, mycompare):\n",
    "    df6 = df5[df5[z]=='No']\n",
    "    if len(df6)>0:\n",
    "        for i in range(0,len(df6)):\n",
    "            print(\"\\n\"+x+\" \"+\" data mismatch in Timestamp row \"+\n",
    "              str(df6.iloc[i]['System Date/Timestamp(UTC)'])+\"  \"+str(df6.iloc[i][x])+\"  \"+str(df6.iloc[i][y]))\n",
    "            file1.write(\"\\n\"+x+\" \"+\" data mismatch in Timestamp row \"+\n",
    "              str(df6.iloc[i]['System Date/Timestamp(UTC)'])+\"  \"+str(df6.iloc[i][x])+\"  \"+str(df6.iloc[i][y]))\n",
    "    else:\n",
    "        file1 = open(\"dqt.txt\", \"a\")  # append mode\n",
    "        print(\"\\n\"+x+\" data is consistant, No mismatches\")\n",
    "        file1.write(\"\\n\"+x+\" data is consistant, No mismatches\")\n",
    "\n",
    "file1.write(\"\\n##########################################################\")\n",
    "file1.close()"
   ]
  },
  {
   "cell_type": "code",
   "execution_count": 11,
   "id": "05a4c9b5",
   "metadata": {},
   "outputs": [
    {
     "name": "stdout",
     "output_type": "stream",
     "text": [
      "Processing Completed !..\n"
     ]
    }
   ],
   "source": [
    "# Exit the Program..\n",
    "print(\"Processing Completed !..\")"
   ]
  }
 ],
 "metadata": {
  "kernelspec": {
   "display_name": "Python 3 (ipykernel)",
   "language": "python",
   "name": "python3"
  },
  "language_info": {
   "codemirror_mode": {
    "name": "ipython",
    "version": 3
   },
   "file_extension": ".py",
   "mimetype": "text/x-python",
   "name": "python",
   "nbconvert_exporter": "python",
   "pygments_lexer": "ipython3",
   "version": "3.10.12"
  }
 },
 "nbformat": 4,
 "nbformat_minor": 5
}
