{
 "cells": [
  {
   "cell_type": "code",
   "execution_count": 1,
   "id": "71e1cad4",
   "metadata": {},
   "outputs": [],
   "source": [
    "import numpy as np\n",
    "import pandas as pd"
   ]
  },
  {
   "cell_type": "code",
   "execution_count": 2,
   "id": "73a7553e",
   "metadata": {},
   "outputs": [],
   "source": [
    "# Import the dataset\n",
    "insurance = pd.read_csv(\"C:/MyLearn/DataSet/Visualization/insurance.csv\")"
   ]
  },
  {
   "cell_type": "code",
   "execution_count": 3,
   "id": "97ffd980",
   "metadata": {},
   "outputs": [
    {
     "data": {
      "text/html": [
       "<div>\n",
       "<style scoped>\n",
       "    .dataframe tbody tr th:only-of-type {\n",
       "        vertical-align: middle;\n",
       "    }\n",
       "\n",
       "    .dataframe tbody tr th {\n",
       "        vertical-align: top;\n",
       "    }\n",
       "\n",
       "    .dataframe thead th {\n",
       "        text-align: right;\n",
       "    }\n",
       "</style>\n",
       "<table border=\"1\" class=\"dataframe\">\n",
       "  <thead>\n",
       "    <tr style=\"text-align: right;\">\n",
       "      <th></th>\n",
       "      <th>age</th>\n",
       "      <th>sex</th>\n",
       "      <th>bmi</th>\n",
       "      <th>children</th>\n",
       "      <th>smoker</th>\n",
       "      <th>region</th>\n",
       "      <th>charges</th>\n",
       "    </tr>\n",
       "  </thead>\n",
       "  <tbody>\n",
       "    <tr>\n",
       "      <th>1333</th>\n",
       "      <td>50</td>\n",
       "      <td>male</td>\n",
       "      <td>30.97</td>\n",
       "      <td>3</td>\n",
       "      <td>no</td>\n",
       "      <td>northwest</td>\n",
       "      <td>10600.5483</td>\n",
       "    </tr>\n",
       "    <tr>\n",
       "      <th>1334</th>\n",
       "      <td>18</td>\n",
       "      <td>female</td>\n",
       "      <td>31.92</td>\n",
       "      <td>0</td>\n",
       "      <td>no</td>\n",
       "      <td>northeast</td>\n",
       "      <td>2205.9808</td>\n",
       "    </tr>\n",
       "    <tr>\n",
       "      <th>1335</th>\n",
       "      <td>18</td>\n",
       "      <td>female</td>\n",
       "      <td>36.85</td>\n",
       "      <td>0</td>\n",
       "      <td>no</td>\n",
       "      <td>southeast</td>\n",
       "      <td>1629.8335</td>\n",
       "    </tr>\n",
       "    <tr>\n",
       "      <th>1336</th>\n",
       "      <td>21</td>\n",
       "      <td>female</td>\n",
       "      <td>25.80</td>\n",
       "      <td>0</td>\n",
       "      <td>no</td>\n",
       "      <td>southwest</td>\n",
       "      <td>2007.9450</td>\n",
       "    </tr>\n",
       "    <tr>\n",
       "      <th>1337</th>\n",
       "      <td>61</td>\n",
       "      <td>female</td>\n",
       "      <td>29.07</td>\n",
       "      <td>0</td>\n",
       "      <td>yes</td>\n",
       "      <td>northwest</td>\n",
       "      <td>29141.3603</td>\n",
       "    </tr>\n",
       "  </tbody>\n",
       "</table>\n",
       "</div>"
      ],
      "text/plain": [
       "      age     sex    bmi  children smoker     region     charges\n",
       "1333   50    male  30.97         3     no  northwest  10600.5483\n",
       "1334   18  female  31.92         0     no  northeast   2205.9808\n",
       "1335   18  female  36.85         0     no  southeast   1629.8335\n",
       "1336   21  female  25.80         0     no  southwest   2007.9450\n",
       "1337   61  female  29.07         0    yes  northwest  29141.3603"
      ]
     },
     "execution_count": 3,
     "metadata": {},
     "output_type": "execute_result"
    }
   ],
   "source": [
    "insurance.tail()"
   ]
  },
  {
   "cell_type": "code",
   "execution_count": 4,
   "id": "3ffa21ce",
   "metadata": {},
   "outputs": [],
   "source": [
    "def sex_code(x):\n",
    "    if (x=='female'):\n",
    "        return 1\n",
    "    return 0\n",
    "\n",
    "def smoker_code(x):\n",
    "    if (x=='yes'):\n",
    "        return 1\n",
    "    return 0\n"
   ]
  },
  {
   "cell_type": "code",
   "execution_count": 5,
   "id": "a8d69bc3",
   "metadata": {},
   "outputs": [
    {
     "name": "stdout",
     "output_type": "stream",
     "text": [
      "CPU times: total: 0 ns\n",
      "Wall time: 4.97 ms\n"
     ]
    }
   ],
   "source": [
    "%%time\n",
    "# Option 1 - Using Apply - funtion definition\n",
    "\n",
    "insurance['sex_code']=insurance['sex'].apply(sex_code)\n",
    "insurance['smoker_code']=insurance['smoker'].apply(smoker_code)"
   ]
  },
  {
   "cell_type": "code",
   "execution_count": 6,
   "id": "8bb4b6c2",
   "metadata": {},
   "outputs": [
    {
     "name": "stdout",
     "output_type": "stream",
     "text": [
      "CPU times: total: 0 ns\n",
      "Wall time: 1.7 ms\n"
     ]
    }
   ],
   "source": [
    "%%time\n",
    "# Option 2 - Using Apply & Lambda funtion\n",
    "\n",
    "insurance['sex_code'] = insurance['sex'].apply(lambda x: 1 if (x=='female') else 0)\n",
    "insurance['smoker_code'] = insurance['smoker'].apply(lambda x: 1 if (x=='yes') else 0)"
   ]
  },
  {
   "cell_type": "code",
   "execution_count": 7,
   "id": "7d3c9adb",
   "metadata": {},
   "outputs": [
    {
     "name": "stdout",
     "output_type": "stream",
     "text": [
      "CPU times: total: 0 ns\n",
      "Wall time: 1.23 ms\n"
     ]
    }
   ],
   "source": [
    "%%time\n",
    "# Option 3 - Using np.where\n",
    "\n",
    "insurance['sex_code'] = np.where((insurance['sex']=='female'), 1, 0)\n",
    "insurance['smoker_code'] = np.where((insurance['smoker']=='yes'), 1, 0)"
   ]
  },
  {
   "cell_type": "code",
   "execution_count": 8,
   "id": "e007fa33",
   "metadata": {},
   "outputs": [
    {
     "name": "stdout",
     "output_type": "stream",
     "text": [
      "CPU times: total: 0 ns\n",
      "Wall time: 3.01 ms\n"
     ]
    }
   ],
   "source": [
    "%%time\n",
    "# Option 4 - Using map funtion definition\n",
    "\n",
    "insurance['sex_code'] = ((insurance['sex']=='female')).map({True:1, False:0})\n",
    "insurance['smoker_code'] = ((insurance['smoker']=='yes')).map({True:1, False:0})"
   ]
  },
  {
   "cell_type": "code",
   "execution_count": 9,
   "id": "8e58359c",
   "metadata": {},
   "outputs": [
    {
     "name": "stdout",
     "output_type": "stream",
     "text": [
      "CPU times: total: 0 ns\n",
      "Wall time: 1.89 ms\n"
     ]
    }
   ],
   "source": [
    "%%time\n",
    "# Option 5 - df.loc & and fillna\n",
    "\n",
    "insurance.loc[insurance['sex']=='female', 'sex_code'] = 1\n",
    "insurance['sex_code'] = insurance['sex_code'].fillna(0)\n",
    "\n",
    "insurance.loc[insurance['smoker']=='yes', 'smoker_code'] = 1\n",
    "insurance['smoker_code'] = insurance['smoker_code'].fillna(0)\n"
   ]
  },
  {
   "cell_type": "markdown",
   "id": "035d5581",
   "metadata": {},
   "source": [
    "****"
   ]
  }
 ],
 "metadata": {
  "kernelspec": {
   "display_name": "Python 3 (ipykernel)",
   "language": "python",
   "name": "python3"
  },
  "language_info": {
   "codemirror_mode": {
    "name": "ipython",
    "version": 3
   },
   "file_extension": ".py",
   "mimetype": "text/x-python",
   "name": "python",
   "nbconvert_exporter": "python",
   "pygments_lexer": "ipython3",
   "version": "3.9.12"
  }
 },
 "nbformat": 4,
 "nbformat_minor": 5
}
