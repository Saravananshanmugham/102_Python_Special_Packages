{
 "cells": [
  {
   "cell_type": "code",
   "execution_count": 1,
   "id": "82397003",
   "metadata": {},
   "outputs": [],
   "source": [
    "import pandas as pd\n",
    "import numpy as np"
   ]
  },
  {
   "cell_type": "code",
   "execution_count": 2,
   "id": "196aae6b",
   "metadata": {},
   "outputs": [
    {
     "data": {
      "text/html": [
       "<div>\n",
       "<style scoped>\n",
       "    .dataframe tbody tr th:only-of-type {\n",
       "        vertical-align: middle;\n",
       "    }\n",
       "\n",
       "    .dataframe tbody tr th {\n",
       "        vertical-align: top;\n",
       "    }\n",
       "\n",
       "    .dataframe thead th {\n",
       "        text-align: right;\n",
       "    }\n",
       "</style>\n",
       "<table border=\"1\" class=\"dataframe\">\n",
       "  <thead>\n",
       "    <tr style=\"text-align: right;\">\n",
       "      <th></th>\n",
       "      <th>duration</th>\n",
       "      <th>protocol_type</th>\n",
       "      <th>service</th>\n",
       "      <th>flag</th>\n",
       "      <th>src_bytes</th>\n",
       "      <th>dst_bytes</th>\n",
       "      <th>land</th>\n",
       "      <th>wrong_fragment</th>\n",
       "      <th>urgent</th>\n",
       "      <th>hot</th>\n",
       "      <th>...</th>\n",
       "      <th>dst_host_same_srv_rate</th>\n",
       "      <th>dst_host_diff_srv_rate</th>\n",
       "      <th>dst_host_same_src_port_rate</th>\n",
       "      <th>dst_host_srv_diff_host_rate</th>\n",
       "      <th>dst_host_serror_rate</th>\n",
       "      <th>dst_host_srv_serror_rate</th>\n",
       "      <th>dst_host_rerror_rate</th>\n",
       "      <th>dst_host_srv_rerror_rate</th>\n",
       "      <th>attack_type</th>\n",
       "      <th>other</th>\n",
       "    </tr>\n",
       "  </thead>\n",
       "  <tbody>\n",
       "    <tr>\n",
       "      <th>0</th>\n",
       "      <td>0</td>\n",
       "      <td>tcp</td>\n",
       "      <td>private</td>\n",
       "      <td>REJ</td>\n",
       "      <td>0</td>\n",
       "      <td>0</td>\n",
       "      <td>0</td>\n",
       "      <td>0</td>\n",
       "      <td>0</td>\n",
       "      <td>0</td>\n",
       "      <td>...</td>\n",
       "      <td>0.04</td>\n",
       "      <td>0.06</td>\n",
       "      <td>0.00</td>\n",
       "      <td>0.00</td>\n",
       "      <td>0.00</td>\n",
       "      <td>0.0</td>\n",
       "      <td>1.00</td>\n",
       "      <td>1.00</td>\n",
       "      <td>neptune</td>\n",
       "      <td>21</td>\n",
       "    </tr>\n",
       "    <tr>\n",
       "      <th>1</th>\n",
       "      <td>0</td>\n",
       "      <td>tcp</td>\n",
       "      <td>private</td>\n",
       "      <td>REJ</td>\n",
       "      <td>0</td>\n",
       "      <td>0</td>\n",
       "      <td>0</td>\n",
       "      <td>0</td>\n",
       "      <td>0</td>\n",
       "      <td>0</td>\n",
       "      <td>...</td>\n",
       "      <td>0.00</td>\n",
       "      <td>0.06</td>\n",
       "      <td>0.00</td>\n",
       "      <td>0.00</td>\n",
       "      <td>0.00</td>\n",
       "      <td>0.0</td>\n",
       "      <td>1.00</td>\n",
       "      <td>1.00</td>\n",
       "      <td>neptune</td>\n",
       "      <td>21</td>\n",
       "    </tr>\n",
       "    <tr>\n",
       "      <th>2</th>\n",
       "      <td>2</td>\n",
       "      <td>tcp</td>\n",
       "      <td>ftp_data</td>\n",
       "      <td>SF</td>\n",
       "      <td>12983</td>\n",
       "      <td>0</td>\n",
       "      <td>0</td>\n",
       "      <td>0</td>\n",
       "      <td>0</td>\n",
       "      <td>0</td>\n",
       "      <td>...</td>\n",
       "      <td>0.61</td>\n",
       "      <td>0.04</td>\n",
       "      <td>0.61</td>\n",
       "      <td>0.02</td>\n",
       "      <td>0.00</td>\n",
       "      <td>0.0</td>\n",
       "      <td>0.00</td>\n",
       "      <td>0.00</td>\n",
       "      <td>normal</td>\n",
       "      <td>21</td>\n",
       "    </tr>\n",
       "    <tr>\n",
       "      <th>3</th>\n",
       "      <td>0</td>\n",
       "      <td>icmp</td>\n",
       "      <td>eco_i</td>\n",
       "      <td>SF</td>\n",
       "      <td>20</td>\n",
       "      <td>0</td>\n",
       "      <td>0</td>\n",
       "      <td>0</td>\n",
       "      <td>0</td>\n",
       "      <td>0</td>\n",
       "      <td>...</td>\n",
       "      <td>1.00</td>\n",
       "      <td>0.00</td>\n",
       "      <td>1.00</td>\n",
       "      <td>0.28</td>\n",
       "      <td>0.00</td>\n",
       "      <td>0.0</td>\n",
       "      <td>0.00</td>\n",
       "      <td>0.00</td>\n",
       "      <td>saint</td>\n",
       "      <td>15</td>\n",
       "    </tr>\n",
       "    <tr>\n",
       "      <th>4</th>\n",
       "      <td>1</td>\n",
       "      <td>tcp</td>\n",
       "      <td>telnet</td>\n",
       "      <td>RSTO</td>\n",
       "      <td>0</td>\n",
       "      <td>15</td>\n",
       "      <td>0</td>\n",
       "      <td>0</td>\n",
       "      <td>0</td>\n",
       "      <td>0</td>\n",
       "      <td>...</td>\n",
       "      <td>0.31</td>\n",
       "      <td>0.17</td>\n",
       "      <td>0.03</td>\n",
       "      <td>0.02</td>\n",
       "      <td>0.00</td>\n",
       "      <td>0.0</td>\n",
       "      <td>0.83</td>\n",
       "      <td>0.71</td>\n",
       "      <td>mscan</td>\n",
       "      <td>11</td>\n",
       "    </tr>\n",
       "    <tr>\n",
       "      <th>...</th>\n",
       "      <td>...</td>\n",
       "      <td>...</td>\n",
       "      <td>...</td>\n",
       "      <td>...</td>\n",
       "      <td>...</td>\n",
       "      <td>...</td>\n",
       "      <td>...</td>\n",
       "      <td>...</td>\n",
       "      <td>...</td>\n",
       "      <td>...</td>\n",
       "      <td>...</td>\n",
       "      <td>...</td>\n",
       "      <td>...</td>\n",
       "      <td>...</td>\n",
       "      <td>...</td>\n",
       "      <td>...</td>\n",
       "      <td>...</td>\n",
       "      <td>...</td>\n",
       "      <td>...</td>\n",
       "      <td>...</td>\n",
       "      <td>...</td>\n",
       "    </tr>\n",
       "    <tr>\n",
       "      <th>22539</th>\n",
       "      <td>0</td>\n",
       "      <td>tcp</td>\n",
       "      <td>smtp</td>\n",
       "      <td>SF</td>\n",
       "      <td>794</td>\n",
       "      <td>333</td>\n",
       "      <td>0</td>\n",
       "      <td>0</td>\n",
       "      <td>0</td>\n",
       "      <td>0</td>\n",
       "      <td>...</td>\n",
       "      <td>0.72</td>\n",
       "      <td>0.06</td>\n",
       "      <td>0.01</td>\n",
       "      <td>0.01</td>\n",
       "      <td>0.01</td>\n",
       "      <td>0.0</td>\n",
       "      <td>0.00</td>\n",
       "      <td>0.00</td>\n",
       "      <td>normal</td>\n",
       "      <td>21</td>\n",
       "    </tr>\n",
       "    <tr>\n",
       "      <th>22540</th>\n",
       "      <td>0</td>\n",
       "      <td>tcp</td>\n",
       "      <td>http</td>\n",
       "      <td>SF</td>\n",
       "      <td>317</td>\n",
       "      <td>938</td>\n",
       "      <td>0</td>\n",
       "      <td>0</td>\n",
       "      <td>0</td>\n",
       "      <td>0</td>\n",
       "      <td>...</td>\n",
       "      <td>1.00</td>\n",
       "      <td>0.00</td>\n",
       "      <td>0.01</td>\n",
       "      <td>0.01</td>\n",
       "      <td>0.01</td>\n",
       "      <td>0.0</td>\n",
       "      <td>0.00</td>\n",
       "      <td>0.00</td>\n",
       "      <td>normal</td>\n",
       "      <td>21</td>\n",
       "    </tr>\n",
       "    <tr>\n",
       "      <th>22541</th>\n",
       "      <td>0</td>\n",
       "      <td>tcp</td>\n",
       "      <td>http</td>\n",
       "      <td>SF</td>\n",
       "      <td>54540</td>\n",
       "      <td>8314</td>\n",
       "      <td>0</td>\n",
       "      <td>0</td>\n",
       "      <td>0</td>\n",
       "      <td>2</td>\n",
       "      <td>...</td>\n",
       "      <td>1.00</td>\n",
       "      <td>0.00</td>\n",
       "      <td>0.00</td>\n",
       "      <td>0.00</td>\n",
       "      <td>0.00</td>\n",
       "      <td>0.0</td>\n",
       "      <td>0.07</td>\n",
       "      <td>0.07</td>\n",
       "      <td>back</td>\n",
       "      <td>15</td>\n",
       "    </tr>\n",
       "    <tr>\n",
       "      <th>22542</th>\n",
       "      <td>0</td>\n",
       "      <td>udp</td>\n",
       "      <td>domain_u</td>\n",
       "      <td>SF</td>\n",
       "      <td>42</td>\n",
       "      <td>42</td>\n",
       "      <td>0</td>\n",
       "      <td>0</td>\n",
       "      <td>0</td>\n",
       "      <td>0</td>\n",
       "      <td>...</td>\n",
       "      <td>0.99</td>\n",
       "      <td>0.01</td>\n",
       "      <td>0.00</td>\n",
       "      <td>0.00</td>\n",
       "      <td>0.00</td>\n",
       "      <td>0.0</td>\n",
       "      <td>0.00</td>\n",
       "      <td>0.00</td>\n",
       "      <td>normal</td>\n",
       "      <td>21</td>\n",
       "    </tr>\n",
       "    <tr>\n",
       "      <th>22543</th>\n",
       "      <td>0</td>\n",
       "      <td>tcp</td>\n",
       "      <td>sunrpc</td>\n",
       "      <td>REJ</td>\n",
       "      <td>0</td>\n",
       "      <td>0</td>\n",
       "      <td>0</td>\n",
       "      <td>0</td>\n",
       "      <td>0</td>\n",
       "      <td>0</td>\n",
       "      <td>...</td>\n",
       "      <td>0.08</td>\n",
       "      <td>0.03</td>\n",
       "      <td>0.00</td>\n",
       "      <td>0.00</td>\n",
       "      <td>0.00</td>\n",
       "      <td>0.0</td>\n",
       "      <td>0.44</td>\n",
       "      <td>1.00</td>\n",
       "      <td>mscan</td>\n",
       "      <td>14</td>\n",
       "    </tr>\n",
       "  </tbody>\n",
       "</table>\n",
       "<p>22544 rows × 43 columns</p>\n",
       "</div>"
      ],
      "text/plain": [
       "       duration protocol_type   service  flag  src_bytes  dst_bytes  land  \\\n",
       "0             0           tcp   private   REJ          0          0     0   \n",
       "1             0           tcp   private   REJ          0          0     0   \n",
       "2             2           tcp  ftp_data    SF      12983          0     0   \n",
       "3             0          icmp     eco_i    SF         20          0     0   \n",
       "4             1           tcp    telnet  RSTO          0         15     0   \n",
       "...         ...           ...       ...   ...        ...        ...   ...   \n",
       "22539         0           tcp      smtp    SF        794        333     0   \n",
       "22540         0           tcp      http    SF        317        938     0   \n",
       "22541         0           tcp      http    SF      54540       8314     0   \n",
       "22542         0           udp  domain_u    SF         42         42     0   \n",
       "22543         0           tcp    sunrpc   REJ          0          0     0   \n",
       "\n",
       "       wrong_fragment  urgent  hot  ...  dst_host_same_srv_rate  \\\n",
       "0                   0       0    0  ...                    0.04   \n",
       "1                   0       0    0  ...                    0.00   \n",
       "2                   0       0    0  ...                    0.61   \n",
       "3                   0       0    0  ...                    1.00   \n",
       "4                   0       0    0  ...                    0.31   \n",
       "...               ...     ...  ...  ...                     ...   \n",
       "22539               0       0    0  ...                    0.72   \n",
       "22540               0       0    0  ...                    1.00   \n",
       "22541               0       0    2  ...                    1.00   \n",
       "22542               0       0    0  ...                    0.99   \n",
       "22543               0       0    0  ...                    0.08   \n",
       "\n",
       "       dst_host_diff_srv_rate  dst_host_same_src_port_rate  \\\n",
       "0                        0.06                         0.00   \n",
       "1                        0.06                         0.00   \n",
       "2                        0.04                         0.61   \n",
       "3                        0.00                         1.00   \n",
       "4                        0.17                         0.03   \n",
       "...                       ...                          ...   \n",
       "22539                    0.06                         0.01   \n",
       "22540                    0.00                         0.01   \n",
       "22541                    0.00                         0.00   \n",
       "22542                    0.01                         0.00   \n",
       "22543                    0.03                         0.00   \n",
       "\n",
       "       dst_host_srv_diff_host_rate  dst_host_serror_rate  \\\n",
       "0                             0.00                  0.00   \n",
       "1                             0.00                  0.00   \n",
       "2                             0.02                  0.00   \n",
       "3                             0.28                  0.00   \n",
       "4                             0.02                  0.00   \n",
       "...                            ...                   ...   \n",
       "22539                         0.01                  0.01   \n",
       "22540                         0.01                  0.01   \n",
       "22541                         0.00                  0.00   \n",
       "22542                         0.00                  0.00   \n",
       "22543                         0.00                  0.00   \n",
       "\n",
       "       dst_host_srv_serror_rate  dst_host_rerror_rate  \\\n",
       "0                           0.0                  1.00   \n",
       "1                           0.0                  1.00   \n",
       "2                           0.0                  0.00   \n",
       "3                           0.0                  0.00   \n",
       "4                           0.0                  0.83   \n",
       "...                         ...                   ...   \n",
       "22539                       0.0                  0.00   \n",
       "22540                       0.0                  0.00   \n",
       "22541                       0.0                  0.07   \n",
       "22542                       0.0                  0.00   \n",
       "22543                       0.0                  0.44   \n",
       "\n",
       "       dst_host_srv_rerror_rate  attack_type  other  \n",
       "0                          1.00      neptune     21  \n",
       "1                          1.00      neptune     21  \n",
       "2                          0.00       normal     21  \n",
       "3                          0.00        saint     15  \n",
       "4                          0.71        mscan     11  \n",
       "...                         ...          ...    ...  \n",
       "22539                      0.00       normal     21  \n",
       "22540                      0.00       normal     21  \n",
       "22541                      0.07         back     15  \n",
       "22542                      0.00       normal     21  \n",
       "22543                      1.00        mscan     14  \n",
       "\n",
       "[22544 rows x 43 columns]"
      ]
     },
     "execution_count": 2,
     "metadata": {},
     "output_type": "execute_result"
    }
   ],
   "source": [
    "# Import the DataSet\n",
    "# df = pd.read_csv('https://raw.githubusercontent.com/mlabonne/how-to-data-science/main/data/nslkdd_test.txt')\n",
    "\n",
    "df = pd.read_csv('C:/MyLearn/DataSet/Pandas/nslkdd_test.txt')\n",
    "df"
   ]
  },
  {
   "cell_type": "markdown",
   "id": "d7879b14",
   "metadata": {},
   "source": [
    "This dataset has **22k rows and 43 columns** with a combination of categorical and numerical values. Each row describes a connection between two computers.\n",
    "\n",
    "Let’s say we want to create a new feature: the total number of bytes in the connection. We just have to sum up two existing features: `src_bytes` and `dst_bytes`. Let's see different methods to calculate this new feature."
   ]
  },
  {
   "cell_type": "code",
   "execution_count": 3,
   "id": "bcaf50ec",
   "metadata": {},
   "outputs": [
    {
     "name": "stdout",
     "output_type": "stream",
     "text": [
      "CPU times: total: 0 ns\n",
      "Wall time: 2 ms\n"
     ]
    }
   ],
   "source": [
    "%%time\n",
    "df['Total_bytes']=df['src_bytes']+df['dst_bytes']"
   ]
  },
  {
   "cell_type": "code",
   "execution_count": 4,
   "id": "0f724c22",
   "metadata": {},
   "outputs": [
    {
     "name": "stdout",
     "output_type": "stream",
     "text": [
      "       src_bytes  dst_bytes  Total_bytes\n",
      "0              0          0            0\n",
      "1              0          0            0\n",
      "2          12983          0        12983\n",
      "3             20          0           20\n",
      "4              0         15           15\n",
      "...          ...        ...          ...\n",
      "22539        794        333         1127\n",
      "22540        317        938         1255\n",
      "22541      54540       8314        62854\n",
      "22542         42         42           84\n",
      "22543          0          0            0\n",
      "\n",
      "[22544 rows x 3 columns]\n"
     ]
    }
   ],
   "source": [
    "print(df[['src_bytes','dst_bytes','Total_bytes']])\n",
    "del df['Total_bytes']"
   ]
  },
  {
   "cell_type": "markdown",
   "id": "007b35d6",
   "metadata": {},
   "source": [
    "### Method 1: Iterrows\n",
    "\n",
    "According to the official documentation, `iterrows()` iterates \"over the rows of a Pandas DataFrame as (index, Series) pairs\". It **converts each row into a Series object**, which causes two problems:\n",
    "\n",
    "1. It can **change the type of your data** (dtypes);\n",
    "2.  The conversion **greatly degrades performance**. For these reasons, the ill-named `iterrows()` is the **WORST possible method** to actually iterate over rows."
   ]
  },
  {
   "cell_type": "code",
   "execution_count": 5,
   "id": "f2bc0c86",
   "metadata": {},
   "outputs": [
    {
     "name": "stdout",
     "output_type": "stream",
     "text": [
      "CPU times: total: 1.56 s\n",
      "Wall time: 1.54 s\n"
     ]
    }
   ],
   "source": [
    "%%time\n",
    "# Iterrows\n",
    "total = []\n",
    "for index, row in df.iterrows():\n",
    "    total.append(row['src_bytes'] + row['dst_bytes'])\n",
    "df['Total_bytes']=total"
   ]
  },
  {
   "cell_type": "code",
   "execution_count": 6,
   "id": "d8354b8f",
   "metadata": {},
   "outputs": [
    {
     "name": "stdout",
     "output_type": "stream",
     "text": [
      "       src_bytes  dst_bytes  Total_bytes\n",
      "0              0          0            0\n",
      "1              0          0            0\n",
      "2          12983          0        12983\n",
      "3             20          0           20\n",
      "4              0         15           15\n",
      "...          ...        ...          ...\n",
      "22539        794        333         1127\n",
      "22540        317        938         1255\n",
      "22541      54540       8314        62854\n",
      "22542         42         42           84\n",
      "22543          0          0            0\n",
      "\n",
      "[22544 rows x 3 columns]\n"
     ]
    }
   ],
   "source": [
    "print(df[['src_bytes','dst_bytes','Total_bytes']])\n",
    "del df['Total_bytes']"
   ]
  },
  {
   "cell_type": "markdown",
   "id": "abb91745",
   "metadata": {},
   "source": [
    "Now let’s see slightly better techniques…"
   ]
  },
  {
   "cell_type": "markdown",
   "id": "091966a6",
   "metadata": {},
   "source": [
    "### Method 2. For loop with .loc or .iloc (3× faster)\n",
    "\n",
    "This is what I used to do when I started: a basic **for loop to select rows by index** (with `.loc` or `.iloc`). Why is it bad? Because DataFrames are **not designed for this purpose**. As with the previous method, rows are **converted into Pandas Series objects**, which degrades performance. Interestingly enough,`.iloc` is faster than .loc. It makes sense since Python **doesn't have to check user-defined labels** and directly look at **where the row is stored in memory**."
   ]
  },
  {
   "cell_type": "code",
   "execution_count": 7,
   "id": "508647b9",
   "metadata": {},
   "outputs": [
    {
     "name": "stdout",
     "output_type": "stream",
     "text": [
      "CPU times: total: 1.27 s\n",
      "Wall time: 1.27 s\n"
     ]
    }
   ],
   "source": [
    "%%time\n",
    "# For loop with .loc\n",
    "total = []\n",
    "for index in range(len(df)):\n",
    "    total.append(df['src_bytes'].loc[index] + df['dst_bytes'].loc[index])\n",
    "df['Total_bytes']=total"
   ]
  },
  {
   "cell_type": "code",
   "execution_count": 8,
   "id": "c95c8b27",
   "metadata": {},
   "outputs": [
    {
     "name": "stdout",
     "output_type": "stream",
     "text": [
      "       src_bytes  dst_bytes  Total_bytes\n",
      "0              0          0            0\n",
      "1              0          0            0\n",
      "2          12983          0        12983\n",
      "3             20          0           20\n",
      "4              0         15           15\n",
      "...          ...        ...          ...\n",
      "22539        794        333         1127\n",
      "22540        317        938         1255\n",
      "22541      54540       8314        62854\n",
      "22542         42         42           84\n",
      "22543          0          0            0\n",
      "\n",
      "[22544 rows x 3 columns]\n"
     ]
    }
   ],
   "source": [
    "print(df[['src_bytes','dst_bytes','Total_bytes']])\n",
    "del df['Total_bytes']"
   ]
  },
  {
   "cell_type": "code",
   "execution_count": 9,
   "id": "43ce2287",
   "metadata": {},
   "outputs": [
    {
     "name": "stdout",
     "output_type": "stream",
     "text": [
      "CPU times: total: 844 ms\n",
      "Wall time: 870 ms\n"
     ]
    }
   ],
   "source": [
    "%%time\n",
    "# For loop with .iloc\n",
    "total = []\n",
    "for index in range(len(df)):\n",
    "    total.append(df['src_bytes'].iloc[index] + df['dst_bytes'].iloc[index])\n",
    "df['Total_bytes']=total"
   ]
  },
  {
   "cell_type": "code",
   "execution_count": 10,
   "id": "c8d839a9",
   "metadata": {},
   "outputs": [
    {
     "name": "stdout",
     "output_type": "stream",
     "text": [
      "       src_bytes  dst_bytes  Total_bytes\n",
      "0              0          0            0\n",
      "1              0          0            0\n",
      "2          12983          0        12983\n",
      "3             20          0           20\n",
      "4              0         15           15\n",
      "...          ...        ...          ...\n",
      "22539        794        333         1127\n",
      "22540        317        938         1255\n",
      "22541      54540       8314        62854\n",
      "22542         42         42           84\n",
      "22543          0          0            0\n",
      "\n",
      "[22544 rows x 3 columns]\n"
     ]
    }
   ],
   "source": [
    "print(df[['src_bytes','dst_bytes','Total_bytes']])\n",
    "del df['Total_bytes']"
   ]
  },
  {
   "cell_type": "markdown",
   "id": "1986b5aa",
   "metadata": {},
   "source": [
    "Even this basic for loop with .iloc is 3 times faster than the first method!"
   ]
  },
  {
   "cell_type": "markdown",
   "id": "79d07737",
   "metadata": {},
   "source": [
    " ### Method 3. Apply (4× faster)\n",
    "\n",
    "The `apply()` method is **another popular choice** to iterate over rows. It creates code that is **easy to understand** but at a cost: performance is **nearly as bad as the previous for loop**.\n",
    "\n",
    "This is why I would strongly advise you to **avoid this function for this specific purpose** (it's fine for other applications).\n",
    "\n",
    "Note that I **convert the DataFrame into a list** using the `to_list()` method to obtain **identical results**."
   ]
  },
  {
   "cell_type": "code",
   "execution_count": 11,
   "id": "d6d6aec1",
   "metadata": {},
   "outputs": [
    {
     "name": "stdout",
     "output_type": "stream",
     "text": [
      "CPU times: total: 516 ms\n",
      "Wall time: 527 ms\n"
     ]
    }
   ],
   "source": [
    "%%time\n",
    "# Apply\n",
    "df['Total_bytes']=df.apply(lambda row: row['src_bytes'] + row['dst_bytes'], axis=1)"
   ]
  },
  {
   "cell_type": "code",
   "execution_count": 12,
   "id": "0ff7562b",
   "metadata": {},
   "outputs": [
    {
     "name": "stdout",
     "output_type": "stream",
     "text": [
      "       src_bytes  dst_bytes  Total_bytes\n",
      "0              0          0            0\n",
      "1              0          0            0\n",
      "2          12983          0        12983\n",
      "3             20          0           20\n",
      "4              0         15           15\n",
      "...          ...        ...          ...\n",
      "22539        794        333         1127\n",
      "22540        317        938         1255\n",
      "22541      54540       8314        62854\n",
      "22542         42         42           84\n",
      "22543          0          0            0\n",
      "\n",
      "[22544 rows x 3 columns]\n"
     ]
    }
   ],
   "source": [
    "print(df[['src_bytes','dst_bytes','Total_bytes']])\n",
    "del df['Total_bytes']"
   ]
  },
  {
   "cell_type": "markdown",
   "id": "87028acd",
   "metadata": {},
   "source": [
    "The `apply()` method is a for loop in disguise, which is why the performance doesn't improve that much: it's only 4 times faster than the first technique."
   ]
  },
  {
   "cell_type": "markdown",
   "id": "3cb5bfb8",
   "metadata": {},
   "source": [
    "### Method 4. Itertuples (10× faster)\n",
    "\n",
    "If you know about `iterrows()`, you probably know about `itertuples()`. According to the official documentation, it iterates \"over the rows of a DataFrame as namedtuples of the values\". In practice, it means that **rows are converted into tuples**, which are much lighter objects than Pandas Series.\n",
    "\n",
    "This is why `itertuples()` are a better version of `iterrows()`. The only issue is that we need to **select columns based on their index**, which is **not as user-friendly** as previous techniques."
   ]
  },
  {
   "cell_type": "code",
   "execution_count": 13,
   "id": "bafe6b6a",
   "metadata": {},
   "outputs": [
    {
     "name": "stdout",
     "output_type": "stream",
     "text": [
      "CPU times: total: 172 ms\n",
      "Wall time: 167 ms\n"
     ]
    }
   ],
   "source": [
    "%%time\n",
    "# Itertuples\n",
    "total = []\n",
    "for row in df.itertuples():\n",
    "    total.append(row[5] + row[6])\n",
    "df['Total_bytes']=total"
   ]
  },
  {
   "cell_type": "code",
   "execution_count": 14,
   "id": "f78657f2",
   "metadata": {},
   "outputs": [
    {
     "name": "stdout",
     "output_type": "stream",
     "text": [
      "       src_bytes  dst_bytes  Total_bytes\n",
      "0              0          0            0\n",
      "1              0          0            0\n",
      "2          12983          0        12983\n",
      "3             20          0           20\n",
      "4              0         15           15\n",
      "...          ...        ...          ...\n",
      "22539        794        333         1127\n",
      "22540        317        938         1255\n",
      "22541      54540       8314        62854\n",
      "22542         42         42           84\n",
      "22543          0          0            0\n",
      "\n",
      "[22544 rows x 3 columns]\n"
     ]
    }
   ],
   "source": [
    "print(df[['src_bytes','dst_bytes','Total_bytes']])\n",
    "del df['Total_bytes']"
   ]
  },
  {
   "cell_type": "markdown",
   "id": "e09c3fdf",
   "metadata": {},
   "source": [
    "Okay, it’s 10 times faster than iterrows(): this is starting to look better."
   ]
  },
  {
   "cell_type": "markdown",
   "id": "96212cb0",
   "metadata": {},
   "source": [
    "### 5. List comprehensions (200× faster)\n",
    "\n",
    "List comprehensions are a **fancy way to iterate over a list as a one-liner**. For instance, `[print(i) for i in range(10)]` prints numbers from 0 to 9 **without any explicit for loop**. I say \"**explicit**\" because Python actually **processes it as a for loop** if we look at the **bytecode**. So why is it **faster**? Quite simply because we don't call the `.append()` method in this version."
   ]
  },
  {
   "cell_type": "code",
   "execution_count": 15,
   "id": "9504578c",
   "metadata": {},
   "outputs": [
    {
     "name": "stdout",
     "output_type": "stream",
     "text": [
      "CPU times: total: 31.2 ms\n",
      "Wall time: 23 ms\n"
     ]
    }
   ],
   "source": [
    "%%time\n",
    "# List comprehension\n",
    "total=[]\n",
    "total = [src + dst for src, dst in zip(df['src_bytes'], df['dst_bytes'])]\n",
    "df['Total_bytes']=total"
   ]
  },
  {
   "cell_type": "code",
   "execution_count": 16,
   "id": "314ceff6",
   "metadata": {},
   "outputs": [
    {
     "name": "stdout",
     "output_type": "stream",
     "text": [
      "       src_bytes  dst_bytes  Total_bytes\n",
      "0              0          0            0\n",
      "1              0          0            0\n",
      "2          12983          0        12983\n",
      "3             20          0           20\n",
      "4              0         15           15\n",
      "...          ...        ...          ...\n",
      "22539        794        333         1127\n",
      "22540        317        938         1255\n",
      "22541      54540       8314        62854\n",
      "22542         42         42           84\n",
      "22543          0          0            0\n",
      "\n",
      "[22544 rows x 3 columns]\n"
     ]
    }
   ],
   "source": [
    "print(df[['src_bytes','dst_bytes','Total_bytes']])\n",
    "del df['Total_bytes']"
   ]
  },
  {
   "cell_type": "markdown",
   "id": "bcf0941c",
   "metadata": {},
   "source": [
    "Indeed, this technique is **200 times faster** than the first one! But we can still do better."
   ]
  },
  {
   "cell_type": "markdown",
   "id": "b159ca5f",
   "metadata": {},
   "source": [
    "### 6. Pandas vectorization (1500× faster)\n",
    "\n",
    "Until now, all the techniques used **simply add up single values**. Instead of adding single values, why not **group them into vectors to sum them up**? The difference between **adding two numbers or two vectors is not significant for a CPU**, which should speed things up.\n",
    "\n",
    "On top of that, Pandas can **process Series objects in parallel**, using every CPU core available!\n",
    "\n",
    "The syntax is also the simplest imaginable: this solution is **extremely intuitive**. Under the hood, **Pandas takes care of vectorizing our data** with an **optimized C code using contiguous memory blocks**."
   ]
  },
  {
   "cell_type": "code",
   "execution_count": 17,
   "id": "372fceb7",
   "metadata": {},
   "outputs": [
    {
     "name": "stdout",
     "output_type": "stream",
     "text": [
      "CPU times: total: 0 ns\n",
      "Wall time: 2 ms\n"
     ]
    }
   ],
   "source": [
    "%%time\n",
    "# Vectorization\n",
    "df['Total_bytes']=df['src_bytes'] + df['dst_bytes']"
   ]
  },
  {
   "cell_type": "code",
   "execution_count": 18,
   "id": "4fcb00cc",
   "metadata": {},
   "outputs": [
    {
     "name": "stdout",
     "output_type": "stream",
     "text": [
      "       src_bytes  dst_bytes  Total_bytes\n",
      "0              0          0            0\n",
      "1              0          0            0\n",
      "2          12983          0        12983\n",
      "3             20          0           20\n",
      "4              0         15           15\n",
      "...          ...        ...          ...\n",
      "22539        794        333         1127\n",
      "22540        317        938         1255\n",
      "22541      54540       8314        62854\n",
      "22542         42         42           84\n",
      "22543          0          0            0\n",
      "\n",
      "[22544 rows x 3 columns]\n"
     ]
    }
   ],
   "source": [
    "print(df[['src_bytes','dst_bytes','Total_bytes']])\n",
    "del df['Total_bytes']"
   ]
  },
  {
   "cell_type": "markdown",
   "id": "a1481755",
   "metadata": {},
   "source": [
    "This code is **1500 times faster than iterrows()** and it is even simpler to write."
   ]
  },
  {
   "cell_type": "markdown",
   "id": "0afefb44",
   "metadata": {},
   "source": [
    "### 7. NumPy vectorization (1900× faster)\n",
    "\n",
    "NumPy is designed to **handle scientific computing**. It has **less overhead** than Pandas methods since rows and dataframes all become **np.array**. It relies on the **same optimizations** as Pandas vectorization.\n",
    "\n",
    "There are **two ways of converting a Series into a** `np.array`: using `.values` or `.to_numpy()`. The former has been **deprecated for years*, which is why we're gonna use `.to_numpy()` in this example."
   ]
  },
  {
   "cell_type": "code",
   "execution_count": 19,
   "id": "0a60d334",
   "metadata": {},
   "outputs": [
    {
     "name": "stdout",
     "output_type": "stream",
     "text": [
      "CPU times: total: 0 ns\n",
      "Wall time: 999 µs\n"
     ]
    }
   ],
   "source": [
    "%%time\n",
    "# Numpy vectorization\n",
    "\n",
    "df['Total_bytes']= df['src_bytes'].to_numpy() + df['dst_bytes'].to_numpy()"
   ]
  },
  {
   "cell_type": "code",
   "execution_count": 20,
   "id": "520dfab0",
   "metadata": {},
   "outputs": [
    {
     "name": "stdout",
     "output_type": "stream",
     "text": [
      "       src_bytes  dst_bytes  Total_bytes\n",
      "0              0          0            0\n",
      "1              0          0            0\n",
      "2          12983          0        12983\n",
      "3             20          0           20\n",
      "4              0         15           15\n",
      "...          ...        ...          ...\n",
      "22539        794        333         1127\n",
      "22540        317        938         1255\n",
      "22541      54540       8314        62854\n",
      "22542         42         42           84\n",
      "22543          0          0            0\n",
      "\n",
      "[22544 rows x 3 columns]\n"
     ]
    }
   ],
   "source": [
    "print(df[['src_bytes','dst_bytes','Total_bytes']])\n",
    "del df['Total_bytes']"
   ]
  },
  {
   "cell_type": "markdown",
   "id": "9f9f4127",
   "metadata": {},
   "source": [
    "We found our winner with a technique that is **1900 times faster** than our first competitor! Let’s wrap things up."
   ]
  },
  {
   "cell_type": "markdown",
   "id": "837aaedb",
   "metadata": {},
   "source": [
    "### Conclusion\n",
    "\n",
    "Don’t be like me: if you need to **iterate over rows in a DataFrame, vectorization** is the way to go! They’re **not harder to read**, they **don’t take longer to write**, and the **performance gain is incredible**.\n",
    "\n",
    "It’s not just about performance: **understanding how each method works** under the hood helped me to **write better code**. Performance gains are always based on the same techniques: **transforming data into vectors and matrices** to take advantage of **parallel processing**. Alas, this is often at the **expense of readability**. But it doesn’t have to be."
   ]
  },
  {
   "cell_type": "markdown",
   "id": "5ca1a2d1",
   "metadata": {},
   "source": [
    "***"
   ]
  }
 ],
 "metadata": {
  "kernelspec": {
   "display_name": "Python 3 (ipykernel)",
   "language": "python",
   "name": "python3"
  },
  "language_info": {
   "codemirror_mode": {
    "name": "ipython",
    "version": 3
   },
   "file_extension": ".py",
   "mimetype": "text/x-python",
   "name": "python",
   "nbconvert_exporter": "python",
   "pygments_lexer": "ipython3",
   "version": "3.8.12"
  }
 },
 "nbformat": 4,
 "nbformat_minor": 5
}
