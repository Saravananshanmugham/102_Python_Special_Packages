{
 "cells": [
  {
   "cell_type": "code",
   "execution_count": 2,
   "id": "913d35a0",
   "metadata": {},
   "outputs": [],
   "source": [
    "import mysql.connector as dbc\n",
    "import pandas as pd"
   ]
  },
  {
   "cell_type": "code",
   "execution_count": 3,
   "id": "cab7e576",
   "metadata": {},
   "outputs": [
    {
     "name": "stdout",
     "output_type": "stream",
     "text": [
      "Database Connection Established\n"
     ]
    }
   ],
   "source": [
    "# Connecting To the Database in Localhost\n",
    "dbcon = dbc.connect(user='root', password='K@090403$s',\n",
    "                              host='localhost', database='pytables')\n",
    "print(\"Database Connection Established\")"
   ]
  },
  {
   "cell_type": "code",
   "execution_count": 4,
   "id": "ecc5624a",
   "metadata": {},
   "outputs": [
    {
     "name": "stdout",
     "output_type": "stream",
     "text": [
      "Database Cursor Created Successfully\n"
     ]
    }
   ],
   "source": [
    "# Cursor to the database\n",
    "Cursor = dbcon.cursor()\n",
    "print(\"Database Cursor Created Successfully\")"
   ]
  },
  {
   "cell_type": "code",
   "execution_count": 5,
   "id": "7e90d3b9",
   "metadata": {},
   "outputs": [],
   "source": [
    "myquery = (\n",
    "\"select a.CustomerName, b.InvoiceNumber, c.Quantity, c.UnitCost, c.UnitPrice \"\n",
    "\"from CustomerMaster a, InvoiceHeader b, InvoiceDetails c \"\n",
    "\"where \"\n",
    "\"a.CustomerID=b.CustomerID and \"\n",
    "\"b.invoiceNumber =c.InvoiceNumber\"\n",
    ")"
   ]
  },
  {
   "cell_type": "code",
   "execution_count": 6,
   "id": "33fb03eb",
   "metadata": {},
   "outputs": [],
   "source": [
    "Cursor.execute(myquery)\n",
    "df = pd.DataFrame(Cursor.fetchall())\n",
    "df.columns = ['CustomerID', 'InvoiceNumber','Quantity','UnitCost','UnitPrice']"
   ]
  },
  {
   "cell_type": "code",
   "execution_count": 8,
   "id": "5e7eb32d",
   "metadata": {},
   "outputs": [
    {
     "data": {
      "text/html": [
       "<div>\n",
       "<style scoped>\n",
       "    .dataframe tbody tr th:only-of-type {\n",
       "        vertical-align: middle;\n",
       "    }\n",
       "\n",
       "    .dataframe tbody tr th {\n",
       "        vertical-align: top;\n",
       "    }\n",
       "\n",
       "    .dataframe thead th {\n",
       "        text-align: right;\n",
       "    }\n",
       "</style>\n",
       "<table border=\"1\" class=\"dataframe\">\n",
       "  <thead>\n",
       "    <tr style=\"text-align: right;\">\n",
       "      <th></th>\n",
       "      <th>CustomerID</th>\n",
       "      <th>InvoiceNumber</th>\n",
       "      <th>Quantity</th>\n",
       "      <th>UnitCost</th>\n",
       "      <th>UnitPrice</th>\n",
       "    </tr>\n",
       "  </thead>\n",
       "  <tbody>\n",
       "    <tr>\n",
       "      <th>0</th>\n",
       "      <td>Castle Inn Resort</td>\n",
       "      <td>ORDST1022</td>\n",
       "      <td>1</td>\n",
       "      <td>59.29</td>\n",
       "      <td>119.95</td>\n",
       "    </tr>\n",
       "    <tr>\n",
       "      <th>1</th>\n",
       "      <td>Metropolitan Fiber Systems</td>\n",
       "      <td>ORDST1015</td>\n",
       "      <td>1</td>\n",
       "      <td>3290.55</td>\n",
       "      <td>6589.95</td>\n",
       "    </tr>\n",
       "    <tr>\n",
       "      <th>2</th>\n",
       "      <td>Bakers Emporium Inc.</td>\n",
       "      <td>ORDST1016</td>\n",
       "      <td>10</td>\n",
       "      <td>35.00</td>\n",
       "      <td>34.95</td>\n",
       "    </tr>\n",
       "    <tr>\n",
       "      <th>3</th>\n",
       "      <td>Leisure &amp; Travel Consultants</td>\n",
       "      <td>ORDST1017</td>\n",
       "      <td>50</td>\n",
       "      <td>91.59</td>\n",
       "      <td>189.95</td>\n",
       "    </tr>\n",
       "    <tr>\n",
       "      <th>4</th>\n",
       "      <td>Country View Estates</td>\n",
       "      <td>ORDST1018</td>\n",
       "      <td>1</td>\n",
       "      <td>59.29</td>\n",
       "      <td>119.95</td>\n",
       "    </tr>\n",
       "    <tr>\n",
       "      <th>...</th>\n",
       "      <td>...</td>\n",
       "      <td>...</td>\n",
       "      <td>...</td>\n",
       "      <td>...</td>\n",
       "      <td>...</td>\n",
       "    </tr>\n",
       "    <tr>\n",
       "      <th>595</th>\n",
       "      <td>Kensington Gardens Resort</td>\n",
       "      <td>ORD1006</td>\n",
       "      <td>1</td>\n",
       "      <td>3290.55</td>\n",
       "      <td>6589.95</td>\n",
       "    </tr>\n",
       "    <tr>\n",
       "      <th>596</th>\n",
       "      <td>Astor Suites</td>\n",
       "      <td>ORD1007</td>\n",
       "      <td>3</td>\n",
       "      <td>4.55</td>\n",
       "      <td>9.95</td>\n",
       "    </tr>\n",
       "    <tr>\n",
       "      <th>597</th>\n",
       "      <td>Aaron Fitz Electrical</td>\n",
       "      <td>ORD1008</td>\n",
       "      <td>1</td>\n",
       "      <td>3.29</td>\n",
       "      <td>9.95</td>\n",
       "    </tr>\n",
       "    <tr>\n",
       "      <th>598</th>\n",
       "      <td>Magnificent Office Images</td>\n",
       "      <td>ORD1000</td>\n",
       "      <td>1</td>\n",
       "      <td>179.85</td>\n",
       "      <td>359.95</td>\n",
       "    </tr>\n",
       "    <tr>\n",
       "      <th>599</th>\n",
       "      <td>Holling Communications Inc.</td>\n",
       "      <td>ORD1001</td>\n",
       "      <td>2</td>\n",
       "      <td>27.98</td>\n",
       "      <td>59.95</td>\n",
       "    </tr>\n",
       "  </tbody>\n",
       "</table>\n",
       "<p>600 rows × 5 columns</p>\n",
       "</div>"
      ],
      "text/plain": [
       "                       CustomerID InvoiceNumber  Quantity  UnitCost  UnitPrice\n",
       "0               Castle Inn Resort     ORDST1022         1     59.29     119.95\n",
       "1      Metropolitan Fiber Systems     ORDST1015         1   3290.55    6589.95\n",
       "2            Bakers Emporium Inc.     ORDST1016        10     35.00      34.95\n",
       "3    Leisure & Travel Consultants     ORDST1017        50     91.59     189.95\n",
       "4            Country View Estates     ORDST1018         1     59.29     119.95\n",
       "..                            ...           ...       ...       ...        ...\n",
       "595     Kensington Gardens Resort       ORD1006         1   3290.55    6589.95\n",
       "596                  Astor Suites       ORD1007         3      4.55       9.95\n",
       "597         Aaron Fitz Electrical       ORD1008         1      3.29       9.95\n",
       "598     Magnificent Office Images       ORD1000         1    179.85     359.95\n",
       "599   Holling Communications Inc.       ORD1001         2     27.98      59.95\n",
       "\n",
       "[600 rows x 5 columns]"
      ]
     },
     "execution_count": 8,
     "metadata": {},
     "output_type": "execute_result"
    }
   ],
   "source": [
    "df"
   ]
  },
  {
   "cell_type": "code",
   "execution_count": 9,
   "id": "0a35d67f",
   "metadata": {},
   "outputs": [],
   "source": [
    "dbcon.close()"
   ]
  }
 ],
 "metadata": {
  "kernelspec": {
   "display_name": "Python 3",
   "language": "python",
   "name": "python3"
  },
  "language_info": {
   "codemirror_mode": {
    "name": "ipython",
    "version": 3
   },
   "file_extension": ".py",
   "mimetype": "text/x-python",
   "name": "python",
   "nbconvert_exporter": "python",
   "pygments_lexer": "ipython3",
   "version": "3.7.10"
  }
 },
 "nbformat": 4,
 "nbformat_minor": 5
}
