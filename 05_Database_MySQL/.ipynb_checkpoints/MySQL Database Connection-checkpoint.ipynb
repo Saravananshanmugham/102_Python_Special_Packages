{
 "cells": [
  {
   "cell_type": "code",
   "execution_count": 1,
   "id": "21a8787a",
   "metadata": {},
   "outputs": [],
   "source": [
    "# Import the package for mysql\n",
    "import mysql.connector"
   ]
  },
  {
   "cell_type": "code",
   "execution_count": 8,
   "id": "14a1045b",
   "metadata": {},
   "outputs": [
    {
     "name": "stdout",
     "output_type": "stream",
     "text": [
      "Database Connection Established\n"
     ]
    }
   ],
   "source": [
    "# Connecting To the Database in Localhost\n",
    "dbcon = mysql.connector.connect(user='root', password='K@090403$s',\n",
    "                              host='localhost', database='pytables')\n",
    "print(\"Database Connection Established\")"
   ]
  },
  {
   "cell_type": "code",
   "execution_count": 11,
   "id": "ca5bcc18",
   "metadata": {},
   "outputs": [
    {
     "name": "stdout",
     "output_type": "stream",
     "text": [
      "Database Cursor Created Successfully\n"
     ]
    }
   ],
   "source": [
    "# Cursor to the database\n",
    "Cursor = dbcon.cursor()\n",
    "print(\"Database Cursor Created Successfully\")"
   ]
  },
  {
   "cell_type": "code",
   "execution_count": 12,
   "id": "3c6b82a0",
   "metadata": {},
   "outputs": [
    {
     "name": "stdout",
     "output_type": "stream",
     "text": [
      "Table Created Successfully\n"
     ]
    }
   ],
   "source": [
    "# Create table Student_Master\n",
    "TableCreateScript = \"CREATE TABLE Student_Master(Roll_no int,Name VARCHAR(100));\"\n",
    "Cursor.execute(TableCreateScript)\n",
    "print(\"Table Created Successfully\")"
   ]
  },
  {
   "cell_type": "code",
   "execution_count": 14,
   "id": "da7ca951",
   "metadata": {},
   "outputs": [],
   "source": [
    "# Common query for the insert record \n",
    "sql=\"Insert into Student_Master (Roll_No, Name) values (%s,%s)\""
   ]
  },
  {
   "cell_type": "code",
   "execution_count": 15,
   "id": "541a34f9",
   "metadata": {},
   "outputs": [
    {
     "name": "stdout",
     "output_type": "stream",
     "text": [
      "1 Records inserted\n"
     ]
    }
   ],
   "source": [
    "# Insert of one record into the table\n",
    "val = (1,\"Saravanan Shanmugham\")\n",
    "Cursor.execute(sql, val)\n",
    "dbcon.commit()\n",
    "print(Cursor.rowcount, \"Records inserted\")"
   ]
  },
  {
   "cell_type": "code",
   "execution_count": 16,
   "id": "a247e537",
   "metadata": {},
   "outputs": [
    {
     "name": "stdout",
     "output_type": "stream",
     "text": [
      "4 Records inserted\n"
     ]
    }
   ],
   "source": [
    "# Insert of multiple records to the table\n",
    "val=[\n",
    "    (2,\"Karthick Srinivas\"),\n",
    "    (3, \"Sujaya Saravanan\"),\n",
    "    (4, \"Shyam Sundar\"),\n",
    "    (5, \"Mahaboob Basha\")\n",
    "    ]\n",
    "Cursor.executemany(sql, val)\n",
    "dbcon.commit()\n",
    "print(Cursor.rowcount, \"Records inserted\")"
   ]
  },
  {
   "cell_type": "code",
   "execution_count": 17,
   "id": "b7ba10a4",
   "metadata": {},
   "outputs": [
    {
     "name": "stdout",
     "output_type": "stream",
     "text": [
      "(1, 'Saravanan Shanmugham')\n",
      "(2, 'Karthick Srinivas')\n",
      "(3, 'Sujaya Saravanan')\n",
      "(4, 'Shyam Sundar')\n",
      "(5, 'Mahaboob Basha')\n"
     ]
    }
   ],
   "source": [
    "# selecting all records from the table - only Roll_No, Name columns from the table\n",
    "\n",
    "myquery = \"select Roll_No, Name from Student_Master\"\n",
    "Cursor.execute(myquery)\n",
    "  \n",
    "myresult = Cursor.fetchall()\n",
    "  \n",
    "for x in myresult:\n",
    "    print(x)"
   ]
  },
  {
   "cell_type": "code",
   "execution_count": 18,
   "id": "48ef4c9b",
   "metadata": {},
   "outputs": [
    {
     "name": "stdout",
     "output_type": "stream",
     "text": [
      "(4, 'Shyam Sundar')\n",
      "(5, 'Mahaboob Basha')\n"
     ]
    }
   ],
   "source": [
    "# selecting the records only the students roll_no greater than 3\n",
    "\n",
    "myquery = \"select Roll_No, Name from Student_Master where Roll_No>3\"\n",
    "Cursor.execute(myquery)\n",
    "  \n",
    "myresult = Cursor.fetchall()\n",
    "  \n",
    "for x in myresult:\n",
    "    print(x)"
   ]
  },
  {
   "cell_type": "code",
   "execution_count": 19,
   "id": "9fa1695b",
   "metadata": {},
   "outputs": [
    {
     "name": "stdout",
     "output_type": "stream",
     "text": [
      "(2, 'Karthick Srinivas')\n",
      "(5, 'Mahaboob Basha')\n",
      "(1, 'Saravanan Shanmugham')\n",
      "(4, 'Shyam Sundar')\n",
      "(3, 'Sujaya Saravanan')\n"
     ]
    }
   ],
   "source": [
    "# Select all records and provide the output in ascending order\n",
    "\n",
    "myquery = \"select Roll_No, Name from Student_Master order by Name ASC\"\n",
    "Cursor.execute(myquery)\n",
    "  \n",
    "myresult = Cursor.fetchall()\n",
    "  \n",
    "for x in myresult:\n",
    "    print(x)"
   ]
  },
  {
   "cell_type": "code",
   "execution_count": 20,
   "id": "3a5bb7b9",
   "metadata": {},
   "outputs": [
    {
     "name": "stdout",
     "output_type": "stream",
     "text": [
      "(3, 'Sujaya Saravanan')\n",
      "(4, 'Shyam Sundar')\n",
      "(1, 'Saravanan Shanmugham')\n",
      "(5, 'Mahaboob Basha')\n",
      "(2, 'Karthick Srinivas')\n"
     ]
    }
   ],
   "source": [
    "# Select all records and provide the output in decending order\n",
    "\n",
    "myquery = \"select Roll_No, Name from Student_Master order by Name DESC\"\n",
    "Cursor.execute(myquery)\n",
    "  \n",
    "myresult = Cursor.fetchall()\n",
    "  \n",
    "for x in myresult:\n",
    "    print(x)"
   ]
  },
  {
   "cell_type": "code",
   "execution_count": 21,
   "id": "700e06b1",
   "metadata": {},
   "outputs": [
    {
     "name": "stdout",
     "output_type": "stream",
     "text": [
      "(2, 'Karthick Srinivas')\n",
      "(3, 'Sujaya Saravanan')\n",
      "(4, 'Shyam Sundar')\n",
      "(5, 'Mahaboob Basha')\n"
     ]
    }
   ],
   "source": [
    "# deleting the row with Roll_No is equal to 1 (1,\"Saravanan Shanmugham\")\n",
    "\n",
    "query = \"delete from student_master where Roll_no=1\"\n",
    "Cursor.execute(query)\n",
    "dbcon.commit()\n",
    "\n",
    "myquery=\"select * from student_master\"\n",
    "Cursor.execute(myquery)\n",
    "myresult = Cursor.fetchall()\n",
    "for x in myresult:\n",
    "    print(x)\n"
   ]
  },
  {
   "cell_type": "code",
   "execution_count": 22,
   "id": "a0bb0297",
   "metadata": {},
   "outputs": [
    {
     "name": "stdout",
     "output_type": "stream",
     "text": [
      "(2, 'Karthick Srinivas')\n",
      "(3, 'Sujaya Saravanan')\n",
      "(4, 'Shyam Sundar')\n",
      "(5, 'Aarif Basha')\n"
     ]
    }
   ],
   "source": [
    "# Update the student name with roll_no = 5\n",
    "\n",
    "query = \"update student_master set Name ='Aarif Basha' where Roll_no=5\"\n",
    "Cursor.execute(query)\n",
    "dbcon.commit()\n",
    "\n",
    "myquery=\"select * from student_master\"\n",
    "Cursor.execute(myquery)\n",
    "myresult = Cursor.fetchall()\n",
    "for x in myresult:\n",
    "    print(x)"
   ]
  },
  {
   "cell_type": "code",
   "execution_count": 23,
   "id": "b8a0fc4d",
   "metadata": {},
   "outputs": [
    {
     "name": "stdout",
     "output_type": "stream",
     "text": [
      "5 Records inserted\n"
     ]
    }
   ],
   "source": [
    "# Insert of more multiple records to the table\n",
    "\n",
    "sql=\"Insert into Student_Master (Roll_No, Name) values (%s,%s)\"\n",
    "val=[\n",
    "    (6, \"Mazhar Basha\"),\n",
    "    (7, \"Sivakumar Ramachandran\"),\n",
    "    (8, \"Arya Sivakumar\"),\n",
    "    (9, \"Aravind Sivakumar\"),\n",
    "    (10, \"Vadivel Kumarasamy\")\n",
    "    ]\n",
    "Cursor.executemany(sql, val)\n",
    "dbcon.commit()\n",
    "print(Cursor.rowcount, \"Records inserted\")"
   ]
  },
  {
   "cell_type": "code",
   "execution_count": 24,
   "id": "3f822d83",
   "metadata": {},
   "outputs": [
    {
     "name": "stdout",
     "output_type": "stream",
     "text": [
      "(2, 'Karthick Srinivas')\n",
      "(3, 'Sujaya Saravanan')\n",
      "(4, 'Shyam Sundar')\n",
      "(5, 'Aarif Basha')\n",
      "(6, 'Mazhar Basha')\n"
     ]
    }
   ],
   "source": [
    "# Select query for all records and limit the output by 5 records\n",
    "\n",
    "myquery=\"select * from Student_Master Limit 5\"\n",
    "Cursor.execute(myquery)\n",
    "myresult = Cursor.fetchall()\n",
    "for x in myresult:\n",
    "    print(x)"
   ]
  },
  {
   "cell_type": "code",
   "execution_count": 25,
   "id": "39f2fa35",
   "metadata": {},
   "outputs": [
    {
     "name": "stdout",
     "output_type": "stream",
     "text": [
      "(4, 'Shyam Sundar')\n",
      "(5, 'Aarif Basha')\n",
      "(6, 'Mazhar Basha')\n",
      "(7, 'Sivakumar Ramachandran')\n",
      "(8, 'Arya Sivakumar')\n"
     ]
    }
   ],
   "source": [
    "# Select query for all records and limit the output by 5 records by skipping 2 top 2 records\n",
    "\n",
    "myquery=\"select * from Student_Master Limit 5 offset 2\"\n",
    "Cursor.execute(myquery)\n",
    "myresult = Cursor.fetchall()\n",
    "for x in myresult:\n",
    "    print(x)"
   ]
  },
  {
   "cell_type": "code",
   "execution_count": 26,
   "id": "66211a06",
   "metadata": {},
   "outputs": [
    {
     "name": "stdout",
     "output_type": "stream",
     "text": [
      "Drop Table Student_Master\n",
      "Table  Student_Master Droped from Database\n"
     ]
    }
   ],
   "source": [
    "# Drop the table from the database\n",
    "\n",
    "table_name=\"Student_Master\"\n",
    "myquery = \"Drop Table \" + table_name\n",
    "print(myquery)\n",
    "Cursor.execute(myquery)\n",
    "print(\"Table \",table_name, \"Droped from Database\")"
   ]
  },
  {
   "cell_type": "code",
   "execution_count": 27,
   "id": "d581c458",
   "metadata": {},
   "outputs": [],
   "source": [
    "# Close the db connection\n",
    "dbcon.close()"
   ]
  }
 ],
 "metadata": {
  "kernelspec": {
   "display_name": "Python 3",
   "language": "python",
   "name": "python3"
  },
  "language_info": {
   "codemirror_mode": {
    "name": "ipython",
    "version": 3
   },
   "file_extension": ".py",
   "mimetype": "text/x-python",
   "name": "python",
   "nbconvert_exporter": "python",
   "pygments_lexer": "ipython3",
   "version": "3.7.10"
  }
 },
 "nbformat": 4,
 "nbformat_minor": 5
}
