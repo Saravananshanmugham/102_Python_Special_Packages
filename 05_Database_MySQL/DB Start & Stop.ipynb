{
 "cells": [
  {
   "cell_type": "code",
   "execution_count": 1,
   "id": "12724244",
   "metadata": {},
   "outputs": [],
   "source": [
    "import os \n",
    "import win32serviceutil"
   ]
  },
  {
   "cell_type": "code",
   "execution_count": 2,
   "id": "469d5385",
   "metadata": {},
   "outputs": [
    {
     "ename": "error",
     "evalue": "(5, 'OpenSCManager', 'Access is denied.')",
     "output_type": "error",
     "traceback": [
      "\u001b[1;31m---------------------------------------------------------------------------\u001b[0m",
      "\u001b[1;31merror\u001b[0m                                     Traceback (most recent call last)",
      "\u001b[1;32m<ipython-input-2-eceb43e089c4>\u001b[0m in \u001b[0;36m<module>\u001b[1;34m\u001b[0m\n\u001b[0;32m      1\u001b[0m \u001b[0mserviceName\u001b[0m \u001b[1;33m=\u001b[0m \u001b[1;34m\"MySQL80\"\u001b[0m\u001b[1;33m\u001b[0m\u001b[1;33m\u001b[0m\u001b[0m\n\u001b[1;32m----> 2\u001b[1;33m \u001b[0mwin32serviceutil\u001b[0m\u001b[1;33m.\u001b[0m\u001b[0mStartService\u001b[0m\u001b[1;33m(\u001b[0m\u001b[0mserviceName\u001b[0m\u001b[1;33m)\u001b[0m\u001b[1;33m\u001b[0m\u001b[1;33m\u001b[0m\u001b[0m\n\u001b[0m",
      "\u001b[1;32mC:\\My_Apps\\Anaconda3\\envs\\MyEnv\\lib\\site-packages\\win32\\lib\\win32serviceutil.py\u001b[0m in \u001b[0;36mStartService\u001b[1;34m(serviceName, args, machine)\u001b[0m\n\u001b[0;32m    410\u001b[0m \u001b[1;33m\u001b[0m\u001b[0m\n\u001b[0;32m    411\u001b[0m \u001b[1;32mdef\u001b[0m \u001b[0mStartService\u001b[0m\u001b[1;33m(\u001b[0m\u001b[0mserviceName\u001b[0m\u001b[1;33m,\u001b[0m \u001b[0margs\u001b[0m \u001b[1;33m=\u001b[0m \u001b[1;32mNone\u001b[0m\u001b[1;33m,\u001b[0m \u001b[0mmachine\u001b[0m \u001b[1;33m=\u001b[0m \u001b[1;32mNone\u001b[0m\u001b[1;33m)\u001b[0m\u001b[1;33m:\u001b[0m\u001b[1;33m\u001b[0m\u001b[1;33m\u001b[0m\u001b[0m\n\u001b[1;32m--> 412\u001b[1;33m     \u001b[0mhscm\u001b[0m \u001b[1;33m=\u001b[0m \u001b[0mwin32service\u001b[0m\u001b[1;33m.\u001b[0m\u001b[0mOpenSCManager\u001b[0m\u001b[1;33m(\u001b[0m\u001b[0mmachine\u001b[0m\u001b[1;33m,\u001b[0m\u001b[1;32mNone\u001b[0m\u001b[1;33m,\u001b[0m\u001b[0mwin32service\u001b[0m\u001b[1;33m.\u001b[0m\u001b[0mSC_MANAGER_ALL_ACCESS\u001b[0m\u001b[1;33m)\u001b[0m\u001b[1;33m\u001b[0m\u001b[1;33m\u001b[0m\u001b[0m\n\u001b[0m\u001b[0;32m    413\u001b[0m     \u001b[1;32mtry\u001b[0m\u001b[1;33m:\u001b[0m\u001b[1;33m\u001b[0m\u001b[1;33m\u001b[0m\u001b[0m\n\u001b[0;32m    414\u001b[0m \u001b[1;33m\u001b[0m\u001b[0m\n",
      "\u001b[1;31merror\u001b[0m: (5, 'OpenSCManager', 'Access is denied.')"
     ]
    }
   ],
   "source": [
    "serviceName = \"MySQL80\"\n",
    "win32serviceutil.StartService(serviceName)"
   ]
  },
  {
   "cell_type": "code",
   "execution_count": 29,
   "id": "abc85ee5",
   "metadata": {},
   "outputs": [],
   "source": [
    "import ctypes\n",
    "import os\n",
    "def isAdmin():\n",
    "    try:\n",
    "        is_admin =(os.getuid() == 0)\n",
    "    except AttributeError:\n",
    "        is_admin = (ctypes.windll.shell32.IsUserAnAdmin() != 0)\n",
    "    return is_admin\n",
    "        \n"
   ]
  },
  {
   "cell_type": "code",
   "execution_count": 31,
   "id": "550a66ec",
   "metadata": {},
   "outputs": [],
   "source": [
    "import sys\n",
    "if isAdmin():\n",
    "    print(\"Hello\")\n",
    "    serviceName = \"MySQL80\"\n",
    "    win32serviceutil.StartService(serviceName)\n",
    "else:\n",
    "    # Re-run the program with admin rights\n",
    "    ctypes.windll.shell32.ShellExecuteW(None, \"runas\", sys.executable, \" \".join(sys.argv), None, 1)\n"
   ]
  }
 ],
 "metadata": {
  "kernelspec": {
   "display_name": "Python 3",
   "language": "python",
   "name": "python3"
  },
  "language_info": {
   "codemirror_mode": {
    "name": "ipython",
    "version": 3
   },
   "file_extension": ".py",
   "mimetype": "text/x-python",
   "name": "python",
   "nbconvert_exporter": "python",
   "pygments_lexer": "ipython3",
   "version": "3.8.11"
  }
 },
 "nbformat": 4,
 "nbformat_minor": 5
}
